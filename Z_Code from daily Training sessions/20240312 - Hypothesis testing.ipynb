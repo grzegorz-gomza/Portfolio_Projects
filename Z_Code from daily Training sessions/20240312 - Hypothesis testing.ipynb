{
 "cells": [
  {
   "cell_type": "code",
   "execution_count": null,
   "metadata": {},
   "outputs": [],
   "source": [
    "# import libraries\n",
    "import codecademylib3\n",
    "import pandas as pd\n",
    "import numpy as np\n",
    "from scipy.stats import ttest_1samp\n",
    "from scipy.stats import binom_test\n",
    "\n",
    "# load data\n",
    "heart = pd.read_csv('heart_disease.csv')\n",
    "yes_hd = heart[heart.heart_disease == 'presence']\n",
    "no_hd = heart[heart.heart_disease == 'absence']\n",
    "\n",
    "# get cholesterol levels for patients with heart disease\n",
    "chol_hd = yes_hd.chol\n",
    "\n",
    "# calculate mean cholesterol level for patients with hd\n",
    "print(np.mean(chol_hd))\n",
    "\n",
    "# compare to cut-off for high cholesterol\n",
    "tstat, pval = ttest_1samp(chol_hd, 240)\n",
    "print(pval/2)\n",
    "\n",
    "# get cholesterol levels for patients without heart disease\n",
    "chol_no_hd = no_hd.chol\n",
    "\n",
    "# calculate mean cholesterol level for patients w/o hd\n",
    "print(np.mean(chol_no_hd))\n",
    "\n",
    "# compare to cut-off for high cholesterol\n",
    "tstat, pval = ttest_1samp(chol_no_hd, 240)\n",
    "print(pval/2)\n",
    "\n",
    "# calculate number of patients total\n",
    "num_patients = len(heart)\n",
    "print(num_patients)\n",
    "\n",
    "# calculate number of patients with fbs>120\n",
    "num_highfbs_patients = np.sum(heart.fbs)\n",
    "print(num_highfbs_patients)\n",
    "\n",
    "# calculate 8% of sample size\n",
    "print(0.08*num_patients)\n",
    "\n",
    "# run binomial test\n",
    "\n",
    "pval = binom_test(num_highfbs_patients, num_patients, .08, alternative='greater')\n",
    "print(pval)"
   ]
  }
 ],
 "metadata": {
  "language_info": {
   "name": "python"
  }
 },
 "nbformat": 4,
 "nbformat_minor": 2
}
