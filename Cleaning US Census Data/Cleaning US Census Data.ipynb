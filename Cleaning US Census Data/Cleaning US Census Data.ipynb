{
 "cells": [
  {
   "cell_type": "markdown",
   "metadata": {},
   "source": [
    "# Cleaning US Census Data"
   ]
  },
  {
   "cell_type": "markdown",
   "metadata": {},
   "source": [
    "You just got hired as a Data Analyst at the Census Bureau, which collects census data and creates interesting visualizations and insights from it.\n",
    "\n",
    "The person who had your job before you left you all the data they had for the most recent census. It is in multiple `csv` files. They didn't use pandas, they would just look through these `csv` files manually whenever they wanted to find something. Sometimes they would copy and paste certain numbers into Excel to make charts.\n",
    "\n",
    "The thought of it makes you shiver. This is not scalable or repeatable.\n",
    "\n",
    "Your boss wants you to make some scatterplots and histograms by the end of the day. Can you get this data into `pandas` and into reasonable shape so that you can make these histograms?"
   ]
  },
  {
   "cell_type": "markdown",
   "metadata": {},
   "source": [
    "## Inspect the Data!"
   ]
  },
  {
   "cell_type": "markdown",
   "metadata": {},
   "source": [
    "1. The first visualization your boss wants you to make is a scatterplot that shows average income in a state vs proportion of women in that state.\n",
    "\n",
    "   Open some of the census `csv` files that came with the kit you downloaded. How are they named? What kind of information do they hold? Will they help us make this graph?"
   ]
  },
  {
   "cell_type": "markdown",
   "metadata": {},
   "source": [
    "Data from states0.csv\n",
    "\n",
    "```csv\n",
    ",State,TotalPop,Hispanic,White,Black,Native,Asian,Pacific,Income,GenderPop\n",
    "0,Alabama,4830620,3.75%,61.88%,31.25%,0.45%,1.05%,0.03%,\"$43,296.36 \",2341093M_2489527F\n",
    "1,Alaska,733375,5.91%,60.91%,2.85%,16.39%,5.45%,1.06%,\"$70,354.74 \",384160M_349215F\n",
    "2,Arizona,6641928,29.57%,57.12%,3.85%,4.36%,2.88%,0.17%,\"$54,207.82 \",3299088M_3342840F\n",
    "3,Arkansas,2958208,6.22%,71.14%,18.97%,0.52%,1.14%,0.15%,\"$41,935.63 \",1451913M_1506295F\n",
    "4,California,38421464,37.29%,40.22%,5.68%,0.41%,13.05%,0.35%,\"$67,264.78 \",19087135M_19334329F\n",
    "5,Colorado,5278906,20.78%,69.90%,3.55%,0.57%,2.66%,,\"$64,657.80 \",2648667M_2630239F\n",
    "```"
   ]
  },
  {
   "cell_type": "markdown",
   "metadata": {},
   "source": [
    "2. It will be easier to inspect this data once we have it in a DataFrame. You can't even call `.head()` on these `csv`s! How are you supposed to read them?\n",
    "\n",
    "   Using `glob`, loop through the census files available and load them into DataFrames. Then, concatenate all of those DataFrames together into one DataFrame, called something like `us_census`."
   ]
  },
  {
   "cell_type": "code",
   "execution_count": 1,
   "metadata": {},
   "outputs": [],
   "source": [
    "# Dependencies\n",
    "import pandas as pd\n",
    "import numpy as np\n",
    "import matplotlib.pyplot as plt\n",
    "import glob\n",
    "import seaborn as sns"
   ]
  },
  {
   "cell_type": "code",
   "execution_count": 2,
   "metadata": {},
   "outputs": [],
   "source": [
    "# Loading multiple files\n",
    "files = glob.glob('states*.csv')\n",
    "\n",
    "data=[]\n",
    "# loop through the files and read them in with pandas\n",
    "for filename in files:\n",
    "    dataset = pd.read_csv(filename)\n",
    "    data.append(dataset)\n",
    "\n",
    "# concatenate the dataframes\n",
    "us_census = pd.concat(data)\n"
   ]
  },
  {
   "cell_type": "markdown",
   "metadata": {},
   "source": [
    "3. Look at the `.columns` and the `.dtypes` of the `us_census` DataFrame. Are those datatypes going to hinder you as you try to make histograms?"
   ]
  },
  {
   "cell_type": "code",
   "execution_count": 3,
   "metadata": {},
   "outputs": [
    {
     "data": {
      "text/plain": [
       "Index(['Unnamed: 0', 'State', 'TotalPop', 'Hispanic', 'White', 'Black',\n",
       "       'Native', 'Asian', 'Pacific', 'Income', 'GenderPop'],\n",
       "      dtype='object')"
      ]
     },
     "execution_count": 3,
     "metadata": {},
     "output_type": "execute_result"
    }
   ],
   "source": [
    "us_census.columns"
   ]
  },
  {
   "cell_type": "code",
   "execution_count": 4,
   "metadata": {},
   "outputs": [
    {
     "data": {
      "text/plain": [
       "Unnamed: 0     int64\n",
       "State         object\n",
       "TotalPop       int64\n",
       "Hispanic      object\n",
       "White         object\n",
       "Black         object\n",
       "Native        object\n",
       "Asian         object\n",
       "Pacific       object\n",
       "Income        object\n",
       "GenderPop     object\n",
       "dtype: object"
      ]
     },
     "execution_count": 4,
     "metadata": {},
     "output_type": "execute_result"
    }
   ],
   "source": [
    "us_census.dtypes"
   ]
  },
  {
   "cell_type": "markdown",
   "metadata": {},
   "source": [
    "* Variables in the \"Hispanic-Income\" range must be changed to float\n",
    "* GenderPop must be restructured."
   ]
  },
  {
   "cell_type": "markdown",
   "metadata": {},
   "source": [
    "4. Look at the `head()` of the DataFrame so that you can understand why some of these `dtypes` are objects instead of integers or floats.\n",
    "\n",
    "   Start to make a plan for how to convert these columns into the right types for manipulation."
   ]
  },
  {
   "cell_type": "code",
   "execution_count": 5,
   "metadata": {},
   "outputs": [
    {
     "data": {
      "text/html": [
       "<div>\n",
       "<style scoped>\n",
       "    .dataframe tbody tr th:only-of-type {\n",
       "        vertical-align: middle;\n",
       "    }\n",
       "\n",
       "    .dataframe tbody tr th {\n",
       "        vertical-align: top;\n",
       "    }\n",
       "\n",
       "    .dataframe thead th {\n",
       "        text-align: right;\n",
       "    }\n",
       "</style>\n",
       "<table border=\"1\" class=\"dataframe\">\n",
       "  <thead>\n",
       "    <tr style=\"text-align: right;\">\n",
       "      <th></th>\n",
       "      <th>Unnamed: 0</th>\n",
       "      <th>State</th>\n",
       "      <th>TotalPop</th>\n",
       "      <th>Hispanic</th>\n",
       "      <th>White</th>\n",
       "      <th>Black</th>\n",
       "      <th>Native</th>\n",
       "      <th>Asian</th>\n",
       "      <th>Pacific</th>\n",
       "      <th>Income</th>\n",
       "      <th>GenderPop</th>\n",
       "    </tr>\n",
       "  </thead>\n",
       "  <tbody>\n",
       "    <tr>\n",
       "      <th>0</th>\n",
       "      <td>0</td>\n",
       "      <td>Alabama</td>\n",
       "      <td>4830620</td>\n",
       "      <td>3.75%</td>\n",
       "      <td>61.88%</td>\n",
       "      <td>31.25%</td>\n",
       "      <td>0.45%</td>\n",
       "      <td>1.05%</td>\n",
       "      <td>0.03%</td>\n",
       "      <td>$43,296.36</td>\n",
       "      <td>2341093M_2489527F</td>\n",
       "    </tr>\n",
       "    <tr>\n",
       "      <th>1</th>\n",
       "      <td>1</td>\n",
       "      <td>Alaska</td>\n",
       "      <td>733375</td>\n",
       "      <td>5.91%</td>\n",
       "      <td>60.91%</td>\n",
       "      <td>2.85%</td>\n",
       "      <td>16.39%</td>\n",
       "      <td>5.45%</td>\n",
       "      <td>1.06%</td>\n",
       "      <td>$70,354.74</td>\n",
       "      <td>384160M_349215F</td>\n",
       "    </tr>\n",
       "    <tr>\n",
       "      <th>2</th>\n",
       "      <td>2</td>\n",
       "      <td>Arizona</td>\n",
       "      <td>6641928</td>\n",
       "      <td>29.57%</td>\n",
       "      <td>57.12%</td>\n",
       "      <td>3.85%</td>\n",
       "      <td>4.36%</td>\n",
       "      <td>2.88%</td>\n",
       "      <td>0.17%</td>\n",
       "      <td>$54,207.82</td>\n",
       "      <td>3299088M_3342840F</td>\n",
       "    </tr>\n",
       "    <tr>\n",
       "      <th>3</th>\n",
       "      <td>3</td>\n",
       "      <td>Arkansas</td>\n",
       "      <td>2958208</td>\n",
       "      <td>6.22%</td>\n",
       "      <td>71.14%</td>\n",
       "      <td>18.97%</td>\n",
       "      <td>0.52%</td>\n",
       "      <td>1.14%</td>\n",
       "      <td>0.15%</td>\n",
       "      <td>$41,935.63</td>\n",
       "      <td>1451913M_1506295F</td>\n",
       "    </tr>\n",
       "    <tr>\n",
       "      <th>4</th>\n",
       "      <td>4</td>\n",
       "      <td>California</td>\n",
       "      <td>38421464</td>\n",
       "      <td>37.29%</td>\n",
       "      <td>40.22%</td>\n",
       "      <td>5.68%</td>\n",
       "      <td>0.41%</td>\n",
       "      <td>13.05%</td>\n",
       "      <td>0.35%</td>\n",
       "      <td>$67,264.78</td>\n",
       "      <td>19087135M_19334329F</td>\n",
       "    </tr>\n",
       "  </tbody>\n",
       "</table>\n",
       "</div>"
      ],
      "text/plain": [
       "   Unnamed: 0       State  TotalPop Hispanic   White   Black  Native   Asian  \\\n",
       "0           0     Alabama   4830620    3.75%  61.88%  31.25%   0.45%   1.05%   \n",
       "1           1      Alaska    733375    5.91%  60.91%   2.85%  16.39%   5.45%   \n",
       "2           2     Arizona   6641928   29.57%  57.12%   3.85%   4.36%   2.88%   \n",
       "3           3    Arkansas   2958208    6.22%  71.14%  18.97%   0.52%   1.14%   \n",
       "4           4  California  38421464   37.29%  40.22%   5.68%   0.41%  13.05%   \n",
       "\n",
       "  Pacific       Income            GenderPop  \n",
       "0   0.03%  $43,296.36     2341093M_2489527F  \n",
       "1   1.06%  $70,354.74       384160M_349215F  \n",
       "2   0.17%  $54,207.82     3299088M_3342840F  \n",
       "3   0.15%  $41,935.63     1451913M_1506295F  \n",
       "4   0.35%  $67,264.78   19087135M_19334329F  "
      ]
     },
     "execution_count": 5,
     "metadata": {},
     "output_type": "execute_result"
    }
   ],
   "source": [
    "us_census.head()"
   ]
  },
  {
   "cell_type": "code",
   "execution_count": 6,
   "metadata": {},
   "outputs": [],
   "source": [
    "us_census.drop(['Unnamed: 0'], axis=1, inplace=True)"
   ]
  },
  {
   "cell_type": "markdown",
   "metadata": {},
   "source": [
    "## Regex to the Rescue"
   ]
  },
  {
   "cell_type": "markdown",
   "metadata": {},
   "source": [
    "5. Use regex to turn the `Income` column into a format that is ready for conversion into a numerical type."
   ]
  },
  {
   "cell_type": "code",
   "execution_count": 7,
   "metadata": {},
   "outputs": [],
   "source": [
    "us_census.Income = us_census.Income.replace('[$,.]', '', regex=True).astype(float)"
   ]
  },
  {
   "cell_type": "markdown",
   "metadata": {},
   "source": [
    "6. Look at the `GenderPop` column. We are going to want to separate this into two columns, the `Men` column, and the `Women` column.\n",
    "\n",
    "   Split the column into those two new columns using `str.split` and separating out those results."
   ]
  },
  {
   "cell_type": "code",
   "execution_count": 8,
   "metadata": {},
   "outputs": [],
   "source": [
    "split_GenderPop = us_census.GenderPop.str.split('_', expand=True)"
   ]
  },
  {
   "cell_type": "markdown",
   "metadata": {},
   "source": [
    "7. Convert both of the columns into numerical datatypes.\n",
    "\n",
    "   There is still an `M` or an `F` character in each entry! We should remove those before we convert."
   ]
  },
  {
   "cell_type": "code",
   "execution_count": 9,
   "metadata": {},
   "outputs": [
    {
     "data": {
      "text/html": [
       "<div>\n",
       "<style scoped>\n",
       "    .dataframe tbody tr th:only-of-type {\n",
       "        vertical-align: middle;\n",
       "    }\n",
       "\n",
       "    .dataframe tbody tr th {\n",
       "        vertical-align: top;\n",
       "    }\n",
       "\n",
       "    .dataframe thead th {\n",
       "        text-align: right;\n",
       "    }\n",
       "</style>\n",
       "<table border=\"1\" class=\"dataframe\">\n",
       "  <thead>\n",
       "    <tr style=\"text-align: right;\">\n",
       "      <th></th>\n",
       "      <th>State</th>\n",
       "      <th>TotalPop</th>\n",
       "      <th>Hispanic</th>\n",
       "      <th>White</th>\n",
       "      <th>Black</th>\n",
       "      <th>Native</th>\n",
       "      <th>Asian</th>\n",
       "      <th>Pacific</th>\n",
       "      <th>Income</th>\n",
       "      <th>MalePop</th>\n",
       "      <th>FemalePop</th>\n",
       "    </tr>\n",
       "  </thead>\n",
       "  <tbody>\n",
       "    <tr>\n",
       "      <th>0</th>\n",
       "      <td>Alabama</td>\n",
       "      <td>4830620</td>\n",
       "      <td>3.75%</td>\n",
       "      <td>61.88%</td>\n",
       "      <td>31.25%</td>\n",
       "      <td>0.45%</td>\n",
       "      <td>1.05%</td>\n",
       "      <td>0.03%</td>\n",
       "      <td>4329636.0</td>\n",
       "      <td>2341093</td>\n",
       "      <td>2489527</td>\n",
       "    </tr>\n",
       "    <tr>\n",
       "      <th>1</th>\n",
       "      <td>Alaska</td>\n",
       "      <td>733375</td>\n",
       "      <td>5.91%</td>\n",
       "      <td>60.91%</td>\n",
       "      <td>2.85%</td>\n",
       "      <td>16.39%</td>\n",
       "      <td>5.45%</td>\n",
       "      <td>1.06%</td>\n",
       "      <td>7035474.0</td>\n",
       "      <td>384160</td>\n",
       "      <td>349215</td>\n",
       "    </tr>\n",
       "    <tr>\n",
       "      <th>2</th>\n",
       "      <td>Arizona</td>\n",
       "      <td>6641928</td>\n",
       "      <td>29.57%</td>\n",
       "      <td>57.12%</td>\n",
       "      <td>3.85%</td>\n",
       "      <td>4.36%</td>\n",
       "      <td>2.88%</td>\n",
       "      <td>0.17%</td>\n",
       "      <td>5420782.0</td>\n",
       "      <td>3299088</td>\n",
       "      <td>3342840</td>\n",
       "    </tr>\n",
       "    <tr>\n",
       "      <th>3</th>\n",
       "      <td>Arkansas</td>\n",
       "      <td>2958208</td>\n",
       "      <td>6.22%</td>\n",
       "      <td>71.14%</td>\n",
       "      <td>18.97%</td>\n",
       "      <td>0.52%</td>\n",
       "      <td>1.14%</td>\n",
       "      <td>0.15%</td>\n",
       "      <td>4193563.0</td>\n",
       "      <td>1451913</td>\n",
       "      <td>1506295</td>\n",
       "    </tr>\n",
       "    <tr>\n",
       "      <th>4</th>\n",
       "      <td>California</td>\n",
       "      <td>38421464</td>\n",
       "      <td>37.29%</td>\n",
       "      <td>40.22%</td>\n",
       "      <td>5.68%</td>\n",
       "      <td>0.41%</td>\n",
       "      <td>13.05%</td>\n",
       "      <td>0.35%</td>\n",
       "      <td>6726478.0</td>\n",
       "      <td>19087135</td>\n",
       "      <td>19334329</td>\n",
       "    </tr>\n",
       "  </tbody>\n",
       "</table>\n",
       "</div>"
      ],
      "text/plain": [
       "        State  TotalPop Hispanic   White   Black  Native   Asian Pacific  \\\n",
       "0     Alabama   4830620    3.75%  61.88%  31.25%   0.45%   1.05%   0.03%   \n",
       "1      Alaska    733375    5.91%  60.91%   2.85%  16.39%   5.45%   1.06%   \n",
       "2     Arizona   6641928   29.57%  57.12%   3.85%   4.36%   2.88%   0.17%   \n",
       "3    Arkansas   2958208    6.22%  71.14%  18.97%   0.52%   1.14%   0.15%   \n",
       "4  California  38421464   37.29%  40.22%   5.68%   0.41%  13.05%   0.35%   \n",
       "\n",
       "      Income   MalePop  FemalePop  \n",
       "0  4329636.0   2341093    2489527  \n",
       "1  7035474.0    384160     349215  \n",
       "2  5420782.0   3299088    3342840  \n",
       "3  4193563.0   1451913    1506295  \n",
       "4  6726478.0  19087135   19334329  "
      ]
     },
     "execution_count": 9,
     "metadata": {},
     "output_type": "execute_result"
    }
   ],
   "source": [
    "# Assigning the values to the columns\n",
    "us_census['MalePop'] = split_GenderPop[0].replace('M', '', regex=True)\n",
    "us_census['FemalePop'] = split_GenderPop[1].replace('F', '', regex=True)\n",
    "\n",
    "# Convert the columns to numeric\n",
    "us_census['MalePop'] = pd.to_numeric(us_census['MalePop'], errors='coerce').astype('Int64')\n",
    "us_census['FemalePop'] = pd.to_numeric(us_census['FemalePop'], errors='coerce').astype('Int64')\n",
    "\n",
    "# drop the original column\n",
    "us_census.drop(columns=['GenderPop'], inplace=True)\n",
    "\n",
    "us_census.head()"
   ]
  },
  {
   "cell_type": "code",
   "execution_count": 10,
   "metadata": {},
   "outputs": [],
   "source": [
    "#us_census.reset_index(inplace=True)"
   ]
  },
  {
   "cell_type": "code",
   "execution_count": 11,
   "metadata": {},
   "outputs": [
    {
     "name": "stdout",
     "output_type": "stream",
     "text": [
      "<class 'pandas.core.frame.DataFrame'>\n",
      "Index: 60 entries, 0 to 5\n",
      "Data columns (total 11 columns):\n",
      " #   Column     Non-Null Count  Dtype  \n",
      "---  ------     --------------  -----  \n",
      " 0   State      60 non-null     object \n",
      " 1   TotalPop   60 non-null     int64  \n",
      " 2   Hispanic   60 non-null     object \n",
      " 3   White      60 non-null     object \n",
      " 4   Black      60 non-null     object \n",
      " 5   Native     60 non-null     object \n",
      " 6   Asian      60 non-null     object \n",
      " 7   Pacific    55 non-null     object \n",
      " 8   Income     60 non-null     float64\n",
      " 9   MalePop    60 non-null     Int64  \n",
      " 10  FemalePop  57 non-null     Int64  \n",
      "dtypes: Int64(2), float64(1), int64(1), object(7)\n",
      "memory usage: 5.7+ KB\n"
     ]
    }
   ],
   "source": [
    "us_census.info()"
   ]
  },
  {
   "cell_type": "markdown",
   "metadata": {},
   "source": [
    "8. Now you should have the columns you need to make the graph and make sure your boss does not slam a ruler angrily on your desk because you've wasted your whole day cleaning your data with no results to show!"
   ]
  },
  {
   "cell_type": "code",
   "execution_count": 12,
   "metadata": {},
   "outputs": [
    {
     "data": {
      "image/png": "[encoded data removed]",
      "text/plain": [
       "<Figure size 640x480 with 1 Axes>"
      ]
     },
     "metadata": {},
     "output_type": "display_data"
    },
    {
     "data": {
      "text/plain": [
       "<Figure size 640x480 with 0 Axes>"
      ]
     },
     "metadata": {},
     "output_type": "display_data"
    }
   ],
   "source": [
    "def scatterplot():\n",
    "    plt.scatter(x='FemalePop', y='Income', data=us_census)\n",
    "    plt.title('Income vs Female Population')\n",
    "    plt.xlabel('Population of Women')\n",
    "    plt.ylabel('Income in dollars')\n",
    "    plt.ticklabel_format(style='plain', axis='y')\n",
    "    plt.ticklabel_format(style='plain', axis='x')\n",
    "    plt.tick_params(axis='x', rotation=45)\n",
    "    plt.show()\n",
    "    plt.clf()\n",
    "\n",
    "scatterplot()"
   ]
  },
  {
   "cell_type": "markdown",
   "metadata": {},
   "source": [
    "9. You want to double check your work. You know from experience that these monstrous csv files probably have `nan` values in them! Print out your column with the number of women per state to see.\n",
    "\n",
    "   We can fill in those `nan`s by using pandas' `.fillna()` function.\n",
    "   \n",
    "   You have the `TotalPop` per state, and you have the `Men` per state. As an estimate for the `nan` values in the `Women` column, you could use the `TotalPop` of that state minus the `Men` for that state.\n",
    "   \n",
    "   Print out the `Women` column after filling the `nan` values to see if it worked!"
   ]
  },
  {
   "cell_type": "code",
   "execution_count": 13,
   "metadata": {},
   "outputs": [
    {
     "data": {
      "text/html": [
       "<div>\n",
       "<style scoped>\n",
       "    .dataframe tbody tr th:only-of-type {\n",
       "        vertical-align: middle;\n",
       "    }\n",
       "\n",
       "    .dataframe tbody tr th {\n",
       "        vertical-align: top;\n",
       "    }\n",
       "\n",
       "    .dataframe thead th {\n",
       "        text-align: right;\n",
       "    }\n",
       "</style>\n",
       "<table border=\"1\" class=\"dataframe\">\n",
       "  <thead>\n",
       "    <tr style=\"text-align: right;\">\n",
       "      <th></th>\n",
       "      <th>State</th>\n",
       "      <th>TotalPop</th>\n",
       "      <th>Hispanic</th>\n",
       "      <th>White</th>\n",
       "      <th>Black</th>\n",
       "      <th>Native</th>\n",
       "      <th>Asian</th>\n",
       "      <th>Pacific</th>\n",
       "      <th>Income</th>\n",
       "      <th>MalePop</th>\n",
       "      <th>FemalePop</th>\n",
       "    </tr>\n",
       "  </thead>\n",
       "  <tbody>\n",
       "    <tr>\n",
       "      <th>0</th>\n",
       "      <td>Alabama</td>\n",
       "      <td>4830620</td>\n",
       "      <td>3.75%</td>\n",
       "      <td>61.88%</td>\n",
       "      <td>31.25%</td>\n",
       "      <td>0.45%</td>\n",
       "      <td>1.05%</td>\n",
       "      <td>0.03%</td>\n",
       "      <td>4329636.0</td>\n",
       "      <td>2341093</td>\n",
       "      <td>2489527</td>\n",
       "    </tr>\n",
       "    <tr>\n",
       "      <th>1</th>\n",
       "      <td>Alaska</td>\n",
       "      <td>733375</td>\n",
       "      <td>5.91%</td>\n",
       "      <td>60.91%</td>\n",
       "      <td>2.85%</td>\n",
       "      <td>16.39%</td>\n",
       "      <td>5.45%</td>\n",
       "      <td>1.06%</td>\n",
       "      <td>7035474.0</td>\n",
       "      <td>384160</td>\n",
       "      <td>349215</td>\n",
       "    </tr>\n",
       "    <tr>\n",
       "      <th>2</th>\n",
       "      <td>Arizona</td>\n",
       "      <td>6641928</td>\n",
       "      <td>29.57%</td>\n",
       "      <td>57.12%</td>\n",
       "      <td>3.85%</td>\n",
       "      <td>4.36%</td>\n",
       "      <td>2.88%</td>\n",
       "      <td>0.17%</td>\n",
       "      <td>5420782.0</td>\n",
       "      <td>3299088</td>\n",
       "      <td>3342840</td>\n",
       "    </tr>\n",
       "    <tr>\n",
       "      <th>3</th>\n",
       "      <td>Arkansas</td>\n",
       "      <td>2958208</td>\n",
       "      <td>6.22%</td>\n",
       "      <td>71.14%</td>\n",
       "      <td>18.97%</td>\n",
       "      <td>0.52%</td>\n",
       "      <td>1.14%</td>\n",
       "      <td>0.15%</td>\n",
       "      <td>4193563.0</td>\n",
       "      <td>1451913</td>\n",
       "      <td>1506295</td>\n",
       "    </tr>\n",
       "    <tr>\n",
       "      <th>4</th>\n",
       "      <td>California</td>\n",
       "      <td>38421464</td>\n",
       "      <td>37.29%</td>\n",
       "      <td>40.22%</td>\n",
       "      <td>5.68%</td>\n",
       "      <td>0.41%</td>\n",
       "      <td>13.05%</td>\n",
       "      <td>0.35%</td>\n",
       "      <td>6726478.0</td>\n",
       "      <td>19087135</td>\n",
       "      <td>19334329</td>\n",
       "    </tr>\n",
       "  </tbody>\n",
       "</table>\n",
       "</div>"
      ],
      "text/plain": [
       "        State  TotalPop Hispanic   White   Black  Native   Asian Pacific  \\\n",
       "0     Alabama   4830620    3.75%  61.88%  31.25%   0.45%   1.05%   0.03%   \n",
       "1      Alaska    733375    5.91%  60.91%   2.85%  16.39%   5.45%   1.06%   \n",
       "2     Arizona   6641928   29.57%  57.12%   3.85%   4.36%   2.88%   0.17%   \n",
       "3    Arkansas   2958208    6.22%  71.14%  18.97%   0.52%   1.14%   0.15%   \n",
       "4  California  38421464   37.29%  40.22%   5.68%   0.41%  13.05%   0.35%   \n",
       "\n",
       "      Income   MalePop  FemalePop  \n",
       "0  4329636.0   2341093    2489527  \n",
       "1  7035474.0    384160     349215  \n",
       "2  5420782.0   3299088    3342840  \n",
       "3  4193563.0   1451913    1506295  \n",
       "4  6726478.0  19087135   19334329  "
      ]
     },
     "execution_count": 13,
     "metadata": {},
     "output_type": "execute_result"
    }
   ],
   "source": [
    "us_census.head()"
   ]
  },
  {
   "cell_type": "code",
   "execution_count": 14,
   "metadata": {},
   "outputs": [
    {
     "data": {
      "text/html": [
       "<div>\n",
       "<style scoped>\n",
       "    .dataframe tbody tr th:only-of-type {\n",
       "        vertical-align: middle;\n",
       "    }\n",
       "\n",
       "    .dataframe tbody tr th {\n",
       "        vertical-align: top;\n",
       "    }\n",
       "\n",
       "    .dataframe thead th {\n",
       "        text-align: right;\n",
       "    }\n",
       "</style>\n",
       "<table border=\"1\" class=\"dataframe\">\n",
       "  <thead>\n",
       "    <tr style=\"text-align: right;\">\n",
       "      <th></th>\n",
       "      <th>State</th>\n",
       "      <th>TotalPop</th>\n",
       "      <th>Hispanic</th>\n",
       "      <th>White</th>\n",
       "      <th>Black</th>\n",
       "      <th>Native</th>\n",
       "      <th>Asian</th>\n",
       "      <th>Pacific</th>\n",
       "      <th>Income</th>\n",
       "      <th>MalePop</th>\n",
       "      <th>FemalePop</th>\n",
       "    </tr>\n",
       "  </thead>\n",
       "  <tbody>\n",
       "    <tr>\n",
       "      <th>5</th>\n",
       "      <td>Colorado</td>\n",
       "      <td>5278906</td>\n",
       "      <td>20.78%</td>\n",
       "      <td>69.90%</td>\n",
       "      <td>3.55%</td>\n",
       "      <td>0.57%</td>\n",
       "      <td>2.66%</td>\n",
       "      <td>NaN</td>\n",
       "      <td>6465780.0</td>\n",
       "      <td>2648667</td>\n",
       "      <td>2630239</td>\n",
       "    </tr>\n",
       "    <tr>\n",
       "      <th>0</th>\n",
       "      <td>Colorado</td>\n",
       "      <td>5278906</td>\n",
       "      <td>20.78%</td>\n",
       "      <td>69.90%</td>\n",
       "      <td>3.55%</td>\n",
       "      <td>0.57%</td>\n",
       "      <td>2.66%</td>\n",
       "      <td>NaN</td>\n",
       "      <td>6465780.0</td>\n",
       "      <td>2648667</td>\n",
       "      <td>2630239</td>\n",
       "    </tr>\n",
       "    <tr>\n",
       "      <th>2</th>\n",
       "      <td>Delaware</td>\n",
       "      <td>926454</td>\n",
       "      <td>8.82%</td>\n",
       "      <td>64.63%</td>\n",
       "      <td>20.74%</td>\n",
       "      <td>0.26%</td>\n",
       "      <td>3.27%</td>\n",
       "      <td>NaN</td>\n",
       "      <td>6182798.0</td>\n",
       "      <td>448413</td>\n",
       "      <td>478041</td>\n",
       "    </tr>\n",
       "    <tr>\n",
       "      <th>1</th>\n",
       "      <td>Kansas</td>\n",
       "      <td>2892987</td>\n",
       "      <td>11.64%</td>\n",
       "      <td>75.96%</td>\n",
       "      <td>6.57%</td>\n",
       "      <td>0.73%</td>\n",
       "      <td>2.33%</td>\n",
       "      <td>NaN</td>\n",
       "      <td>5388561.0</td>\n",
       "      <td>1439862</td>\n",
       "      <td>1453125</td>\n",
       "    </tr>\n",
       "    <tr>\n",
       "      <th>5</th>\n",
       "      <td>Maryland</td>\n",
       "      <td>5930538</td>\n",
       "      <td>8.47%</td>\n",
       "      <td>52.68%</td>\n",
       "      <td>30.68%</td>\n",
       "      <td>0.20%</td>\n",
       "      <td>5.33%</td>\n",
       "      <td>0.04%</td>\n",
       "      <td>7876540.0</td>\n",
       "      <td>2872643</td>\n",
       "      <td>&lt;NA&gt;</td>\n",
       "    </tr>\n",
       "    <tr>\n",
       "      <th>0</th>\n",
       "      <td>Maryland</td>\n",
       "      <td>5930538</td>\n",
       "      <td>8.47%</td>\n",
       "      <td>52.68%</td>\n",
       "      <td>30.68%</td>\n",
       "      <td>0.20%</td>\n",
       "      <td>5.33%</td>\n",
       "      <td>0.04%</td>\n",
       "      <td>7876540.0</td>\n",
       "      <td>2872643</td>\n",
       "      <td>&lt;NA&gt;</td>\n",
       "    </tr>\n",
       "    <tr>\n",
       "      <th>1</th>\n",
       "      <td>Montana</td>\n",
       "      <td>1014699</td>\n",
       "      <td>3.27%</td>\n",
       "      <td>86.42%</td>\n",
       "      <td>0.43%</td>\n",
       "      <td>7.06%</td>\n",
       "      <td>0.57%</td>\n",
       "      <td>0.07%</td>\n",
       "      <td>4764568.0</td>\n",
       "      <td>510163</td>\n",
       "      <td>&lt;NA&gt;</td>\n",
       "    </tr>\n",
       "    <tr>\n",
       "      <th>4</th>\n",
       "      <td>North Dakota</td>\n",
       "      <td>721640</td>\n",
       "      <td>2.83%</td>\n",
       "      <td>87.45%</td>\n",
       "      <td>1.28%</td>\n",
       "      <td>5.65%</td>\n",
       "      <td>0.96%</td>\n",
       "      <td>NaN</td>\n",
       "      <td>5818811.0</td>\n",
       "      <td>367963</td>\n",
       "      <td>353677</td>\n",
       "    </tr>\n",
       "  </tbody>\n",
       "</table>\n",
       "</div>"
      ],
      "text/plain": [
       "          State  TotalPop Hispanic   White   Black Native  Asian Pacific  \\\n",
       "5      Colorado   5278906   20.78%  69.90%   3.55%  0.57%  2.66%     NaN   \n",
       "0      Colorado   5278906   20.78%  69.90%   3.55%  0.57%  2.66%     NaN   \n",
       "2      Delaware    926454    8.82%  64.63%  20.74%  0.26%  3.27%     NaN   \n",
       "1        Kansas   2892987   11.64%  75.96%   6.57%  0.73%  2.33%     NaN   \n",
       "5      Maryland   5930538    8.47%  52.68%  30.68%  0.20%  5.33%   0.04%   \n",
       "0      Maryland   5930538    8.47%  52.68%  30.68%  0.20%  5.33%   0.04%   \n",
       "1       Montana   1014699    3.27%  86.42%   0.43%  7.06%  0.57%   0.07%   \n",
       "4  North Dakota    721640    2.83%  87.45%   1.28%  5.65%  0.96%     NaN   \n",
       "\n",
       "      Income  MalePop  FemalePop  \n",
       "5  6465780.0  2648667    2630239  \n",
       "0  6465780.0  2648667    2630239  \n",
       "2  6182798.0   448413     478041  \n",
       "1  5388561.0  1439862    1453125  \n",
       "5  7876540.0  2872643       <NA>  \n",
       "0  7876540.0  2872643       <NA>  \n",
       "1  4764568.0   510163       <NA>  \n",
       "4  5818811.0   367963     353677  "
      ]
     },
     "execution_count": 14,
     "metadata": {},
     "output_type": "execute_result"
    }
   ],
   "source": [
    "# Listing the rows with null or nan values\n",
    "us_census[us_census.isnull().any(axis=1)]"
   ]
  },
  {
   "cell_type": "code",
   "execution_count": 15,
   "metadata": {},
   "outputs": [],
   "source": [
    "us_census['FemalePop'] = us_census['FemalePop'].fillna(us_census.TotalPop - us_census.MalePop)"
   ]
  },
  {
   "cell_type": "code",
   "execution_count": 16,
   "metadata": {},
   "outputs": [
    {
     "data": {
      "text/html": [
       "<div>\n",
       "<style scoped>\n",
       "    .dataframe tbody tr th:only-of-type {\n",
       "        vertical-align: middle;\n",
       "    }\n",
       "\n",
       "    .dataframe tbody tr th {\n",
       "        vertical-align: top;\n",
       "    }\n",
       "\n",
       "    .dataframe thead th {\n",
       "        text-align: right;\n",
       "    }\n",
       "</style>\n",
       "<table border=\"1\" class=\"dataframe\">\n",
       "  <thead>\n",
       "    <tr style=\"text-align: right;\">\n",
       "      <th></th>\n",
       "      <th>State</th>\n",
       "      <th>TotalPop</th>\n",
       "      <th>Hispanic</th>\n",
       "      <th>White</th>\n",
       "      <th>Black</th>\n",
       "      <th>Native</th>\n",
       "      <th>Asian</th>\n",
       "      <th>Pacific</th>\n",
       "      <th>Income</th>\n",
       "      <th>MalePop</th>\n",
       "      <th>FemalePop</th>\n",
       "    </tr>\n",
       "  </thead>\n",
       "  <tbody>\n",
       "    <tr>\n",
       "      <th>5</th>\n",
       "      <td>Colorado</td>\n",
       "      <td>5278906</td>\n",
       "      <td>20.78%</td>\n",
       "      <td>69.90%</td>\n",
       "      <td>3.55%</td>\n",
       "      <td>0.57%</td>\n",
       "      <td>2.66%</td>\n",
       "      <td>NaN</td>\n",
       "      <td>6465780.0</td>\n",
       "      <td>2648667</td>\n",
       "      <td>2630239</td>\n",
       "    </tr>\n",
       "    <tr>\n",
       "      <th>0</th>\n",
       "      <td>Colorado</td>\n",
       "      <td>5278906</td>\n",
       "      <td>20.78%</td>\n",
       "      <td>69.90%</td>\n",
       "      <td>3.55%</td>\n",
       "      <td>0.57%</td>\n",
       "      <td>2.66%</td>\n",
       "      <td>NaN</td>\n",
       "      <td>6465780.0</td>\n",
       "      <td>2648667</td>\n",
       "      <td>2630239</td>\n",
       "    </tr>\n",
       "    <tr>\n",
       "      <th>2</th>\n",
       "      <td>Delaware</td>\n",
       "      <td>926454</td>\n",
       "      <td>8.82%</td>\n",
       "      <td>64.63%</td>\n",
       "      <td>20.74%</td>\n",
       "      <td>0.26%</td>\n",
       "      <td>3.27%</td>\n",
       "      <td>NaN</td>\n",
       "      <td>6182798.0</td>\n",
       "      <td>448413</td>\n",
       "      <td>478041</td>\n",
       "    </tr>\n",
       "    <tr>\n",
       "      <th>1</th>\n",
       "      <td>Kansas</td>\n",
       "      <td>2892987</td>\n",
       "      <td>11.64%</td>\n",
       "      <td>75.96%</td>\n",
       "      <td>6.57%</td>\n",
       "      <td>0.73%</td>\n",
       "      <td>2.33%</td>\n",
       "      <td>NaN</td>\n",
       "      <td>5388561.0</td>\n",
       "      <td>1439862</td>\n",
       "      <td>1453125</td>\n",
       "    </tr>\n",
       "    <tr>\n",
       "      <th>4</th>\n",
       "      <td>North Dakota</td>\n",
       "      <td>721640</td>\n",
       "      <td>2.83%</td>\n",
       "      <td>87.45%</td>\n",
       "      <td>1.28%</td>\n",
       "      <td>5.65%</td>\n",
       "      <td>0.96%</td>\n",
       "      <td>NaN</td>\n",
       "      <td>5818811.0</td>\n",
       "      <td>367963</td>\n",
       "      <td>353677</td>\n",
       "    </tr>\n",
       "  </tbody>\n",
       "</table>\n",
       "</div>"
      ],
      "text/plain": [
       "          State  TotalPop Hispanic   White   Black Native  Asian Pacific  \\\n",
       "5      Colorado   5278906   20.78%  69.90%   3.55%  0.57%  2.66%     NaN   \n",
       "0      Colorado   5278906   20.78%  69.90%   3.55%  0.57%  2.66%     NaN   \n",
       "2      Delaware    926454    8.82%  64.63%  20.74%  0.26%  3.27%     NaN   \n",
       "1        Kansas   2892987   11.64%  75.96%   6.57%  0.73%  2.33%     NaN   \n",
       "4  North Dakota    721640    2.83%  87.45%   1.28%  5.65%  0.96%     NaN   \n",
       "\n",
       "      Income  MalePop  FemalePop  \n",
       "5  6465780.0  2648667    2630239  \n",
       "0  6465780.0  2648667    2630239  \n",
       "2  6182798.0   448413     478041  \n",
       "1  5388561.0  1439862    1453125  \n",
       "4  5818811.0   367963     353677  "
      ]
     },
     "execution_count": 16,
     "metadata": {},
     "output_type": "execute_result"
    }
   ],
   "source": [
    "# Listing the rows with null or nan values\n",
    "us_census[us_census.isnull().any(axis=1)]"
   ]
  },
  {
   "cell_type": "markdown",
   "metadata": {},
   "source": [
    "10. We forgot to check for duplicates! Use `.duplicated()` on your `census` DataFrame to see if we have duplicate rows in there."
   ]
  },
  {
   "cell_type": "code",
   "execution_count": 17,
   "metadata": {},
   "outputs": [
    {
     "data": {
      "text/plain": [
       "True"
      ]
     },
     "execution_count": 17,
     "metadata": {},
     "output_type": "execute_result"
    }
   ],
   "source": [
    "us_census.duplicated().any()"
   ]
  },
  {
   "cell_type": "markdown",
   "metadata": {},
   "source": [
    "11. Drop those duplicates using the `.drop_duplicates()` function."
   ]
  },
  {
   "cell_type": "code",
   "execution_count": 18,
   "metadata": {},
   "outputs": [],
   "source": [
    "us_census.drop_duplicates(inplace=True)"
   ]
  },
  {
   "cell_type": "markdown",
   "metadata": {},
   "source": [
    "12. Make the scatterplot again. Now, it should be perfect! Your job is secure, for now."
   ]
  },
  {
   "cell_type": "code",
   "execution_count": 19,
   "metadata": {},
   "outputs": [
    {
     "data": {
      "image/png": "[encoded data removed]",
      "text/plain": [
       "<Figure size 640x480 with 1 Axes>"
      ]
     },
     "metadata": {},
     "output_type": "display_data"
    },
    {
     "data": {
      "text/plain": [
       "<Figure size 640x480 with 0 Axes>"
      ]
     },
     "metadata": {},
     "output_type": "display_data"
    }
   ],
   "source": [
    "scatterplot()"
   ]
  },
  {
   "cell_type": "markdown",
   "metadata": {},
   "source": [
    "## Histogram of Races"
   ]
  },
  {
   "cell_type": "markdown",
   "metadata": {},
   "source": [
    "13. Now your boss wants you to make a bunch of histograms out of the race data that you have. Look at the `.columns` again to see what the race categories are."
   ]
  },
  {
   "cell_type": "code",
   "execution_count": 20,
   "metadata": {},
   "outputs": [
    {
     "data": {
      "text/plain": [
       "['State',\n",
       " 'TotalPop',\n",
       " 'Hispanic',\n",
       " 'White',\n",
       " 'Black',\n",
       " 'Native',\n",
       " 'Asian',\n",
       " 'Pacific',\n",
       " 'Income',\n",
       " 'MalePop',\n",
       " 'FemalePop']"
      ]
     },
     "execution_count": 20,
     "metadata": {},
     "output_type": "execute_result"
    }
   ],
   "source": [
    "us_census.columns.to_list()"
   ]
  },
  {
   "cell_type": "markdown",
   "metadata": {},
   "source": [
    "14. Try to make a histogram for each one!\n",
    "\n",
    "    You will have to get the columns into the numerical format, and those percentage signs will have to go.\n",
    "    \n",
    "    Don't forget to fill the `nan` values with something that makes sense! You probably dropped the duplicate rows when making your last graph, but it couldn't hurt to check for duplicates again."
   ]
  },
  {
   "cell_type": "code",
   "execution_count": 21,
   "metadata": {},
   "outputs": [
    {
     "data": {
      "text/html": [
       "<div>\n",
       "<style scoped>\n",
       "    .dataframe tbody tr th:only-of-type {\n",
       "        vertical-align: middle;\n",
       "    }\n",
       "\n",
       "    .dataframe tbody tr th {\n",
       "        vertical-align: top;\n",
       "    }\n",
       "\n",
       "    .dataframe thead th {\n",
       "        text-align: right;\n",
       "    }\n",
       "</style>\n",
       "<table border=\"1\" class=\"dataframe\">\n",
       "  <thead>\n",
       "    <tr style=\"text-align: right;\">\n",
       "      <th></th>\n",
       "      <th>State</th>\n",
       "      <th>TotalPop</th>\n",
       "      <th>Hispanic</th>\n",
       "      <th>White</th>\n",
       "      <th>Black</th>\n",
       "      <th>Native</th>\n",
       "      <th>Asian</th>\n",
       "      <th>Pacific</th>\n",
       "      <th>Income</th>\n",
       "      <th>MalePop</th>\n",
       "      <th>FemalePop</th>\n",
       "    </tr>\n",
       "  </thead>\n",
       "  <tbody>\n",
       "    <tr>\n",
       "      <th>0</th>\n",
       "      <td>Alabama</td>\n",
       "      <td>4830620</td>\n",
       "      <td>3.75</td>\n",
       "      <td>61.88</td>\n",
       "      <td>31.25</td>\n",
       "      <td>0.45</td>\n",
       "      <td>1.05</td>\n",
       "      <td>0.03</td>\n",
       "      <td>4329636.0</td>\n",
       "      <td>2341093</td>\n",
       "      <td>2489527</td>\n",
       "    </tr>\n",
       "    <tr>\n",
       "      <th>1</th>\n",
       "      <td>Alaska</td>\n",
       "      <td>733375</td>\n",
       "      <td>5.91</td>\n",
       "      <td>60.91</td>\n",
       "      <td>2.85</td>\n",
       "      <td>16.39</td>\n",
       "      <td>5.45</td>\n",
       "      <td>1.06</td>\n",
       "      <td>7035474.0</td>\n",
       "      <td>384160</td>\n",
       "      <td>349215</td>\n",
       "    </tr>\n",
       "    <tr>\n",
       "      <th>2</th>\n",
       "      <td>Arizona</td>\n",
       "      <td>6641928</td>\n",
       "      <td>29.57</td>\n",
       "      <td>57.12</td>\n",
       "      <td>3.85</td>\n",
       "      <td>4.36</td>\n",
       "      <td>2.88</td>\n",
       "      <td>0.17</td>\n",
       "      <td>5420782.0</td>\n",
       "      <td>3299088</td>\n",
       "      <td>3342840</td>\n",
       "    </tr>\n",
       "    <tr>\n",
       "      <th>3</th>\n",
       "      <td>Arkansas</td>\n",
       "      <td>2958208</td>\n",
       "      <td>6.22</td>\n",
       "      <td>71.14</td>\n",
       "      <td>18.97</td>\n",
       "      <td>0.52</td>\n",
       "      <td>1.14</td>\n",
       "      <td>0.15</td>\n",
       "      <td>4193563.0</td>\n",
       "      <td>1451913</td>\n",
       "      <td>1506295</td>\n",
       "    </tr>\n",
       "    <tr>\n",
       "      <th>4</th>\n",
       "      <td>California</td>\n",
       "      <td>38421464</td>\n",
       "      <td>37.29</td>\n",
       "      <td>40.22</td>\n",
       "      <td>5.68</td>\n",
       "      <td>0.41</td>\n",
       "      <td>13.05</td>\n",
       "      <td>0.35</td>\n",
       "      <td>6726478.0</td>\n",
       "      <td>19087135</td>\n",
       "      <td>19334329</td>\n",
       "    </tr>\n",
       "  </tbody>\n",
       "</table>\n",
       "</div>"
      ],
      "text/plain": [
       "        State  TotalPop Hispanic  White  Black Native  Asian Pacific  \\\n",
       "0     Alabama   4830620     3.75  61.88  31.25   0.45   1.05    0.03   \n",
       "1      Alaska    733375     5.91  60.91   2.85  16.39   5.45    1.06   \n",
       "2     Arizona   6641928    29.57  57.12   3.85   4.36   2.88    0.17   \n",
       "3    Arkansas   2958208     6.22  71.14  18.97   0.52   1.14    0.15   \n",
       "4  California  38421464    37.29  40.22   5.68   0.41  13.05    0.35   \n",
       "\n",
       "      Income   MalePop  FemalePop  \n",
       "0  4329636.0   2341093    2489527  \n",
       "1  7035474.0    384160     349215  \n",
       "2  5420782.0   3299088    3342840  \n",
       "3  4193563.0   1451913    1506295  \n",
       "4  6726478.0  19087135   19334329  "
      ]
     },
     "execution_count": 21,
     "metadata": {},
     "output_type": "execute_result"
    }
   ],
   "source": [
    "for column in us_census.columns.to_list():\n",
    "    if us_census[column].dtype == 'object':\n",
    "        us_census[column] = us_census[column].str.replace('%', '')\n",
    "\n",
    "us_census.head()"
   ]
  },
  {
   "cell_type": "code",
   "execution_count": 22,
   "metadata": {},
   "outputs": [],
   "source": [
    "PopList = ['Hispanic', 'White', 'Black', 'Native', 'Asian', 'Pacific']\n",
    "\n",
    "for rase in PopList:\n",
    "    us_census[rase] = pd.to_numeric(us_census[rase], errors='coerce')"
   ]
  },
  {
   "cell_type": "code",
   "execution_count": 23,
   "metadata": {},
   "outputs": [
    {
     "data": {
      "text/html": [
       "<div>\n",
       "<style scoped>\n",
       "    .dataframe tbody tr th:only-of-type {\n",
       "        vertical-align: middle;\n",
       "    }\n",
       "\n",
       "    .dataframe tbody tr th {\n",
       "        vertical-align: top;\n",
       "    }\n",
       "\n",
       "    .dataframe thead th {\n",
       "        text-align: right;\n",
       "    }\n",
       "</style>\n",
       "<table border=\"1\" class=\"dataframe\">\n",
       "  <thead>\n",
       "    <tr style=\"text-align: right;\">\n",
       "      <th></th>\n",
       "      <th>State</th>\n",
       "      <th>TotalPop</th>\n",
       "      <th>Hispanic</th>\n",
       "      <th>White</th>\n",
       "      <th>Black</th>\n",
       "      <th>Native</th>\n",
       "      <th>Asian</th>\n",
       "      <th>Pacific</th>\n",
       "      <th>Income</th>\n",
       "      <th>MalePop</th>\n",
       "      <th>FemalePop</th>\n",
       "    </tr>\n",
       "  </thead>\n",
       "  <tbody>\n",
       "  </tbody>\n",
       "</table>\n",
       "</div>"
      ],
      "text/plain": [
       "Empty DataFrame\n",
       "Columns: [State, TotalPop, Hispanic, White, Black, Native, Asian, Pacific, Income, MalePop, FemalePop]\n",
       "Index: []"
      ]
     },
     "execution_count": 23,
     "metadata": {},
     "output_type": "execute_result"
    }
   ],
   "source": [
    "# I assume that Population in PoP list should add to 100%. Therefore, I will fill the nan values with the difference\n",
    "us_census[PopList] = us_census[PopList].apply(lambda x: x.fillna(100 - x.sum()), axis=1)\n",
    "\n",
    "\n",
    "# Listing the rows with null or nan values\n",
    "us_census[us_census.isnull().any(axis=1)]"
   ]
  },
  {
   "cell_type": "code",
   "execution_count": 24,
   "metadata": {},
   "outputs": [
    {
     "data": {
      "image/png": "[encoded data removed]",
      "text/plain": [
       "<Figure size 640x480 with 1 Axes>"
      ]
     },
     "metadata": {},
     "output_type": "display_data"
    },
    {
     "data": {
      "image/png": "[encoded data removed]",
      "text/plain": [
       "<Figure size 640x480 with 1 Axes>"
      ]
     },
     "metadata": {},
     "output_type": "display_data"
    },
    {
     "data": {
      "image/png": "[encoded data removed]",
      "text/plain": [
       "<Figure size 640x480 with 1 Axes>"
      ]
     },
     "metadata": {},
     "output_type": "display_data"
    },
    {
     "data": {
      "image/png": "[encoded data removed]",
      "text/plain": [
       "<Figure size 640x480 with 1 Axes>"
      ]
     },
     "metadata": {},
     "output_type": "display_data"
    },
    {
     "data": {
      "image/png": "[encoded data removed]",
      "text/plain": [
       "<Figure size 640x480 with 1 Axes>"
      ]
     },
     "metadata": {},
     "output_type": "display_data"
    },
    {
     "data": {
      "image/png": "[encoded data removed]",
      "text/plain": [
       "<Figure size 640x480 with 1 Axes>"
      ]
     },
     "metadata": {},
     "output_type": "display_data"
    },
    {
     "data": {
      "text/plain": [
       "<Figure size 640x480 with 0 Axes>"
      ]
     },
     "metadata": {},
     "output_type": "display_data"
    }
   ],
   "source": [
    "for column in PopList:\n",
    "    sns.histplot(us_census[column], bins=20)\n",
    "    plt.tick_params(axis='x', rotation=45)\n",
    "    plt.ylabel('Frequency')\n",
    "    plt.xlabel('Percentage')\n",
    "    plt.title(f'{column} population distribution')\n",
    "    plt.show()\n",
    "    plt.clf()"
   ]
  },
  {
   "cell_type": "markdown",
   "metadata": {},
   "source": [
    "## Get Creative"
   ]
  },
  {
   "cell_type": "markdown",
   "metadata": {},
   "source": [
    "15. Phew. You've definitely impressed your boss on your first day of work.\n",
    "\n",
    "    But is there a way you really convey the power of pandas and Python over the drudgery of `csv` and Excel?\n",
    "    \n",
    "    Try to make some more interesting graphs to show your boss, and the world! You may need to clean the data even more to do it, or the cleaning you have already done may give you the ease of manipulation you've been searching for."
   ]
  },
  {
   "cell_type": "code",
   "execution_count": 25,
   "metadata": {},
   "outputs": [
    {
     "data": {
      "text/html": [
       "<div>\n",
       "<style scoped>\n",
       "    .dataframe tbody tr th:only-of-type {\n",
       "        vertical-align: middle;\n",
       "    }\n",
       "\n",
       "    .dataframe tbody tr th {\n",
       "        vertical-align: top;\n",
       "    }\n",
       "\n",
       "    .dataframe thead th {\n",
       "        text-align: right;\n",
       "    }\n",
       "</style>\n",
       "<table border=\"1\" class=\"dataframe\">\n",
       "  <thead>\n",
       "    <tr style=\"text-align: right;\">\n",
       "      <th></th>\n",
       "      <th>TotalPop</th>\n",
       "      <th>Hispanic</th>\n",
       "      <th>White</th>\n",
       "      <th>Black</th>\n",
       "      <th>Native</th>\n",
       "      <th>Asian</th>\n",
       "      <th>Pacific</th>\n",
       "      <th>Income</th>\n",
       "      <th>MalePop</th>\n",
       "      <th>FemalePop</th>\n",
       "      <th>...</th>\n",
       "      <th>South Carolina</th>\n",
       "      <th>South Dakota</th>\n",
       "      <th>Tennessee</th>\n",
       "      <th>Texas</th>\n",
       "      <th>Utah</th>\n",
       "      <th>Vermont</th>\n",
       "      <th>Virginia</th>\n",
       "      <th>Washington</th>\n",
       "      <th>West Virginia</th>\n",
       "      <th>Wisconsin</th>\n",
       "    </tr>\n",
       "  </thead>\n",
       "  <tbody>\n",
       "    <tr>\n",
       "      <th>0</th>\n",
       "      <td>4830620</td>\n",
       "      <td>3.75</td>\n",
       "      <td>61.88</td>\n",
       "      <td>31.25</td>\n",
       "      <td>0.45</td>\n",
       "      <td>1.05</td>\n",
       "      <td>0.03</td>\n",
       "      <td>4329636.0</td>\n",
       "      <td>2341093</td>\n",
       "      <td>2489527</td>\n",
       "      <td>...</td>\n",
       "      <td>False</td>\n",
       "      <td>False</td>\n",
       "      <td>False</td>\n",
       "      <td>False</td>\n",
       "      <td>False</td>\n",
       "      <td>False</td>\n",
       "      <td>False</td>\n",
       "      <td>False</td>\n",
       "      <td>False</td>\n",
       "      <td>False</td>\n",
       "    </tr>\n",
       "    <tr>\n",
       "      <th>1</th>\n",
       "      <td>733375</td>\n",
       "      <td>5.91</td>\n",
       "      <td>60.91</td>\n",
       "      <td>2.85</td>\n",
       "      <td>16.39</td>\n",
       "      <td>5.45</td>\n",
       "      <td>1.06</td>\n",
       "      <td>7035474.0</td>\n",
       "      <td>384160</td>\n",
       "      <td>349215</td>\n",
       "      <td>...</td>\n",
       "      <td>False</td>\n",
       "      <td>False</td>\n",
       "      <td>False</td>\n",
       "      <td>False</td>\n",
       "      <td>False</td>\n",
       "      <td>False</td>\n",
       "      <td>False</td>\n",
       "      <td>False</td>\n",
       "      <td>False</td>\n",
       "      <td>False</td>\n",
       "    </tr>\n",
       "    <tr>\n",
       "      <th>2</th>\n",
       "      <td>6641928</td>\n",
       "      <td>29.57</td>\n",
       "      <td>57.12</td>\n",
       "      <td>3.85</td>\n",
       "      <td>4.36</td>\n",
       "      <td>2.88</td>\n",
       "      <td>0.17</td>\n",
       "      <td>5420782.0</td>\n",
       "      <td>3299088</td>\n",
       "      <td>3342840</td>\n",
       "      <td>...</td>\n",
       "      <td>False</td>\n",
       "      <td>False</td>\n",
       "      <td>False</td>\n",
       "      <td>False</td>\n",
       "      <td>False</td>\n",
       "      <td>False</td>\n",
       "      <td>False</td>\n",
       "      <td>False</td>\n",
       "      <td>False</td>\n",
       "      <td>False</td>\n",
       "    </tr>\n",
       "    <tr>\n",
       "      <th>3</th>\n",
       "      <td>2958208</td>\n",
       "      <td>6.22</td>\n",
       "      <td>71.14</td>\n",
       "      <td>18.97</td>\n",
       "      <td>0.52</td>\n",
       "      <td>1.14</td>\n",
       "      <td>0.15</td>\n",
       "      <td>4193563.0</td>\n",
       "      <td>1451913</td>\n",
       "      <td>1506295</td>\n",
       "      <td>...</td>\n",
       "      <td>False</td>\n",
       "      <td>False</td>\n",
       "      <td>False</td>\n",
       "      <td>False</td>\n",
       "      <td>False</td>\n",
       "      <td>False</td>\n",
       "      <td>False</td>\n",
       "      <td>False</td>\n",
       "      <td>False</td>\n",
       "      <td>False</td>\n",
       "    </tr>\n",
       "    <tr>\n",
       "      <th>4</th>\n",
       "      <td>38421464</td>\n",
       "      <td>37.29</td>\n",
       "      <td>40.22</td>\n",
       "      <td>5.68</td>\n",
       "      <td>0.41</td>\n",
       "      <td>13.05</td>\n",
       "      <td>0.35</td>\n",
       "      <td>6726478.0</td>\n",
       "      <td>19087135</td>\n",
       "      <td>19334329</td>\n",
       "      <td>...</td>\n",
       "      <td>False</td>\n",
       "      <td>False</td>\n",
       "      <td>False</td>\n",
       "      <td>False</td>\n",
       "      <td>False</td>\n",
       "      <td>False</td>\n",
       "      <td>False</td>\n",
       "      <td>False</td>\n",
       "      <td>False</td>\n",
       "      <td>False</td>\n",
       "    </tr>\n",
       "  </tbody>\n",
       "</table>\n",
       "<p>5 rows × 61 columns</p>\n",
       "</div>"
      ],
      "text/plain": [
       "   TotalPop  Hispanic  White  Black  Native  Asian  Pacific     Income  \\\n",
       "0   4830620      3.75  61.88  31.25    0.45   1.05     0.03  4329636.0   \n",
       "1    733375      5.91  60.91   2.85   16.39   5.45     1.06  7035474.0   \n",
       "2   6641928     29.57  57.12   3.85    4.36   2.88     0.17  5420782.0   \n",
       "3   2958208      6.22  71.14  18.97    0.52   1.14     0.15  4193563.0   \n",
       "4  38421464     37.29  40.22   5.68    0.41  13.05     0.35  6726478.0   \n",
       "\n",
       "    MalePop  FemalePop  ...  South Carolina  South Dakota  Tennessee  Texas  \\\n",
       "0   2341093    2489527  ...           False         False      False  False   \n",
       "1    384160     349215  ...           False         False      False  False   \n",
       "2   3299088    3342840  ...           False         False      False  False   \n",
       "3   1451913    1506295  ...           False         False      False  False   \n",
       "4  19087135   19334329  ...           False         False      False  False   \n",
       "\n",
       "    Utah  Vermont  Virginia  Washington  West Virginia  Wisconsin  \n",
       "0  False    False     False       False          False      False  \n",
       "1  False    False     False       False          False      False  \n",
       "2  False    False     False       False          False      False  \n",
       "3  False    False     False       False          False      False  \n",
       "4  False    False     False       False          False      False  \n",
       "\n",
       "[5 rows x 61 columns]"
      ]
     },
     "execution_count": 25,
     "metadata": {},
     "output_type": "execute_result"
    }
   ],
   "source": [
    "us_census_numerical = us_census.copy()\n",
    "\n",
    "us_census_numerical = pd.get_dummies(us_census_numerical, columns=['State'], prefix='', prefix_sep='')\n",
    "us_census_numerical.head()"
   ]
  },
  {
   "cell_type": "code",
   "execution_count": 30,
   "metadata": {},
   "outputs": [],
   "source": [
    "import plotly.graph_objects as go\n",
    "from plotly.subplots import make_subplots\n",
    "\n",
    "def create_corr_heatmap(df, threshold=0.3, columns=None, cell_size=50, ignoreone=False):\n",
    "\n",
    "    # Select specified columns if provided\n",
    "    if columns is not None:\n",
    "        df = df[columns]\n",
    "\n",
    "    # Calculate the correlation matrix\n",
    "    corr_matrix = df.corr()\n",
    "\n",
    "    def filter_corr_matrix(corr_matrix, ignoreone, threshold):\n",
    "        # Create a boolean matrix to identify correlations above the threshold\n",
    "        bool_matrix = (corr_matrix.abs() > threshold)\n",
    "\n",
    "        # Create a boolean matrix to identify cells 'equal' to 1\n",
    "        ones_matrix = (corr_matrix.abs() > 0.98)\n",
    "\n",
    "        if not ignoreone:\n",
    "            mask = (bool_matrix.sum() > 1)\n",
    "        if ignoreone:\n",
    "            mask = ((bool_matrix.sum() > 1) & (ones_matrix.sum() == 1))\n",
    "\n",
    "        # Apply the mask to the correlation matrix to filter out desired variables\n",
    "        filtered_corr_matrix = corr_matrix.loc[mask, mask]\n",
    "        return filtered_corr_matrix\n",
    "\n",
    "    # Filter the correlation matrix based on the ignoreone parameter\n",
    "    filtered_corr_matrix = filter_corr_matrix(corr_matrix, ignoreone, threshold)\n",
    "\n",
    "    # Check if there are any variables remaining after filtering\n",
    "    if not filtered_corr_matrix.empty:\n",
    "        # Create a subplot with a dropdown menu\n",
    "        fig = make_subplots(rows=1, cols=1, subplot_titles=['Heatmap of Variables with Correlations > {}'.format(threshold)])\n",
    "\n",
    "        # Define color thresholds in 0.1 increments from -1 to 1\n",
    "        bounds = [round(x * 0.1, 1) for x in range(-10, 11)]\n",
    "                \n",
    "        # Create a colorscale function\n",
    "        def create_colorscale(threshold):\n",
    "            colorscale = []\n",
    "            for i in range(len(bounds)):\n",
    "                if abs(bounds[i]) < threshold:\n",
    "                    colorscale.append([i / (len(bounds) - 1), 'rgb(200,200,200)'])\n",
    "                else:\n",
    "                    if bounds[i] < 0:\n",
    "                        # For negative values - shades from rgb(100,180,200) to rgb(200,200,200)\n",
    "                        normalized_value = (bounds[i] + 1) / (1 - threshold)  # Normalize values to the range [0, 1].\n",
    "                        color = (\n",
    "                            int(100 + normalized_value * 100),\n",
    "                            int(180 + normalized_value * 20),\n",
    "                            200\n",
    "                        )\n",
    "                    else:\n",
    "                        # For positive values - shades from rgb(200,200,200) to rgb(220,100,100)\n",
    "                        normalized_value = (bounds[i] - threshold) / (1 - threshold)  # Normalize values to the range [0, 1].\n",
    "                        color = (\n",
    "                            220,\n",
    "                            int(200 - normalized_value * 100),\n",
    "                            int(200 - normalized_value * 100)\n",
    "                        )\n",
    "                    colorscale.append([i / (len(bounds) - 1), f'rgb{color}'])\n",
    "            return colorscale\n",
    "\n",
    "        colorscale = create_colorscale(threshold)\n",
    "        \n",
    "        # Create the heatmap trace\n",
    "        trace = go.Heatmap(\n",
    "            z=filtered_corr_matrix,\n",
    "            x=filtered_corr_matrix.columns,\n",
    "            y=filtered_corr_matrix.index,\n",
    "            colorscale=colorscale,\n",
    "            #reversescale=True,\n",
    "            zmid=0,\n",
    "            zmin=-1,\n",
    "            zmax=1,\n",
    "            text=filtered_corr_matrix.applymap(\"{:.2f}\".format),\n",
    "            texttemplate=\"%{text}\",\n",
    "            textfont=dict(size=10),\n",
    "            hoverinfo='text',\n",
    "            colorbar=dict(title='Correlation',\n",
    "            titleside='top',\n",
    "            tickmode='array',\n",
    "            tickvals=bounds,\n",
    "            ticktext=[str(val) for val in bounds])\n",
    "            )\n",
    "\n",
    "        # Add the initial heatmap trace to the subplot\n",
    "        fig.add_trace(trace, row=1, col=1)\n",
    "\n",
    "        # Create dropdown menu options\n",
    "        dropdown_options = [\n",
    "            {'label': 'Reset', 'method': 'update', 'args': [{'y': [filtered_corr_matrix.index], 'z': [filtered_corr_matrix.values]},\n",
    "                                                            {'layout': {'width': cell_size * len(filtered_corr_matrix.columns),\n",
    "                                                                        'height': cell_size * len(filtered_corr_matrix.columns)}}]}\n",
    "        ] + [\n",
    "            {'label': col, 'method': 'update', 'args': [{'y': [col], 'z': [filtered_corr_matrix.loc[col].values.reshape(1, -1)]},\n",
    "                                                         {'layout': {'width': cell_size * len(filtered_corr_matrix.columns),\n",
    "                                                                    'height': cell_size}}]}\n",
    "            for col in filtered_corr_matrix.columns\n",
    "        ]\n",
    "        \n",
    "        dropdown = dict(\n",
    "            buttons=dropdown_options,\n",
    "            direction='down',\n",
    "            showactive=True,\n",
    "            x=0.8,\n",
    "            y=1.15,\n",
    "            xanchor='left',\n",
    "            yanchor='top'\n",
    "        )\n",
    "\n",
    "\n",
    "\n",
    "        # Create the layout with the dropdown menu\n",
    "        fig.update_layout(\n",
    "            updatemenus=[dropdown],\n",
    "            title=f'Heatmap of Variables with Correlations > {threshold}',\n",
    "            xaxis=dict(side='bottom'),\n",
    "            yaxis=dict(side='left', autorange='reversed'),\n",
    "            width=cell_size * len(filtered_corr_matrix.columns),\n",
    "            height=cell_size * len(filtered_corr_matrix.columns)\n",
    "        )\n",
    "\n",
    "        # Display the plot\n",
    "        fig.show()\n",
    "    else:\n",
    "        print(f\"No variables found with correlations above the threshold of {threshold}.\")\n"
   ]
  },
  {
   "cell_type": "code",
   "execution_count": 32,
   "metadata": {},
   "outputs": [
    {
     "name": "stderr",
     "output_type": "stream",
     "text": [
      "C:\\Users\\DataScience\\AppData\\Local\\Temp\\ipykernel_47356\\871024122.py:78: FutureWarning:\n",
      "\n",
      "DataFrame.applymap has been deprecated. Use DataFrame.map instead.\n",
      "\n"
     ]
    },
    {
     "data": {
      "application/vnd.plotly.v1+json": {
       "config": {
        "plotlyServerURL": "https://plot.ly"
       },
       "data": [
        {
         "colorbar": {
          "tickmode": "array",
          "ticktext": [
           "-1.0",
           "-0.9",
           "-0.8",
           "-0.7",
           "-0.6",
           "-0.5",
           "-0.4",
           "-0.3",
           "-0.2",
           "-0.1",
           "0.0",
           "0.1",
           "0.2",
           "0.3",
           "0.4",
           "0.5",
           "0.6",
           "0.7",
           "0.8",
           "0.9",
           "1.0"
          ],
          "tickvals": [
           -1,
           -0.9,
           -0.8,
           -0.7,
           -0.6,
           -0.5,
           -0.4,
           -0.3,
           -0.2,
           -0.1,
           0,
           0.1,
           0.2,
           0.3,
           0.4,
           0.5,
           0.6,
           0.7,
           0.8,
           0.9,
           1
          ],
          "title": {
           "side": "top",
           "text": "Correlation"
          }
         },
         "colorscale": [
          [
           0,
           "rgb(100, 180, 200)"
          ],
          [
           0.05,
           "rgb(114, 182, 200)"
          ],
          [
           0.1,
           "rgb(128, 185, 200)"
          ],
          [
           0.15,
           "rgb(142, 188, 200)"
          ],
          [
           0.2,
           "rgb(157, 191, 200)"
          ],
          [
           0.25,
           "rgb(171, 194, 200)"
          ],
          [
           0.3,
           "rgb(185, 197, 200)"
          ],
          [
           0.35,
           "rgb(200, 200, 200)"
          ],
          [
           0.4,
           "rgb(200,200,200)"
          ],
          [
           0.45,
           "rgb(200,200,200)"
          ],
          [
           0.5,
           "rgb(200,200,200)"
          ],
          [
           0.55,
           "rgb(200,200,200)"
          ],
          [
           0.6,
           "rgb(200,200,200)"
          ],
          [
           0.65,
           "rgb(220, 200, 200)"
          ],
          [
           0.7,
           "rgb(220, 185, 185)"
          ],
          [
           0.75,
           "rgb(220, 171, 171)"
          ],
          [
           0.8,
           "rgb(220, 157, 157)"
          ],
          [
           0.85,
           "rgb(220, 142, 142)"
          ],
          [
           0.9,
           "rgb(220, 128, 128)"
          ],
          [
           0.95,
           "rgb(220, 114, 114)"
          ],
          [
           1,
           "rgb(220, 100, 100)"
          ]
         ],
         "hoverinfo": "text",
         "text": [
          [
           "1.00",
           "-0.71",
           "-0.22",
           "0.00",
           "0.05",
           "-0.03",
           "-0.23",
           "-0.06",
           "0.22",
           "-0.03",
           "-0.03",
           "-0.09",
           "0.30",
           "0.78",
           "-0.09",
           "0.23"
          ],
          [
           "-0.71",
           "1.00",
           "-0.34",
           "0.03",
           "-0.42",
           "-0.25",
           "-0.01",
           "-0.05",
           "-0.21",
           "-0.27",
           "-0.33",
           "-0.11",
           "-0.21",
           "-0.52",
           "0.12",
           "-0.18"
          ],
          [
           "-0.22",
           "-0.34",
           "1.00",
           "-0.31",
           "-0.10",
           "-0.19",
           "0.01",
           "-0.11",
           "-0.08",
           "0.48",
           "-0.12",
           "0.36",
           "-0.12",
           "-0.14",
           "-0.13",
           "-0.00"
          ],
          [
           "0.00",
           "0.03",
           "-0.31",
           "1.00",
           "-0.09",
           "0.01",
           "0.00",
           "0.68",
           "-0.05",
           "-0.06",
           "-0.06",
           "-0.05",
           "0.35",
           "-0.07",
           "0.36",
           "-0.06"
          ],
          [
           "0.05",
           "-0.42",
           "-0.10",
           "-0.09",
           "1.00",
           "0.79",
           "0.49",
           "0.05",
           "0.25",
           "-0.01",
           "0.89",
           "-0.07",
           "-0.07",
           "-0.10",
           "-0.07",
           "0.00"
          ],
          [
           "-0.03",
           "-0.25",
           "-0.19",
           "0.01",
           "0.79",
           "1.00",
           "0.27",
           "0.06",
           "-0.01",
           "-0.05",
           "0.88",
           "-0.05",
           "-0.05",
           "-0.05",
           "-0.05",
           "-0.04"
          ],
          [
           "-0.23",
           "-0.01",
           "0.01",
           "0.00",
           "0.49",
           "0.27",
           "1.00",
           "0.18",
           "0.14",
           "0.24",
           "0.22",
           "-0.21",
           "-0.11",
           "-0.44",
           "-0.05",
           "-0.00"
          ],
          [
           "-0.06",
           "-0.05",
           "-0.11",
           "0.68",
           "0.05",
           "0.06",
           "0.18",
           "1.00",
           "-0.02",
           "-0.02",
           "-0.02",
           "-0.02",
           "-0.02",
           "-0.02",
           "-0.02",
           "-0.02"
          ],
          [
           "0.22",
           "-0.21",
           "-0.08",
           "-0.05",
           "0.25",
           "-0.01",
           "0.14",
           "-0.02",
           "1.00",
           "-0.02",
           "-0.02",
           "-0.02",
           "-0.02",
           "-0.02",
           "-0.02",
           "-0.02"
          ],
          [
           "-0.03",
           "-0.27",
           "0.48",
           "-0.06",
           "-0.01",
           "-0.05",
           "0.24",
           "-0.02",
           "-0.02",
           "1.00",
           "-0.02",
           "-0.02",
           "-0.02",
           "-0.02",
           "-0.02",
           "-0.02"
          ],
          [
           "-0.03",
           "-0.33",
           "-0.12",
           "-0.06",
           "0.89",
           "0.88",
           "0.22",
           "-0.02",
           "-0.02",
           "-0.02",
           "1.00",
           "-0.02",
           "-0.02",
           "-0.02",
           "-0.02",
           "-0.02"
          ],
          [
           "-0.09",
           "-0.11",
           "0.36",
           "-0.05",
           "-0.07",
           "-0.05",
           "-0.21",
           "-0.02",
           "-0.02",
           "-0.02",
           "-0.02",
           "1.00",
           "-0.02",
           "-0.02",
           "-0.02",
           "-0.02"
          ],
          [
           "0.30",
           "-0.21",
           "-0.12",
           "0.35",
           "-0.07",
           "-0.05",
           "-0.11",
           "-0.02",
           "-0.02",
           "-0.02",
           "-0.02",
           "-0.02",
           "1.00",
           "-0.02",
           "-0.02",
           "-0.02"
          ],
          [
           "0.78",
           "-0.52",
           "-0.14",
           "-0.07",
           "-0.10",
           "-0.05",
           "-0.44",
           "-0.02",
           "-0.02",
           "-0.02",
           "-0.02",
           "-0.02",
           "-0.02",
           "1.00",
           "-0.02",
           "-0.02"
          ],
          [
           "-0.09",
           "0.12",
           "-0.13",
           "0.36",
           "-0.07",
           "-0.05",
           "-0.05",
           "-0.02",
           "-0.02",
           "-0.02",
           "-0.02",
           "-0.02",
           "-0.02",
           "-0.02",
           "1.00",
           "-0.02"
          ],
          [
           "0.23",
           "-0.18",
           "-0.00",
           "-0.06",
           "0.00",
           "-0.04",
           "-0.00",
           "-0.02",
           "-0.02",
           "-0.02",
           "-0.02",
           "-0.02",
           "-0.02",
           "-0.02",
           "-0.02",
           "1.00"
          ]
         ],
         "textfont": {
          "size": 10
         },
         "texttemplate": "%{text}",
         "type": "heatmap",
         "x": [
          "Hispanic",
          "White",
          "Black",
          "Native",
          "Asian",
          "Pacific",
          "Income",
          "Alaska",
          "California",
          "District of Columbia",
          "Hawaii",
          "Mississippi",
          "New Mexico",
          "Puerto Rico",
          "South Dakota",
          "Texas"
         ],
         "xaxis": "x",
         "y": [
          "Hispanic",
          "White",
          "Black",
          "Native",
          "Asian",
          "Pacific",
          "Income",
          "Alaska",
          "California",
          "District of Columbia",
          "Hawaii",
          "Mississippi",
          "New Mexico",
          "Puerto Rico",
          "South Dakota",
          "Texas"
         ],
         "yaxis": "y",
         "z": [
          [
           1,
           -0.7093924338947555,
           -0.2164884590257062,
           0.0001860211182623878,
           0.04691762016272142,
           -0.030385756203675684,
           -0.23225013080459853,
           -0.061307226168838394,
           0.22420918232867526,
           -0.031645547019638454,
           -0.03146357352792556,
           -0.08924015714676593,
           0.2969075922679719,
           0.7846875368043553,
           -0.08560068731250825,
           0.23112417501376467
          ],
          [
           -0.7093924338947555,
           1,
           -0.34126413367824265,
           0.02720510467684999,
           -0.4248267124684031,
           -0.2508920348560026,
           -0.013260071313333626,
           -0.04931584188094792,
           -0.20997029279125434,
           -0.2652559230706831,
           -0.3279181472778447,
           -0.10848389001707813,
           -0.2062431716488209,
           -0.516293061684999,
           0.11832696117142129,
           -0.17526147715234294
          ],
          [
           -0.2164884590257062,
           -0.34126413367824265,
           1,
           -0.30985599911234474,
           -0.10237251475197429,
           -0.19134390398741008,
           0.00867473786028174,
           -0.10958076016705662,
           -0.07548398078813832,
           0.47994412146208654,
           -0.11921942571586742,
           0.3559667858405073,
           -0.12271344197731135,
           -0.14283415631045399,
           -0.12680987483555595,
           -0.003555439130137295
          ],
          [
           0.0001860211182623878,
           0.02720510467684999,
           -0.30985599911234474,
           1,
           -0.08941997469916169,
           0.011355938517002282,
           0.0037623178987130617,
           0.682676285481539,
           -0.05233595990024923,
           -0.061995069507894816,
           -0.06475481511007926,
           -0.05325587510097743,
           0.3542665588215909,
           -0.07119422151517624,
           0.3620858380277802,
           -0.059235323905710346
          ],
          [
           0.04691762016272142,
           -0.4248267124684031,
           -0.10237251475197429,
           -0.08941997469916169,
           1,
           0.7895419505680804,
           0.489754104778464,
           0.0486997450760739,
           0.2537624413442568,
           -0.007152857723286434,
           0.8889171611012334,
           -0.07460769202203082,
           -0.0651640152202066,
           -0.096193238997629,
           -0.07083022130130112,
           0.0006719030553678789
          ],
          [
           -0.030385756203675684,
           -0.2508920348560026,
           -0.19134390398741008,
           0.011355938517002282,
           0.7895419505680804,
           1,
           0.27122930990217553,
           0.06266023406583869,
           -0.012444932287157692,
           -0.04629514810822648,
           0.8771810522603062,
           -0.04735296735263489,
           -0.045237328863818094,
           -0.04946860584145169,
           -0.04523732886381811,
           -0.042063871130592886
          ],
          [
           -0.23225013080459853,
           -0.013260071313333626,
           0.00867473786028174,
           0.0037623178987130617,
           0.489754104778464,
           0.27122930990217553,
           1,
           0.17955801232184154,
           0.1411139796763958,
           0.24315472106600441,
           0.2157591985340019,
           -0.2116657208689332,
           -0.10690686409529022,
           -0.43797063048602175,
           -0.05122524962043202,
           -0.0005990286732643837
          ],
          [
           -0.061307226168838394,
           -0.04931584188094792,
           -0.10958076016705662,
           0.682676285481539,
           0.0486997450760739,
           0.06266023406583869,
           0.17955801232184154,
           1,
           -0.01999999999999996,
           -0.02000000000000002,
           -0.020000000000000018,
           -0.02000000000000001,
           -0.020000000000000014,
           -0.020000000000000014,
           -0.02000000000000001,
           -0.020000000000000014
          ],
          [
           0.22420918232867526,
           -0.20997029279125434,
           -0.07548398078813832,
           -0.05233595990024923,
           0.2537624413442568,
           -0.012444932287157692,
           0.1411139796763958,
           -0.01999999999999996,
           1,
           -0.02000000000000002,
           -0.020000000000000018,
           -0.02000000000000001,
           -0.020000000000000014,
           -0.020000000000000014,
           -0.02000000000000001,
           -0.020000000000000014
          ],
          [
           -0.031645547019638454,
           -0.2652559230706831,
           0.47994412146208654,
           -0.061995069507894816,
           -0.007152857723286434,
           -0.04629514810822648,
           0.24315472106600441,
           -0.02000000000000002,
           -0.02000000000000002,
           1,
           -0.02,
           -0.02,
           -0.020000000000000004,
           -0.020000000000000004,
           -0.02,
           -0.02
          ],
          [
           -0.03146357352792556,
           -0.3279181472778447,
           -0.11921942571586742,
           -0.06475481511007926,
           0.8889171611012334,
           0.8771810522603062,
           0.2157591985340019,
           -0.020000000000000018,
           -0.020000000000000018,
           -0.02,
           1,
           -0.019999999999999997,
           -0.020000000000000004,
           -0.02,
           -0.019999999999999997,
           -0.02
          ],
          [
           -0.08924015714676593,
           -0.10848389001707813,
           0.3559667858405073,
           -0.05325587510097743,
           -0.07460769202203082,
           -0.04735296735263489,
           -0.2116657208689332,
           -0.02000000000000001,
           -0.02000000000000001,
           -0.02,
           -0.019999999999999997,
           1,
           -0.020000000000000007,
           -0.020000000000000007,
           -0.020000000000000004,
           -0.020000000000000007
          ],
          [
           0.2969075922679719,
           -0.2062431716488209,
           -0.12271344197731135,
           0.3542665588215909,
           -0.0651640152202066,
           -0.045237328863818094,
           -0.10690686409529022,
           -0.020000000000000014,
           -0.020000000000000014,
           -0.020000000000000004,
           -0.020000000000000004,
           -0.020000000000000007,
           1,
           -0.02,
           -0.019999999999999997,
           -0.02
          ],
          [
           0.7846875368043553,
           -0.516293061684999,
           -0.14283415631045399,
           -0.07119422151517624,
           -0.096193238997629,
           -0.04946860584145169,
           -0.43797063048602175,
           -0.020000000000000014,
           -0.020000000000000014,
           -0.020000000000000004,
           -0.02,
           -0.020000000000000007,
           -0.02,
           1,
           -0.02,
           -0.02
          ],
          [
           -0.08560068731250825,
           0.11832696117142129,
           -0.12680987483555595,
           0.3620858380277802,
           -0.07083022130130112,
           -0.04523732886381811,
           -0.05122524962043202,
           -0.02000000000000001,
           -0.02000000000000001,
           -0.02,
           -0.019999999999999997,
           -0.020000000000000004,
           -0.019999999999999997,
           -0.02,
           1,
           -0.019999999999999997
          ],
          [
           0.23112417501376467,
           -0.17526147715234294,
           -0.003555439130137295,
           -0.059235323905710346,
           0.0006719030553678789,
           -0.042063871130592886,
           -0.0005990286732643837,
           -0.020000000000000014,
           -0.020000000000000014,
           -0.02,
           -0.02,
           -0.020000000000000007,
           -0.02,
           -0.02,
           -0.019999999999999997,
           1
          ]
         ],
         "zmax": 1,
         "zmid": 0,
         "zmin": -1
        }
       ],
       "layout": {
        "annotations": [
         {
          "font": {
           "size": 16
          },
          "showarrow": false,
          "text": "Heatmap of Variables with Correlations > 0.3",
          "x": 0.5,
          "xanchor": "center",
          "xref": "paper",
          "y": 1,
          "yanchor": "bottom",
          "yref": "paper"
         }
        ],
        "height": 1120,
        "template": {
         "data": {
          "bar": [
           {
            "error_x": {
             "color": "#2a3f5f"
            },
            "error_y": {
             "color": "#2a3f5f"
            },
            "marker": {
             "line": {
              "color": "#E5ECF6",
              "width": 0.5
             },
             "pattern": {
              "fillmode": "overlay",
              "size": 10,
              "solidity": 0.2
             }
            },
            "type": "bar"
           }
          ],
          "barpolar": [
           {
            "marker": {
             "line": {
              "color": "#E5ECF6",
              "width": 0.5
             },
             "pattern": {
              "fillmode": "overlay",
              "size": 10,
              "solidity": 0.2
             }
            },
            "type": "barpolar"
           }
          ],
          "carpet": [
           {
            "aaxis": {
             "endlinecolor": "#2a3f5f",
             "gridcolor": "white",
             "linecolor": "white",
             "minorgridcolor": "white",
             "startlinecolor": "#2a3f5f"
            },
            "baxis": {
             "endlinecolor": "#2a3f5f",
             "gridcolor": "white",
             "linecolor": "white",
             "minorgridcolor": "white",
             "startlinecolor": "#2a3f5f"
            },
            "type": "carpet"
           }
          ],
          "choropleth": [
           {
            "colorbar": {
             "outlinewidth": 0,
             "ticks": ""
            },
            "type": "choropleth"
           }
          ],
          "contour": [
           {
            "colorbar": {
             "outlinewidth": 0,
             "ticks": ""
            },
            "colorscale": [
             [
              0,
              "#0d0887"
             ],
             [
              0.1111111111111111,
              "#46039f"
             ],
             [
              0.2222222222222222,
              "#7201a8"
             ],
             [
              0.3333333333333333,
              "#9c179e"
             ],
             [
              0.4444444444444444,
              "#bd3786"
             ],
             [
              0.5555555555555556,
              "#d8576b"
             ],
             [
              0.6666666666666666,
              "#ed7953"
             ],
             [
              0.7777777777777778,
              "#fb9f3a"
             ],
             [
              0.8888888888888888,
              "#fdca26"
             ],
             [
              1,
              "#f0f921"
             ]
            ],
            "type": "contour"
           }
          ],
          "contourcarpet": [
           {
            "colorbar": {
             "outlinewidth": 0,
             "ticks": ""
            },
            "type": "contourcarpet"
           }
          ],
          "heatmap": [
           {
            "colorbar": {
             "outlinewidth": 0,
             "ticks": ""
            },
            "colorscale": [
             [
              0,
              "#0d0887"
             ],
             [
              0.1111111111111111,
              "#46039f"
             ],
             [
              0.2222222222222222,
              "#7201a8"
             ],
             [
              0.3333333333333333,
              "#9c179e"
             ],
             [
              0.4444444444444444,
              "#bd3786"
             ],
             [
              0.5555555555555556,
              "#d8576b"
             ],
             [
              0.6666666666666666,
              "#ed7953"
             ],
             [
              0.7777777777777778,
              "#fb9f3a"
             ],
             [
              0.8888888888888888,
              "#fdca26"
             ],
             [
              1,
              "#f0f921"
             ]
            ],
            "type": "heatmap"
           }
          ],
          "heatmapgl": [
           {
            "colorbar": {
             "outlinewidth": 0,
             "ticks": ""
            },
            "colorscale": [
             [
              0,
              "#0d0887"
             ],
             [
              0.1111111111111111,
              "#46039f"
             ],
             [
              0.2222222222222222,
              "#7201a8"
             ],
             [
              0.3333333333333333,
              "#9c179e"
             ],
             [
              0.4444444444444444,
              "#bd3786"
             ],
             [
              0.5555555555555556,
              "#d8576b"
             ],
             [
              0.6666666666666666,
              "#ed7953"
             ],
             [
              0.7777777777777778,
              "#fb9f3a"
             ],
             [
              0.8888888888888888,
              "#fdca26"
             ],
             [
              1,
              "#f0f921"
             ]
            ],
            "type": "heatmapgl"
           }
          ],
          "histogram": [
           {
            "marker": {
             "pattern": {
              "fillmode": "overlay",
              "size": 10,
              "solidity": 0.2
             }
            },
            "type": "histogram"
           }
          ],
          "histogram2d": [
           {
            "colorbar": {
             "outlinewidth": 0,
             "ticks": ""
            },
            "colorscale": [
             [
              0,
              "#0d0887"
             ],
             [
              0.1111111111111111,
              "#46039f"
             ],
             [
              0.2222222222222222,
              "#7201a8"
             ],
             [
              0.3333333333333333,
              "#9c179e"
             ],
             [
              0.4444444444444444,
              "#bd3786"
             ],
             [
              0.5555555555555556,
              "#d8576b"
             ],
             [
              0.6666666666666666,
              "#ed7953"
             ],
             [
              0.7777777777777778,
              "#fb9f3a"
             ],
             [
              0.8888888888888888,
              "#fdca26"
             ],
             [
              1,
              "#f0f921"
             ]
            ],
            "type": "histogram2d"
           }
          ],
          "histogram2dcontour": [
           {
            "colorbar": {
             "outlinewidth": 0,
             "ticks": ""
            },
            "colorscale": [
             [
              0,
              "#0d0887"
             ],
             [
              0.1111111111111111,
              "#46039f"
             ],
             [
              0.2222222222222222,
              "#7201a8"
             ],
             [
              0.3333333333333333,
              "#9c179e"
             ],
             [
              0.4444444444444444,
              "#bd3786"
             ],
             [
              0.5555555555555556,
              "#d8576b"
             ],
             [
              0.6666666666666666,
              "#ed7953"
             ],
             [
              0.7777777777777778,
              "#fb9f3a"
             ],
             [
              0.8888888888888888,
              "#fdca26"
             ],
             [
              1,
              "#f0f921"
             ]
            ],
            "type": "histogram2dcontour"
           }
          ],
          "mesh3d": [
           {
            "colorbar": {
             "outlinewidth": 0,
             "ticks": ""
            },
            "type": "mesh3d"
           }
          ],
          "parcoords": [
           {
            "line": {
             "colorbar": {
              "outlinewidth": 0,
              "ticks": ""
             }
            },
            "type": "parcoords"
           }
          ],
          "pie": [
           {
            "automargin": true,
            "type": "pie"
           }
          ],
          "scatter": [
           {
            "fillpattern": {
             "fillmode": "overlay",
             "size": 10,
             "solidity": 0.2
            },
            "type": "scatter"
           }
          ],
          "scatter3d": [
           {
            "line": {
             "colorbar": {
              "outlinewidth": 0,
              "ticks": ""
             }
            },
            "marker": {
             "colorbar": {
              "outlinewidth": 0,
              "ticks": ""
             }
            },
            "type": "scatter3d"
           }
          ],
          "scattercarpet": [
           {
            "marker": {
             "colorbar": {
              "outlinewidth": 0,
              "ticks": ""
             }
            },
            "type": "scattercarpet"
           }
          ],
          "scattergeo": [
           {
            "marker": {
             "colorbar": {
              "outlinewidth": 0,
              "ticks": ""
             }
            },
            "type": "scattergeo"
           }
          ],
          "scattergl": [
           {
            "marker": {
             "colorbar": {
              "outlinewidth": 0,
              "ticks": ""
             }
            },
            "type": "scattergl"
           }
          ],
          "scattermapbox": [
           {
            "marker": {
             "colorbar": {
              "outlinewidth": 0,
              "ticks": ""
             }
            },
            "type": "scattermapbox"
           }
          ],
          "scatterpolar": [
           {
            "marker": {
             "colorbar": {
              "outlinewidth": 0,
              "ticks": ""
             }
            },
            "type": "scatterpolar"
           }
          ],
          "scatterpolargl": [
           {
            "marker": {
             "colorbar": {
              "outlinewidth": 0,
              "ticks": ""
             }
            },
            "type": "scatterpolargl"
           }
          ],
          "scatterternary": [
           {
            "marker": {
             "colorbar": {
              "outlinewidth": 0,
              "ticks": ""
             }
            },
            "type": "scatterternary"
           }
          ],
          "surface": [
           {
            "colorbar": {
             "outlinewidth": 0,
             "ticks": ""
            },
            "colorscale": [
             [
              0,
              "#0d0887"
             ],
             [
              0.1111111111111111,
              "#46039f"
             ],
             [
              0.2222222222222222,
              "#7201a8"
             ],
             [
              0.3333333333333333,
              "#9c179e"
             ],
             [
              0.4444444444444444,
              "#bd3786"
             ],
             [
              0.5555555555555556,
              "#d8576b"
             ],
             [
              0.6666666666666666,
              "#ed7953"
             ],
             [
              0.7777777777777778,
              "#fb9f3a"
             ],
             [
              0.8888888888888888,
              "#fdca26"
             ],
             [
              1,
              "#f0f921"
             ]
            ],
            "type": "surface"
           }
          ],
          "table": [
           {
            "cells": {
             "fill": {
              "color": "#EBF0F8"
             },
             "line": {
              "color": "white"
             }
            },
            "header": {
             "fill": {
              "color": "#C8D4E3"
             },
             "line": {
              "color": "white"
             }
            },
            "type": "table"
           }
          ]
         },
         "layout": {
          "annotationdefaults": {
           "arrowcolor": "#2a3f5f",
           "arrowhead": 0,
           "arrowwidth": 1
          },
          "autotypenumbers": "strict",
          "coloraxis": {
           "colorbar": {
            "outlinewidth": 0,
            "ticks": ""
           }
          },
          "colorscale": {
           "diverging": [
            [
             0,
             "#8e0152"
            ],
            [
             0.1,
             "#c51b7d"
            ],
            [
             0.2,
             "#de77ae"
            ],
            [
             0.3,
             "#f1b6da"
            ],
            [
             0.4,
             "#fde0ef"
            ],
            [
             0.5,
             "#f7f7f7"
            ],
            [
             0.6,
             "#e6f5d0"
            ],
            [
             0.7,
             "#b8e186"
            ],
            [
             0.8,
             "#7fbc41"
            ],
            [
             0.9,
             "#4d9221"
            ],
            [
             1,
             "#276419"
            ]
           ],
           "sequential": [
            [
             0,
             "#0d0887"
            ],
            [
             0.1111111111111111,
             "#46039f"
            ],
            [
             0.2222222222222222,
             "#7201a8"
            ],
            [
             0.3333333333333333,
             "#9c179e"
            ],
            [
             0.4444444444444444,
             "#bd3786"
            ],
            [
             0.5555555555555556,
             "#d8576b"
            ],
            [
             0.6666666666666666,
             "#ed7953"
            ],
            [
             0.7777777777777778,
             "#fb9f3a"
            ],
            [
             0.8888888888888888,
             "#fdca26"
            ],
            [
             1,
             "#f0f921"
            ]
           ],
           "sequentialminus": [
            [
             0,
             "#0d0887"
            ],
            [
             0.1111111111111111,
             "#46039f"
            ],
            [
             0.2222222222222222,
             "#7201a8"
            ],
            [
             0.3333333333333333,
             "#9c179e"
            ],
            [
             0.4444444444444444,
             "#bd3786"
            ],
            [
             0.5555555555555556,
             "#d8576b"
            ],
            [
             0.6666666666666666,
             "#ed7953"
            ],
            [
             0.7777777777777778,
             "#fb9f3a"
            ],
            [
             0.8888888888888888,
             "#fdca26"
            ],
            [
             1,
             "#f0f921"
            ]
           ]
          },
          "colorway": [
           "#636efa",
           "#EF553B",
           "#00cc96",
           "#ab63fa",
           "#FFA15A",
           "#19d3f3",
           "#FF6692",
           "#B6E880",
           "#FF97FF",
           "#FECB52"
          ],
          "font": {
           "color": "#2a3f5f"
          },
          "geo": {
           "bgcolor": "white",
           "lakecolor": "white",
           "landcolor": "#E5ECF6",
           "showlakes": true,
           "showland": true,
           "subunitcolor": "white"
          },
          "hoverlabel": {
           "align": "left"
          },
          "hovermode": "closest",
          "mapbox": {
           "style": "light"
          },
          "paper_bgcolor": "white",
          "plot_bgcolor": "#E5ECF6",
          "polar": {
           "angularaxis": {
            "gridcolor": "white",
            "linecolor": "white",
            "ticks": ""
           },
           "bgcolor": "#E5ECF6",
           "radialaxis": {
            "gridcolor": "white",
            "linecolor": "white",
            "ticks": ""
           }
          },
          "scene": {
           "xaxis": {
            "backgroundcolor": "#E5ECF6",
            "gridcolor": "white",
            "gridwidth": 2,
            "linecolor": "white",
            "showbackground": true,
            "ticks": "",
            "zerolinecolor": "white"
           },
           "yaxis": {
            "backgroundcolor": "#E5ECF6",
            "gridcolor": "white",
            "gridwidth": 2,
            "linecolor": "white",
            "showbackground": true,
            "ticks": "",
            "zerolinecolor": "white"
           },
           "zaxis": {
            "backgroundcolor": "#E5ECF6",
            "gridcolor": "white",
            "gridwidth": 2,
            "linecolor": "white",
            "showbackground": true,
            "ticks": "",
            "zerolinecolor": "white"
           }
          },
          "shapedefaults": {
           "line": {
            "color": "#2a3f5f"
           }
          },
          "ternary": {
           "aaxis": {
            "gridcolor": "white",
            "linecolor": "white",
            "ticks": ""
           },
           "baxis": {
            "gridcolor": "white",
            "linecolor": "white",
            "ticks": ""
           },
           "bgcolor": "#E5ECF6",
           "caxis": {
            "gridcolor": "white",
            "linecolor": "white",
            "ticks": ""
           }
          },
          "title": {
           "x": 0.05
          },
          "xaxis": {
           "automargin": true,
           "gridcolor": "white",
           "linecolor": "white",
           "ticks": "",
           "title": {
            "standoff": 15
           },
           "zerolinecolor": "white",
           "zerolinewidth": 2
          },
          "yaxis": {
           "automargin": true,
           "gridcolor": "white",
           "linecolor": "white",
           "ticks": "",
           "title": {
            "standoff": 15
           },
           "zerolinecolor": "white",
           "zerolinewidth": 2
          }
         }
        },
        "title": {
         "text": "Heatmap of Variables with Correlations > 0.3"
        },
        "updatemenus": [
         {
          "buttons": [
           {
            "args": [
             {
              "y": [
               [
                "Hispanic",
                "White",
                "Black",
                "Native",
                "Asian",
                "Pacific",
                "Income",
                "Alaska",
                "California",
                "District of Columbia",
                "Hawaii",
                "Mississippi",
                "New Mexico",
                "Puerto Rico",
                "South Dakota",
                "Texas"
               ]
              ],
              "z": [
               [
                [
                 1,
                 -0.7093924338947555,
                 -0.2164884590257062,
                 0.0001860211182623878,
                 0.04691762016272142,
                 -0.030385756203675684,
                 -0.23225013080459853,
                 -0.061307226168838394,
                 0.22420918232867526,
                 -0.031645547019638454,
                 -0.03146357352792556,
                 -0.08924015714676593,
                 0.2969075922679719,
                 0.7846875368043553,
                 -0.08560068731250825,
                 0.23112417501376467
                ],
                [
                 -0.7093924338947555,
                 1,
                 -0.34126413367824265,
                 0.02720510467684999,
                 -0.4248267124684031,
                 -0.2508920348560026,
                 -0.013260071313333626,
                 -0.04931584188094792,
                 -0.20997029279125434,
                 -0.2652559230706831,
                 -0.3279181472778447,
                 -0.10848389001707813,
                 -0.2062431716488209,
                 -0.516293061684999,
                 0.11832696117142129,
                 -0.17526147715234294
                ],
                [
                 -0.2164884590257062,
                 -0.34126413367824265,
                 1,
                 -0.30985599911234474,
                 -0.10237251475197429,
                 -0.19134390398741008,
                 0.00867473786028174,
                 -0.10958076016705662,
                 -0.07548398078813832,
                 0.47994412146208654,
                 -0.11921942571586742,
                 0.3559667858405073,
                 -0.12271344197731135,
                 -0.14283415631045399,
                 -0.12680987483555595,
                 -0.003555439130137295
                ],
                [
                 0.0001860211182623878,
                 0.02720510467684999,
                 -0.30985599911234474,
                 1,
                 -0.08941997469916169,
                 0.011355938517002282,
                 0.0037623178987130617,
                 0.682676285481539,
                 -0.05233595990024923,
                 -0.061995069507894816,
                 -0.06475481511007926,
                 -0.05325587510097743,
                 0.3542665588215909,
                 -0.07119422151517624,
                 0.3620858380277802,
                 -0.059235323905710346
                ],
                [
                 0.04691762016272142,
                 -0.4248267124684031,
                 -0.10237251475197429,
                 -0.08941997469916169,
                 1,
                 0.7895419505680804,
                 0.489754104778464,
                 0.0486997450760739,
                 0.2537624413442568,
                 -0.007152857723286434,
                 0.8889171611012334,
                 -0.07460769202203082,
                 -0.0651640152202066,
                 -0.096193238997629,
                 -0.07083022130130112,
                 0.0006719030553678789
                ],
                [
                 -0.030385756203675684,
                 -0.2508920348560026,
                 -0.19134390398741008,
                 0.011355938517002282,
                 0.7895419505680804,
                 1,
                 0.27122930990217553,
                 0.06266023406583869,
                 -0.012444932287157692,
                 -0.04629514810822648,
                 0.8771810522603062,
                 -0.04735296735263489,
                 -0.045237328863818094,
                 -0.04946860584145169,
                 -0.04523732886381811,
                 -0.042063871130592886
                ],
                [
                 -0.23225013080459853,
                 -0.013260071313333626,
                 0.00867473786028174,
                 0.0037623178987130617,
                 0.489754104778464,
                 0.27122930990217553,
                 1,
                 0.17955801232184154,
                 0.1411139796763958,
                 0.24315472106600441,
                 0.2157591985340019,
                 -0.2116657208689332,
                 -0.10690686409529022,
                 -0.43797063048602175,
                 -0.05122524962043202,
                 -0.0005990286732643837
                ],
                [
                 -0.061307226168838394,
                 -0.04931584188094792,
                 -0.10958076016705662,
                 0.682676285481539,
                 0.0486997450760739,
                 0.06266023406583869,
                 0.17955801232184154,
                 1,
                 -0.01999999999999996,
                 -0.02000000000000002,
                 -0.020000000000000018,
                 -0.02000000000000001,
                 -0.020000000000000014,
                 -0.020000000000000014,
                 -0.02000000000000001,
                 -0.020000000000000014
                ],
                [
                 0.22420918232867526,
                 -0.20997029279125434,
                 -0.07548398078813832,
                 -0.05233595990024923,
                 0.2537624413442568,
                 -0.012444932287157692,
                 0.1411139796763958,
                 -0.01999999999999996,
                 1,
                 -0.02000000000000002,
                 -0.020000000000000018,
                 -0.02000000000000001,
                 -0.020000000000000014,
                 -0.020000000000000014,
                 -0.02000000000000001,
                 -0.020000000000000014
                ],
                [
                 -0.031645547019638454,
                 -0.2652559230706831,
                 0.47994412146208654,
                 -0.061995069507894816,
                 -0.007152857723286434,
                 -0.04629514810822648,
                 0.24315472106600441,
                 -0.02000000000000002,
                 -0.02000000000000002,
                 1,
                 -0.02,
                 -0.02,
                 -0.020000000000000004,
                 -0.020000000000000004,
                 -0.02,
                 -0.02
                ],
                [
                 -0.03146357352792556,
                 -0.3279181472778447,
                 -0.11921942571586742,
                 -0.06475481511007926,
                 0.8889171611012334,
                 0.8771810522603062,
                 0.2157591985340019,
                 -0.020000000000000018,
                 -0.020000000000000018,
                 -0.02,
                 1,
                 -0.019999999999999997,
                 -0.020000000000000004,
                 -0.02,
                 -0.019999999999999997,
                 -0.02
                ],
                [
                 -0.08924015714676593,
                 -0.10848389001707813,
                 0.3559667858405073,
                 -0.05325587510097743,
                 -0.07460769202203082,
                 -0.04735296735263489,
                 -0.2116657208689332,
                 -0.02000000000000001,
                 -0.02000000000000001,
                 -0.02,
                 -0.019999999999999997,
                 1,
                 -0.020000000000000007,
                 -0.020000000000000007,
                 -0.020000000000000004,
                 -0.020000000000000007
                ],
                [
                 0.2969075922679719,
                 -0.2062431716488209,
                 -0.12271344197731135,
                 0.3542665588215909,
                 -0.0651640152202066,
                 -0.045237328863818094,
                 -0.10690686409529022,
                 -0.020000000000000014,
                 -0.020000000000000014,
                 -0.020000000000000004,
                 -0.020000000000000004,
                 -0.020000000000000007,
                 1,
                 -0.02,
                 -0.019999999999999997,
                 -0.02
                ],
                [
                 0.7846875368043553,
                 -0.516293061684999,
                 -0.14283415631045399,
                 -0.07119422151517624,
                 -0.096193238997629,
                 -0.04946860584145169,
                 -0.43797063048602175,
                 -0.020000000000000014,
                 -0.020000000000000014,
                 -0.020000000000000004,
                 -0.02,
                 -0.020000000000000007,
                 -0.02,
                 1,
                 -0.02,
                 -0.02
                ],
                [
                 -0.08560068731250825,
                 0.11832696117142129,
                 -0.12680987483555595,
                 0.3620858380277802,
                 -0.07083022130130112,
                 -0.04523732886381811,
                 -0.05122524962043202,
                 -0.02000000000000001,
                 -0.02000000000000001,
                 -0.02,
                 -0.019999999999999997,
                 -0.020000000000000004,
                 -0.019999999999999997,
                 -0.02,
                 1,
                 -0.019999999999999997
                ],
                [
                 0.23112417501376467,
                 -0.17526147715234294,
                 -0.003555439130137295,
                 -0.059235323905710346,
                 0.0006719030553678789,
                 -0.042063871130592886,
                 -0.0005990286732643837,
                 -0.020000000000000014,
                 -0.020000000000000014,
                 -0.02,
                 -0.02,
                 -0.020000000000000007,
                 -0.02,
                 -0.02,
                 -0.019999999999999997,
                 1
                ]
               ]
              ]
             },
             {
              "layout": {
               "height": 1120,
               "width": 1120
              }
             }
            ],
            "label": "Reset",
            "method": "update"
           },
           {
            "args": [
             {
              "y": [
               "Hispanic"
              ],
              "z": [
               [
                [
                 1,
                 -0.7093924338947555,
                 -0.2164884590257062,
                 0.0001860211182623878,
                 0.04691762016272142,
                 -0.030385756203675684,
                 -0.23225013080459853,
                 -0.061307226168838394,
                 0.22420918232867526,
                 -0.031645547019638454,
                 -0.03146357352792556,
                 -0.08924015714676593,
                 0.2969075922679719,
                 0.7846875368043553,
                 -0.08560068731250825,
                 0.23112417501376467
                ]
               ]
              ]
             },
             {
              "layout": {
               "height": 70,
               "width": 1120
              }
             }
            ],
            "label": "Hispanic",
            "method": "update"
           },
           {
            "args": [
             {
              "y": [
               "White"
              ],
              "z": [
               [
                [
                 -0.7093924338947555,
                 1,
                 -0.34126413367824265,
                 0.02720510467684999,
                 -0.4248267124684031,
                 -0.2508920348560026,
                 -0.013260071313333626,
                 -0.04931584188094792,
                 -0.20997029279125434,
                 -0.2652559230706831,
                 -0.3279181472778447,
                 -0.10848389001707813,
                 -0.2062431716488209,
                 -0.516293061684999,
                 0.11832696117142129,
                 -0.17526147715234294
                ]
               ]
              ]
             },
             {
              "layout": {
               "height": 70,
               "width": 1120
              }
             }
            ],
            "label": "White",
            "method": "update"
           },
           {
            "args": [
             {
              "y": [
               "Black"
              ],
              "z": [
               [
                [
                 -0.2164884590257062,
                 -0.34126413367824265,
                 1,
                 -0.30985599911234474,
                 -0.10237251475197429,
                 -0.19134390398741008,
                 0.00867473786028174,
                 -0.10958076016705662,
                 -0.07548398078813832,
                 0.47994412146208654,
                 -0.11921942571586742,
                 0.3559667858405073,
                 -0.12271344197731135,
                 -0.14283415631045399,
                 -0.12680987483555595,
                 -0.003555439130137295
                ]
               ]
              ]
             },
             {
              "layout": {
               "height": 70,
               "width": 1120
              }
             }
            ],
            "label": "Black",
            "method": "update"
           },
           {
            "args": [
             {
              "y": [
               "Native"
              ],
              "z": [
               [
                [
                 0.0001860211182623878,
                 0.02720510467684999,
                 -0.30985599911234474,
                 1,
                 -0.08941997469916169,
                 0.011355938517002282,
                 0.0037623178987130617,
                 0.682676285481539,
                 -0.05233595990024923,
                 -0.061995069507894816,
                 -0.06475481511007926,
                 -0.05325587510097743,
                 0.3542665588215909,
                 -0.07119422151517624,
                 0.3620858380277802,
                 -0.059235323905710346
                ]
               ]
              ]
             },
             {
              "layout": {
               "height": 70,
               "width": 1120
              }
             }
            ],
            "label": "Native",
            "method": "update"
           },
           {
            "args": [
             {
              "y": [
               "Asian"
              ],
              "z": [
               [
                [
                 0.04691762016272142,
                 -0.4248267124684031,
                 -0.10237251475197429,
                 -0.08941997469916169,
                 1,
                 0.7895419505680804,
                 0.489754104778464,
                 0.0486997450760739,
                 0.2537624413442568,
                 -0.007152857723286434,
                 0.8889171611012334,
                 -0.07460769202203082,
                 -0.0651640152202066,
                 -0.096193238997629,
                 -0.07083022130130112,
                 0.0006719030553678789
                ]
               ]
              ]
             },
             {
              "layout": {
               "height": 70,
               "width": 1120
              }
             }
            ],
            "label": "Asian",
            "method": "update"
           },
           {
            "args": [
             {
              "y": [
               "Pacific"
              ],
              "z": [
               [
                [
                 -0.030385756203675684,
                 -0.2508920348560026,
                 -0.19134390398741008,
                 0.011355938517002282,
                 0.7895419505680804,
                 1,
                 0.27122930990217553,
                 0.06266023406583869,
                 -0.012444932287157692,
                 -0.04629514810822648,
                 0.8771810522603062,
                 -0.04735296735263489,
                 -0.045237328863818094,
                 -0.04946860584145169,
                 -0.04523732886381811,
                 -0.042063871130592886
                ]
               ]
              ]
             },
             {
              "layout": {
               "height": 70,
               "width": 1120
              }
             }
            ],
            "label": "Pacific",
            "method": "update"
           },
           {
            "args": [
             {
              "y": [
               "Income"
              ],
              "z": [
               [
                [
                 -0.23225013080459853,
                 -0.013260071313333626,
                 0.00867473786028174,
                 0.0037623178987130617,
                 0.489754104778464,
                 0.27122930990217553,
                 1,
                 0.17955801232184154,
                 0.1411139796763958,
                 0.24315472106600441,
                 0.2157591985340019,
                 -0.2116657208689332,
                 -0.10690686409529022,
                 -0.43797063048602175,
                 -0.05122524962043202,
                 -0.0005990286732643837
                ]
               ]
              ]
             },
             {
              "layout": {
               "height": 70,
               "width": 1120
              }
             }
            ],
            "label": "Income",
            "method": "update"
           },
           {
            "args": [
             {
              "y": [
               "Alaska"
              ],
              "z": [
               [
                [
                 -0.061307226168838394,
                 -0.04931584188094792,
                 -0.10958076016705662,
                 0.682676285481539,
                 0.0486997450760739,
                 0.06266023406583869,
                 0.17955801232184154,
                 1,
                 -0.01999999999999996,
                 -0.02000000000000002,
                 -0.020000000000000018,
                 -0.02000000000000001,
                 -0.020000000000000014,
                 -0.020000000000000014,
                 -0.02000000000000001,
                 -0.020000000000000014
                ]
               ]
              ]
             },
             {
              "layout": {
               "height": 70,
               "width": 1120
              }
             }
            ],
            "label": "Alaska",
            "method": "update"
           },
           {
            "args": [
             {
              "y": [
               "California"
              ],
              "z": [
               [
                [
                 0.22420918232867526,
                 -0.20997029279125434,
                 -0.07548398078813832,
                 -0.05233595990024923,
                 0.2537624413442568,
                 -0.012444932287157692,
                 0.1411139796763958,
                 -0.01999999999999996,
                 1,
                 -0.02000000000000002,
                 -0.020000000000000018,
                 -0.02000000000000001,
                 -0.020000000000000014,
                 -0.020000000000000014,
                 -0.02000000000000001,
                 -0.020000000000000014
                ]
               ]
              ]
             },
             {
              "layout": {
               "height": 70,
               "width": 1120
              }
             }
            ],
            "label": "California",
            "method": "update"
           },
           {
            "args": [
             {
              "y": [
               "District of Columbia"
              ],
              "z": [
               [
                [
                 -0.031645547019638454,
                 -0.2652559230706831,
                 0.47994412146208654,
                 -0.061995069507894816,
                 -0.007152857723286434,
                 -0.04629514810822648,
                 0.24315472106600441,
                 -0.02000000000000002,
                 -0.02000000000000002,
                 1,
                 -0.02,
                 -0.02,
                 -0.020000000000000004,
                 -0.020000000000000004,
                 -0.02,
                 -0.02
                ]
               ]
              ]
             },
             {
              "layout": {
               "height": 70,
               "width": 1120
              }
             }
            ],
            "label": "District of Columbia",
            "method": "update"
           },
           {
            "args": [
             {
              "y": [
               "Hawaii"
              ],
              "z": [
               [
                [
                 -0.03146357352792556,
                 -0.3279181472778447,
                 -0.11921942571586742,
                 -0.06475481511007926,
                 0.8889171611012334,
                 0.8771810522603062,
                 0.2157591985340019,
                 -0.020000000000000018,
                 -0.020000000000000018,
                 -0.02,
                 1,
                 -0.019999999999999997,
                 -0.020000000000000004,
                 -0.02,
                 -0.019999999999999997,
                 -0.02
                ]
               ]
              ]
             },
             {
              "layout": {
               "height": 70,
               "width": 1120
              }
             }
            ],
            "label": "Hawaii",
            "method": "update"
           },
           {
            "args": [
             {
              "y": [
               "Mississippi"
              ],
              "z": [
               [
                [
                 -0.08924015714676593,
                 -0.10848389001707813,
                 0.3559667858405073,
                 -0.05325587510097743,
                 -0.07460769202203082,
                 -0.04735296735263489,
                 -0.2116657208689332,
                 -0.02000000000000001,
                 -0.02000000000000001,
                 -0.02,
                 -0.019999999999999997,
                 1,
                 -0.020000000000000007,
                 -0.020000000000000007,
                 -0.020000000000000004,
                 -0.020000000000000007
                ]
               ]
              ]
             },
             {
              "layout": {
               "height": 70,
               "width": 1120
              }
             }
            ],
            "label": "Mississippi",
            "method": "update"
           },
           {
            "args": [
             {
              "y": [
               "New Mexico"
              ],
              "z": [
               [
                [
                 0.2969075922679719,
                 -0.2062431716488209,
                 -0.12271344197731135,
                 0.3542665588215909,
                 -0.0651640152202066,
                 -0.045237328863818094,
                 -0.10690686409529022,
                 -0.020000000000000014,
                 -0.020000000000000014,
                 -0.020000000000000004,
                 -0.020000000000000004,
                 -0.020000000000000007,
                 1,
                 -0.02,
                 -0.019999999999999997,
                 -0.02
                ]
               ]
              ]
             },
             {
              "layout": {
               "height": 70,
               "width": 1120
              }
             }
            ],
            "label": "New Mexico",
            "method": "update"
           },
           {
            "args": [
             {
              "y": [
               "Puerto Rico"
              ],
              "z": [
               [
                [
                 0.7846875368043553,
                 -0.516293061684999,
                 -0.14283415631045399,
                 -0.07119422151517624,
                 -0.096193238997629,
                 -0.04946860584145169,
                 -0.43797063048602175,
                 -0.020000000000000014,
                 -0.020000000000000014,
                 -0.020000000000000004,
                 -0.02,
                 -0.020000000000000007,
                 -0.02,
                 1,
                 -0.02,
                 -0.02
                ]
               ]
              ]
             },
             {
              "layout": {
               "height": 70,
               "width": 1120
              }
             }
            ],
            "label": "Puerto Rico",
            "method": "update"
           },
           {
            "args": [
             {
              "y": [
               "South Dakota"
              ],
              "z": [
               [
                [
                 -0.08560068731250825,
                 0.11832696117142129,
                 -0.12680987483555595,
                 0.3620858380277802,
                 -0.07083022130130112,
                 -0.04523732886381811,
                 -0.05122524962043202,
                 -0.02000000000000001,
                 -0.02000000000000001,
                 -0.02,
                 -0.019999999999999997,
                 -0.020000000000000004,
                 -0.019999999999999997,
                 -0.02,
                 1,
                 -0.019999999999999997
                ]
               ]
              ]
             },
             {
              "layout": {
               "height": 70,
               "width": 1120
              }
             }
            ],
            "label": "South Dakota",
            "method": "update"
           },
           {
            "args": [
             {
              "y": [
               "Texas"
              ],
              "z": [
               [
                [
                 0.23112417501376467,
                 -0.17526147715234294,
                 -0.003555439130137295,
                 -0.059235323905710346,
                 0.0006719030553678789,
                 -0.042063871130592886,
                 -0.0005990286732643837,
                 -0.020000000000000014,
                 -0.020000000000000014,
                 -0.02,
                 -0.02,
                 -0.020000000000000007,
                 -0.02,
                 -0.02,
                 -0.019999999999999997,
                 1
                ]
               ]
              ]
             },
             {
              "layout": {
               "height": 70,
               "width": 1120
              }
             }
            ],
            "label": "Texas",
            "method": "update"
           }
          ],
          "direction": "down",
          "showactive": true,
          "x": 0.8,
          "xanchor": "left",
          "y": 1.15,
          "yanchor": "top"
         }
        ],
        "width": 1120,
        "xaxis": {
         "anchor": "y",
         "domain": [
          0,
          1
         ],
         "side": "bottom"
        },
        "yaxis": {
         "anchor": "x",
         "autorange": "reversed",
         "domain": [
          0,
          1
         ],
         "side": "left"
        }
       }
      }
     },
     "metadata": {},
     "output_type": "display_data"
    }
   ],
   "source": [
    "create_corr_heatmap(us_census_numerical, threshold=0.3, columns=None, cell_size=70, ignoreone=True)"
   ]
  },
  {
   "cell_type": "code",
   "execution_count": null,
   "metadata": {},
   "outputs": [],
   "source": []
  }
 ],
 "metadata": {
  "kernelspec": {
   "display_name": "Python 3 (ipykernel)",
   "language": "python",
   "name": "python3"
  },
  "language_info": {
   "codemirror_mode": {
    "name": "ipython",
    "version": 3
   },
   "file_extension": ".py",
   "mimetype": "text/x-python",
   "name": "python",
   "nbconvert_exporter": "python",
   "pygments_lexer": "ipython3",
   "version": "3.12.1"
  }
 },
 "nbformat": 4,
 "nbformat_minor": 2
}
