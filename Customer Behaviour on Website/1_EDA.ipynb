{
 "cells": [
  {
   "cell_type": "markdown",
   "metadata": {
    "id": "k85D5bHguC80"
   },
   "source": [
    "## 0. Introduction"
   ]
  },
  {
   "cell_type": "markdown",
   "metadata": {},
   "source": [
    "### 0.1. Google Colab"
   ]
  },
  {
   "cell_type": "code",
   "execution_count": 67,
   "metadata": {
    "ExecuteTime": {
     "end_time": "2024-06-15T15:21:41.840496Z",
     "start_time": "2024-06-15T15:21:41.838456Z"
    },
    "colab": {
     "base_uri": "https://localhost:8080/"
    },
    "executionInfo": {
     "elapsed": 42073,
     "status": "ok",
     "timestamp": 1715188930417,
     "user": {
      "displayName": "Grzegorz",
      "userId": "16385384664201948728"
     },
     "user_tz": -120
    },
    "id": "zvcF_NV_tjpS",
    "outputId": "2bd3e5dc-fd2e-4e0a-fcf7-db08b3b9542d"
   },
   "outputs": [],
   "source": [
    "# Mounting a google drive for Google Colab\n",
    "# from google.colab import drive\n",
    "# drive.mount('/content/drive')"
   ]
  },
  {
   "cell_type": "markdown",
   "metadata": {},
   "source": [
    "### 0.2. Package installations"
   ]
  },
  {
   "cell_type": "code",
   "execution_count": 68,
   "metadata": {
    "ExecuteTime": {
     "end_time": "2024-06-15T15:21:46.174595Z",
     "start_time": "2024-06-15T15:21:42.139226Z"
    },
    "executionInfo": {
     "elapsed": 9424,
     "status": "ok",
     "timestamp": 1715189073624,
     "user": {
      "displayName": "Grzegorz",
      "userId": "16385384664201948728"
     },
     "user_tz": -120
    },
    "id": "CmdqJ8eKuQtM"
   },
   "outputs": [],
   "source": [
    "# Import dependencies\n",
    "import time\n",
    "import random\n",
    "\n",
    "# Standard Data manipulation\n",
    "import numpy as np\n",
    "import pandas as pd\n",
    "\n",
    "\n",
    "# Plotting\n",
    "import matplotlib.pyplot as plt\n",
    "import seaborn as sns\n",
    "import plotly.graph_objects as go\n",
    "\n",
    "# Scikit-learn\n",
    "import sklearn\n",
    "sklearn.set_config(enable_metadata_routing=True)\n"
   ]
  },
  {
   "cell_type": "code",
   "execution_count": 69,
   "metadata": {
    "ExecuteTime": {
     "end_time": "2024-06-15T15:21:46.311394Z",
     "start_time": "2024-06-15T15:21:46.309064Z"
    },
    "executionInfo": {
     "elapsed": 9,
     "status": "ok",
     "timestamp": 1715189074079,
     "user": {
      "displayName": "Grzegorz",
      "userId": "16385384664201948728"
     },
     "user_tz": -120
    },
    "id": "l7N5nYIMwXh-"
   },
   "outputs": [],
   "source": [
    "# import warnings filter\n",
    "from warnings import simplefilter\n",
    "# ignore all future warnings\n",
    "simplefilter(action='ignore', category=FutureWarning)"
   ]
  },
  {
   "cell_type": "markdown",
   "metadata": {
    "id": "zkrfCxU1zmGc"
   },
   "source": [
    "## 1. Data import"
   ]
  },
  {
   "cell_type": "code",
   "execution_count": 70,
   "metadata": {
    "ExecuteTime": {
     "end_time": "2024-06-15T15:21:47.299015Z",
     "start_time": "2024-06-15T15:21:46.312631Z"
    },
    "executionInfo": {
     "elapsed": 4630,
     "status": "ok",
     "timestamp": 1715189078701,
     "user": {
      "displayName": "Grzegorz",
      "userId": "16385384664201948728"
     },
     "user_tz": -120
    },
    "id": "26DuEeBnzi_h"
   },
   "outputs": [],
   "source": [
    "# Importing the data for Google Colab\n",
    "# test_data = pd.read_csv('/content/drive/MyDrive/_Temp_DataScience/ISA/Projekt ML/testing_sample.csv')\n",
    "# train_data = pd.read_csv('/content/drive/MyDrive/_Temp_DataScience/ISA/Projekt ML/training_sample.csv')\n",
    "\n",
    "# Importing the data for local machine\n",
    "test_data = pd.read_csv('testing_sample.csv')\n",
    "train_data = pd.read_csv('training_sample.csv')"
   ]
  },
  {
   "cell_type": "code",
   "execution_count": 71,
   "metadata": {
    "ExecuteTime": {
     "end_time": "2024-06-15T15:21:47.332683Z",
     "start_time": "2024-06-15T15:21:47.300257Z"
    },
    "colab": {
     "base_uri": "https://localhost:8080/"
    },
    "executionInfo": {
     "elapsed": 19,
     "status": "ok",
     "timestamp": 1715189078701,
     "user": {
      "displayName": "Grzegorz",
      "userId": "16385384664201948728"
     },
     "user_tz": -120
    },
    "id": "XavJCIoWm3d4",
    "outputId": "cfdffc27-1c24-43c1-9d2b-4ac8d0dd10fc"
   },
   "outputs": [
    {
     "name": "stdout",
     "output_type": "stream",
     "text": [
      "<class 'pandas.core.frame.DataFrame'>\n",
      "RangeIndex: 455401 entries, 0 to 455400\n",
      "Data columns (total 25 columns):\n",
      " #   Column                   Non-Null Count   Dtype \n",
      "---  ------                   --------------   ----- \n",
      " 0   UserID                   455401 non-null  object\n",
      " 1   basket_icon_click        455401 non-null  int64 \n",
      " 2   basket_add_list          455401 non-null  int64 \n",
      " 3   basket_add_detail        455401 non-null  int64 \n",
      " 4   sort_by                  455401 non-null  int64 \n",
      " 5   image_picker             455401 non-null  int64 \n",
      " 6   account_page_click       455401 non-null  int64 \n",
      " 7   promo_banner_click       455401 non-null  int64 \n",
      " 8   detail_wishlist_add      455401 non-null  int64 \n",
      " 9   list_size_dropdown       455401 non-null  int64 \n",
      " 10  closed_minibasket_click  455401 non-null  int64 \n",
      " 11  checked_delivery_detail  455401 non-null  int64 \n",
      " 12  checked_returns_detail   455401 non-null  int64 \n",
      " 13  sign_in                  455401 non-null  int64 \n",
      " 14  saw_checkout             455401 non-null  int64 \n",
      " 15  saw_sizecharts           455401 non-null  int64 \n",
      " 16  saw_delivery             455401 non-null  int64 \n",
      " 17  saw_account_upgrade      455401 non-null  int64 \n",
      " 18  saw_homepage             455401 non-null  int64 \n",
      " 19  device_mobile            455401 non-null  int64 \n",
      " 20  device_computer          455401 non-null  int64 \n",
      " 21  device_tablet            455401 non-null  int64 \n",
      " 22  returning_user           455401 non-null  int64 \n",
      " 23  loc_uk                   455401 non-null  int64 \n",
      " 24  ordered                  455401 non-null  int64 \n",
      "dtypes: int64(24), object(1)\n",
      "memory usage: 86.9+ MB\n"
     ]
    }
   ],
   "source": [
    "train_data.info()"
   ]
  },
  {
   "cell_type": "markdown",
   "metadata": {
    "id": "LXqPvuzX0lxm"
   },
   "source": [
    "## 2. Simple EDA\n",
    "Simple Exploratory Data Analysis will be performed."
   ]
  },
  {
   "cell_type": "markdown",
   "metadata": {
    "id": "MBeLkUca2Y2n"
   },
   "source": [
    "| Column Name              | Description                                                                                                                                           |\n",
    "|--------------------------|-------------------------------------------------------------------------------------------------------------------------------------------------------|\n",
    "| UserID                   | A unique identifier for the visitor                                                                                                                   |\n",
    "| basket_icon_click        | Indicates whether the visitor clicked on the shopping basket icon                                                                                     |\n",
    "| basket_add_list          | Indicates whether the visitor added a product to their shopping cart on the 'list' page                                                               |\n",
    "| basket_add_detail        | Indicates whether the visitor added a product to their shopping cart on the 'detail' page                                                             |\n",
    "| sort_by                  | Indicates whether the visitor sorted products on a page                                                                                               |\n",
    "| image_picker             | Indicates whether the visitor used the image picker                                                                                                   |\n",
    "| account_page_click       | Indicates whether the visitor visited their account page                                                                                              |\n",
    "| promo_banner_click       | Indicates whether the visitor clicked on a promo banner                                                                                               |\n",
    "| detail_wishlist_add      | Indicates whether the visitor added a product to their wishlist from the 'detail' page                                                                |\n",
    "| list_size_dropdown       | Indicates whether the visitor interacted with a product dropdown                                                                                      |\n",
    "| closed_minibasket_click  | Indicates whether the visitor closed their mini shopping basket                                                                                       |\n",
    "| checked_delivery_detail  | Indicates whether the visitor viewed the delivery FAQ area on a product page                                                                          |\n",
    "| checked_returns_detail   | Indicates whether the visitor checked the returns FAQ area on a product page                                                                          |\n",
    "| sign_in                  | Indicates whether the visitor signed in to the website                                                                                               |\n",
    "| saw_checkout             | Indicates whether the visitor viewed the checkout                                                                                                     |\n",
    "| saw_sizecharts           | Indicates whether the visitor viewed a product size chart                                                                                             |\n",
    "| saw_delivery             | Indicates whether the visitor viewed the delivery FAQ page                                                                                            |\n",
    "| saw_account_upgrade      | Indicates whether the visitor viewed the account upgrade page                                                                                         |\n",
    "| saw_homepage             | Indicates whether the visitor viewed the website homepage                                                                                             |\n",
    "| device_mobile            | Indicates whether the visitor accessed the website from a mobile device                                                                               |\n",
    "| device_computer          | Indicates whether the visitor accessed the website from a desktop device                                                                              |\n",
    "| device_tablet            | Indicates whether the visitor accessed the website from a tablet device                                                                               |\n",
    "| returning_user           | Indicates whether the visitor is a new or returning user                                                                                              |\n",
    "| loc_uk                   | Indicates whether the visitor was located in the UK, based on their IP address                                                                        |\n",
    "| ordered                  | Indicates whether the customer placed an order                                                                                                        |\n"
   ]
  },
  {
   "cell_type": "markdown",
   "metadata": {},
   "source": [
    "```UserID``` Column will not be needed"
   ]
  },
  {
   "cell_type": "code",
   "execution_count": 72,
   "metadata": {
    "ExecuteTime": {
     "end_time": "2024-06-15T15:21:47.350811Z",
     "start_time": "2024-06-15T15:21:47.333653Z"
    }
   },
   "outputs": [],
   "source": [
    "test_data = test_data.drop(['UserID'], axis = 1)\n",
    "train_data = train_data.drop(['UserID'], axis = 1)"
   ]
  },
  {
   "cell_type": "code",
   "execution_count": 73,
   "metadata": {
    "ExecuteTime": {
     "end_time": "2024-06-15T15:21:47.471181Z",
     "start_time": "2024-06-15T15:21:47.351743Z"
    }
   },
   "outputs": [
    {
     "data": {
      "text/html": [
       "<div>\n",
       "<style scoped>\n",
       "    .dataframe tbody tr th:only-of-type {\n",
       "        vertical-align: middle;\n",
       "    }\n",
       "\n",
       "    .dataframe tbody tr th {\n",
       "        vertical-align: top;\n",
       "    }\n",
       "\n",
       "    .dataframe thead th {\n",
       "        text-align: right;\n",
       "    }\n",
       "</style>\n",
       "<table border=\"1\" class=\"dataframe\">\n",
       "  <thead>\n",
       "    <tr style=\"text-align: right;\">\n",
       "      <th></th>\n",
       "      <th>count</th>\n",
       "      <th>mean</th>\n",
       "      <th>std</th>\n",
       "      <th>min</th>\n",
       "      <th>25%</th>\n",
       "      <th>50%</th>\n",
       "      <th>75%</th>\n",
       "      <th>max</th>\n",
       "    </tr>\n",
       "  </thead>\n",
       "  <tbody>\n",
       "    <tr>\n",
       "      <th>basket_icon_click</th>\n",
       "      <td>455401.0</td>\n",
       "      <td>0.099150</td>\n",
       "      <td>0.298864</td>\n",
       "      <td>0.0</td>\n",
       "      <td>0.0</td>\n",
       "      <td>0.0</td>\n",
       "      <td>0.0</td>\n",
       "      <td>1.0</td>\n",
       "    </tr>\n",
       "    <tr>\n",
       "      <th>basket_add_list</th>\n",
       "      <td>455401.0</td>\n",
       "      <td>0.074521</td>\n",
       "      <td>0.262617</td>\n",
       "      <td>0.0</td>\n",
       "      <td>0.0</td>\n",
       "      <td>0.0</td>\n",
       "      <td>0.0</td>\n",
       "      <td>1.0</td>\n",
       "    </tr>\n",
       "    <tr>\n",
       "      <th>basket_add_detail</th>\n",
       "      <td>455401.0</td>\n",
       "      <td>0.112916</td>\n",
       "      <td>0.316490</td>\n",
       "      <td>0.0</td>\n",
       "      <td>0.0</td>\n",
       "      <td>0.0</td>\n",
       "      <td>0.0</td>\n",
       "      <td>1.0</td>\n",
       "    </tr>\n",
       "    <tr>\n",
       "      <th>sort_by</th>\n",
       "      <td>455401.0</td>\n",
       "      <td>0.036849</td>\n",
       "      <td>0.188391</td>\n",
       "      <td>0.0</td>\n",
       "      <td>0.0</td>\n",
       "      <td>0.0</td>\n",
       "      <td>0.0</td>\n",
       "      <td>1.0</td>\n",
       "    </tr>\n",
       "    <tr>\n",
       "      <th>image_picker</th>\n",
       "      <td>455401.0</td>\n",
       "      <td>0.026735</td>\n",
       "      <td>0.161307</td>\n",
       "      <td>0.0</td>\n",
       "      <td>0.0</td>\n",
       "      <td>0.0</td>\n",
       "      <td>0.0</td>\n",
       "      <td>1.0</td>\n",
       "    </tr>\n",
       "    <tr>\n",
       "      <th>account_page_click</th>\n",
       "      <td>455401.0</td>\n",
       "      <td>0.003570</td>\n",
       "      <td>0.059647</td>\n",
       "      <td>0.0</td>\n",
       "      <td>0.0</td>\n",
       "      <td>0.0</td>\n",
       "      <td>0.0</td>\n",
       "      <td>1.0</td>\n",
       "    </tr>\n",
       "    <tr>\n",
       "      <th>promo_banner_click</th>\n",
       "      <td>455401.0</td>\n",
       "      <td>0.016208</td>\n",
       "      <td>0.126274</td>\n",
       "      <td>0.0</td>\n",
       "      <td>0.0</td>\n",
       "      <td>0.0</td>\n",
       "      <td>0.0</td>\n",
       "      <td>1.0</td>\n",
       "    </tr>\n",
       "    <tr>\n",
       "      <th>detail_wishlist_add</th>\n",
       "      <td>455401.0</td>\n",
       "      <td>0.003511</td>\n",
       "      <td>0.059151</td>\n",
       "      <td>0.0</td>\n",
       "      <td>0.0</td>\n",
       "      <td>0.0</td>\n",
       "      <td>0.0</td>\n",
       "      <td>1.0</td>\n",
       "    </tr>\n",
       "    <tr>\n",
       "      <th>list_size_dropdown</th>\n",
       "      <td>455401.0</td>\n",
       "      <td>0.230362</td>\n",
       "      <td>0.421065</td>\n",
       "      <td>0.0</td>\n",
       "      <td>0.0</td>\n",
       "      <td>0.0</td>\n",
       "      <td>0.0</td>\n",
       "      <td>1.0</td>\n",
       "    </tr>\n",
       "    <tr>\n",
       "      <th>closed_minibasket_click</th>\n",
       "      <td>455401.0</td>\n",
       "      <td>0.017277</td>\n",
       "      <td>0.130302</td>\n",
       "      <td>0.0</td>\n",
       "      <td>0.0</td>\n",
       "      <td>0.0</td>\n",
       "      <td>0.0</td>\n",
       "      <td>1.0</td>\n",
       "    </tr>\n",
       "    <tr>\n",
       "      <th>checked_delivery_detail</th>\n",
       "      <td>455401.0</td>\n",
       "      <td>0.062874</td>\n",
       "      <td>0.242737</td>\n",
       "      <td>0.0</td>\n",
       "      <td>0.0</td>\n",
       "      <td>0.0</td>\n",
       "      <td>0.0</td>\n",
       "      <td>1.0</td>\n",
       "    </tr>\n",
       "    <tr>\n",
       "      <th>checked_returns_detail</th>\n",
       "      <td>455401.0</td>\n",
       "      <td>0.009179</td>\n",
       "      <td>0.095365</td>\n",
       "      <td>0.0</td>\n",
       "      <td>0.0</td>\n",
       "      <td>0.0</td>\n",
       "      <td>0.0</td>\n",
       "      <td>1.0</td>\n",
       "    </tr>\n",
       "    <tr>\n",
       "      <th>sign_in</th>\n",
       "      <td>455401.0</td>\n",
       "      <td>0.088810</td>\n",
       "      <td>0.284469</td>\n",
       "      <td>0.0</td>\n",
       "      <td>0.0</td>\n",
       "      <td>0.0</td>\n",
       "      <td>0.0</td>\n",
       "      <td>1.0</td>\n",
       "    </tr>\n",
       "    <tr>\n",
       "      <th>saw_checkout</th>\n",
       "      <td>455401.0</td>\n",
       "      <td>0.080085</td>\n",
       "      <td>0.271426</td>\n",
       "      <td>0.0</td>\n",
       "      <td>0.0</td>\n",
       "      <td>0.0</td>\n",
       "      <td>0.0</td>\n",
       "      <td>1.0</td>\n",
       "    </tr>\n",
       "    <tr>\n",
       "      <th>saw_sizecharts</th>\n",
       "      <td>455401.0</td>\n",
       "      <td>0.000389</td>\n",
       "      <td>0.019711</td>\n",
       "      <td>0.0</td>\n",
       "      <td>0.0</td>\n",
       "      <td>0.0</td>\n",
       "      <td>0.0</td>\n",
       "      <td>1.0</td>\n",
       "    </tr>\n",
       "    <tr>\n",
       "      <th>saw_delivery</th>\n",
       "      <td>455401.0</td>\n",
       "      <td>0.005542</td>\n",
       "      <td>0.074241</td>\n",
       "      <td>0.0</td>\n",
       "      <td>0.0</td>\n",
       "      <td>0.0</td>\n",
       "      <td>0.0</td>\n",
       "      <td>1.0</td>\n",
       "    </tr>\n",
       "    <tr>\n",
       "      <th>saw_account_upgrade</th>\n",
       "      <td>455401.0</td>\n",
       "      <td>0.001096</td>\n",
       "      <td>0.033084</td>\n",
       "      <td>0.0</td>\n",
       "      <td>0.0</td>\n",
       "      <td>0.0</td>\n",
       "      <td>0.0</td>\n",
       "      <td>1.0</td>\n",
       "    </tr>\n",
       "    <tr>\n",
       "      <th>saw_homepage</th>\n",
       "      <td>455401.0</td>\n",
       "      <td>0.290024</td>\n",
       "      <td>0.453773</td>\n",
       "      <td>0.0</td>\n",
       "      <td>0.0</td>\n",
       "      <td>0.0</td>\n",
       "      <td>1.0</td>\n",
       "      <td>1.0</td>\n",
       "    </tr>\n",
       "    <tr>\n",
       "      <th>device_mobile</th>\n",
       "      <td>455401.0</td>\n",
       "      <td>0.680706</td>\n",
       "      <td>0.466204</td>\n",
       "      <td>0.0</td>\n",
       "      <td>0.0</td>\n",
       "      <td>1.0</td>\n",
       "      <td>1.0</td>\n",
       "      <td>1.0</td>\n",
       "    </tr>\n",
       "    <tr>\n",
       "      <th>device_computer</th>\n",
       "      <td>455401.0</td>\n",
       "      <td>0.194220</td>\n",
       "      <td>0.395599</td>\n",
       "      <td>0.0</td>\n",
       "      <td>0.0</td>\n",
       "      <td>0.0</td>\n",
       "      <td>0.0</td>\n",
       "      <td>1.0</td>\n",
       "    </tr>\n",
       "    <tr>\n",
       "      <th>device_tablet</th>\n",
       "      <td>455401.0</td>\n",
       "      <td>0.128364</td>\n",
       "      <td>0.334495</td>\n",
       "      <td>0.0</td>\n",
       "      <td>0.0</td>\n",
       "      <td>0.0</td>\n",
       "      <td>0.0</td>\n",
       "      <td>1.0</td>\n",
       "    </tr>\n",
       "    <tr>\n",
       "      <th>returning_user</th>\n",
       "      <td>455401.0</td>\n",
       "      <td>0.534915</td>\n",
       "      <td>0.498780</td>\n",
       "      <td>0.0</td>\n",
       "      <td>0.0</td>\n",
       "      <td>1.0</td>\n",
       "      <td>1.0</td>\n",
       "      <td>1.0</td>\n",
       "    </tr>\n",
       "    <tr>\n",
       "      <th>loc_uk</th>\n",
       "      <td>455401.0</td>\n",
       "      <td>0.933224</td>\n",
       "      <td>0.249634</td>\n",
       "      <td>0.0</td>\n",
       "      <td>1.0</td>\n",
       "      <td>1.0</td>\n",
       "      <td>1.0</td>\n",
       "      <td>1.0</td>\n",
       "    </tr>\n",
       "    <tr>\n",
       "      <th>ordered</th>\n",
       "      <td>455401.0</td>\n",
       "      <td>0.041926</td>\n",
       "      <td>0.200420</td>\n",
       "      <td>0.0</td>\n",
       "      <td>0.0</td>\n",
       "      <td>0.0</td>\n",
       "      <td>0.0</td>\n",
       "      <td>1.0</td>\n",
       "    </tr>\n",
       "  </tbody>\n",
       "</table>\n",
       "</div>"
      ],
      "text/plain": [
       "                            count      mean       std  min  25%  50%  75%  max\n",
       "basket_icon_click        455401.0  0.099150  0.298864  0.0  0.0  0.0  0.0  1.0\n",
       "basket_add_list          455401.0  0.074521  0.262617  0.0  0.0  0.0  0.0  1.0\n",
       "basket_add_detail        455401.0  0.112916  0.316490  0.0  0.0  0.0  0.0  1.0\n",
       "sort_by                  455401.0  0.036849  0.188391  0.0  0.0  0.0  0.0  1.0\n",
       "image_picker             455401.0  0.026735  0.161307  0.0  0.0  0.0  0.0  1.0\n",
       "account_page_click       455401.0  0.003570  0.059647  0.0  0.0  0.0  0.0  1.0\n",
       "promo_banner_click       455401.0  0.016208  0.126274  0.0  0.0  0.0  0.0  1.0\n",
       "detail_wishlist_add      455401.0  0.003511  0.059151  0.0  0.0  0.0  0.0  1.0\n",
       "list_size_dropdown       455401.0  0.230362  0.421065  0.0  0.0  0.0  0.0  1.0\n",
       "closed_minibasket_click  455401.0  0.017277  0.130302  0.0  0.0  0.0  0.0  1.0\n",
       "checked_delivery_detail  455401.0  0.062874  0.242737  0.0  0.0  0.0  0.0  1.0\n",
       "checked_returns_detail   455401.0  0.009179  0.095365  0.0  0.0  0.0  0.0  1.0\n",
       "sign_in                  455401.0  0.088810  0.284469  0.0  0.0  0.0  0.0  1.0\n",
       "saw_checkout             455401.0  0.080085  0.271426  0.0  0.0  0.0  0.0  1.0\n",
       "saw_sizecharts           455401.0  0.000389  0.019711  0.0  0.0  0.0  0.0  1.0\n",
       "saw_delivery             455401.0  0.005542  0.074241  0.0  0.0  0.0  0.0  1.0\n",
       "saw_account_upgrade      455401.0  0.001096  0.033084  0.0  0.0  0.0  0.0  1.0\n",
       "saw_homepage             455401.0  0.290024  0.453773  0.0  0.0  0.0  1.0  1.0\n",
       "device_mobile            455401.0  0.680706  0.466204  0.0  0.0  1.0  1.0  1.0\n",
       "device_computer          455401.0  0.194220  0.395599  0.0  0.0  0.0  0.0  1.0\n",
       "device_tablet            455401.0  0.128364  0.334495  0.0  0.0  0.0  0.0  1.0\n",
       "returning_user           455401.0  0.534915  0.498780  0.0  0.0  1.0  1.0  1.0\n",
       "loc_uk                   455401.0  0.933224  0.249634  0.0  1.0  1.0  1.0  1.0\n",
       "ordered                  455401.0  0.041926  0.200420  0.0  0.0  0.0  0.0  1.0"
      ]
     },
     "execution_count": 73,
     "metadata": {},
     "output_type": "execute_result"
    }
   ],
   "source": [
    "train_data.describe().T"
   ]
  },
  {
   "cell_type": "code",
   "execution_count": 74,
   "metadata": {
    "ExecuteTime": {
     "end_time": "2024-06-15T15:21:47.524563Z",
     "start_time": "2024-06-15T15:21:47.472305Z"
    }
   },
   "outputs": [
    {
     "data": {
      "text/html": [
       "<div>\n",
       "<style scoped>\n",
       "    .dataframe tbody tr th:only-of-type {\n",
       "        vertical-align: middle;\n",
       "    }\n",
       "\n",
       "    .dataframe tbody tr th {\n",
       "        vertical-align: top;\n",
       "    }\n",
       "\n",
       "    .dataframe thead th {\n",
       "        text-align: right;\n",
       "    }\n",
       "</style>\n",
       "<table border=\"1\" class=\"dataframe\">\n",
       "  <thead>\n",
       "    <tr style=\"text-align: right;\">\n",
       "      <th></th>\n",
       "      <th>count</th>\n",
       "      <th>mean</th>\n",
       "      <th>std</th>\n",
       "      <th>min</th>\n",
       "      <th>25%</th>\n",
       "      <th>50%</th>\n",
       "      <th>75%</th>\n",
       "      <th>max</th>\n",
       "    </tr>\n",
       "  </thead>\n",
       "  <tbody>\n",
       "    <tr>\n",
       "      <th>basket_icon_click</th>\n",
       "      <td>151655.0</td>\n",
       "      <td>0.074228</td>\n",
       "      <td>0.262142</td>\n",
       "      <td>0.0</td>\n",
       "      <td>0.0</td>\n",
       "      <td>0.0</td>\n",
       "      <td>0.0</td>\n",
       "      <td>1.0</td>\n",
       "    </tr>\n",
       "    <tr>\n",
       "      <th>basket_add_list</th>\n",
       "      <td>151655.0</td>\n",
       "      <td>0.060954</td>\n",
       "      <td>0.239247</td>\n",
       "      <td>0.0</td>\n",
       "      <td>0.0</td>\n",
       "      <td>0.0</td>\n",
       "      <td>0.0</td>\n",
       "      <td>1.0</td>\n",
       "    </tr>\n",
       "    <tr>\n",
       "      <th>basket_add_detail</th>\n",
       "      <td>151655.0</td>\n",
       "      <td>0.085444</td>\n",
       "      <td>0.279542</td>\n",
       "      <td>0.0</td>\n",
       "      <td>0.0</td>\n",
       "      <td>0.0</td>\n",
       "      <td>0.0</td>\n",
       "      <td>1.0</td>\n",
       "    </tr>\n",
       "    <tr>\n",
       "      <th>sort_by</th>\n",
       "      <td>151655.0</td>\n",
       "      <td>0.036438</td>\n",
       "      <td>0.187378</td>\n",
       "      <td>0.0</td>\n",
       "      <td>0.0</td>\n",
       "      <td>0.0</td>\n",
       "      <td>0.0</td>\n",
       "      <td>1.0</td>\n",
       "    </tr>\n",
       "    <tr>\n",
       "      <th>image_picker</th>\n",
       "      <td>151655.0</td>\n",
       "      <td>0.025334</td>\n",
       "      <td>0.157137</td>\n",
       "      <td>0.0</td>\n",
       "      <td>0.0</td>\n",
       "      <td>0.0</td>\n",
       "      <td>0.0</td>\n",
       "      <td>1.0</td>\n",
       "    </tr>\n",
       "    <tr>\n",
       "      <th>account_page_click</th>\n",
       "      <td>151655.0</td>\n",
       "      <td>0.003158</td>\n",
       "      <td>0.056112</td>\n",
       "      <td>0.0</td>\n",
       "      <td>0.0</td>\n",
       "      <td>0.0</td>\n",
       "      <td>0.0</td>\n",
       "      <td>1.0</td>\n",
       "    </tr>\n",
       "    <tr>\n",
       "      <th>promo_banner_click</th>\n",
       "      <td>151655.0</td>\n",
       "      <td>0.014177</td>\n",
       "      <td>0.118220</td>\n",
       "      <td>0.0</td>\n",
       "      <td>0.0</td>\n",
       "      <td>0.0</td>\n",
       "      <td>0.0</td>\n",
       "      <td>1.0</td>\n",
       "    </tr>\n",
       "    <tr>\n",
       "      <th>detail_wishlist_add</th>\n",
       "      <td>151655.0</td>\n",
       "      <td>0.003053</td>\n",
       "      <td>0.055170</td>\n",
       "      <td>0.0</td>\n",
       "      <td>0.0</td>\n",
       "      <td>0.0</td>\n",
       "      <td>0.0</td>\n",
       "      <td>1.0</td>\n",
       "    </tr>\n",
       "    <tr>\n",
       "      <th>list_size_dropdown</th>\n",
       "      <td>151655.0</td>\n",
       "      <td>0.215984</td>\n",
       "      <td>0.411504</td>\n",
       "      <td>0.0</td>\n",
       "      <td>0.0</td>\n",
       "      <td>0.0</td>\n",
       "      <td>0.0</td>\n",
       "      <td>1.0</td>\n",
       "    </tr>\n",
       "    <tr>\n",
       "      <th>closed_minibasket_click</th>\n",
       "      <td>151655.0</td>\n",
       "      <td>0.013412</td>\n",
       "      <td>0.115031</td>\n",
       "      <td>0.0</td>\n",
       "      <td>0.0</td>\n",
       "      <td>0.0</td>\n",
       "      <td>0.0</td>\n",
       "      <td>1.0</td>\n",
       "    </tr>\n",
       "    <tr>\n",
       "      <th>checked_delivery_detail</th>\n",
       "      <td>151655.0</td>\n",
       "      <td>0.023178</td>\n",
       "      <td>0.150468</td>\n",
       "      <td>0.0</td>\n",
       "      <td>0.0</td>\n",
       "      <td>0.0</td>\n",
       "      <td>0.0</td>\n",
       "      <td>1.0</td>\n",
       "    </tr>\n",
       "    <tr>\n",
       "      <th>checked_returns_detail</th>\n",
       "      <td>151655.0</td>\n",
       "      <td>0.008691</td>\n",
       "      <td>0.092819</td>\n",
       "      <td>0.0</td>\n",
       "      <td>0.0</td>\n",
       "      <td>0.0</td>\n",
       "      <td>0.0</td>\n",
       "      <td>1.0</td>\n",
       "    </tr>\n",
       "    <tr>\n",
       "      <th>sign_in</th>\n",
       "      <td>151655.0</td>\n",
       "      <td>0.052151</td>\n",
       "      <td>0.222333</td>\n",
       "      <td>0.0</td>\n",
       "      <td>0.0</td>\n",
       "      <td>0.0</td>\n",
       "      <td>0.0</td>\n",
       "      <td>1.0</td>\n",
       "    </tr>\n",
       "    <tr>\n",
       "      <th>saw_checkout</th>\n",
       "      <td>151655.0</td>\n",
       "      <td>0.042623</td>\n",
       "      <td>0.202006</td>\n",
       "      <td>0.0</td>\n",
       "      <td>0.0</td>\n",
       "      <td>0.0</td>\n",
       "      <td>0.0</td>\n",
       "      <td>1.0</td>\n",
       "    </tr>\n",
       "    <tr>\n",
       "      <th>saw_sizecharts</th>\n",
       "      <td>151655.0</td>\n",
       "      <td>0.000297</td>\n",
       "      <td>0.017223</td>\n",
       "      <td>0.0</td>\n",
       "      <td>0.0</td>\n",
       "      <td>0.0</td>\n",
       "      <td>0.0</td>\n",
       "      <td>1.0</td>\n",
       "    </tr>\n",
       "    <tr>\n",
       "      <th>saw_delivery</th>\n",
       "      <td>151655.0</td>\n",
       "      <td>0.005097</td>\n",
       "      <td>0.071212</td>\n",
       "      <td>0.0</td>\n",
       "      <td>0.0</td>\n",
       "      <td>0.0</td>\n",
       "      <td>0.0</td>\n",
       "      <td>1.0</td>\n",
       "    </tr>\n",
       "    <tr>\n",
       "      <th>saw_account_upgrade</th>\n",
       "      <td>151655.0</td>\n",
       "      <td>0.000996</td>\n",
       "      <td>0.031539</td>\n",
       "      <td>0.0</td>\n",
       "      <td>0.0</td>\n",
       "      <td>0.0</td>\n",
       "      <td>0.0</td>\n",
       "      <td>1.0</td>\n",
       "    </tr>\n",
       "    <tr>\n",
       "      <th>saw_homepage</th>\n",
       "      <td>151655.0</td>\n",
       "      <td>0.285602</td>\n",
       "      <td>0.451702</td>\n",
       "      <td>0.0</td>\n",
       "      <td>0.0</td>\n",
       "      <td>0.0</td>\n",
       "      <td>1.0</td>\n",
       "      <td>1.0</td>\n",
       "    </tr>\n",
       "    <tr>\n",
       "      <th>device_mobile</th>\n",
       "      <td>151655.0</td>\n",
       "      <td>0.681448</td>\n",
       "      <td>0.465916</td>\n",
       "      <td>0.0</td>\n",
       "      <td>0.0</td>\n",
       "      <td>1.0</td>\n",
       "      <td>1.0</td>\n",
       "      <td>1.0</td>\n",
       "    </tr>\n",
       "    <tr>\n",
       "      <th>device_computer</th>\n",
       "      <td>151655.0</td>\n",
       "      <td>0.200673</td>\n",
       "      <td>0.400505</td>\n",
       "      <td>0.0</td>\n",
       "      <td>0.0</td>\n",
       "      <td>0.0</td>\n",
       "      <td>0.0</td>\n",
       "      <td>1.0</td>\n",
       "    </tr>\n",
       "    <tr>\n",
       "      <th>device_tablet</th>\n",
       "      <td>151655.0</td>\n",
       "      <td>0.120049</td>\n",
       "      <td>0.325020</td>\n",
       "      <td>0.0</td>\n",
       "      <td>0.0</td>\n",
       "      <td>0.0</td>\n",
       "      <td>0.0</td>\n",
       "      <td>1.0</td>\n",
       "    </tr>\n",
       "    <tr>\n",
       "      <th>returning_user</th>\n",
       "      <td>151655.0</td>\n",
       "      <td>0.529267</td>\n",
       "      <td>0.499144</td>\n",
       "      <td>0.0</td>\n",
       "      <td>0.0</td>\n",
       "      <td>1.0</td>\n",
       "      <td>1.0</td>\n",
       "      <td>1.0</td>\n",
       "    </tr>\n",
       "    <tr>\n",
       "      <th>loc_uk</th>\n",
       "      <td>151655.0</td>\n",
       "      <td>0.928324</td>\n",
       "      <td>0.257951</td>\n",
       "      <td>0.0</td>\n",
       "      <td>1.0</td>\n",
       "      <td>1.0</td>\n",
       "      <td>1.0</td>\n",
       "      <td>1.0</td>\n",
       "    </tr>\n",
       "    <tr>\n",
       "      <th>ordered</th>\n",
       "      <td>151655.0</td>\n",
       "      <td>0.000000</td>\n",
       "      <td>0.000000</td>\n",
       "      <td>0.0</td>\n",
       "      <td>0.0</td>\n",
       "      <td>0.0</td>\n",
       "      <td>0.0</td>\n",
       "      <td>0.0</td>\n",
       "    </tr>\n",
       "  </tbody>\n",
       "</table>\n",
       "</div>"
      ],
      "text/plain": [
       "                            count      mean       std  min  25%  50%  75%  max\n",
       "basket_icon_click        151655.0  0.074228  0.262142  0.0  0.0  0.0  0.0  1.0\n",
       "basket_add_list          151655.0  0.060954  0.239247  0.0  0.0  0.0  0.0  1.0\n",
       "basket_add_detail        151655.0  0.085444  0.279542  0.0  0.0  0.0  0.0  1.0\n",
       "sort_by                  151655.0  0.036438  0.187378  0.0  0.0  0.0  0.0  1.0\n",
       "image_picker             151655.0  0.025334  0.157137  0.0  0.0  0.0  0.0  1.0\n",
       "account_page_click       151655.0  0.003158  0.056112  0.0  0.0  0.0  0.0  1.0\n",
       "promo_banner_click       151655.0  0.014177  0.118220  0.0  0.0  0.0  0.0  1.0\n",
       "detail_wishlist_add      151655.0  0.003053  0.055170  0.0  0.0  0.0  0.0  1.0\n",
       "list_size_dropdown       151655.0  0.215984  0.411504  0.0  0.0  0.0  0.0  1.0\n",
       "closed_minibasket_click  151655.0  0.013412  0.115031  0.0  0.0  0.0  0.0  1.0\n",
       "checked_delivery_detail  151655.0  0.023178  0.150468  0.0  0.0  0.0  0.0  1.0\n",
       "checked_returns_detail   151655.0  0.008691  0.092819  0.0  0.0  0.0  0.0  1.0\n",
       "sign_in                  151655.0  0.052151  0.222333  0.0  0.0  0.0  0.0  1.0\n",
       "saw_checkout             151655.0  0.042623  0.202006  0.0  0.0  0.0  0.0  1.0\n",
       "saw_sizecharts           151655.0  0.000297  0.017223  0.0  0.0  0.0  0.0  1.0\n",
       "saw_delivery             151655.0  0.005097  0.071212  0.0  0.0  0.0  0.0  1.0\n",
       "saw_account_upgrade      151655.0  0.000996  0.031539  0.0  0.0  0.0  0.0  1.0\n",
       "saw_homepage             151655.0  0.285602  0.451702  0.0  0.0  0.0  1.0  1.0\n",
       "device_mobile            151655.0  0.681448  0.465916  0.0  0.0  1.0  1.0  1.0\n",
       "device_computer          151655.0  0.200673  0.400505  0.0  0.0  0.0  0.0  1.0\n",
       "device_tablet            151655.0  0.120049  0.325020  0.0  0.0  0.0  0.0  1.0\n",
       "returning_user           151655.0  0.529267  0.499144  0.0  0.0  1.0  1.0  1.0\n",
       "loc_uk                   151655.0  0.928324  0.257951  0.0  1.0  1.0  1.0  1.0\n",
       "ordered                  151655.0  0.000000  0.000000  0.0  0.0  0.0  0.0  0.0"
      ]
     },
     "execution_count": 74,
     "metadata": {},
     "output_type": "execute_result"
    }
   ],
   "source": [
    "test_data.describe().T"
   ]
  },
  {
   "cell_type": "markdown",
   "metadata": {
    "id": "6qOLCW1_5irI"
   },
   "source": [
    "The test dataset does not contain order data. It should be used to see how the model works. However, without knowing whether a customer has placed an order or not, it does not provide any relevant information for analysis. For the further analysis, the test dataset will not be taken into consideration.\n",
    "\n",
    "Based on the mean and standard deviation of each column, the following conclusions can be drawn:"
   ]
  },
  {
   "cell_type": "code",
   "execution_count": 75,
   "metadata": {
    "ExecuteTime": {
     "end_time": "2024-06-15T15:21:47.528001Z",
     "start_time": "2024-06-15T15:21:47.525781Z"
    }
   },
   "outputs": [],
   "source": [
    "# %%cudf.pandas.profile"
   ]
  },
  {
   "cell_type": "code",
   "execution_count": 76,
   "metadata": {
    "ExecuteTime": {
     "end_time": "2024-06-15T15:21:47.532533Z",
     "start_time": "2024-06-15T15:21:47.529550Z"
    },
    "id": "bW19Jypz2VOT"
   },
   "outputs": [],
   "source": [
    "descriptions = [\n",
    "    'customers has clicked on the shopping basket icon',\n",
    "    'customers has added a product to their shopping cart on the \"list\" page',\n",
    "    'customers has added a product to their shopping cart on the \"detail\" page',\n",
    "    'customers has sorted products on a page',\n",
    "    'customers has used the image picker',\n",
    "    'customers has visited their account page',\n",
    "    'customers has clicked on a promo banner',\n",
    "    'customers has added a product to their wishlist from the \"detail\" page',\n",
    "    'customers has interacted with a product dropdown',\n",
    "    'customers has closed their mini shopping basket',\n",
    "    'customers has viewed the delivery FAQ area on a product page',\n",
    "    'customers has checked the returns FAQ area on a product page',\n",
    "    'customers has signed in to the website',\n",
    "    'customers has viewed the checkout',\n",
    "    'customers has viewed a product size chart',\n",
    "    'customers has viewed the delivery FAQ page',\n",
    "    'customers has viewed the account upgrade page',\n",
    "    'customers has viewed the website homepage',\n",
    "    'customers has accessed the website from a mobile device',\n",
    "    'customers has accessed the website from a desktop device',\n",
    "    'customers has accessed the website from a tablet device',\n",
    "    'customers is a returning user',\n",
    "    'customers was located in the UK based on their IP address',\n",
    "    'customers has placed an order',\n",
    "]"
   ]
  },
  {
   "cell_type": "code",
   "execution_count": 77,
   "metadata": {
    "ExecuteTime": {
     "end_time": "2024-06-15T15:21:47.630313Z",
     "start_time": "2024-06-15T15:21:47.533444Z"
    },
    "colab": {
     "base_uri": "https://localhost:8080/"
    },
    "executionInfo": {
     "elapsed": 451,
     "status": "ok",
     "timestamp": 1715164057391,
     "user": {
      "displayName": "Grzegorz",
      "userId": "16385384664201948728"
     },
     "user_tz": -120
    },
    "id": "C1dWtVsI7I4L",
    "outputId": "e789d381-e0b8-40ed-b615-a7d4f8e45cbb"
   },
   "outputs": [
    {
     "name": "stdout",
     "output_type": "stream",
     "text": [
      "9.91 %  customers has clicked on the shopping basket icon\n",
      "7.45 %  customers has added a product to their shopping cart on the \"list\" page\n",
      "11.29 %  customers has added a product to their shopping cart on the \"detail\" page\n",
      "3.68 %  customers has sorted products on a page\n",
      "2.67 %  customers has used the image picker\n",
      "0.36 %  customers has visited their account page\n",
      "1.62 %  customers has clicked on a promo banner\n",
      "0.35 %  customers has added a product to their wishlist from the \"detail\" page\n",
      "23.04 %  customers has interacted with a product dropdown\n",
      "1.73 %  customers has closed their mini shopping basket\n",
      "6.29 %  customers has viewed the delivery FAQ area on a product page\n",
      "0.92 %  customers has checked the returns FAQ area on a product page\n",
      "8.88 %  customers has signed in to the website\n",
      "8.01 %  customers has viewed the checkout\n",
      "0.04 %  customers has viewed a product size chart\n",
      "0.55 %  customers has viewed the delivery FAQ page\n",
      "0.11 %  customers has viewed the account upgrade page\n",
      "29.0 %  customers has viewed the website homepage\n",
      "68.07 %  customers has accessed the website from a mobile device\n",
      "19.42 %  customers has accessed the website from a desktop device\n",
      "12.84 %  customers has accessed the website from a tablet device\n",
      "53.49 %  customers is a returning user\n",
      "93.32 %  customers was located in the UK based on their IP address\n",
      "4.19 %  customers has placed an order\n"
     ]
    }
   ],
   "source": [
    "# creating a mean list because colab is slow with for loops...\n",
    "mean_list = train_data.describe().T['mean'].tolist()\n",
    "\n",
    "# Loop for descriptive summary\n",
    "for i, mean in enumerate(mean_list):\n",
    "  print (round(mean*100,2),'% ',descriptions[i])"
   ]
  },
  {
   "cell_type": "markdown",
   "metadata": {},
   "source": [
    "***Questions:***\n",
    "* Is clicking on a promo banner providing more orders?\n",
    "* Are returning users more often to place an order?\n",
    "* Are how much and which actions are taken by the returning users? Are they going directly into the checkout, indicating, that they have to think about the purchase?"
   ]
  },
  {
   "cell_type": "markdown",
   "metadata": {},
   "source": [
    "First of all, let's investigate for users, which has visited the Webpage and didn't take any action."
   ]
  },
  {
   "cell_type": "code",
   "execution_count": 78,
   "metadata": {
    "ExecuteTime": {
     "end_time": "2024-06-15T15:21:47.633198Z",
     "start_time": "2024-06-15T15:21:47.631185Z"
    }
   },
   "outputs": [],
   "source": [
    "no_action_columns = [\n",
    "    'device_mobile',\n",
    "    'device_computer',\n",
    "    'device_tablet',    \n",
    "    'returning_user',\n",
    "    'loc_uk',\n",
    "    'ordered'\n",
    "]"
   ]
  },
  {
   "cell_type": "code",
   "execution_count": 79,
   "metadata": {
    "ExecuteTime": {
     "end_time": "2024-06-15T15:21:47.659182Z",
     "start_time": "2024-06-15T15:21:47.634014Z"
    }
   },
   "outputs": [
    {
     "name": "stdout",
     "output_type": "stream",
     "text": [
      "235340 visitors did not carry out any action\n"
     ]
    }
   ],
   "source": [
    "no_of_no_actions = train_data[(train_data.loc[:, ~train_data.columns.isin(no_action_columns)] == 0).all(axis=1)].shape[0]\n",
    "no_of_actions = len(train_data) - no_of_no_actions\n",
    "print(f'{no_of_no_actions} visitors did not carry out any action')"
   ]
  },
  {
   "cell_type": "markdown",
   "metadata": {},
   "source": [
    "Since these records do not provide any information for modeling, they will be discarded by preparing the data for machine learning"
   ]
  },
  {
   "cell_type": "code",
   "execution_count": 80,
   "metadata": {
    "ExecuteTime": {
     "end_time": "2024-06-15T15:21:47.817799Z",
     "start_time": "2024-06-15T15:21:47.660058Z"
    }
   },
   "outputs": [
    {
     "data": {
      "image/png": "[encoded data removed]",
      "text/plain": [
       "<Figure size 640x480 with 1 Axes>"
      ]
     },
     "metadata": {},
     "output_type": "display_data"
    }
   ],
   "source": [
    "# Distribution chart for visitors who took action and took no action\n",
    "\n",
    "fig, ax = plt.subplots()\n",
    "bar_colors = sns.color_palette('Paired', n_colors=no_of_actions)\n",
    "bar_labels = ['Number of visitors without any action','Number of visitors which took an action']\n",
    "ax.bar(bar_labels, [no_of_no_actions,no_of_actions], color=bar_colors)\n",
    "\n",
    "ax.set_title('Comparison between number of visitors without any action and number of visitors which took an action')\n",
    "plt.xticks(rotation=15, ha='right')\n",
    "\n",
    "\n",
    "plt.show()"
   ]
  },
  {
   "cell_type": "markdown",
   "metadata": {},
   "source": [
    "## 4. Cleaning and Spliting the Data"
   ]
  },
  {
   "cell_type": "markdown",
   "metadata": {},
   "source": [
    "The data set will be subsumed due to:\n",
    "* A large amount of data that does not contribute any information --> the website visitor did not perform any action. Colloquially speaking, he went in and left.\n",
    "* This is a group project. The team consists of 4 people and the data set will be divided accordingly. Details will be described later."
   ]
  },
  {
   "cell_type": "markdown",
   "metadata": {},
   "source": [
    "**Cleaning the DataFrame - only the information in which the visitor made the action on the website.**"
   ]
  },
  {
   "cell_type": "code",
   "execution_count": 81,
   "metadata": {
    "ExecuteTime": {
     "end_time": "2024-06-15T15:21:47.841468Z",
     "start_time": "2024-06-15T15:21:47.818730Z"
    }
   },
   "outputs": [
    {
     "data": {
      "text/plain": [
       "(220061, 24)"
      ]
     },
     "execution_count": 81,
     "metadata": {},
     "output_type": "execute_result"
    }
   ],
   "source": [
    "df_cleaned = train_data[~(train_data.loc[:, ~train_data.columns.isin(no_action_columns)] == 0).all(axis=1)]\n",
    "df_cleaned.shape"
   ]
  },
  {
   "cell_type": "markdown",
   "metadata": {},
   "source": [
    "**Spliting the Data**"
   ]
  },
  {
   "cell_type": "code",
   "execution_count": 82,
   "metadata": {
    "ExecuteTime": {
     "end_time": "2024-06-15T15:21:48.358884Z",
     "start_time": "2024-06-15T15:21:47.893624Z"
    }
   },
   "outputs": [],
   "source": [
    "df_train_clean = df_cleaned.sort_values(by='ordered', ascending= False).reset_index(drop=True)\n",
    "\n",
    "# list of names + separation of test collection\n",
    "names = ['Ada', 'Darek', 'Grzesiek', 'Ola', 'test']\n",
    "no_of_orders = df_train_clean[\"ordered\"].sum()\n",
    "\n",
    "\n",
    "# name selection function\n",
    "def get_name(index):\n",
    "    return names[index % len(names)]\n",
    "\n",
    "# add a new column - ordered = 1 - everyone (with the test set separated), ordered = 0 - one by one names\n",
    "\n",
    "df_train_clean['who'] = df_train_clean.apply(lambda row: get_name(row.name) if row['ordered'] == 0 else ('test' if row.name < no_of_orders * 0.2 else 'wszyscy'), axis=1)"
   ]
  },
  {
   "cell_type": "code",
   "execution_count": 83,
   "metadata": {
    "ExecuteTime": {
     "end_time": "2024-06-15T15:21:49.036719Z",
     "start_time": "2024-06-15T15:21:49.028198Z"
    }
   },
   "outputs": [
    {
     "data": {
      "text/plain": [
       "who\n",
       "Ola         40194\n",
       "test        40194\n",
       "Ada         40194\n",
       "Darek       40193\n",
       "Grzesiek    40193\n",
       "Name: count, dtype: int64"
      ]
     },
     "execution_count": 83,
     "metadata": {},
     "output_type": "execute_result"
    }
   ],
   "source": [
    "df_train_clean.who[df_train_clean['ordered'] == 0].value_counts()"
   ]
  },
  {
   "cell_type": "code",
   "execution_count": 84,
   "metadata": {
    "ExecuteTime": {
     "end_time": "2024-06-15T15:14:30.257653Z",
     "start_time": "2024-06-15T15:14:30.248254Z"
    }
   },
   "outputs": [
    {
     "data": {
      "text/plain": [
       "who\n",
       "test        44013\n",
       "Ola         40194\n",
       "Ada         40194\n",
       "Darek       40193\n",
       "Grzesiek    40193\n",
       "wszyscy     15274\n",
       "Name: count, dtype: int64"
      ]
     },
     "execution_count": 84,
     "metadata": {},
     "output_type": "execute_result"
    }
   ],
   "source": [
    "df_train_clean.who.value_counts()"
   ]
  },
  {
   "cell_type": "code",
   "execution_count": 85,
   "metadata": {
    "ExecuteTime": {
     "end_time": "2024-06-15T14:38:52.410454Z",
     "start_time": "2024-06-15T14:38:52.394045Z"
    }
   },
   "outputs": [
    {
     "name": "stdout",
     "output_type": "stream",
     "text": [
      "percentage of total orders df_train_clean 0.0867623068149286\n",
      "percentage of orders in test df_train_clean 0.08676981800831572\n"
     ]
    }
   ],
   "source": [
    "# Let's check the proportion of orders in the entire df_train_clean set and in the set spun out for testing\n",
    "\n",
    "orders_to_total_all = df_train_clean['ordered'].sum() / df_train_clean['ordered'].count()\n",
    "orders_to_total_test = df_train_clean['ordered'][df_train_clean['who'] == 'test'].sum() / df_train_clean['ordered'][df_train_clean['who'] == 'test'].count()\n",
    "\n",
    "print(f'percentage of total orders df_train_clean {orders_to_total_all}')\n",
    "print(f'percentage of orders in test df_train_clean {orders_to_total_test}')"
   ]
  },
  {
   "cell_type": "code",
   "execution_count": 86,
   "metadata": {
    "ExecuteTime": {
     "end_time": "2024-06-15T14:38:52.430265Z",
     "start_time": "2024-06-15T14:38:52.411528Z"
    }
   },
   "outputs": [],
   "source": [
    "# creating a database for a specific person - just change your name\n",
    "df = df_train_clean[df_train_clean['who'].isin(['wszyscy', 'Grzesiek'])].drop(columns=['who'], axis=1)"
   ]
  },
  {
   "cell_type": "code",
   "execution_count": 87,
   "metadata": {
    "ExecuteTime": {
     "end_time": "2024-06-15T14:38:52.776020Z",
     "start_time": "2024-06-15T14:38:52.431453Z"
    }
   },
   "outputs": [
    {
     "data": {
      "text/html": [
       "<div>\n",
       "<style scoped>\n",
       "    .dataframe tbody tr th:only-of-type {\n",
       "        vertical-align: middle;\n",
       "    }\n",
       "\n",
       "    .dataframe tbody tr th {\n",
       "        vertical-align: top;\n",
       "    }\n",
       "\n",
       "    .dataframe thead th {\n",
       "        text-align: right;\n",
       "    }\n",
       "</style>\n",
       "<table border=\"1\" class=\"dataframe\">\n",
       "  <thead>\n",
       "    <tr style=\"text-align: right;\">\n",
       "      <th></th>\n",
       "      <th>count</th>\n",
       "      <th>mean</th>\n",
       "      <th>std</th>\n",
       "      <th>min</th>\n",
       "      <th>25%</th>\n",
       "      <th>50%</th>\n",
       "      <th>75%</th>\n",
       "      <th>max</th>\n",
       "    </tr>\n",
       "  </thead>\n",
       "  <tbody>\n",
       "    <tr>\n",
       "      <th>basket_icon_click</th>\n",
       "      <td>55467.0</td>\n",
       "      <td>0.309301</td>\n",
       "      <td>0.462210</td>\n",
       "      <td>0.0</td>\n",
       "      <td>0.0</td>\n",
       "      <td>0.0</td>\n",
       "      <td>1.0</td>\n",
       "      <td>1.0</td>\n",
       "    </tr>\n",
       "    <tr>\n",
       "      <th>basket_add_list</th>\n",
       "      <td>55467.0</td>\n",
       "      <td>0.213082</td>\n",
       "      <td>0.409489</td>\n",
       "      <td>0.0</td>\n",
       "      <td>0.0</td>\n",
       "      <td>0.0</td>\n",
       "      <td>0.0</td>\n",
       "      <td>1.0</td>\n",
       "    </tr>\n",
       "    <tr>\n",
       "      <th>basket_add_detail</th>\n",
       "      <td>55467.0</td>\n",
       "      <td>0.339697</td>\n",
       "      <td>0.473611</td>\n",
       "      <td>0.0</td>\n",
       "      <td>0.0</td>\n",
       "      <td>0.0</td>\n",
       "      <td>1.0</td>\n",
       "      <td>1.0</td>\n",
       "    </tr>\n",
       "    <tr>\n",
       "      <th>sort_by</th>\n",
       "      <td>55467.0</td>\n",
       "      <td>0.077902</td>\n",
       "      <td>0.268020</td>\n",
       "      <td>0.0</td>\n",
       "      <td>0.0</td>\n",
       "      <td>0.0</td>\n",
       "      <td>0.0</td>\n",
       "      <td>1.0</td>\n",
       "    </tr>\n",
       "    <tr>\n",
       "      <th>image_picker</th>\n",
       "      <td>55467.0</td>\n",
       "      <td>0.060577</td>\n",
       "      <td>0.238554</td>\n",
       "      <td>0.0</td>\n",
       "      <td>0.0</td>\n",
       "      <td>0.0</td>\n",
       "      <td>0.0</td>\n",
       "      <td>1.0</td>\n",
       "    </tr>\n",
       "    <tr>\n",
       "      <th>account_page_click</th>\n",
       "      <td>55467.0</td>\n",
       "      <td>0.010385</td>\n",
       "      <td>0.101375</td>\n",
       "      <td>0.0</td>\n",
       "      <td>0.0</td>\n",
       "      <td>0.0</td>\n",
       "      <td>0.0</td>\n",
       "      <td>1.0</td>\n",
       "    </tr>\n",
       "    <tr>\n",
       "      <th>promo_banner_click</th>\n",
       "      <td>55467.0</td>\n",
       "      <td>0.036941</td>\n",
       "      <td>0.188618</td>\n",
       "      <td>0.0</td>\n",
       "      <td>0.0</td>\n",
       "      <td>0.0</td>\n",
       "      <td>0.0</td>\n",
       "      <td>1.0</td>\n",
       "    </tr>\n",
       "    <tr>\n",
       "      <th>detail_wishlist_add</th>\n",
       "      <td>55467.0</td>\n",
       "      <td>0.007770</td>\n",
       "      <td>0.087807</td>\n",
       "      <td>0.0</td>\n",
       "      <td>0.0</td>\n",
       "      <td>0.0</td>\n",
       "      <td>0.0</td>\n",
       "      <td>1.0</td>\n",
       "    </tr>\n",
       "    <tr>\n",
       "      <th>list_size_dropdown</th>\n",
       "      <td>55467.0</td>\n",
       "      <td>0.487695</td>\n",
       "      <td>0.499853</td>\n",
       "      <td>0.0</td>\n",
       "      <td>0.0</td>\n",
       "      <td>0.0</td>\n",
       "      <td>1.0</td>\n",
       "      <td>1.0</td>\n",
       "    </tr>\n",
       "    <tr>\n",
       "      <th>closed_minibasket_click</th>\n",
       "      <td>55467.0</td>\n",
       "      <td>0.050571</td>\n",
       "      <td>0.219121</td>\n",
       "      <td>0.0</td>\n",
       "      <td>0.0</td>\n",
       "      <td>0.0</td>\n",
       "      <td>0.0</td>\n",
       "      <td>1.0</td>\n",
       "    </tr>\n",
       "    <tr>\n",
       "      <th>checked_delivery_detail</th>\n",
       "      <td>55467.0</td>\n",
       "      <td>0.307408</td>\n",
       "      <td>0.461424</td>\n",
       "      <td>0.0</td>\n",
       "      <td>0.0</td>\n",
       "      <td>0.0</td>\n",
       "      <td>1.0</td>\n",
       "      <td>1.0</td>\n",
       "    </tr>\n",
       "    <tr>\n",
       "      <th>checked_returns_detail</th>\n",
       "      <td>55467.0</td>\n",
       "      <td>0.022987</td>\n",
       "      <td>0.149862</td>\n",
       "      <td>0.0</td>\n",
       "      <td>0.0</td>\n",
       "      <td>0.0</td>\n",
       "      <td>0.0</td>\n",
       "      <td>1.0</td>\n",
       "    </tr>\n",
       "    <tr>\n",
       "      <th>sign_in</th>\n",
       "      <td>55467.0</td>\n",
       "      <td>0.353580</td>\n",
       "      <td>0.478085</td>\n",
       "      <td>0.0</td>\n",
       "      <td>0.0</td>\n",
       "      <td>0.0</td>\n",
       "      <td>1.0</td>\n",
       "      <td>1.0</td>\n",
       "    </tr>\n",
       "    <tr>\n",
       "      <th>saw_checkout</th>\n",
       "      <td>55467.0</td>\n",
       "      <td>0.340743</td>\n",
       "      <td>0.473963</td>\n",
       "      <td>0.0</td>\n",
       "      <td>0.0</td>\n",
       "      <td>0.0</td>\n",
       "      <td>1.0</td>\n",
       "      <td>1.0</td>\n",
       "    </tr>\n",
       "    <tr>\n",
       "      <th>saw_sizecharts</th>\n",
       "      <td>55467.0</td>\n",
       "      <td>0.000919</td>\n",
       "      <td>0.030309</td>\n",
       "      <td>0.0</td>\n",
       "      <td>0.0</td>\n",
       "      <td>0.0</td>\n",
       "      <td>0.0</td>\n",
       "      <td>1.0</td>\n",
       "    </tr>\n",
       "    <tr>\n",
       "      <th>saw_delivery</th>\n",
       "      <td>55467.0</td>\n",
       "      <td>0.012332</td>\n",
       "      <td>0.110362</td>\n",
       "      <td>0.0</td>\n",
       "      <td>0.0</td>\n",
       "      <td>0.0</td>\n",
       "      <td>0.0</td>\n",
       "      <td>1.0</td>\n",
       "    </tr>\n",
       "    <tr>\n",
       "      <th>saw_account_upgrade</th>\n",
       "      <td>55467.0</td>\n",
       "      <td>0.002776</td>\n",
       "      <td>0.052619</td>\n",
       "      <td>0.0</td>\n",
       "      <td>0.0</td>\n",
       "      <td>0.0</td>\n",
       "      <td>0.0</td>\n",
       "      <td>1.0</td>\n",
       "    </tr>\n",
       "    <tr>\n",
       "      <th>saw_homepage</th>\n",
       "      <td>55467.0</td>\n",
       "      <td>0.606018</td>\n",
       "      <td>0.488635</td>\n",
       "      <td>0.0</td>\n",
       "      <td>0.0</td>\n",
       "      <td>1.0</td>\n",
       "      <td>1.0</td>\n",
       "      <td>1.0</td>\n",
       "    </tr>\n",
       "    <tr>\n",
       "      <th>device_mobile</th>\n",
       "      <td>55467.0</td>\n",
       "      <td>0.627220</td>\n",
       "      <td>0.483549</td>\n",
       "      <td>0.0</td>\n",
       "      <td>0.0</td>\n",
       "      <td>1.0</td>\n",
       "      <td>1.0</td>\n",
       "      <td>1.0</td>\n",
       "    </tr>\n",
       "    <tr>\n",
       "      <th>device_computer</th>\n",
       "      <td>55467.0</td>\n",
       "      <td>0.244235</td>\n",
       "      <td>0.429637</td>\n",
       "      <td>0.0</td>\n",
       "      <td>0.0</td>\n",
       "      <td>0.0</td>\n",
       "      <td>0.0</td>\n",
       "      <td>1.0</td>\n",
       "    </tr>\n",
       "    <tr>\n",
       "      <th>device_tablet</th>\n",
       "      <td>55467.0</td>\n",
       "      <td>0.139056</td>\n",
       "      <td>0.346008</td>\n",
       "      <td>0.0</td>\n",
       "      <td>0.0</td>\n",
       "      <td>0.0</td>\n",
       "      <td>0.0</td>\n",
       "      <td>1.0</td>\n",
       "    </tr>\n",
       "    <tr>\n",
       "      <th>returning_user</th>\n",
       "      <td>55467.0</td>\n",
       "      <td>0.611192</td>\n",
       "      <td>0.487484</td>\n",
       "      <td>0.0</td>\n",
       "      <td>0.0</td>\n",
       "      <td>1.0</td>\n",
       "      <td>1.0</td>\n",
       "      <td>1.0</td>\n",
       "    </tr>\n",
       "    <tr>\n",
       "      <th>loc_uk</th>\n",
       "      <td>55467.0</td>\n",
       "      <td>0.931058</td>\n",
       "      <td>0.253358</td>\n",
       "      <td>0.0</td>\n",
       "      <td>1.0</td>\n",
       "      <td>1.0</td>\n",
       "      <td>1.0</td>\n",
       "      <td>1.0</td>\n",
       "    </tr>\n",
       "    <tr>\n",
       "      <th>ordered</th>\n",
       "      <td>55467.0</td>\n",
       "      <td>0.275371</td>\n",
       "      <td>0.446705</td>\n",
       "      <td>0.0</td>\n",
       "      <td>0.0</td>\n",
       "      <td>0.0</td>\n",
       "      <td>1.0</td>\n",
       "      <td>1.0</td>\n",
       "    </tr>\n",
       "  </tbody>\n",
       "</table>\n",
       "</div>"
      ],
      "text/plain": [
       "                           count      mean       std  min  25%  50%  75%  max\n",
       "basket_icon_click        55467.0  0.309301  0.462210  0.0  0.0  0.0  1.0  1.0\n",
       "basket_add_list          55467.0  0.213082  0.409489  0.0  0.0  0.0  0.0  1.0\n",
       "basket_add_detail        55467.0  0.339697  0.473611  0.0  0.0  0.0  1.0  1.0\n",
       "sort_by                  55467.0  0.077902  0.268020  0.0  0.0  0.0  0.0  1.0\n",
       "image_picker             55467.0  0.060577  0.238554  0.0  0.0  0.0  0.0  1.0\n",
       "account_page_click       55467.0  0.010385  0.101375  0.0  0.0  0.0  0.0  1.0\n",
       "promo_banner_click       55467.0  0.036941  0.188618  0.0  0.0  0.0  0.0  1.0\n",
       "detail_wishlist_add      55467.0  0.007770  0.087807  0.0  0.0  0.0  0.0  1.0\n",
       "list_size_dropdown       55467.0  0.487695  0.499853  0.0  0.0  0.0  1.0  1.0\n",
       "closed_minibasket_click  55467.0  0.050571  0.219121  0.0  0.0  0.0  0.0  1.0\n",
       "checked_delivery_detail  55467.0  0.307408  0.461424  0.0  0.0  0.0  1.0  1.0\n",
       "checked_returns_detail   55467.0  0.022987  0.149862  0.0  0.0  0.0  0.0  1.0\n",
       "sign_in                  55467.0  0.353580  0.478085  0.0  0.0  0.0  1.0  1.0\n",
       "saw_checkout             55467.0  0.340743  0.473963  0.0  0.0  0.0  1.0  1.0\n",
       "saw_sizecharts           55467.0  0.000919  0.030309  0.0  0.0  0.0  0.0  1.0\n",
       "saw_delivery             55467.0  0.012332  0.110362  0.0  0.0  0.0  0.0  1.0\n",
       "saw_account_upgrade      55467.0  0.002776  0.052619  0.0  0.0  0.0  0.0  1.0\n",
       "saw_homepage             55467.0  0.606018  0.488635  0.0  0.0  1.0  1.0  1.0\n",
       "device_mobile            55467.0  0.627220  0.483549  0.0  0.0  1.0  1.0  1.0\n",
       "device_computer          55467.0  0.244235  0.429637  0.0  0.0  0.0  0.0  1.0\n",
       "device_tablet            55467.0  0.139056  0.346008  0.0  0.0  0.0  0.0  1.0\n",
       "returning_user           55467.0  0.611192  0.487484  0.0  0.0  1.0  1.0  1.0\n",
       "loc_uk                   55467.0  0.931058  0.253358  0.0  1.0  1.0  1.0  1.0\n",
       "ordered                  55467.0  0.275371  0.446705  0.0  0.0  0.0  1.0  1.0"
      ]
     },
     "execution_count": 87,
     "metadata": {},
     "output_type": "execute_result"
    }
   ],
   "source": [
    "df.describe(include='all').T"
   ]
  },
  {
   "cell_type": "markdown",
   "metadata": {
    "id": "6jKdvUXm5b3k"
   },
   "source": [
    "\n",
    "\n",
    "\n",
    "## 5. Further EDA"
   ]
  },
  {
   "cell_type": "markdown",
   "metadata": {},
   "source": [
    "Let's try to answer the questions:\n",
    "* Is clicking on a promo banner providing more orders?\n",
    "* Are returning users more often to place an order?\n",
    "* Are how much and which actions are taken by the returning users? Are they going directly into the checkout, indicating, that they have to think about the purchase?"
   ]
  },
  {
   "cell_type": "code",
   "execution_count": 88,
   "metadata": {
    "ExecuteTime": {
     "end_time": "2024-06-15T14:38:54.342596Z",
     "start_time": "2024-06-15T14:38:52.787040Z"
    }
   },
   "outputs": [
    {
     "data": {
      "text/html": [
       "<div>\n",
       "<style scoped>\n",
       "    .dataframe tbody tr th:only-of-type {\n",
       "        vertical-align: middle;\n",
       "    }\n",
       "\n",
       "    .dataframe tbody tr th {\n",
       "        vertical-align: top;\n",
       "    }\n",
       "\n",
       "    .dataframe thead th {\n",
       "        text-align: right;\n",
       "    }\n",
       "</style>\n",
       "<table border=\"1\" class=\"dataframe\">\n",
       "  <thead>\n",
       "    <tr style=\"text-align: right;\">\n",
       "      <th></th>\n",
       "      <th>device_mobile</th>\n",
       "      <th>device_computer</th>\n",
       "      <th>device_tablet</th>\n",
       "      <th>ordered</th>\n",
       "    </tr>\n",
       "  </thead>\n",
       "  <tbody>\n",
       "    <tr>\n",
       "      <th>0</th>\n",
       "      <td>0</td>\n",
       "      <td>0</td>\n",
       "      <td>1</td>\n",
       "      <td>7470</td>\n",
       "    </tr>\n",
       "    <tr>\n",
       "      <th>1</th>\n",
       "      <td>0</td>\n",
       "      <td>1</td>\n",
       "      <td>0</td>\n",
       "      <td>13145</td>\n",
       "    </tr>\n",
       "    <tr>\n",
       "      <th>2</th>\n",
       "      <td>0</td>\n",
       "      <td>1</td>\n",
       "      <td>1</td>\n",
       "      <td>62</td>\n",
       "    </tr>\n",
       "    <tr>\n",
       "      <th>3</th>\n",
       "      <td>1</td>\n",
       "      <td>0</td>\n",
       "      <td>0</td>\n",
       "      <td>34278</td>\n",
       "    </tr>\n",
       "    <tr>\n",
       "      <th>4</th>\n",
       "      <td>1</td>\n",
       "      <td>0</td>\n",
       "      <td>1</td>\n",
       "      <td>172</td>\n",
       "    </tr>\n",
       "    <tr>\n",
       "      <th>5</th>\n",
       "      <td>1</td>\n",
       "      <td>1</td>\n",
       "      <td>0</td>\n",
       "      <td>331</td>\n",
       "    </tr>\n",
       "    <tr>\n",
       "      <th>6</th>\n",
       "      <td>1</td>\n",
       "      <td>1</td>\n",
       "      <td>1</td>\n",
       "      <td>9</td>\n",
       "    </tr>\n",
       "  </tbody>\n",
       "</table>\n",
       "</div>"
      ],
      "text/plain": [
       "   device_mobile  device_computer  device_tablet  ordered\n",
       "0              0                0              1     7470\n",
       "1              0                1              0    13145\n",
       "2              0                1              1       62\n",
       "3              1                0              0    34278\n",
       "4              1                0              1      172\n",
       "5              1                1              0      331\n",
       "6              1                1              1        9"
      ]
     },
     "execution_count": 88,
     "metadata": {},
     "output_type": "execute_result"
    }
   ],
   "source": [
    "df_order_device = (df[['device_mobile', 'device_computer', 'device_tablet','ordered']]\n",
    "                    .groupby(['device_mobile', 'device_computer', 'device_tablet'])\n",
    "                    .count()\n",
    "                    .reset_index())\n",
    "df_order_device"
   ]
  },
  {
   "cell_type": "code",
   "execution_count": 89,
   "metadata": {
    "ExecuteTime": {
     "end_time": "2024-06-15T14:38:54.344457Z",
     "start_time": "2024-06-15T14:38:54.344381Z"
    },
    "id": "Z-QoU00N8H1E"
   },
   "outputs": [
    {
     "data": {
      "text/plain": [
       "37"
      ]
     },
     "execution_count": 89,
     "metadata": {},
     "output_type": "execute_result"
    }
   ],
   "source": [
    "df[(df['device_mobile'] == 1) & (df['device_computer'] == 1) & (df['device_tablet'] == 1)].nunique().sum()"
   ]
  },
  {
   "cell_type": "markdown",
   "metadata": {
    "id": "w3_yiIwK9UQ-"
   },
   "source": [
    "Look's like we have an False Values. The same userID is referenced to \"visitor\" not to \"User\". It means, that the visitor cannot be on 2 or more devices parallel. Those rows will be eliminated"
   ]
  },
  {
   "cell_type": "code",
   "execution_count": 90,
   "metadata": {
    "executionInfo": {
     "elapsed": 564,
     "status": "ok",
     "timestamp": 1715190369389,
     "user": {
      "displayName": "Grzegorz",
      "userId": "16385384664201948728"
     },
     "user_tz": -120
    },
    "id": "ONqRuzeN6eRn"
   },
   "outputs": [],
   "source": [
    "df_mobile_clean = df[(df['device_mobile'] == 1) & (df['device_computer'] == 0) & (df['device_tablet'] == 0) |\n",
    "                     (df['device_mobile'] == 0) & (df['device_computer'] == 1) & (df['device_tablet'] == 0) |\n",
    "                     (df['device_mobile'] == 0) & (df['device_computer'] == 0) & (df['device_tablet'] == 1)\n",
    "]\n",
    "df = df_mobile_clean.copy()"
   ]
  },
  {
   "cell_type": "code",
   "execution_count": 91,
   "metadata": {
    "id": "6jAXULMh-igO"
   },
   "outputs": [
    {
     "data": {
      "text/html": [
       "<div>\n",
       "<style scoped>\n",
       "    .dataframe tbody tr th:only-of-type {\n",
       "        vertical-align: middle;\n",
       "    }\n",
       "\n",
       "    .dataframe tbody tr th {\n",
       "        vertical-align: top;\n",
       "    }\n",
       "\n",
       "    .dataframe thead th {\n",
       "        text-align: right;\n",
       "    }\n",
       "</style>\n",
       "<table border=\"1\" class=\"dataframe\">\n",
       "  <thead>\n",
       "    <tr style=\"text-align: right;\">\n",
       "      <th></th>\n",
       "      <th></th>\n",
       "      <th></th>\n",
       "      <th>ordered</th>\n",
       "    </tr>\n",
       "    <tr>\n",
       "      <th>device_mobile</th>\n",
       "      <th>device_computer</th>\n",
       "      <th>device_tablet</th>\n",
       "      <th></th>\n",
       "    </tr>\n",
       "  </thead>\n",
       "  <tbody>\n",
       "    <tr>\n",
       "      <th rowspan=\"2\" valign=\"top\">0</th>\n",
       "      <th>0</th>\n",
       "      <th>1</th>\n",
       "      <td>7470</td>\n",
       "    </tr>\n",
       "    <tr>\n",
       "      <th>1</th>\n",
       "      <th>0</th>\n",
       "      <td>13145</td>\n",
       "    </tr>\n",
       "    <tr>\n",
       "      <th>1</th>\n",
       "      <th>0</th>\n",
       "      <th>0</th>\n",
       "      <td>34278</td>\n",
       "    </tr>\n",
       "  </tbody>\n",
       "</table>\n",
       "</div>"
      ],
      "text/plain": [
       "                                             ordered\n",
       "device_mobile device_computer device_tablet         \n",
       "0             0               1                 7470\n",
       "              1               0                13145\n",
       "1             0               0                34278"
      ]
     },
     "execution_count": 91,
     "metadata": {},
     "output_type": "execute_result"
    }
   ],
   "source": [
    "df_order_device = (df_mobile_clean[['device_mobile', 'device_computer', 'device_tablet','ordered']]\n",
    "                    .groupby(['device_mobile', 'device_computer', 'device_tablet'])\n",
    "                    .count()\n",
    "                    )\n",
    "df_order_device"
   ]
  },
  {
   "cell_type": "code",
   "execution_count": 92,
   "metadata": {
    "id": "F8DKm2gaPIwx"
   },
   "outputs": [
    {
     "data": {
      "text/html": [
       "<div>\n",
       "<style scoped>\n",
       "    .dataframe tbody tr th:only-of-type {\n",
       "        vertical-align: middle;\n",
       "    }\n",
       "\n",
       "    .dataframe tbody tr th {\n",
       "        vertical-align: top;\n",
       "    }\n",
       "\n",
       "    .dataframe thead th {\n",
       "        text-align: right;\n",
       "    }\n",
       "</style>\n",
       "<table border=\"1\" class=\"dataframe\">\n",
       "  <thead>\n",
       "    <tr style=\"text-align: right;\">\n",
       "      <th></th>\n",
       "      <th>basket_icon_click</th>\n",
       "      <th>basket_add_list</th>\n",
       "      <th>basket_add_detail</th>\n",
       "      <th>sort_by</th>\n",
       "      <th>image_picker</th>\n",
       "      <th>account_page_click</th>\n",
       "      <th>promo_banner_click</th>\n",
       "      <th>detail_wishlist_add</th>\n",
       "      <th>list_size_dropdown</th>\n",
       "      <th>closed_minibasket_click</th>\n",
       "      <th>...</th>\n",
       "      <th>saw_delivery</th>\n",
       "      <th>saw_account_upgrade</th>\n",
       "      <th>saw_homepage</th>\n",
       "      <th>device_mobile</th>\n",
       "      <th>device_computer</th>\n",
       "      <th>device_tablet</th>\n",
       "      <th>returning_user</th>\n",
       "      <th>loc_uk</th>\n",
       "      <th>ordered</th>\n",
       "      <th>count</th>\n",
       "    </tr>\n",
       "  </thead>\n",
       "  <tbody>\n",
       "    <tr>\n",
       "      <th>11</th>\n",
       "      <td>0</td>\n",
       "      <td>0</td>\n",
       "      <td>0</td>\n",
       "      <td>0</td>\n",
       "      <td>0</td>\n",
       "      <td>0</td>\n",
       "      <td>0</td>\n",
       "      <td>0</td>\n",
       "      <td>0</td>\n",
       "      <td>0</td>\n",
       "      <td>...</td>\n",
       "      <td>0</td>\n",
       "      <td>0</td>\n",
       "      <td>1</td>\n",
       "      <td>1</td>\n",
       "      <td>0</td>\n",
       "      <td>0</td>\n",
       "      <td>1</td>\n",
       "      <td>1</td>\n",
       "      <td>0</td>\n",
       "      <td>3785</td>\n",
       "    </tr>\n",
       "    <tr>\n",
       "      <th>9</th>\n",
       "      <td>0</td>\n",
       "      <td>0</td>\n",
       "      <td>0</td>\n",
       "      <td>0</td>\n",
       "      <td>0</td>\n",
       "      <td>0</td>\n",
       "      <td>0</td>\n",
       "      <td>0</td>\n",
       "      <td>0</td>\n",
       "      <td>0</td>\n",
       "      <td>...</td>\n",
       "      <td>0</td>\n",
       "      <td>0</td>\n",
       "      <td>1</td>\n",
       "      <td>1</td>\n",
       "      <td>0</td>\n",
       "      <td>0</td>\n",
       "      <td>0</td>\n",
       "      <td>1</td>\n",
       "      <td>0</td>\n",
       "      <td>3369</td>\n",
       "    </tr>\n",
       "    <tr>\n",
       "      <th>288</th>\n",
       "      <td>0</td>\n",
       "      <td>0</td>\n",
       "      <td>0</td>\n",
       "      <td>0</td>\n",
       "      <td>0</td>\n",
       "      <td>0</td>\n",
       "      <td>0</td>\n",
       "      <td>0</td>\n",
       "      <td>1</td>\n",
       "      <td>0</td>\n",
       "      <td>...</td>\n",
       "      <td>0</td>\n",
       "      <td>0</td>\n",
       "      <td>0</td>\n",
       "      <td>1</td>\n",
       "      <td>0</td>\n",
       "      <td>0</td>\n",
       "      <td>1</td>\n",
       "      <td>1</td>\n",
       "      <td>0</td>\n",
       "      <td>2479</td>\n",
       "    </tr>\n",
       "    <tr>\n",
       "      <th>286</th>\n",
       "      <td>0</td>\n",
       "      <td>0</td>\n",
       "      <td>0</td>\n",
       "      <td>0</td>\n",
       "      <td>0</td>\n",
       "      <td>0</td>\n",
       "      <td>0</td>\n",
       "      <td>0</td>\n",
       "      <td>1</td>\n",
       "      <td>0</td>\n",
       "      <td>...</td>\n",
       "      <td>0</td>\n",
       "      <td>0</td>\n",
       "      <td>0</td>\n",
       "      <td>1</td>\n",
       "      <td>0</td>\n",
       "      <td>0</td>\n",
       "      <td>0</td>\n",
       "      <td>1</td>\n",
       "      <td>0</td>\n",
       "      <td>1845</td>\n",
       "    </tr>\n",
       "    <tr>\n",
       "      <th>300</th>\n",
       "      <td>0</td>\n",
       "      <td>0</td>\n",
       "      <td>0</td>\n",
       "      <td>0</td>\n",
       "      <td>0</td>\n",
       "      <td>0</td>\n",
       "      <td>0</td>\n",
       "      <td>0</td>\n",
       "      <td>1</td>\n",
       "      <td>0</td>\n",
       "      <td>...</td>\n",
       "      <td>0</td>\n",
       "      <td>0</td>\n",
       "      <td>1</td>\n",
       "      <td>1</td>\n",
       "      <td>0</td>\n",
       "      <td>0</td>\n",
       "      <td>1</td>\n",
       "      <td>1</td>\n",
       "      <td>0</td>\n",
       "      <td>1666</td>\n",
       "    </tr>\n",
       "  </tbody>\n",
       "</table>\n",
       "<p>5 rows × 25 columns</p>\n",
       "</div>"
      ],
      "text/plain": [
       "     basket_icon_click  basket_add_list  basket_add_detail  sort_by  \\\n",
       "11                   0                0                  0        0   \n",
       "9                    0                0                  0        0   \n",
       "288                  0                0                  0        0   \n",
       "286                  0                0                  0        0   \n",
       "300                  0                0                  0        0   \n",
       "\n",
       "     image_picker  account_page_click  promo_banner_click  \\\n",
       "11              0                   0                   0   \n",
       "9               0                   0                   0   \n",
       "288             0                   0                   0   \n",
       "286             0                   0                   0   \n",
       "300             0                   0                   0   \n",
       "\n",
       "     detail_wishlist_add  list_size_dropdown  closed_minibasket_click  ...  \\\n",
       "11                     0                   0                        0  ...   \n",
       "9                      0                   0                        0  ...   \n",
       "288                    0                   1                        0  ...   \n",
       "286                    0                   1                        0  ...   \n",
       "300                    0                   1                        0  ...   \n",
       "\n",
       "     saw_delivery  saw_account_upgrade  saw_homepage  device_mobile  \\\n",
       "11              0                    0             1              1   \n",
       "9               0                    0             1              1   \n",
       "288             0                    0             0              1   \n",
       "286             0                    0             0              1   \n",
       "300             0                    0             1              1   \n",
       "\n",
       "     device_computer  device_tablet  returning_user  loc_uk  ordered  count  \n",
       "11                 0              0               1       1        0   3785  \n",
       "9                  0              0               0       1        0   3369  \n",
       "288                0              0               1       1        0   2479  \n",
       "286                0              0               0       1        0   1845  \n",
       "300                0              0               1       1        0   1666  \n",
       "\n",
       "[5 rows x 25 columns]"
      ]
     },
     "execution_count": 92,
     "metadata": {},
     "output_type": "execute_result"
    }
   ],
   "source": [
    "# Grupowanie wierszy po wszystkich kolumnach i liczenie liczebności\n",
    "aggregated_df = df.groupby(df.columns.tolist())\\\n",
    "                    .size()\\\n",
    "                    .reset_index(name='count')\\\n",
    "                    .sort_values(by='count', ascending=False)\n",
    "\n",
    "aggregated_df.head()"
   ]
  },
  {
   "cell_type": "code",
   "execution_count": 93,
   "metadata": {
    "id": "5wbbc2wyu---"
   },
   "outputs": [
    {
     "data": {
      "text/html": [
       "<div>\n",
       "<style scoped>\n",
       "    .dataframe tbody tr th:only-of-type {\n",
       "        vertical-align: middle;\n",
       "    }\n",
       "\n",
       "    .dataframe tbody tr th {\n",
       "        vertical-align: top;\n",
       "    }\n",
       "\n",
       "    .dataframe thead th {\n",
       "        text-align: right;\n",
       "    }\n",
       "</style>\n",
       "<table border=\"1\" class=\"dataframe\">\n",
       "  <thead>\n",
       "    <tr style=\"text-align: right;\">\n",
       "      <th></th>\n",
       "      <th>basket_icon_click</th>\n",
       "      <th>basket_add_list</th>\n",
       "      <th>basket_add_detail</th>\n",
       "      <th>sort_by</th>\n",
       "      <th>image_picker</th>\n",
       "      <th>account_page_click</th>\n",
       "      <th>promo_banner_click</th>\n",
       "      <th>detail_wishlist_add</th>\n",
       "      <th>list_size_dropdown</th>\n",
       "      <th>closed_minibasket_click</th>\n",
       "      <th>...</th>\n",
       "      <th>saw_delivery</th>\n",
       "      <th>saw_account_upgrade</th>\n",
       "      <th>saw_homepage</th>\n",
       "      <th>device_mobile</th>\n",
       "      <th>device_computer</th>\n",
       "      <th>device_tablet</th>\n",
       "      <th>returning_user</th>\n",
       "      <th>loc_uk</th>\n",
       "      <th>ordered</th>\n",
       "      <th>count</th>\n",
       "    </tr>\n",
       "  </thead>\n",
       "  <tbody>\n",
       "    <tr>\n",
       "      <th>4111</th>\n",
       "      <td>1</td>\n",
       "      <td>1</td>\n",
       "      <td>1</td>\n",
       "      <td>0</td>\n",
       "      <td>0</td>\n",
       "      <td>0</td>\n",
       "      <td>0</td>\n",
       "      <td>0</td>\n",
       "      <td>1</td>\n",
       "      <td>0</td>\n",
       "      <td>...</td>\n",
       "      <td>0</td>\n",
       "      <td>0</td>\n",
       "      <td>1</td>\n",
       "      <td>1</td>\n",
       "      <td>0</td>\n",
       "      <td>0</td>\n",
       "      <td>1</td>\n",
       "      <td>1</td>\n",
       "      <td>1</td>\n",
       "      <td>631</td>\n",
       "    </tr>\n",
       "    <tr>\n",
       "      <th>2730</th>\n",
       "      <td>1</td>\n",
       "      <td>0</td>\n",
       "      <td>1</td>\n",
       "      <td>0</td>\n",
       "      <td>0</td>\n",
       "      <td>0</td>\n",
       "      <td>0</td>\n",
       "      <td>0</td>\n",
       "      <td>0</td>\n",
       "      <td>0</td>\n",
       "      <td>...</td>\n",
       "      <td>0</td>\n",
       "      <td>0</td>\n",
       "      <td>1</td>\n",
       "      <td>1</td>\n",
       "      <td>0</td>\n",
       "      <td>0</td>\n",
       "      <td>1</td>\n",
       "      <td>1</td>\n",
       "      <td>1</td>\n",
       "      <td>497</td>\n",
       "    </tr>\n",
       "    <tr>\n",
       "      <th>2714</th>\n",
       "      <td>1</td>\n",
       "      <td>0</td>\n",
       "      <td>1</td>\n",
       "      <td>0</td>\n",
       "      <td>0</td>\n",
       "      <td>0</td>\n",
       "      <td>0</td>\n",
       "      <td>0</td>\n",
       "      <td>0</td>\n",
       "      <td>0</td>\n",
       "      <td>...</td>\n",
       "      <td>0</td>\n",
       "      <td>0</td>\n",
       "      <td>0</td>\n",
       "      <td>1</td>\n",
       "      <td>0</td>\n",
       "      <td>0</td>\n",
       "      <td>1</td>\n",
       "      <td>1</td>\n",
       "      <td>1</td>\n",
       "      <td>361</td>\n",
       "    </tr>\n",
       "    <tr>\n",
       "      <th>3682</th>\n",
       "      <td>1</td>\n",
       "      <td>1</td>\n",
       "      <td>0</td>\n",
       "      <td>0</td>\n",
       "      <td>0</td>\n",
       "      <td>0</td>\n",
       "      <td>0</td>\n",
       "      <td>0</td>\n",
       "      <td>1</td>\n",
       "      <td>0</td>\n",
       "      <td>...</td>\n",
       "      <td>0</td>\n",
       "      <td>0</td>\n",
       "      <td>1</td>\n",
       "      <td>1</td>\n",
       "      <td>0</td>\n",
       "      <td>0</td>\n",
       "      <td>1</td>\n",
       "      <td>1</td>\n",
       "      <td>1</td>\n",
       "      <td>340</td>\n",
       "    </tr>\n",
       "    <tr>\n",
       "      <th>2940</th>\n",
       "      <td>1</td>\n",
       "      <td>0</td>\n",
       "      <td>1</td>\n",
       "      <td>0</td>\n",
       "      <td>0</td>\n",
       "      <td>0</td>\n",
       "      <td>0</td>\n",
       "      <td>0</td>\n",
       "      <td>1</td>\n",
       "      <td>0</td>\n",
       "      <td>...</td>\n",
       "      <td>0</td>\n",
       "      <td>0</td>\n",
       "      <td>1</td>\n",
       "      <td>1</td>\n",
       "      <td>0</td>\n",
       "      <td>0</td>\n",
       "      <td>1</td>\n",
       "      <td>1</td>\n",
       "      <td>1</td>\n",
       "      <td>316</td>\n",
       "    </tr>\n",
       "    <tr>\n",
       "      <th>1038</th>\n",
       "      <td>0</td>\n",
       "      <td>0</td>\n",
       "      <td>1</td>\n",
       "      <td>0</td>\n",
       "      <td>0</td>\n",
       "      <td>0</td>\n",
       "      <td>0</td>\n",
       "      <td>0</td>\n",
       "      <td>0</td>\n",
       "      <td>0</td>\n",
       "      <td>...</td>\n",
       "      <td>0</td>\n",
       "      <td>0</td>\n",
       "      <td>0</td>\n",
       "      <td>1</td>\n",
       "      <td>0</td>\n",
       "      <td>0</td>\n",
       "      <td>1</td>\n",
       "      <td>1</td>\n",
       "      <td>1</td>\n",
       "      <td>308</td>\n",
       "    </tr>\n",
       "    <tr>\n",
       "      <th>2337</th>\n",
       "      <td>1</td>\n",
       "      <td>0</td>\n",
       "      <td>0</td>\n",
       "      <td>0</td>\n",
       "      <td>0</td>\n",
       "      <td>0</td>\n",
       "      <td>0</td>\n",
       "      <td>0</td>\n",
       "      <td>0</td>\n",
       "      <td>0</td>\n",
       "      <td>...</td>\n",
       "      <td>0</td>\n",
       "      <td>0</td>\n",
       "      <td>1</td>\n",
       "      <td>1</td>\n",
       "      <td>0</td>\n",
       "      <td>0</td>\n",
       "      <td>1</td>\n",
       "      <td>1</td>\n",
       "      <td>1</td>\n",
       "      <td>266</td>\n",
       "    </tr>\n",
       "    <tr>\n",
       "      <th>4091</th>\n",
       "      <td>1</td>\n",
       "      <td>1</td>\n",
       "      <td>1</td>\n",
       "      <td>0</td>\n",
       "      <td>0</td>\n",
       "      <td>0</td>\n",
       "      <td>0</td>\n",
       "      <td>0</td>\n",
       "      <td>1</td>\n",
       "      <td>0</td>\n",
       "      <td>...</td>\n",
       "      <td>0</td>\n",
       "      <td>0</td>\n",
       "      <td>0</td>\n",
       "      <td>1</td>\n",
       "      <td>0</td>\n",
       "      <td>0</td>\n",
       "      <td>1</td>\n",
       "      <td>1</td>\n",
       "      <td>1</td>\n",
       "      <td>262</td>\n",
       "    </tr>\n",
       "    <tr>\n",
       "      <th>1056</th>\n",
       "      <td>0</td>\n",
       "      <td>0</td>\n",
       "      <td>1</td>\n",
       "      <td>0</td>\n",
       "      <td>0</td>\n",
       "      <td>0</td>\n",
       "      <td>0</td>\n",
       "      <td>0</td>\n",
       "      <td>0</td>\n",
       "      <td>0</td>\n",
       "      <td>...</td>\n",
       "      <td>0</td>\n",
       "      <td>0</td>\n",
       "      <td>1</td>\n",
       "      <td>1</td>\n",
       "      <td>0</td>\n",
       "      <td>0</td>\n",
       "      <td>1</td>\n",
       "      <td>1</td>\n",
       "      <td>1</td>\n",
       "      <td>257</td>\n",
       "    </tr>\n",
       "    <tr>\n",
       "      <th>1034</th>\n",
       "      <td>0</td>\n",
       "      <td>0</td>\n",
       "      <td>1</td>\n",
       "      <td>0</td>\n",
       "      <td>0</td>\n",
       "      <td>0</td>\n",
       "      <td>0</td>\n",
       "      <td>0</td>\n",
       "      <td>0</td>\n",
       "      <td>0</td>\n",
       "      <td>...</td>\n",
       "      <td>0</td>\n",
       "      <td>0</td>\n",
       "      <td>0</td>\n",
       "      <td>1</td>\n",
       "      <td>0</td>\n",
       "      <td>0</td>\n",
       "      <td>0</td>\n",
       "      <td>1</td>\n",
       "      <td>1</td>\n",
       "      <td>251</td>\n",
       "    </tr>\n",
       "  </tbody>\n",
       "</table>\n",
       "<p>10 rows × 25 columns</p>\n",
       "</div>"
      ],
      "text/plain": [
       "      basket_icon_click  basket_add_list  basket_add_detail  sort_by  \\\n",
       "4111                  1                1                  1        0   \n",
       "2730                  1                0                  1        0   \n",
       "2714                  1                0                  1        0   \n",
       "3682                  1                1                  0        0   \n",
       "2940                  1                0                  1        0   \n",
       "1038                  0                0                  1        0   \n",
       "2337                  1                0                  0        0   \n",
       "4091                  1                1                  1        0   \n",
       "1056                  0                0                  1        0   \n",
       "1034                  0                0                  1        0   \n",
       "\n",
       "      image_picker  account_page_click  promo_banner_click  \\\n",
       "4111             0                   0                   0   \n",
       "2730             0                   0                   0   \n",
       "2714             0                   0                   0   \n",
       "3682             0                   0                   0   \n",
       "2940             0                   0                   0   \n",
       "1038             0                   0                   0   \n",
       "2337             0                   0                   0   \n",
       "4091             0                   0                   0   \n",
       "1056             0                   0                   0   \n",
       "1034             0                   0                   0   \n",
       "\n",
       "      detail_wishlist_add  list_size_dropdown  closed_minibasket_click  ...  \\\n",
       "4111                    0                   1                        0  ...   \n",
       "2730                    0                   0                        0  ...   \n",
       "2714                    0                   0                        0  ...   \n",
       "3682                    0                   1                        0  ...   \n",
       "2940                    0                   1                        0  ...   \n",
       "1038                    0                   0                        0  ...   \n",
       "2337                    0                   0                        0  ...   \n",
       "4091                    0                   1                        0  ...   \n",
       "1056                    0                   0                        0  ...   \n",
       "1034                    0                   0                        0  ...   \n",
       "\n",
       "      saw_delivery  saw_account_upgrade  saw_homepage  device_mobile  \\\n",
       "4111             0                    0             1              1   \n",
       "2730             0                    0             1              1   \n",
       "2714             0                    0             0              1   \n",
       "3682             0                    0             1              1   \n",
       "2940             0                    0             1              1   \n",
       "1038             0                    0             0              1   \n",
       "2337             0                    0             1              1   \n",
       "4091             0                    0             0              1   \n",
       "1056             0                    0             1              1   \n",
       "1034             0                    0             0              1   \n",
       "\n",
       "      device_computer  device_tablet  returning_user  loc_uk  ordered  count  \n",
       "4111                0              0               1       1        1    631  \n",
       "2730                0              0               1       1        1    497  \n",
       "2714                0              0               1       1        1    361  \n",
       "3682                0              0               1       1        1    340  \n",
       "2940                0              0               1       1        1    316  \n",
       "1038                0              0               1       1        1    308  \n",
       "2337                0              0               1       1        1    266  \n",
       "4091                0              0               1       1        1    262  \n",
       "1056                0              0               1       1        1    257  \n",
       "1034                0              0               0       1        1    251  \n",
       "\n",
       "[10 rows x 25 columns]"
      ]
     },
     "execution_count": 93,
     "metadata": {},
     "output_type": "execute_result"
    }
   ],
   "source": [
    "agg_df_ordered = aggregated_df[aggregated_df['ordered'] == 1]\n",
    "agg_df_ordered.head(10)"
   ]
  },
  {
   "cell_type": "code",
   "execution_count": 94,
   "metadata": {
    "id": "KWXsI7YoDGPg"
   },
   "outputs": [],
   "source": [
    "# Przekształcenie do długiego formatu\n",
    "df_long = pd.melt(df_mobile_clean, id_vars=['ordered'], value_vars=['device_mobile', 'device_computer', 'device_tablet'], var_name='device_type', value_name='has_device')\n",
    "\n",
    "# Filtrowanie tak, aby zachować tylko wiersze gdzie 'has_device' == 1\n",
    "df_filtered = df_long[df_long['has_device'] == 1].drop('has_device', axis=1)\n"
   ]
  },
  {
   "cell_type": "code",
   "execution_count": 95,
   "metadata": {
    "id": "MGEHMNfqI700"
   },
   "outputs": [
    {
     "data": {
      "image/png": "[encoded data removed]",
      "text/plain": [
       "<Figure size 1000x600 with 1 Axes>"
      ]
     },
     "metadata": {},
     "output_type": "display_data"
    }
   ],
   "source": [
    "# Creating a countplot chart\n",
    "plt.figure(figsize=(10, 6))\n",
    "ax = sns.countplot(data=pd.DataFrame(df_filtered), x='device_type', hue='ordered', palette='coolwarm')\n",
    "\n",
    "# Adding annotations with \"count\" values above the bars\n",
    "for p in ax.patches:\n",
    "    ax.annotate(f\"{round(p.get_height()/len(df_filtered)*100,2)}%\", (p.get_x() + p.get_width() / 2., p.get_height()),\n",
    "                ha='center', va='center', fontsize=10, color='black', xytext=(0, 5),\n",
    "                textcoords='offset points')\n",
    "\n",
    "# Set title and axis labels\n",
    "ax.set_title(\"Number of orders by device type\", fontsize=14)\n",
    "ax.set_xlabel(\"Device type\", fontsize=12)\n",
    "ax.set_ylabel(\"Number of orders\", fontsize=12)\n",
    "\n",
    "# Displaying the chart\n",
    "plt.tight_layout()\n",
    "plt.show()\n"
   ]
  },
  {
   "cell_type": "code",
   "execution_count": 96,
   "metadata": {
    "id": "XjMzCSvyL3mW"
   },
   "outputs": [
    {
     "data": {
      "text/html": [
       "<div>\n",
       "<style scoped>\n",
       "    .dataframe tbody tr th:only-of-type {\n",
       "        vertical-align: middle;\n",
       "    }\n",
       "\n",
       "    .dataframe tbody tr th {\n",
       "        vertical-align: top;\n",
       "    }\n",
       "\n",
       "    .dataframe thead th {\n",
       "        text-align: right;\n",
       "    }\n",
       "</style>\n",
       "<table border=\"1\" class=\"dataframe\">\n",
       "  <thead>\n",
       "    <tr style=\"text-align: right;\">\n",
       "      <th></th>\n",
       "      <th>device_mobile</th>\n",
       "      <th>device_computer</th>\n",
       "      <th>device_tablet</th>\n",
       "    </tr>\n",
       "    <tr>\n",
       "      <th>ordered</th>\n",
       "      <th></th>\n",
       "      <th></th>\n",
       "      <th></th>\n",
       "    </tr>\n",
       "  </thead>\n",
       "  <tbody>\n",
       "    <tr>\n",
       "      <th>0</th>\n",
       "      <td>25714</td>\n",
       "      <td>9033</td>\n",
       "      <td>5276</td>\n",
       "    </tr>\n",
       "    <tr>\n",
       "      <th>1</th>\n",
       "      <td>8564</td>\n",
       "      <td>4112</td>\n",
       "      <td>2194</td>\n",
       "    </tr>\n",
       "  </tbody>\n",
       "</table>\n",
       "</div>"
      ],
      "text/plain": [
       "         device_mobile  device_computer  device_tablet\n",
       "ordered                                               \n",
       "0                25714             9033           5276\n",
       "1                 8564             4112           2194"
      ]
     },
     "execution_count": 96,
     "metadata": {},
     "output_type": "execute_result"
    }
   ],
   "source": [
    "# Which device was commonly used to place an order?\n",
    "\n",
    "df_common_device = df_mobile_clean[['device_mobile', 'device_computer', 'device_tablet','ordered']].groupby(['ordered']).sum()\n",
    "df_common_device"
   ]
  },
  {
   "cell_type": "code",
   "execution_count": 97,
   "metadata": {
    "id": "SJcLJkFdNa_s"
   },
   "outputs": [
    {
     "data": {
      "text/plain": [
       "14870"
      ]
     },
     "execution_count": 97,
     "metadata": {},
     "output_type": "execute_result"
    }
   ],
   "source": [
    "orders = df_mobile_clean['ordered'].sum()\n",
    "orders"
   ]
  },
  {
   "cell_type": "code",
   "execution_count": 98,
   "metadata": {
    "id": "KlkxvCLEPEu7"
   },
   "outputs": [
    {
     "name": "stdout",
     "output_type": "stream",
     "text": [
      "57.59% orders were made using device_mobile, which is 33.3% of the users of this device\n",
      "27.65% orders were made using device_computer, which is 45.52% of the users of this device\n",
      "14.75% orders were made using device_tablet, which is 41.58% of the users of this device\n"
     ]
    }
   ],
   "source": [
    "for col in df_common_device.columns.tolist():\n",
    "  print(f'{round(df_common_device[col][1]/orders*100,2)}% orders were made using {col}, which is {round(df_common_device[col][1]/df_common_device[col][0]*100,2)}% of the users of this device')"
   ]
  },
  {
   "cell_type": "markdown",
   "metadata": {},
   "source": [
    "It can be assumed that the most convincing device for shopping is a computer, slightly less tablets, and only 1/3 of purchases are made via mobile devices."
   ]
  },
  {
   "cell_type": "markdown",
   "metadata": {},
   "source": [
    "### Parcats and Sankey plots"
   ]
  },
  {
   "cell_type": "markdown",
   "metadata": {},
   "source": [
    "**Preparations**"
   ]
  },
  {
   "cell_type": "code",
   "execution_count": 99,
   "metadata": {},
   "outputs": [
    {
     "data": {
      "text/html": [
       "<div>\n",
       "<style scoped>\n",
       "    .dataframe tbody tr th:only-of-type {\n",
       "        vertical-align: middle;\n",
       "    }\n",
       "\n",
       "    .dataframe tbody tr th {\n",
       "        vertical-align: top;\n",
       "    }\n",
       "\n",
       "    .dataframe thead th {\n",
       "        text-align: right;\n",
       "    }\n",
       "</style>\n",
       "<table border=\"1\" class=\"dataframe\">\n",
       "  <thead>\n",
       "    <tr style=\"text-align: right;\">\n",
       "      <th></th>\n",
       "      <th>basket_icon_click</th>\n",
       "      <th>basket_add_list</th>\n",
       "      <th>basket_add_detail</th>\n",
       "      <th>sort_by</th>\n",
       "      <th>image_picker</th>\n",
       "      <th>account_page_click</th>\n",
       "      <th>promo_banner_click</th>\n",
       "      <th>detail_wishlist_add</th>\n",
       "      <th>list_size_dropdown</th>\n",
       "      <th>closed_minibasket_click</th>\n",
       "      <th>...</th>\n",
       "      <th>saw_sizecharts</th>\n",
       "      <th>saw_delivery</th>\n",
       "      <th>saw_account_upgrade</th>\n",
       "      <th>saw_homepage</th>\n",
       "      <th>device_mobile</th>\n",
       "      <th>device_computer</th>\n",
       "      <th>device_tablet</th>\n",
       "      <th>returning_user</th>\n",
       "      <th>loc_uk</th>\n",
       "      <th>ordered</th>\n",
       "    </tr>\n",
       "  </thead>\n",
       "  <tbody>\n",
       "    <tr>\n",
       "      <th>0</th>\n",
       "      <td>1</td>\n",
       "      <td>0</td>\n",
       "      <td>1</td>\n",
       "      <td>0</td>\n",
       "      <td>0</td>\n",
       "      <td>0</td>\n",
       "      <td>0</td>\n",
       "      <td>0</td>\n",
       "      <td>0</td>\n",
       "      <td>0</td>\n",
       "      <td>...</td>\n",
       "      <td>0</td>\n",
       "      <td>0</td>\n",
       "      <td>0</td>\n",
       "      <td>0</td>\n",
       "      <td>1</td>\n",
       "      <td>0</td>\n",
       "      <td>0</td>\n",
       "      <td>1</td>\n",
       "      <td>1</td>\n",
       "      <td>1</td>\n",
       "    </tr>\n",
       "    <tr>\n",
       "      <th>1</th>\n",
       "      <td>0</td>\n",
       "      <td>0</td>\n",
       "      <td>1</td>\n",
       "      <td>0</td>\n",
       "      <td>0</td>\n",
       "      <td>0</td>\n",
       "      <td>0</td>\n",
       "      <td>0</td>\n",
       "      <td>0</td>\n",
       "      <td>0</td>\n",
       "      <td>...</td>\n",
       "      <td>0</td>\n",
       "      <td>0</td>\n",
       "      <td>0</td>\n",
       "      <td>0</td>\n",
       "      <td>0</td>\n",
       "      <td>0</td>\n",
       "      <td>1</td>\n",
       "      <td>1</td>\n",
       "      <td>1</td>\n",
       "      <td>1</td>\n",
       "    </tr>\n",
       "    <tr>\n",
       "      <th>2</th>\n",
       "      <td>0</td>\n",
       "      <td>0</td>\n",
       "      <td>1</td>\n",
       "      <td>1</td>\n",
       "      <td>0</td>\n",
       "      <td>0</td>\n",
       "      <td>0</td>\n",
       "      <td>0</td>\n",
       "      <td>0</td>\n",
       "      <td>0</td>\n",
       "      <td>...</td>\n",
       "      <td>0</td>\n",
       "      <td>0</td>\n",
       "      <td>0</td>\n",
       "      <td>0</td>\n",
       "      <td>0</td>\n",
       "      <td>0</td>\n",
       "      <td>1</td>\n",
       "      <td>0</td>\n",
       "      <td>1</td>\n",
       "      <td>0</td>\n",
       "    </tr>\n",
       "    <tr>\n",
       "      <th>3</th>\n",
       "      <td>0</td>\n",
       "      <td>0</td>\n",
       "      <td>0</td>\n",
       "      <td>0</td>\n",
       "      <td>0</td>\n",
       "      <td>0</td>\n",
       "      <td>0</td>\n",
       "      <td>0</td>\n",
       "      <td>0</td>\n",
       "      <td>0</td>\n",
       "      <td>...</td>\n",
       "      <td>0</td>\n",
       "      <td>0</td>\n",
       "      <td>0</td>\n",
       "      <td>1</td>\n",
       "      <td>0</td>\n",
       "      <td>1</td>\n",
       "      <td>0</td>\n",
       "      <td>0</td>\n",
       "      <td>1</td>\n",
       "      <td>0</td>\n",
       "    </tr>\n",
       "    <tr>\n",
       "      <th>4</th>\n",
       "      <td>1</td>\n",
       "      <td>0</td>\n",
       "      <td>1</td>\n",
       "      <td>0</td>\n",
       "      <td>1</td>\n",
       "      <td>0</td>\n",
       "      <td>0</td>\n",
       "      <td>0</td>\n",
       "      <td>0</td>\n",
       "      <td>0</td>\n",
       "      <td>...</td>\n",
       "      <td>0</td>\n",
       "      <td>0</td>\n",
       "      <td>0</td>\n",
       "      <td>0</td>\n",
       "      <td>0</td>\n",
       "      <td>1</td>\n",
       "      <td>0</td>\n",
       "      <td>1</td>\n",
       "      <td>1</td>\n",
       "      <td>1</td>\n",
       "    </tr>\n",
       "  </tbody>\n",
       "</table>\n",
       "<p>5 rows × 24 columns</p>\n",
       "</div>"
      ],
      "text/plain": [
       "   basket_icon_click  basket_add_list  basket_add_detail  sort_by  \\\n",
       "0                  1                0                  1        0   \n",
       "1                  0                0                  1        0   \n",
       "2                  0                0                  1        1   \n",
       "3                  0                0                  0        0   \n",
       "4                  1                0                  1        0   \n",
       "\n",
       "   image_picker  account_page_click  promo_banner_click  detail_wishlist_add  \\\n",
       "0             0                   0                   0                    0   \n",
       "1             0                   0                   0                    0   \n",
       "2             0                   0                   0                    0   \n",
       "3             0                   0                   0                    0   \n",
       "4             1                   0                   0                    0   \n",
       "\n",
       "   list_size_dropdown  closed_minibasket_click  ...  saw_sizecharts  \\\n",
       "0                   0                        0  ...               0   \n",
       "1                   0                        0  ...               0   \n",
       "2                   0                        0  ...               0   \n",
       "3                   0                        0  ...               0   \n",
       "4                   0                        0  ...               0   \n",
       "\n",
       "   saw_delivery  saw_account_upgrade  saw_homepage  device_mobile  \\\n",
       "0             0                    0             0              1   \n",
       "1             0                    0             0              0   \n",
       "2             0                    0             0              0   \n",
       "3             0                    0             1              0   \n",
       "4             0                    0             0              0   \n",
       "\n",
       "   device_computer  device_tablet  returning_user  loc_uk  ordered  \n",
       "0                0              0               1       1        1  \n",
       "1                0              1               1       1        1  \n",
       "2                0              1               0       1        0  \n",
       "3                1              0               0       1        0  \n",
       "4                1              0               1       1        1  \n",
       "\n",
       "[5 rows x 24 columns]"
      ]
     },
     "execution_count": 99,
     "metadata": {},
     "output_type": "execute_result"
    }
   ],
   "source": [
    "# DataFrame definitions for Parcats and Sankey\n",
    "df_pc = (df.sample(n=5000)           # Sampling the DataFrame for better performance\n",
    "           .copy()                    # copy the df in memory\n",
    "           .reset_index(drop=True))   # Reset the index\n",
    "df_pc.head()"
   ]
  },
  {
   "cell_type": "code",
   "execution_count": 100,
   "metadata": {
    "ExecuteTime": {
     "end_time": "2024-06-15T16:21:01.372289Z",
     "start_time": "2024-06-15T16:21:01.360260Z"
    }
   },
   "outputs": [],
   "source": [
    "class ParcatsSankeyPlot:\n",
    "    def __init__(self, df, columns, chart='sankey', w=1200, h=800):\n",
    "        self.df = df\n",
    "        self.columns = columns\n",
    "        self.chart = chart\n",
    "        self.w = w\n",
    "        self.h = h\n",
    "\n",
    "    def create_nodes(self):\n",
    "        dict_of_nodes = {}\n",
    "        for col in self.columns:\n",
    "            dict_of_nodes[col] = self.df[col].unique().tolist()\n",
    "        return dict_of_nodes\n",
    "\n",
    "    def create_node_labels(self):\n",
    "        dict = self.create_nodes()\n",
    "        node_labels = []\n",
    "        for key, val in dict.items():\n",
    "            for i in val:\n",
    "                node_labels.append(str(key) + ':' + str(i))\n",
    "        return node_labels\n",
    "\n",
    "    def label_to_index(self, node_labels):\n",
    "        label_map = {label: i for i, label in enumerate(node_labels)}\n",
    "        return label_map\n",
    "\n",
    "    def get_label_index(self, labels_index, col, val):\n",
    "        key = str(col) + ':' + str(val)\n",
    "        return labels_index[key]\n",
    "\n",
    "    def get_keys_by_value(self, dictionary, value):\n",
    "        for key, val in dictionary.items():\n",
    "            if val == value:\n",
    "                return key\n",
    "\n",
    "    def create_source_target(self):\n",
    "        dict_of_nodes = self.create_nodes()\n",
    "        node_labels = self.create_node_labels()\n",
    "        labels_index = self.label_to_index(node_labels)\n",
    "        source_target_dict = {}\n",
    "        keys = list(dict_of_nodes.keys())\n",
    "\n",
    "        for k in range(len(keys) - 1):\n",
    "            col1 = keys[k]\n",
    "            col2 = keys[k + 1]\n",
    "            for val1, val2 in zip(self.df[col1], self.df[col2]):\n",
    "                source = self.get_label_index(labels_index, col1, val1)\n",
    "                target = self.get_label_index(labels_index, col2, val2)\n",
    "                link_value = 1\n",
    "                source_target_dict[(source, target)] = source_target_dict.get((source, target), 0) + link_value\n",
    "\n",
    "        source_list = []\n",
    "        target_list = []\n",
    "        value_list = []\n",
    "        for key, value in source_target_dict.items():\n",
    "            source_list.append(key[0])\n",
    "            target_list.append(key[1])\n",
    "            value_list.append(value)\n",
    "\n",
    "        return source_list, target_list, value_list\n",
    "\n",
    "    def create_labels_colors(self, node_labels):\n",
    "        node_colors = []\n",
    "        for label in node_labels:\n",
    "            node_colors.append(\n",
    "                f'rgba({random.randint(0, 255)},{random.randint(0, 255)},{random.randint(0, 255)},{0.7})')\n",
    "        return node_colors\n",
    "\n",
    "    def create_link_colors(self, source_list, target_list, node_labels, node_colors):\n",
    "        label_map = self.label_to_index(node_labels)\n",
    "        link_colors_list = []\n",
    "        for source, target in zip(source_list, target_list):\n",
    "            source_label = self.get_keys_by_value(label_map, source)\n",
    "            target_label = self.get_keys_by_value(label_map, target)\n",
    "\n",
    "            source_index = node_labels.index(source_label)\n",
    "            target_index = node_labels.index(target_label)\n",
    "\n",
    "            source_color = node_colors[source_index]\n",
    "            target_color = node_colors[target_index]\n",
    "\n",
    "            color = self.get_intermediate_color(source_color, target_color)\n",
    "            link_colors_list.append(color)\n",
    "        return link_colors_list\n",
    "\n",
    "    def get_intermediate_color(self, color1, color2):\n",
    "        r1, g1, b1, a1 = map(float, color1[5:-1].split(','))\n",
    "        r2, g2, b2, a2 = map(float, color2[5:-1].split(','))\n",
    "\n",
    "        r = (r1 + r2) / 2\n",
    "        g = (g1 + g2) / 2\n",
    "        b = (b1 + b2) / 2\n",
    "        a = (a1 + a2) / 2\n",
    "\n",
    "        return f'rgba({int(r)},{int(g)},{int(b)},{a})'\n",
    "\n",
    "    def create_dimension(self):\n",
    "        dimensions = []\n",
    "\n",
    "        for col in self.columns:\n",
    "            dim = go.parcats.Dimension(\n",
    "                values=self.df[col],\n",
    "                categoryorder='array',\n",
    "                label=col,\n",
    "                categoryarray=self.df[col].unique().tolist()\n",
    "            )\n",
    "            dimensions.append(dim)\n",
    "\n",
    "        return dimensions\n",
    "\n",
    "    def create_plot(self):\n",
    "        node_labels = self.create_node_labels()\n",
    "        node_colors = self.create_labels_colors(node_labels)\n",
    "        source_list, target_list, value_list = self.create_source_target()\n",
    "        link_colors = self.create_link_colors(source_list, target_list, node_labels, node_colors)\n",
    "        dimensions = self.create_dimension()\n",
    "\n",
    "        if self.chart == 'Sankey':\n",
    "            fig = go.Figure(data=[go.Sankey(\n",
    "                node=dict(\n",
    "                    pad=15,\n",
    "                    thickness=20,\n",
    "                    line=dict(color=\"black\", width=0.5),\n",
    "                    label=node_labels,\n",
    "                    color=node_colors\n",
    "                ),\n",
    "                link=dict(\n",
    "                    source=source_list,\n",
    "                    target=target_list,\n",
    "                    value=value_list,\n",
    "                    color=link_colors\n",
    "                ))])\n",
    "\n",
    "            fig.update_layout(\n",
    "                width=self.w,\n",
    "                height=self.h\n",
    "            )\n",
    "            return fig\n",
    "\n",
    "        elif self.chart == 'Parcats':\n",
    "            parcats_trace = go.Parcats(\n",
    "                dimensions=dimensions,\n",
    "                line={\n",
    "                    'color': value_list,\n",
    "                    'colorscale': 'Viridis',\n",
    "                    'shape': 'hspline'},\n",
    "                    hoveron = 'color',\n",
    "                    hoverinfo = 'count+probability',\n",
    "                    labelfont = {'size': 18, 'family': 'Arial'},\n",
    "                    tickfont = {'size': 16, 'family': 'Arial'},\n",
    "                arrangement='freeform',\n",
    "                sortpaths='backward'\n",
    "            )\n",
    "\n",
    "            layout = go.Layout(\n",
    "                title='Parcats Plot',\n",
    "                font=dict(size=16, color='black'),\n",
    "                width=self.w,\n",
    "                height=self.h\n",
    "            )\n",
    "\n",
    "            fig = go.Figure(data=[parcats_trace], layout=layout)\n",
    "            return fig\n",
    "\n",
    "        elif self.chart == 'raw_variables':\n",
    "            return node_labels, node_colors, source_list, target_list, value_list, link_colors, dimensions\n",
    "\n",
    "        else:\n",
    "            print('Invalid chart. Please choose between \"Sankey\", \"Parcats\" or \"raw_variables\".')\n"
   ]
  },
  {
   "cell_type": "code",
   "execution_count": 101,
   "metadata": {
    "ExecuteTime": {
     "end_time": "2024-06-15T15:14:35.901692Z",
     "start_time": "2024-06-15T15:14:35.896841Z"
    }
   },
   "outputs": [],
   "source": [
    "# Function which creates dimensions for Parcats plot\n",
    "def create_dimension(df, cols):\n",
    "    \"\"\"\n",
    "    Creates a list of dimensions for parallel categories plot based on the provided DataFrame and columns.\n",
    "\n",
    "    Args:\n",
    "        df (pandas.DataFrame): The input DataFrame containing the data.\n",
    "        cols (list): The list of column names to be used for creating the dimensions.\n",
    "\n",
    "    Returns:\n",
    "        list: A list of go.parcats.Dimension objects representing the dimensions for parallel categories plot.\n",
    "    \"\"\"\n",
    "    dimensions = []\n",
    "    \n",
    "    # Iterate over each column in the specified columns list\n",
    "    for col in cols:\n",
    "        # Create a dimension object for the current column\n",
    "        dim = go.parcats.Dimension(\n",
    "            values=df[col],  # Set the values of the dimension to the corresponding column in the DataFrame\n",
    "            categoryorder='array',  # Set the order of categories to be based on the provided array\n",
    "            label=col,  # Set the label of the dimension to the column name\n",
    "            categoryarray=df[col].unique().tolist()  # Set the array of unique categories for the dimension\n",
    "        )\n",
    "        \n",
    "        # Append the dimension object to the list of dimensions\n",
    "        dimensions.append(dim)\n",
    "    \n",
    "    # Return the list of dimensions\n",
    "    return dimensions\n"
   ]
  },
  {
   "cell_type": "markdown",
   "metadata": {},
   "source": [
    "**Parcats plot**"
   ]
  },
  {
   "cell_type": "code",
   "execution_count": 102,
   "metadata": {},
   "outputs": [
    {
     "data": {
      "application/vnd.plotly.v1+json": {
       "config": {
        "plotlyServerURL": "https://plot.ly"
       },
       "data": [
        {
         "link": {
          "color": [
           "rgba(82,115,35,0.7)",
           "rgba(174,67,105,0.7)",
           "rgba(133,118,34,0.7)",
           "rgba(123,65,106,0.7)",
           "rgba(170,218,118,0.7)",
           "rgba(77,151,116,0.7)",
           "rgba(210,168,189,0.7)",
           "rgba(118,100,187,0.7)",
           "rgba(115,145,143,0.7)",
           "rgba(23,77,141,0.7)",
           "rgba(15,75,142,0.7)",
           "rgba(107,143,144,0.7)",
           "rgba(92,72,90,0.7)",
           "rgba(102,135,114,0.7)",
           "rgba(84,70,91,0.7)",
           "rgba(94,133,115,0.7)",
           "rgba(198,52,78,0.7)",
           "rgba(208,115,102,0.7)",
           "rgba(186,123,49,0.7)",
           "rgba(204,45,94,0.7)",
           "rgba(237,74,95,0.7)",
           "rgba(192,116,64,0.7)",
           "rgba(225,145,66,0.7)",
           "rgba(179,129,117,0.7)",
           "rgba(212,158,119,0.7)",
           "rgba(137,114,152,0.7)",
           "rgba(126,201,146,0.7)",
           "rgba(181,170,128,0.7)",
           "rgba(84,187,181,0.7)",
           "rgba(139,156,162,0.7)",
           "rgba(93,112,140,0.7)",
           "rgba(156,139,166,0.7)",
           "rgba(148,81,121,0.7)",
           "rgba(101,170,185,0.7)",
           "rgba(157,19,157,0.7)",
           "rgba(131,77,74,0.7)",
           "rgba(165,78,202,0.7)",
           "rgba(139,136,119,0.7)",
           "rgba(107,63,207,0.7)",
           "rgba(81,121,124,0.7)",
           "rgba(163,90,60,0.7)",
           "rgba(188,32,143,0.7)",
           "rgba(62,90,145,0.7)",
           "rgba(17,169,191,0.7)",
           "rgba(144,59,81,0.7)",
           "rgba(98,138,127,0.7)",
           "rgba(69,84,40,0.7)",
           "rgba(126,237,200,0.7)",
           "rgba(172,159,153,0.7)",
           "rgba(24,163,86,0.7)",
           "rgba(98,145,18,0.7)",
           "rgba(201,219,132,0.7)",
           "rgba(92,107,16,0.7)",
           "rgba(141,198,139,0.7)",
           "rgba(22,58,120,0.7)",
           "rgba(71,149,243,0.7)",
           "rgba(49,66,17,0.7)",
           "rgba(27,83,145,0.7)",
           "rgba(121,162,142,0.7)",
           "rgba(148,170,39,0.7)",
           "rgba(54,91,42,0.7)",
           "rgba(143,127,146,0.7)",
           "rgba(77,75,95,0.7)",
           "rgba(171,154,93,0.7)",
           "rgba(237,206,144,0.7)",
           "rgba(214,155,199,0.7)",
           "rgba(148,103,148,0.7)",
           "rgba(148,113,228,0.7)",
           "rgba(88,185,107,0.7)",
           "rgba(158,87,111,0.7)",
           "rgba(91,45,140,0.7)",
           "rgba(106,219,115,0.7)",
           "rgba(176,121,119,0.7)",
           "rgba(160,80,44,0.7)",
           "rgba(90,178,40,0.7)",
           "rgba(106,164,139,0.7)",
           "rgba(90,124,64,0.7)",
           "rgba(200,210,167,0.7)",
           "rgba(184,169,92,0.7)",
           "rgba(63,149,78,0.7)",
           "rgba(61,180,70,0.7)",
           "rgba(155,226,99,0.7)",
           "rgba(157,195,107,0.7)"
          ],
          "source": [
           0,
           1,
           1,
           0,
           2,
           2,
           3,
           3,
           4,
           5,
           5,
           4,
           6,
           6,
           7,
           7,
           8,
           9,
           8,
           10,
           10,
           11,
           11,
           12,
           13,
           12,
           14,
           14,
           15,
           15,
           16,
           17,
           17,
           16,
           18,
           18,
           19,
           19,
           20,
           21,
           21,
           20,
           22,
           22,
           23,
           23,
           24,
           25,
           24,
           25,
           26,
           27,
           28,
           28,
           29,
           30,
           29,
           31,
           31,
           32,
           32,
           33,
           33,
           34,
           34,
           35,
           36,
           35,
           37,
           37,
           38,
           39,
           40,
           40,
           39,
           41,
           42,
           41,
           42,
           43,
           43,
           44,
           44
          ],
          "target": [
           2,
           3,
           2,
           3,
           4,
           5,
           4,
           5,
           6,
           6,
           7,
           7,
           8,
           9,
           8,
           9,
           10,
           10,
           11,
           12,
           13,
           12,
           13,
           14,
           14,
           15,
           16,
           17,
           16,
           17,
           18,
           19,
           18,
           19,
           20,
           21,
           20,
           21,
           22,
           22,
           23,
           23,
           24,
           25,
           24,
           25,
           26,
           27,
           27,
           26,
           28,
           28,
           29,
           30,
           31,
           31,
           32,
           33,
           34,
           34,
           33,
           35,
           36,
           36,
           35,
           37,
           37,
           38,
           39,
           40,
           40,
           41,
           41,
           42,
           42,
           43,
           43,
           44,
           44,
           45,
           46,
           46,
           45
          ],
          "value": [
           654,
           140,
           140,
           66,
           228,
           566,
           123,
           83,
           323,
           602,
           47,
           28,
           880,
           45,
           66,
           9,
           933,
           54,
           13,
           951,
           36,
           11,
           2,
           958,
           38,
           4,
           514,
           482,
           2,
           2,
           494,
           37,
           447,
           22,
           269,
           672,
           40,
           19,
           288,
           683,
           8,
           21,
           333,
           638,
           19,
           10,
           333,
           641,
           19,
           7,
           340,
           660,
           986,
           14,
           982,
           14,
           4,
           431,
           565,
           3,
           1,
           167,
           265,
           365,
           203,
           132,
           630,
           238,
           132,
           630,
           238,
           82,
           538,
           330,
           50,
           575,
           358,
           45,
           22,
           270,
           663,
           61,
           6
          ]
         },
         "node": {
          "color": [
           "rgba(26,20,11,0.7)",
           "rgba(128,25,10,0.7)",
           "rgba(139,211,59,0.7)",
           "rgba(220,110,201,0.7)",
           "rgba(201,226,177,0.7)",
           "rgba(16,91,173,0.7)",
           "rgba(30,64,109,0.7)",
           "rgba(14,60,111,0.7)",
           "rgba(155,81,72,0.7)",
           "rgba(175,207,120,0.7)",
           "rgba(241,24,85,0.7)",
           "rgba(217,166,26,0.7)",
           "rgba(168,66,103,0.7)",
           "rgba(233,125,106,0.7)",
           "rgba(191,192,132,0.7)",
           "rgba(106,163,201,0.7)",
           "rgba(62,211,161,0.7)",
           "rgba(172,149,124,0.7)",
           "rgba(124,13,119,0.7)",
           "rgba(140,130,209,0.7)",
           "rgba(190,26,195,0.7)",
           "rgba(139,142,29,0.7)",
           "rgba(24,100,220,0.7)",
           "rgba(187,38,92,0.7)",
           "rgba(101,81,70,0.7)",
           "rgba(10,238,163,0.7)",
           "rgba(38,88,10,0.7)",
           "rgba(243,237,237,0.7)",
           "rgba(159,202,27,0.7)",
           "rgba(26,13,5,0.7)",
           "rgba(124,195,251,0.7)",
           "rgba(19,103,236,0.7)",
           "rgba(73,119,30,0.7)",
           "rgba(35,64,54,0.7)",
           "rgba(223,222,49,0.7)",
           "rgba(252,191,239,0.7)",
           "rgba(119,87,137,0.7)",
           "rgba(177,120,159,0.7)",
           "rgba(44,35,217,0.7)",
           "rgba(0,251,55,0.7)",
           "rgba(139,55,64,0.7)",
           "rgba(213,187,175,0.7)",
           "rgba(181,106,25,0.7)",
           "rgba(0,142,103,0.7)",
           "rgba(188,233,160,0.7)",
           "rgba(127,157,54,0.7)",
           "rgba(123,219,38,0.7)"
          ],
          "label": [
           "basket_icon_click:0",
           "basket_icon_click:1",
           "basket_add_list:0",
           "basket_add_list:1",
           "basket_add_detail:1",
           "basket_add_detail:0",
           "sort_by:0",
           "sort_by:1",
           "image_picker:0",
           "image_picker:1",
           "account_page_click:0",
           "account_page_click:1",
           "promo_banner_click:0",
           "promo_banner_click:1",
           "detail_wishlist_add:0",
           "detail_wishlist_add:1",
           "list_size_dropdown:0",
           "list_size_dropdown:1",
           "closed_minibasket_click:0",
           "closed_minibasket_click:1",
           "checked_delivery_detail:1",
           "checked_delivery_detail:0",
           "checked_returns_detail:0",
           "checked_returns_detail:1",
           "sign_in:1",
           "sign_in:0",
           "saw_checkout:1",
           "saw_checkout:0",
           "saw_sizecharts:0",
           "saw_delivery:0",
           "saw_delivery:1",
           "saw_account_upgrade:0",
           "saw_account_upgrade:1",
           "saw_homepage:0",
           "saw_homepage:1",
           "device_mobile:0",
           "device_mobile:1",
           "device_computer:0",
           "device_computer:1",
           "device_tablet:1",
           "device_tablet:0",
           "returning_user:1",
           "returning_user:0",
           "loc_uk:1",
           "loc_uk:0",
           "ordered:1",
           "ordered:0"
          ],
          "line": {
           "color": "black",
           "width": 0.5
          },
          "pad": 15,
          "thickness": 20
         },
         "type": "sankey"
        }
       ],
       "layout": {
        "height": 800,
        "template": {
         "data": {
          "bar": [
           {
            "error_x": {
             "color": "#2a3f5f"
            },
            "error_y": {
             "color": "#2a3f5f"
            },
            "marker": {
             "line": {
              "color": "#E5ECF6",
              "width": 0.5
             },
             "pattern": {
              "fillmode": "overlay",
              "size": 10,
              "solidity": 0.2
             }
            },
            "type": "bar"
           }
          ],
          "barpolar": [
           {
            "marker": {
             "line": {
              "color": "#E5ECF6",
              "width": 0.5
             },
             "pattern": {
              "fillmode": "overlay",
              "size": 10,
              "solidity": 0.2
             }
            },
            "type": "barpolar"
           }
          ],
          "carpet": [
           {
            "aaxis": {
             "endlinecolor": "#2a3f5f",
             "gridcolor": "white",
             "linecolor": "white",
             "minorgridcolor": "white",
             "startlinecolor": "#2a3f5f"
            },
            "baxis": {
             "endlinecolor": "#2a3f5f",
             "gridcolor": "white",
             "linecolor": "white",
             "minorgridcolor": "white",
             "startlinecolor": "#2a3f5f"
            },
            "type": "carpet"
           }
          ],
          "choropleth": [
           {
            "colorbar": {
             "outlinewidth": 0,
             "ticks": ""
            },
            "type": "choropleth"
           }
          ],
          "contour": [
           {
            "colorbar": {
             "outlinewidth": 0,
             "ticks": ""
            },
            "colorscale": [
             [
              0,
              "#0d0887"
             ],
             [
              0.1111111111111111,
              "#46039f"
             ],
             [
              0.2222222222222222,
              "#7201a8"
             ],
             [
              0.3333333333333333,
              "#9c179e"
             ],
             [
              0.4444444444444444,
              "#bd3786"
             ],
             [
              0.5555555555555556,
              "#d8576b"
             ],
             [
              0.6666666666666666,
              "#ed7953"
             ],
             [
              0.7777777777777778,
              "#fb9f3a"
             ],
             [
              0.8888888888888888,
              "#fdca26"
             ],
             [
              1,
              "#f0f921"
             ]
            ],
            "type": "contour"
           }
          ],
          "contourcarpet": [
           {
            "colorbar": {
             "outlinewidth": 0,
             "ticks": ""
            },
            "type": "contourcarpet"
           }
          ],
          "heatmap": [
           {
            "colorbar": {
             "outlinewidth": 0,
             "ticks": ""
            },
            "colorscale": [
             [
              0,
              "#0d0887"
             ],
             [
              0.1111111111111111,
              "#46039f"
             ],
             [
              0.2222222222222222,
              "#7201a8"
             ],
             [
              0.3333333333333333,
              "#9c179e"
             ],
             [
              0.4444444444444444,
              "#bd3786"
             ],
             [
              0.5555555555555556,
              "#d8576b"
             ],
             [
              0.6666666666666666,
              "#ed7953"
             ],
             [
              0.7777777777777778,
              "#fb9f3a"
             ],
             [
              0.8888888888888888,
              "#fdca26"
             ],
             [
              1,
              "#f0f921"
             ]
            ],
            "type": "heatmap"
           }
          ],
          "heatmapgl": [
           {
            "colorbar": {
             "outlinewidth": 0,
             "ticks": ""
            },
            "colorscale": [
             [
              0,
              "#0d0887"
             ],
             [
              0.1111111111111111,
              "#46039f"
             ],
             [
              0.2222222222222222,
              "#7201a8"
             ],
             [
              0.3333333333333333,
              "#9c179e"
             ],
             [
              0.4444444444444444,
              "#bd3786"
             ],
             [
              0.5555555555555556,
              "#d8576b"
             ],
             [
              0.6666666666666666,
              "#ed7953"
             ],
             [
              0.7777777777777778,
              "#fb9f3a"
             ],
             [
              0.8888888888888888,
              "#fdca26"
             ],
             [
              1,
              "#f0f921"
             ]
            ],
            "type": "heatmapgl"
           }
          ],
          "histogram": [
           {
            "marker": {
             "pattern": {
              "fillmode": "overlay",
              "size": 10,
              "solidity": 0.2
             }
            },
            "type": "histogram"
           }
          ],
          "histogram2d": [
           {
            "colorbar": {
             "outlinewidth": 0,
             "ticks": ""
            },
            "colorscale": [
             [
              0,
              "#0d0887"
             ],
             [
              0.1111111111111111,
              "#46039f"
             ],
             [
              0.2222222222222222,
              "#7201a8"
             ],
             [
              0.3333333333333333,
              "#9c179e"
             ],
             [
              0.4444444444444444,
              "#bd3786"
             ],
             [
              0.5555555555555556,
              "#d8576b"
             ],
             [
              0.6666666666666666,
              "#ed7953"
             ],
             [
              0.7777777777777778,
              "#fb9f3a"
             ],
             [
              0.8888888888888888,
              "#fdca26"
             ],
             [
              1,
              "#f0f921"
             ]
            ],
            "type": "histogram2d"
           }
          ],
          "histogram2dcontour": [
           {
            "colorbar": {
             "outlinewidth": 0,
             "ticks": ""
            },
            "colorscale": [
             [
              0,
              "#0d0887"
             ],
             [
              0.1111111111111111,
              "#46039f"
             ],
             [
              0.2222222222222222,
              "#7201a8"
             ],
             [
              0.3333333333333333,
              "#9c179e"
             ],
             [
              0.4444444444444444,
              "#bd3786"
             ],
             [
              0.5555555555555556,
              "#d8576b"
             ],
             [
              0.6666666666666666,
              "#ed7953"
             ],
             [
              0.7777777777777778,
              "#fb9f3a"
             ],
             [
              0.8888888888888888,
              "#fdca26"
             ],
             [
              1,
              "#f0f921"
             ]
            ],
            "type": "histogram2dcontour"
           }
          ],
          "mesh3d": [
           {
            "colorbar": {
             "outlinewidth": 0,
             "ticks": ""
            },
            "type": "mesh3d"
           }
          ],
          "parcoords": [
           {
            "line": {
             "colorbar": {
              "outlinewidth": 0,
              "ticks": ""
             }
            },
            "type": "parcoords"
           }
          ],
          "pie": [
           {
            "automargin": true,
            "type": "pie"
           }
          ],
          "scatter": [
           {
            "fillpattern": {
             "fillmode": "overlay",
             "size": 10,
             "solidity": 0.2
            },
            "type": "scatter"
           }
          ],
          "scatter3d": [
           {
            "line": {
             "colorbar": {
              "outlinewidth": 0,
              "ticks": ""
             }
            },
            "marker": {
             "colorbar": {
              "outlinewidth": 0,
              "ticks": ""
             }
            },
            "type": "scatter3d"
           }
          ],
          "scattercarpet": [
           {
            "marker": {
             "colorbar": {
              "outlinewidth": 0,
              "ticks": ""
             }
            },
            "type": "scattercarpet"
           }
          ],
          "scattergeo": [
           {
            "marker": {
             "colorbar": {
              "outlinewidth": 0,
              "ticks": ""
             }
            },
            "type": "scattergeo"
           }
          ],
          "scattergl": [
           {
            "marker": {
             "colorbar": {
              "outlinewidth": 0,
              "ticks": ""
             }
            },
            "type": "scattergl"
           }
          ],
          "scattermapbox": [
           {
            "marker": {
             "colorbar": {
              "outlinewidth": 0,
              "ticks": ""
             }
            },
            "type": "scattermapbox"
           }
          ],
          "scatterpolar": [
           {
            "marker": {
             "colorbar": {
              "outlinewidth": 0,
              "ticks": ""
             }
            },
            "type": "scatterpolar"
           }
          ],
          "scatterpolargl": [
           {
            "marker": {
             "colorbar": {
              "outlinewidth": 0,
              "ticks": ""
             }
            },
            "type": "scatterpolargl"
           }
          ],
          "scatterternary": [
           {
            "marker": {
             "colorbar": {
              "outlinewidth": 0,
              "ticks": ""
             }
            },
            "type": "scatterternary"
           }
          ],
          "surface": [
           {
            "colorbar": {
             "outlinewidth": 0,
             "ticks": ""
            },
            "colorscale": [
             [
              0,
              "#0d0887"
             ],
             [
              0.1111111111111111,
              "#46039f"
             ],
             [
              0.2222222222222222,
              "#7201a8"
             ],
             [
              0.3333333333333333,
              "#9c179e"
             ],
             [
              0.4444444444444444,
              "#bd3786"
             ],
             [
              0.5555555555555556,
              "#d8576b"
             ],
             [
              0.6666666666666666,
              "#ed7953"
             ],
             [
              0.7777777777777778,
              "#fb9f3a"
             ],
             [
              0.8888888888888888,
              "#fdca26"
             ],
             [
              1,
              "#f0f921"
             ]
            ],
            "type": "surface"
           }
          ],
          "table": [
           {
            "cells": {
             "fill": {
              "color": "#EBF0F8"
             },
             "line": {
              "color": "white"
             }
            },
            "header": {
             "fill": {
              "color": "#C8D4E3"
             },
             "line": {
              "color": "white"
             }
            },
            "type": "table"
           }
          ]
         },
         "layout": {
          "annotationdefaults": {
           "arrowcolor": "#2a3f5f",
           "arrowhead": 0,
           "arrowwidth": 1
          },
          "autotypenumbers": "strict",
          "coloraxis": {
           "colorbar": {
            "outlinewidth": 0,
            "ticks": ""
           }
          },
          "colorscale": {
           "diverging": [
            [
             0,
             "#8e0152"
            ],
            [
             0.1,
             "#c51b7d"
            ],
            [
             0.2,
             "#de77ae"
            ],
            [
             0.3,
             "#f1b6da"
            ],
            [
             0.4,
             "#fde0ef"
            ],
            [
             0.5,
             "#f7f7f7"
            ],
            [
             0.6,
             "#e6f5d0"
            ],
            [
             0.7,
             "#b8e186"
            ],
            [
             0.8,
             "#7fbc41"
            ],
            [
             0.9,
             "#4d9221"
            ],
            [
             1,
             "#276419"
            ]
           ],
           "sequential": [
            [
             0,
             "#0d0887"
            ],
            [
             0.1111111111111111,
             "#46039f"
            ],
            [
             0.2222222222222222,
             "#7201a8"
            ],
            [
             0.3333333333333333,
             "#9c179e"
            ],
            [
             0.4444444444444444,
             "#bd3786"
            ],
            [
             0.5555555555555556,
             "#d8576b"
            ],
            [
             0.6666666666666666,
             "#ed7953"
            ],
            [
             0.7777777777777778,
             "#fb9f3a"
            ],
            [
             0.8888888888888888,
             "#fdca26"
            ],
            [
             1,
             "#f0f921"
            ]
           ],
           "sequentialminus": [
            [
             0,
             "#0d0887"
            ],
            [
             0.1111111111111111,
             "#46039f"
            ],
            [
             0.2222222222222222,
             "#7201a8"
            ],
            [
             0.3333333333333333,
             "#9c179e"
            ],
            [
             0.4444444444444444,
             "#bd3786"
            ],
            [
             0.5555555555555556,
             "#d8576b"
            ],
            [
             0.6666666666666666,
             "#ed7953"
            ],
            [
             0.7777777777777778,
             "#fb9f3a"
            ],
            [
             0.8888888888888888,
             "#fdca26"
            ],
            [
             1,
             "#f0f921"
            ]
           ]
          },
          "colorway": [
           "#636efa",
           "#EF553B",
           "#00cc96",
           "#ab63fa",
           "#FFA15A",
           "#19d3f3",
           "#FF6692",
           "#B6E880",
           "#FF97FF",
           "#FECB52"
          ],
          "font": {
           "color": "#2a3f5f"
          },
          "geo": {
           "bgcolor": "white",
           "lakecolor": "white",
           "landcolor": "#E5ECF6",
           "showlakes": true,
           "showland": true,
           "subunitcolor": "white"
          },
          "hoverlabel": {
           "align": "left"
          },
          "hovermode": "closest",
          "mapbox": {
           "style": "light"
          },
          "paper_bgcolor": "white",
          "plot_bgcolor": "#E5ECF6",
          "polar": {
           "angularaxis": {
            "gridcolor": "white",
            "linecolor": "white",
            "ticks": ""
           },
           "bgcolor": "#E5ECF6",
           "radialaxis": {
            "gridcolor": "white",
            "linecolor": "white",
            "ticks": ""
           }
          },
          "scene": {
           "xaxis": {
            "backgroundcolor": "#E5ECF6",
            "gridcolor": "white",
            "gridwidth": 2,
            "linecolor": "white",
            "showbackground": true,
            "ticks": "",
            "zerolinecolor": "white"
           },
           "yaxis": {
            "backgroundcolor": "#E5ECF6",
            "gridcolor": "white",
            "gridwidth": 2,
            "linecolor": "white",
            "showbackground": true,
            "ticks": "",
            "zerolinecolor": "white"
           },
           "zaxis": {
            "backgroundcolor": "#E5ECF6",
            "gridcolor": "white",
            "gridwidth": 2,
            "linecolor": "white",
            "showbackground": true,
            "ticks": "",
            "zerolinecolor": "white"
           }
          },
          "shapedefaults": {
           "line": {
            "color": "#2a3f5f"
           }
          },
          "ternary": {
           "aaxis": {
            "gridcolor": "white",
            "linecolor": "white",
            "ticks": ""
           },
           "baxis": {
            "gridcolor": "white",
            "linecolor": "white",
            "ticks": ""
           },
           "bgcolor": "#E5ECF6",
           "caxis": {
            "gridcolor": "white",
            "linecolor": "white",
            "ticks": ""
           }
          },
          "title": {
           "x": 0.05
          },
          "xaxis": {
           "automargin": true,
           "gridcolor": "white",
           "linecolor": "white",
           "ticks": "",
           "title": {
            "standoff": 15
           },
           "zerolinecolor": "white",
           "zerolinewidth": 2
          },
          "yaxis": {
           "automargin": true,
           "gridcolor": "white",
           "linecolor": "white",
           "ticks": "",
           "title": {
            "standoff": 15
           },
           "zerolinecolor": "white",
           "zerolinewidth": 2
          }
         }
        },
        "width": 2000
       }
      }
     },
     "metadata": {},
     "output_type": "display_data"
    }
   ],
   "source": [
    "plot = ParcatsSankeyPlot(df_pc.sample(n=1000), df_pc.columns.tolist(), chart='Sankey', w=2000)\n",
    "fig = plot.create_plot()\n",
    "fig.show()\n"
   ]
  },
  {
   "cell_type": "markdown",
   "metadata": {},
   "source": [
    "\n",
    "\n",
    "\n",
    "\n",
    "\n",
    "\n",
    "\n",
    "\n",
    "\n",
    "\n",
    "\n",
    "\n",
    "\n",
    "\n",
    "**Parcats plot with sorted and sumed Values**"
   ]
  },
  {
   "cell_type": "code",
   "execution_count": 103,
   "metadata": {},
   "outputs": [],
   "source": [
    "def sum_and_sort_columns(df):\n",
    "    column_sums = df.sum()\n",
    "    sorted_columns = column_sums.sort_values()\n",
    "    df_sorted = df[sorted_columns.index]\n",
    "    \n",
    "    return df_sorted"
   ]
  },
  {
   "cell_type": "code",
   "execution_count": 104,
   "metadata": {},
   "outputs": [],
   "source": [
    "df_pc_sorted = sum_and_sort_columns(df_pc.iloc[:,:-1])\n",
    "df_pc_sorted = pd.concat([df_pc_sorted, df_pc.iloc[:,-1]], axis = 1)"
   ]
  },
  {
   "cell_type": "code",
   "execution_count": 105,
   "metadata": {},
   "outputs": [
    {
     "data": {
      "application/vnd.plotly.v1+json": {
       "config": {
        "plotlyServerURL": "https://plot.ly"
       },
       "data": [
        {
         "link": {
          "color": [
           "rgba(139,115,168,0.7)",
           "rgba(95,176,124,0.7)",
           "rgba(155,97,208,0.7)",
           "rgba(135,127,134,0.7)",
           "rgba(164,60,226,0.7)",
           "rgba(90,187,89,0.7)",
           "rgba(30,176,142,0.7)",
           "rgba(99,176,31,0.7)",
           "rgba(59,109,234,0.7)",
           "rgba(128,109,124,0.7)",
           "rgba(65,131,203,0.7)",
           "rgba(75,186,143,0.7)",
           "rgba(134,132,92,0.7)",
           "rgba(150,163,120,0.7)",
           "rgba(116,117,106,0.7)",
           "rgba(160,218,60,0.7)",
           "rgba(126,172,47,0.7)",
           "rgba(113,239,119,0.7)",
           "rgba(79,193,106,0.7)",
           "rgba(125,183,80,0.7)",
           "rgba(91,137,67,0.7)",
           "rgba(124,213,94,0.7)",
           "rgba(99,122,162,0.7)",
           "rgba(136,157,55,0.7)",
           "rgba(111,66,123,0.7)",
           "rgba(159,164,61,0.7)",
           "rgba(180,177,121,0.7)",
           "rgba(134,73,128,0.7)",
           "rgba(155,86,188,0.7)",
           "rgba(82,139,138,0.7)",
           "rgba(174,138,144,0.7)",
           "rgba(103,152,198,0.7)",
           "rgba(195,151,204,0.7)",
           "rgba(155,148,123,0.7)",
           "rgba(153,184,194,0.7)",
           "rgba(246,183,200,0.7)",
           "rgba(248,147,129,0.7)",
           "rgba(138,83,74,0.7)",
           "rgba(136,119,145,0.7)",
           "rgba(211,195,135,0.7)",
           "rgba(209,231,206,0.7)",
           "rgba(111,81,111,0.7)",
           "rgba(20,78,154,0.7)",
           "rgba(184,193,172,0.7)",
           "rgba(93,190,214,0.7)",
           "rgba(126,104,125,0.7)",
           "rgba(99,153,117,0.7)",
           "rgba(8,151,160,0.7)",
           "rgba(35,102,168,0.7)",
           "rgba(92,60,57,0.7)",
           "rgba(65,109,49,0.7)",
           "rgba(30,90,93,0.7)",
           "rgba(57,41,101,0.7)",
           "rgba(152,76,76,0.7)",
           "rgba(94,85,158,0.7)",
           "rgba(117,57,120,0.7)",
           "rgba(130,105,114,0.7)",
           "rgba(203,141,162,0.7)",
           "rgba(165,134,131,0.7)",
           "rgba(180,170,200,0.7)",
           "rgba(187,106,93,0.7)",
           "rgba(163,108,187,0.7)",
           "rgba(218,118,119,0.7)",
           "rgba(233,154,188,0.7)",
           "rgba(148,72,118,0.7)",
           "rgba(90,21,173,0.7)",
           "rgba(160,67,173,0.7)",
           "rgba(158,69,197,0.7)",
           "rgba(88,23,196,0.7)",
           "rgba(78,88,118,0.7)",
           "rgba(60,48,185,0.7)",
           "rgba(76,90,141,0.7)",
           "rgba(58,50,209,0.7)",
           "rgba(84,141,68,0.7)",
           "rgba(85,81,82,0.7)",
           "rgba(67,41,149,0.7)",
           "rgba(66,100,136,0.7)",
           "rgba(70,79,123,0.7)",
           "rgba(136,184,128,0.7)",
           "rgba(137,125,142,0.7)",
           "rgba(71,20,137,0.7)",
           "rgba(149,99,104,0.7)",
           "rgba(215,204,109,0.7)",
           "rgba(32,116,146,0.7)",
           "rgba(98,221,151,0.7)",
           "rgba(196,159,103,0.7)",
           "rgba(130,113,43,0.7)",
           "rgba(13,131,85,0.7)",
           "rgba(78,176,145,0.7)"
          ],
          "source": [
           0,
           0,
           1,
           2,
           2,
           3,
           4,
           4,
           5,
           5,
           6,
           6,
           7,
           8,
           8,
           9,
           9,
           10,
           11,
           10,
           11,
           12,
           12,
           13,
           13,
           14,
           14,
           15,
           15,
           16,
           16,
           17,
           17,
           18,
           18,
           19,
           19,
           20,
           21,
           20,
           21,
           22,
           22,
           23,
           23,
           24,
           24,
           25,
           25,
           26,
           27,
           27,
           26,
           28,
           29,
           29,
           28,
           30,
           31,
           31,
           30,
           32,
           33,
           32,
           33,
           34,
           35,
           35,
           34,
           36,
           36,
           37,
           37,
           38,
           38,
           39,
           39,
           40,
           40,
           41,
           41,
           42,
           43,
           42,
           43,
           44,
           44,
           45,
           45
          ],
          "target": [
           2,
           3,
           2,
           4,
           5,
           4,
           6,
           7,
           6,
           7,
           8,
           9,
           8,
           10,
           11,
           10,
           11,
           12,
           12,
           13,
           13,
           14,
           15,
           14,
           15,
           16,
           17,
           16,
           17,
           18,
           19,
           18,
           19,
           20,
           21,
           21,
           20,
           22,
           22,
           23,
           23,
           24,
           25,
           24,
           25,
           26,
           27,
           27,
           26,
           28,
           28,
           29,
           29,
           30,
           31,
           30,
           31,
           32,
           33,
           32,
           33,
           34,
           35,
           35,
           34,
           36,
           36,
           37,
           37,
           38,
           39,
           38,
           39,
           40,
           41,
           41,
           40,
           42,
           43,
           43,
           42,
           44,
           44,
           45,
           45,
           46,
           47,
           47,
           46
          ],
          "value": [
           4977,
           19,
           4,
           4944,
           37,
           19,
           4913,
           50,
           36,
           1,
           4894,
           55,
           51,
           4822,
           123,
           46,
           9,
           4696,
           126,
           172,
           6,
           4575,
           247,
           160,
           18,
           4450,
           285,
           250,
           15,
           4407,
           293,
           234,
           66,
           4085,
           556,
           93,
           266,
           3466,
           503,
           885,
           146,
           3022,
           947,
           774,
           257,
           1196,
           2600,
           911,
           293,
           998,
           520,
           2991,
           491,
           1386,
           3203,
           279,
           132,
           1168,
           2789,
           546,
           497,
           1201,
           2752,
           513,
           534,
           864,
           1673,
           1592,
           871,
           838,
           1699,
           1156,
           1307,
           1251,
           743,
           1188,
           1818,
           1980,
           1089,
           764,
           1167,
           2980,
           1676,
           167,
           177,
           1309,
           3347,
           304,
           40
          ]
         },
         "node": {
          "color": [
           "rgba(44,148,111,0.7)",
           "rgba(76,112,190,0.7)",
           "rgba(235,83,226,0.7)",
           "rgba(146,204,137,0.7)",
           "rgba(35,171,42,0.7)",
           "rgba(93,37,227,0.7)",
           "rgba(25,181,242,0.7)",
           "rgba(163,182,21,0.7)",
           "rgba(105,82,164,0.7)",
           "rgba(125,192,45,0.7)",
           "rgba(195,245,76,0.7)",
           "rgba(128,153,49,0.7)",
           "rgba(31,233,163,0.7)",
           "rgba(55,121,85,0.7)",
           "rgba(217,193,26,0.7)",
           "rgba(167,11,161,0.7)",
           "rgba(102,135,96,0.7)",
           "rgba(144,161,216,0.7)",
           "rgba(62,143,180,0.7)",
           "rgba(247,141,192,0.7)",
           "rgba(249,154,67,0.7)",
           "rgba(245,226,209,0.7)",
           "rgba(27,12,82,0.7)",
           "rgba(173,236,203,0.7)",
           "rgba(196,150,141,0.7)",
           "rgba(14,145,226,0.7)",
           "rgba(56,59,110,0.7)",
           "rgba(2,157,94,0.7)",
           "rgba(129,62,5,0.7)",
           "rgba(58,23,93,0.7)",
           "rgba(176,91,148,0.7)",
           "rgba(131,148,224,0.7)",
           "rgba(230,192,176,0.7)",
           "rgba(199,121,38,0.7)",
           "rgba(97,24,199,0.7)",
           "rgba(237,116,200,0.7)",
           "rgba(83,18,147,0.7)",
           "rgba(80,22,194,0.7)",
           "rgba(73,159,89,0.7)",
           "rgba(37,78,224,0.7)",
           "rgba(96,123,48,0.7)",
           "rgba(98,4,75,0.7)",
           "rgba(44,36,199,0.7)",
           "rgba(176,246,209,0.7)",
           "rgba(255,162,10,0.7)",
           "rgba(20,197,94,0.7)",
           "rgba(137,156,197,0.7)",
           "rgba(6,65,76,0.7)"
          ],
          "label": [
           "saw_sizecharts:0",
           "saw_sizecharts:1",
           "saw_account_upgrade:0",
           "saw_account_upgrade:1",
           "detail_wishlist_add:0",
           "detail_wishlist_add:1",
           "account_page_click:0",
           "account_page_click:1",
           "saw_delivery:0",
           "saw_delivery:1",
           "checked_returns_detail:0",
           "checked_returns_detail:1",
           "promo_banner_click:0",
           "promo_banner_click:1",
           "closed_minibasket_click:0",
           "closed_minibasket_click:1",
           "image_picker:0",
           "image_picker:1",
           "sort_by:0",
           "sort_by:1",
           "device_tablet:0",
           "device_tablet:1",
           "basket_add_list:0",
           "basket_add_list:1",
           "device_computer:0",
           "device_computer:1",
           "basket_icon_click:1",
           "basket_icon_click:0",
           "checked_delivery_detail:1",
           "checked_delivery_detail:0",
           "saw_checkout:1",
           "saw_checkout:0",
           "basket_add_detail:1",
           "basket_add_detail:0",
           "sign_in:1",
           "sign_in:0",
           "list_size_dropdown:0",
           "list_size_dropdown:1",
           "saw_homepage:0",
           "saw_homepage:1",
           "returning_user:1",
           "returning_user:0",
           "device_mobile:1",
           "device_mobile:0",
           "loc_uk:1",
           "loc_uk:0",
           "ordered:1",
           "ordered:0"
          ],
          "line": {
           "color": "black",
           "width": 0.5
          },
          "pad": 15,
          "thickness": 20
         },
         "type": "sankey"
        }
       ],
       "layout": {
        "height": 800,
        "template": {
         "data": {
          "bar": [
           {
            "error_x": {
             "color": "#2a3f5f"
            },
            "error_y": {
             "color": "#2a3f5f"
            },
            "marker": {
             "line": {
              "color": "#E5ECF6",
              "width": 0.5
             },
             "pattern": {
              "fillmode": "overlay",
              "size": 10,
              "solidity": 0.2
             }
            },
            "type": "bar"
           }
          ],
          "barpolar": [
           {
            "marker": {
             "line": {
              "color": "#E5ECF6",
              "width": 0.5
             },
             "pattern": {
              "fillmode": "overlay",
              "size": 10,
              "solidity": 0.2
             }
            },
            "type": "barpolar"
           }
          ],
          "carpet": [
           {
            "aaxis": {
             "endlinecolor": "#2a3f5f",
             "gridcolor": "white",
             "linecolor": "white",
             "minorgridcolor": "white",
             "startlinecolor": "#2a3f5f"
            },
            "baxis": {
             "endlinecolor": "#2a3f5f",
             "gridcolor": "white",
             "linecolor": "white",
             "minorgridcolor": "white",
             "startlinecolor": "#2a3f5f"
            },
            "type": "carpet"
           }
          ],
          "choropleth": [
           {
            "colorbar": {
             "outlinewidth": 0,
             "ticks": ""
            },
            "type": "choropleth"
           }
          ],
          "contour": [
           {
            "colorbar": {
             "outlinewidth": 0,
             "ticks": ""
            },
            "colorscale": [
             [
              0,
              "#0d0887"
             ],
             [
              0.1111111111111111,
              "#46039f"
             ],
             [
              0.2222222222222222,
              "#7201a8"
             ],
             [
              0.3333333333333333,
              "#9c179e"
             ],
             [
              0.4444444444444444,
              "#bd3786"
             ],
             [
              0.5555555555555556,
              "#d8576b"
             ],
             [
              0.6666666666666666,
              "#ed7953"
             ],
             [
              0.7777777777777778,
              "#fb9f3a"
             ],
             [
              0.8888888888888888,
              "#fdca26"
             ],
             [
              1,
              "#f0f921"
             ]
            ],
            "type": "contour"
           }
          ],
          "contourcarpet": [
           {
            "colorbar": {
             "outlinewidth": 0,
             "ticks": ""
            },
            "type": "contourcarpet"
           }
          ],
          "heatmap": [
           {
            "colorbar": {
             "outlinewidth": 0,
             "ticks": ""
            },
            "colorscale": [
             [
              0,
              "#0d0887"
             ],
             [
              0.1111111111111111,
              "#46039f"
             ],
             [
              0.2222222222222222,
              "#7201a8"
             ],
             [
              0.3333333333333333,
              "#9c179e"
             ],
             [
              0.4444444444444444,
              "#bd3786"
             ],
             [
              0.5555555555555556,
              "#d8576b"
             ],
             [
              0.6666666666666666,
              "#ed7953"
             ],
             [
              0.7777777777777778,
              "#fb9f3a"
             ],
             [
              0.8888888888888888,
              "#fdca26"
             ],
             [
              1,
              "#f0f921"
             ]
            ],
            "type": "heatmap"
           }
          ],
          "heatmapgl": [
           {
            "colorbar": {
             "outlinewidth": 0,
             "ticks": ""
            },
            "colorscale": [
             [
              0,
              "#0d0887"
             ],
             [
              0.1111111111111111,
              "#46039f"
             ],
             [
              0.2222222222222222,
              "#7201a8"
             ],
             [
              0.3333333333333333,
              "#9c179e"
             ],
             [
              0.4444444444444444,
              "#bd3786"
             ],
             [
              0.5555555555555556,
              "#d8576b"
             ],
             [
              0.6666666666666666,
              "#ed7953"
             ],
             [
              0.7777777777777778,
              "#fb9f3a"
             ],
             [
              0.8888888888888888,
              "#fdca26"
             ],
             [
              1,
              "#f0f921"
             ]
            ],
            "type": "heatmapgl"
           }
          ],
          "histogram": [
           {
            "marker": {
             "pattern": {
              "fillmode": "overlay",
              "size": 10,
              "solidity": 0.2
             }
            },
            "type": "histogram"
           }
          ],
          "histogram2d": [
           {
            "colorbar": {
             "outlinewidth": 0,
             "ticks": ""
            },
            "colorscale": [
             [
              0,
              "#0d0887"
             ],
             [
              0.1111111111111111,
              "#46039f"
             ],
             [
              0.2222222222222222,
              "#7201a8"
             ],
             [
              0.3333333333333333,
              "#9c179e"
             ],
             [
              0.4444444444444444,
              "#bd3786"
             ],
             [
              0.5555555555555556,
              "#d8576b"
             ],
             [
              0.6666666666666666,
              "#ed7953"
             ],
             [
              0.7777777777777778,
              "#fb9f3a"
             ],
             [
              0.8888888888888888,
              "#fdca26"
             ],
             [
              1,
              "#f0f921"
             ]
            ],
            "type": "histogram2d"
           }
          ],
          "histogram2dcontour": [
           {
            "colorbar": {
             "outlinewidth": 0,
             "ticks": ""
            },
            "colorscale": [
             [
              0,
              "#0d0887"
             ],
             [
              0.1111111111111111,
              "#46039f"
             ],
             [
              0.2222222222222222,
              "#7201a8"
             ],
             [
              0.3333333333333333,
              "#9c179e"
             ],
             [
              0.4444444444444444,
              "#bd3786"
             ],
             [
              0.5555555555555556,
              "#d8576b"
             ],
             [
              0.6666666666666666,
              "#ed7953"
             ],
             [
              0.7777777777777778,
              "#fb9f3a"
             ],
             [
              0.8888888888888888,
              "#fdca26"
             ],
             [
              1,
              "#f0f921"
             ]
            ],
            "type": "histogram2dcontour"
           }
          ],
          "mesh3d": [
           {
            "colorbar": {
             "outlinewidth": 0,
             "ticks": ""
            },
            "type": "mesh3d"
           }
          ],
          "parcoords": [
           {
            "line": {
             "colorbar": {
              "outlinewidth": 0,
              "ticks": ""
             }
            },
            "type": "parcoords"
           }
          ],
          "pie": [
           {
            "automargin": true,
            "type": "pie"
           }
          ],
          "scatter": [
           {
            "fillpattern": {
             "fillmode": "overlay",
             "size": 10,
             "solidity": 0.2
            },
            "type": "scatter"
           }
          ],
          "scatter3d": [
           {
            "line": {
             "colorbar": {
              "outlinewidth": 0,
              "ticks": ""
             }
            },
            "marker": {
             "colorbar": {
              "outlinewidth": 0,
              "ticks": ""
             }
            },
            "type": "scatter3d"
           }
          ],
          "scattercarpet": [
           {
            "marker": {
             "colorbar": {
              "outlinewidth": 0,
              "ticks": ""
             }
            },
            "type": "scattercarpet"
           }
          ],
          "scattergeo": [
           {
            "marker": {
             "colorbar": {
              "outlinewidth": 0,
              "ticks": ""
             }
            },
            "type": "scattergeo"
           }
          ],
          "scattergl": [
           {
            "marker": {
             "colorbar": {
              "outlinewidth": 0,
              "ticks": ""
             }
            },
            "type": "scattergl"
           }
          ],
          "scattermapbox": [
           {
            "marker": {
             "colorbar": {
              "outlinewidth": 0,
              "ticks": ""
             }
            },
            "type": "scattermapbox"
           }
          ],
          "scatterpolar": [
           {
            "marker": {
             "colorbar": {
              "outlinewidth": 0,
              "ticks": ""
             }
            },
            "type": "scatterpolar"
           }
          ],
          "scatterpolargl": [
           {
            "marker": {
             "colorbar": {
              "outlinewidth": 0,
              "ticks": ""
             }
            },
            "type": "scatterpolargl"
           }
          ],
          "scatterternary": [
           {
            "marker": {
             "colorbar": {
              "outlinewidth": 0,
              "ticks": ""
             }
            },
            "type": "scatterternary"
           }
          ],
          "surface": [
           {
            "colorbar": {
             "outlinewidth": 0,
             "ticks": ""
            },
            "colorscale": [
             [
              0,
              "#0d0887"
             ],
             [
              0.1111111111111111,
              "#46039f"
             ],
             [
              0.2222222222222222,
              "#7201a8"
             ],
             [
              0.3333333333333333,
              "#9c179e"
             ],
             [
              0.4444444444444444,
              "#bd3786"
             ],
             [
              0.5555555555555556,
              "#d8576b"
             ],
             [
              0.6666666666666666,
              "#ed7953"
             ],
             [
              0.7777777777777778,
              "#fb9f3a"
             ],
             [
              0.8888888888888888,
              "#fdca26"
             ],
             [
              1,
              "#f0f921"
             ]
            ],
            "type": "surface"
           }
          ],
          "table": [
           {
            "cells": {
             "fill": {
              "color": "#EBF0F8"
             },
             "line": {
              "color": "white"
             }
            },
            "header": {
             "fill": {
              "color": "#C8D4E3"
             },
             "line": {
              "color": "white"
             }
            },
            "type": "table"
           }
          ]
         },
         "layout": {
          "annotationdefaults": {
           "arrowcolor": "#2a3f5f",
           "arrowhead": 0,
           "arrowwidth": 1
          },
          "autotypenumbers": "strict",
          "coloraxis": {
           "colorbar": {
            "outlinewidth": 0,
            "ticks": ""
           }
          },
          "colorscale": {
           "diverging": [
            [
             0,
             "#8e0152"
            ],
            [
             0.1,
             "#c51b7d"
            ],
            [
             0.2,
             "#de77ae"
            ],
            [
             0.3,
             "#f1b6da"
            ],
            [
             0.4,
             "#fde0ef"
            ],
            [
             0.5,
             "#f7f7f7"
            ],
            [
             0.6,
             "#e6f5d0"
            ],
            [
             0.7,
             "#b8e186"
            ],
            [
             0.8,
             "#7fbc41"
            ],
            [
             0.9,
             "#4d9221"
            ],
            [
             1,
             "#276419"
            ]
           ],
           "sequential": [
            [
             0,
             "#0d0887"
            ],
            [
             0.1111111111111111,
             "#46039f"
            ],
            [
             0.2222222222222222,
             "#7201a8"
            ],
            [
             0.3333333333333333,
             "#9c179e"
            ],
            [
             0.4444444444444444,
             "#bd3786"
            ],
            [
             0.5555555555555556,
             "#d8576b"
            ],
            [
             0.6666666666666666,
             "#ed7953"
            ],
            [
             0.7777777777777778,
             "#fb9f3a"
            ],
            [
             0.8888888888888888,
             "#fdca26"
            ],
            [
             1,
             "#f0f921"
            ]
           ],
           "sequentialminus": [
            [
             0,
             "#0d0887"
            ],
            [
             0.1111111111111111,
             "#46039f"
            ],
            [
             0.2222222222222222,
             "#7201a8"
            ],
            [
             0.3333333333333333,
             "#9c179e"
            ],
            [
             0.4444444444444444,
             "#bd3786"
            ],
            [
             0.5555555555555556,
             "#d8576b"
            ],
            [
             0.6666666666666666,
             "#ed7953"
            ],
            [
             0.7777777777777778,
             "#fb9f3a"
            ],
            [
             0.8888888888888888,
             "#fdca26"
            ],
            [
             1,
             "#f0f921"
            ]
           ]
          },
          "colorway": [
           "#636efa",
           "#EF553B",
           "#00cc96",
           "#ab63fa",
           "#FFA15A",
           "#19d3f3",
           "#FF6692",
           "#B6E880",
           "#FF97FF",
           "#FECB52"
          ],
          "font": {
           "color": "#2a3f5f"
          },
          "geo": {
           "bgcolor": "white",
           "lakecolor": "white",
           "landcolor": "#E5ECF6",
           "showlakes": true,
           "showland": true,
           "subunitcolor": "white"
          },
          "hoverlabel": {
           "align": "left"
          },
          "hovermode": "closest",
          "mapbox": {
           "style": "light"
          },
          "paper_bgcolor": "white",
          "plot_bgcolor": "#E5ECF6",
          "polar": {
           "angularaxis": {
            "gridcolor": "white",
            "linecolor": "white",
            "ticks": ""
           },
           "bgcolor": "#E5ECF6",
           "radialaxis": {
            "gridcolor": "white",
            "linecolor": "white",
            "ticks": ""
           }
          },
          "scene": {
           "xaxis": {
            "backgroundcolor": "#E5ECF6",
            "gridcolor": "white",
            "gridwidth": 2,
            "linecolor": "white",
            "showbackground": true,
            "ticks": "",
            "zerolinecolor": "white"
           },
           "yaxis": {
            "backgroundcolor": "#E5ECF6",
            "gridcolor": "white",
            "gridwidth": 2,
            "linecolor": "white",
            "showbackground": true,
            "ticks": "",
            "zerolinecolor": "white"
           },
           "zaxis": {
            "backgroundcolor": "#E5ECF6",
            "gridcolor": "white",
            "gridwidth": 2,
            "linecolor": "white",
            "showbackground": true,
            "ticks": "",
            "zerolinecolor": "white"
           }
          },
          "shapedefaults": {
           "line": {
            "color": "#2a3f5f"
           }
          },
          "ternary": {
           "aaxis": {
            "gridcolor": "white",
            "linecolor": "white",
            "ticks": ""
           },
           "baxis": {
            "gridcolor": "white",
            "linecolor": "white",
            "ticks": ""
           },
           "bgcolor": "#E5ECF6",
           "caxis": {
            "gridcolor": "white",
            "linecolor": "white",
            "ticks": ""
           }
          },
          "title": {
           "x": 0.05
          },
          "xaxis": {
           "automargin": true,
           "gridcolor": "white",
           "linecolor": "white",
           "ticks": "",
           "title": {
            "standoff": 15
           },
           "zerolinecolor": "white",
           "zerolinewidth": 2
          },
          "yaxis": {
           "automargin": true,
           "gridcolor": "white",
           "linecolor": "white",
           "ticks": "",
           "title": {
            "standoff": 15
           },
           "zerolinecolor": "white",
           "zerolinewidth": 2
          }
         }
        },
        "width": 2000
       }
      }
     },
     "metadata": {},
     "output_type": "display_data"
    }
   ],
   "source": [
    "plot = ParcatsSankeyPlot(df_pc_sorted, df_pc_sorted.columns.tolist(), chart='Sankey', w=2000)\n",
    "fig = plot.create_plot()\n",
    "fig.show()\n"
   ]
  },
  {
   "cell_type": "markdown",
   "metadata": {},
   "source": [
    "### Most commont actions"
   ]
  },
  {
   "cell_type": "code",
   "execution_count": 106,
   "metadata": {
    "ExecuteTime": {
     "end_time": "2024-06-15T15:22:01.026400Z",
     "start_time": "2024-06-15T15:22:00.982952Z"
    }
   },
   "outputs": [
    {
     "data": {
      "text/html": [
       "<div>\n",
       "<style scoped>\n",
       "    .dataframe tbody tr th:only-of-type {\n",
       "        vertical-align: middle;\n",
       "    }\n",
       "\n",
       "    .dataframe tbody tr th {\n",
       "        vertical-align: top;\n",
       "    }\n",
       "\n",
       "    .dataframe thead th {\n",
       "        text-align: right;\n",
       "    }\n",
       "</style>\n",
       "<table border=\"1\" class=\"dataframe\">\n",
       "  <thead>\n",
       "    <tr style=\"text-align: right;\">\n",
       "      <th></th>\n",
       "      <th>basket_icon_click</th>\n",
       "      <th>basket_add_list</th>\n",
       "      <th>basket_add_detail</th>\n",
       "      <th>sort_by</th>\n",
       "      <th>image_picker</th>\n",
       "      <th>account_page_click</th>\n",
       "      <th>promo_banner_click</th>\n",
       "      <th>detail_wishlist_add</th>\n",
       "      <th>list_size_dropdown</th>\n",
       "      <th>closed_minibasket_click</th>\n",
       "      <th>...</th>\n",
       "      <th>saw_delivery</th>\n",
       "      <th>saw_account_upgrade</th>\n",
       "      <th>saw_homepage</th>\n",
       "      <th>device_mobile</th>\n",
       "      <th>device_computer</th>\n",
       "      <th>device_tablet</th>\n",
       "      <th>returning_user</th>\n",
       "      <th>loc_uk</th>\n",
       "      <th>ordered</th>\n",
       "      <th>count</th>\n",
       "    </tr>\n",
       "  </thead>\n",
       "  <tbody>\n",
       "    <tr>\n",
       "      <th>0</th>\n",
       "      <td>0</td>\n",
       "      <td>0</td>\n",
       "      <td>0</td>\n",
       "      <td>0</td>\n",
       "      <td>0</td>\n",
       "      <td>0</td>\n",
       "      <td>0</td>\n",
       "      <td>0</td>\n",
       "      <td>0</td>\n",
       "      <td>0</td>\n",
       "      <td>...</td>\n",
       "      <td>0</td>\n",
       "      <td>0</td>\n",
       "      <td>1</td>\n",
       "      <td>1</td>\n",
       "      <td>0</td>\n",
       "      <td>0</td>\n",
       "      <td>1</td>\n",
       "      <td>1</td>\n",
       "      <td>0</td>\n",
       "      <td>3785</td>\n",
       "    </tr>\n",
       "    <tr>\n",
       "      <th>1</th>\n",
       "      <td>0</td>\n",
       "      <td>0</td>\n",
       "      <td>0</td>\n",
       "      <td>0</td>\n",
       "      <td>0</td>\n",
       "      <td>0</td>\n",
       "      <td>0</td>\n",
       "      <td>0</td>\n",
       "      <td>0</td>\n",
       "      <td>0</td>\n",
       "      <td>...</td>\n",
       "      <td>0</td>\n",
       "      <td>0</td>\n",
       "      <td>1</td>\n",
       "      <td>1</td>\n",
       "      <td>0</td>\n",
       "      <td>0</td>\n",
       "      <td>0</td>\n",
       "      <td>1</td>\n",
       "      <td>0</td>\n",
       "      <td>3369</td>\n",
       "    </tr>\n",
       "    <tr>\n",
       "      <th>2</th>\n",
       "      <td>0</td>\n",
       "      <td>0</td>\n",
       "      <td>0</td>\n",
       "      <td>0</td>\n",
       "      <td>0</td>\n",
       "      <td>0</td>\n",
       "      <td>0</td>\n",
       "      <td>0</td>\n",
       "      <td>1</td>\n",
       "      <td>0</td>\n",
       "      <td>...</td>\n",
       "      <td>0</td>\n",
       "      <td>0</td>\n",
       "      <td>0</td>\n",
       "      <td>1</td>\n",
       "      <td>0</td>\n",
       "      <td>0</td>\n",
       "      <td>1</td>\n",
       "      <td>1</td>\n",
       "      <td>0</td>\n",
       "      <td>2479</td>\n",
       "    </tr>\n",
       "    <tr>\n",
       "      <th>3</th>\n",
       "      <td>0</td>\n",
       "      <td>0</td>\n",
       "      <td>0</td>\n",
       "      <td>0</td>\n",
       "      <td>0</td>\n",
       "      <td>0</td>\n",
       "      <td>0</td>\n",
       "      <td>0</td>\n",
       "      <td>1</td>\n",
       "      <td>0</td>\n",
       "      <td>...</td>\n",
       "      <td>0</td>\n",
       "      <td>0</td>\n",
       "      <td>0</td>\n",
       "      <td>1</td>\n",
       "      <td>0</td>\n",
       "      <td>0</td>\n",
       "      <td>0</td>\n",
       "      <td>1</td>\n",
       "      <td>0</td>\n",
       "      <td>1845</td>\n",
       "    </tr>\n",
       "    <tr>\n",
       "      <th>4</th>\n",
       "      <td>0</td>\n",
       "      <td>0</td>\n",
       "      <td>0</td>\n",
       "      <td>0</td>\n",
       "      <td>0</td>\n",
       "      <td>0</td>\n",
       "      <td>0</td>\n",
       "      <td>0</td>\n",
       "      <td>1</td>\n",
       "      <td>0</td>\n",
       "      <td>...</td>\n",
       "      <td>0</td>\n",
       "      <td>0</td>\n",
       "      <td>1</td>\n",
       "      <td>1</td>\n",
       "      <td>0</td>\n",
       "      <td>0</td>\n",
       "      <td>1</td>\n",
       "      <td>1</td>\n",
       "      <td>0</td>\n",
       "      <td>1666</td>\n",
       "    </tr>\n",
       "    <tr>\n",
       "      <th>...</th>\n",
       "      <td>...</td>\n",
       "      <td>...</td>\n",
       "      <td>...</td>\n",
       "      <td>...</td>\n",
       "      <td>...</td>\n",
       "      <td>...</td>\n",
       "      <td>...</td>\n",
       "      <td>...</td>\n",
       "      <td>...</td>\n",
       "      <td>...</td>\n",
       "      <td>...</td>\n",
       "      <td>...</td>\n",
       "      <td>...</td>\n",
       "      <td>...</td>\n",
       "      <td>...</td>\n",
       "      <td>...</td>\n",
       "      <td>...</td>\n",
       "      <td>...</td>\n",
       "      <td>...</td>\n",
       "      <td>...</td>\n",
       "      <td>...</td>\n",
       "    </tr>\n",
       "    <tr>\n",
       "      <th>4677</th>\n",
       "      <td>0</td>\n",
       "      <td>1</td>\n",
       "      <td>1</td>\n",
       "      <td>0</td>\n",
       "      <td>0</td>\n",
       "      <td>0</td>\n",
       "      <td>1</td>\n",
       "      <td>0</td>\n",
       "      <td>1</td>\n",
       "      <td>0</td>\n",
       "      <td>...</td>\n",
       "      <td>0</td>\n",
       "      <td>0</td>\n",
       "      <td>1</td>\n",
       "      <td>1</td>\n",
       "      <td>0</td>\n",
       "      <td>0</td>\n",
       "      <td>1</td>\n",
       "      <td>1</td>\n",
       "      <td>0</td>\n",
       "      <td>1</td>\n",
       "    </tr>\n",
       "    <tr>\n",
       "      <th>4678</th>\n",
       "      <td>0</td>\n",
       "      <td>1</td>\n",
       "      <td>1</td>\n",
       "      <td>0</td>\n",
       "      <td>0</td>\n",
       "      <td>0</td>\n",
       "      <td>1</td>\n",
       "      <td>1</td>\n",
       "      <td>1</td>\n",
       "      <td>0</td>\n",
       "      <td>...</td>\n",
       "      <td>0</td>\n",
       "      <td>0</td>\n",
       "      <td>1</td>\n",
       "      <td>0</td>\n",
       "      <td>1</td>\n",
       "      <td>0</td>\n",
       "      <td>1</td>\n",
       "      <td>1</td>\n",
       "      <td>1</td>\n",
       "      <td>1</td>\n",
       "    </tr>\n",
       "    <tr>\n",
       "      <th>4679</th>\n",
       "      <td>0</td>\n",
       "      <td>1</td>\n",
       "      <td>1</td>\n",
       "      <td>0</td>\n",
       "      <td>0</td>\n",
       "      <td>1</td>\n",
       "      <td>0</td>\n",
       "      <td>0</td>\n",
       "      <td>0</td>\n",
       "      <td>1</td>\n",
       "      <td>...</td>\n",
       "      <td>1</td>\n",
       "      <td>0</td>\n",
       "      <td>1</td>\n",
       "      <td>1</td>\n",
       "      <td>0</td>\n",
       "      <td>0</td>\n",
       "      <td>1</td>\n",
       "      <td>1</td>\n",
       "      <td>1</td>\n",
       "      <td>1</td>\n",
       "    </tr>\n",
       "    <tr>\n",
       "      <th>4680</th>\n",
       "      <td>0</td>\n",
       "      <td>1</td>\n",
       "      <td>1</td>\n",
       "      <td>0</td>\n",
       "      <td>0</td>\n",
       "      <td>1</td>\n",
       "      <td>0</td>\n",
       "      <td>0</td>\n",
       "      <td>1</td>\n",
       "      <td>0</td>\n",
       "      <td>...</td>\n",
       "      <td>0</td>\n",
       "      <td>0</td>\n",
       "      <td>1</td>\n",
       "      <td>1</td>\n",
       "      <td>0</td>\n",
       "      <td>0</td>\n",
       "      <td>0</td>\n",
       "      <td>1</td>\n",
       "      <td>1</td>\n",
       "      <td>1</td>\n",
       "    </tr>\n",
       "    <tr>\n",
       "      <th>4681</th>\n",
       "      <td>1</td>\n",
       "      <td>1</td>\n",
       "      <td>1</td>\n",
       "      <td>1</td>\n",
       "      <td>1</td>\n",
       "      <td>0</td>\n",
       "      <td>1</td>\n",
       "      <td>0</td>\n",
       "      <td>1</td>\n",
       "      <td>1</td>\n",
       "      <td>...</td>\n",
       "      <td>0</td>\n",
       "      <td>0</td>\n",
       "      <td>0</td>\n",
       "      <td>0</td>\n",
       "      <td>1</td>\n",
       "      <td>0</td>\n",
       "      <td>1</td>\n",
       "      <td>1</td>\n",
       "      <td>1</td>\n",
       "      <td>1</td>\n",
       "    </tr>\n",
       "  </tbody>\n",
       "</table>\n",
       "<p>4682 rows × 25 columns</p>\n",
       "</div>"
      ],
      "text/plain": [
       "      basket_icon_click  basket_add_list  basket_add_detail  sort_by  \\\n",
       "0                     0                0                  0        0   \n",
       "1                     0                0                  0        0   \n",
       "2                     0                0                  0        0   \n",
       "3                     0                0                  0        0   \n",
       "4                     0                0                  0        0   \n",
       "...                 ...              ...                ...      ...   \n",
       "4677                  0                1                  1        0   \n",
       "4678                  0                1                  1        0   \n",
       "4679                  0                1                  1        0   \n",
       "4680                  0                1                  1        0   \n",
       "4681                  1                1                  1        1   \n",
       "\n",
       "      image_picker  account_page_click  promo_banner_click  \\\n",
       "0                0                   0                   0   \n",
       "1                0                   0                   0   \n",
       "2                0                   0                   0   \n",
       "3                0                   0                   0   \n",
       "4                0                   0                   0   \n",
       "...            ...                 ...                 ...   \n",
       "4677             0                   0                   1   \n",
       "4678             0                   0                   1   \n",
       "4679             0                   1                   0   \n",
       "4680             0                   1                   0   \n",
       "4681             1                   0                   1   \n",
       "\n",
       "      detail_wishlist_add  list_size_dropdown  closed_minibasket_click  ...  \\\n",
       "0                       0                   0                        0  ...   \n",
       "1                       0                   0                        0  ...   \n",
       "2                       0                   1                        0  ...   \n",
       "3                       0                   1                        0  ...   \n",
       "4                       0                   1                        0  ...   \n",
       "...                   ...                 ...                      ...  ...   \n",
       "4677                    0                   1                        0  ...   \n",
       "4678                    1                   1                        0  ...   \n",
       "4679                    0                   0                        1  ...   \n",
       "4680                    0                   1                        0  ...   \n",
       "4681                    0                   1                        1  ...   \n",
       "\n",
       "      saw_delivery  saw_account_upgrade  saw_homepage  device_mobile  \\\n",
       "0                0                    0             1              1   \n",
       "1                0                    0             1              1   \n",
       "2                0                    0             0              1   \n",
       "3                0                    0             0              1   \n",
       "4                0                    0             1              1   \n",
       "...            ...                  ...           ...            ...   \n",
       "4677             0                    0             1              1   \n",
       "4678             0                    0             1              0   \n",
       "4679             1                    0             1              1   \n",
       "4680             0                    0             1              1   \n",
       "4681             0                    0             0              0   \n",
       "\n",
       "      device_computer  device_tablet  returning_user  loc_uk  ordered  count  \n",
       "0                   0              0               1       1        0   3785  \n",
       "1                   0              0               0       1        0   3369  \n",
       "2                   0              0               1       1        0   2479  \n",
       "3                   0              0               0       1        0   1845  \n",
       "4                   0              0               1       1        0   1666  \n",
       "...               ...            ...             ...     ...      ...    ...  \n",
       "4677                0              0               1       1        0      1  \n",
       "4678                1              0               1       1        1      1  \n",
       "4679                0              0               1       1        1      1  \n",
       "4680                0              0               0       1        1      1  \n",
       "4681                1              0               1       1        1      1  \n",
       "\n",
       "[4682 rows x 25 columns]"
      ]
     },
     "execution_count": 106,
     "metadata": {},
     "output_type": "execute_result"
    }
   ],
   "source": [
    "df_actions = df.value_counts().reset_index(name='count')\n",
    "df_actions"
   ]
  },
  {
   "cell_type": "code",
   "execution_count": 107,
   "metadata": {
    "ExecuteTime": {
     "end_time": "2024-06-15T15:22:01.605907Z",
     "start_time": "2024-06-15T15:22:01.602849Z"
    }
   },
   "outputs": [
    {
     "data": {
      "text/plain": [
       "(4682, 25)"
      ]
     },
     "execution_count": 107,
     "metadata": {},
     "output_type": "execute_result"
    }
   ],
   "source": [
    "df_actions.shape"
   ]
  },
  {
   "cell_type": "code",
   "execution_count": 108,
   "metadata": {
    "ExecuteTime": {
     "end_time": "2024-06-15T15:46:40.498541Z",
     "start_time": "2024-06-15T15:46:40.492701Z"
    }
   },
   "outputs": [
    {
     "name": "stdout",
     "output_type": "stream",
     "text": [
      "count                      17200\n",
      "no_actions                    45\n",
      "loc_uk                        10\n",
      "saw_homepage                   8\n",
      "device_mobile                  7\n",
      "returning_user                 5\n",
      "list_size_dropdown             5\n",
      "device_computer                2\n",
      "sign_in                        1\n",
      "ordered                        1\n",
      "device_tablet                  1\n",
      "basket_add_list                1\n",
      "basket_icon_click              1\n",
      "checked_delivery_detail        1\n",
      "basket_add_detail              1\n",
      "saw_checkout                   1\n",
      "checked_returns_detail         0\n",
      "saw_sizecharts                 0\n",
      "saw_delivery                   0\n",
      "saw_account_upgrade            0\n",
      "closed_minibasket_click        0\n",
      "detail_wishlist_add            0\n",
      "promo_banner_click             0\n",
      "account_page_click             0\n",
      "image_picker                   0\n",
      "sort_by                        0\n",
      "dtype: int64\n"
     ]
    }
   ],
   "source": [
    "# Liczba działań wykonanych podczas jednej akcji\n",
    "df_num_actions= df_actions.copy()\n",
    "df_num_actions['no_actions'] = df_actions.iloc[:,:-1].sum(axis=1)\n",
    "print(df_num_actions.head(10).sum().sort_values(ascending=False))"
   ]
  },
  {
   "cell_type": "code",
   "execution_count": 109,
   "metadata": {
    "ExecuteTime": {
     "end_time": "2024-06-15T15:55:48.693125Z",
     "start_time": "2024-06-15T15:55:48.682268Z"
    }
   },
   "outputs": [
    {
     "data": {
      "text/html": [
       "<div>\n",
       "<style scoped>\n",
       "    .dataframe tbody tr th:only-of-type {\n",
       "        vertical-align: middle;\n",
       "    }\n",
       "\n",
       "    .dataframe tbody tr th {\n",
       "        vertical-align: top;\n",
       "    }\n",
       "\n",
       "    .dataframe thead th {\n",
       "        text-align: right;\n",
       "    }\n",
       "</style>\n",
       "<table border=\"1\" class=\"dataframe\">\n",
       "  <thead>\n",
       "    <tr style=\"text-align: right;\">\n",
       "      <th></th>\n",
       "      <th>basket_icon_click</th>\n",
       "      <th>basket_add_list</th>\n",
       "      <th>basket_add_detail</th>\n",
       "      <th>sort_by</th>\n",
       "      <th>image_picker</th>\n",
       "      <th>account_page_click</th>\n",
       "      <th>promo_banner_click</th>\n",
       "      <th>detail_wishlist_add</th>\n",
       "      <th>list_size_dropdown</th>\n",
       "      <th>closed_minibasket_click</th>\n",
       "      <th>...</th>\n",
       "      <th>saw_account_upgrade</th>\n",
       "      <th>saw_homepage</th>\n",
       "      <th>device_mobile</th>\n",
       "      <th>device_computer</th>\n",
       "      <th>device_tablet</th>\n",
       "      <th>returning_user</th>\n",
       "      <th>loc_uk</th>\n",
       "      <th>ordered</th>\n",
       "      <th>count</th>\n",
       "      <th>no_actions</th>\n",
       "    </tr>\n",
       "  </thead>\n",
       "  <tbody>\n",
       "    <tr>\n",
       "      <th>0</th>\n",
       "      <td>0</td>\n",
       "      <td>0</td>\n",
       "      <td>0</td>\n",
       "      <td>0</td>\n",
       "      <td>0</td>\n",
       "      <td>0</td>\n",
       "      <td>0</td>\n",
       "      <td>0</td>\n",
       "      <td>0</td>\n",
       "      <td>0</td>\n",
       "      <td>...</td>\n",
       "      <td>0</td>\n",
       "      <td>1</td>\n",
       "      <td>1</td>\n",
       "      <td>0</td>\n",
       "      <td>0</td>\n",
       "      <td>1</td>\n",
       "      <td>1</td>\n",
       "      <td>0</td>\n",
       "      <td>3785</td>\n",
       "      <td>4</td>\n",
       "    </tr>\n",
       "    <tr>\n",
       "      <th>1</th>\n",
       "      <td>0</td>\n",
       "      <td>0</td>\n",
       "      <td>0</td>\n",
       "      <td>0</td>\n",
       "      <td>0</td>\n",
       "      <td>0</td>\n",
       "      <td>0</td>\n",
       "      <td>0</td>\n",
       "      <td>0</td>\n",
       "      <td>0</td>\n",
       "      <td>...</td>\n",
       "      <td>0</td>\n",
       "      <td>1</td>\n",
       "      <td>1</td>\n",
       "      <td>0</td>\n",
       "      <td>0</td>\n",
       "      <td>0</td>\n",
       "      <td>1</td>\n",
       "      <td>0</td>\n",
       "      <td>3369</td>\n",
       "      <td>3</td>\n",
       "    </tr>\n",
       "    <tr>\n",
       "      <th>2</th>\n",
       "      <td>0</td>\n",
       "      <td>0</td>\n",
       "      <td>0</td>\n",
       "      <td>0</td>\n",
       "      <td>0</td>\n",
       "      <td>0</td>\n",
       "      <td>0</td>\n",
       "      <td>0</td>\n",
       "      <td>1</td>\n",
       "      <td>0</td>\n",
       "      <td>...</td>\n",
       "      <td>0</td>\n",
       "      <td>0</td>\n",
       "      <td>1</td>\n",
       "      <td>0</td>\n",
       "      <td>0</td>\n",
       "      <td>1</td>\n",
       "      <td>1</td>\n",
       "      <td>0</td>\n",
       "      <td>2479</td>\n",
       "      <td>4</td>\n",
       "    </tr>\n",
       "    <tr>\n",
       "      <th>3</th>\n",
       "      <td>0</td>\n",
       "      <td>0</td>\n",
       "      <td>0</td>\n",
       "      <td>0</td>\n",
       "      <td>0</td>\n",
       "      <td>0</td>\n",
       "      <td>0</td>\n",
       "      <td>0</td>\n",
       "      <td>1</td>\n",
       "      <td>0</td>\n",
       "      <td>...</td>\n",
       "      <td>0</td>\n",
       "      <td>0</td>\n",
       "      <td>1</td>\n",
       "      <td>0</td>\n",
       "      <td>0</td>\n",
       "      <td>0</td>\n",
       "      <td>1</td>\n",
       "      <td>0</td>\n",
       "      <td>1845</td>\n",
       "      <td>3</td>\n",
       "    </tr>\n",
       "    <tr>\n",
       "      <th>4</th>\n",
       "      <td>0</td>\n",
       "      <td>0</td>\n",
       "      <td>0</td>\n",
       "      <td>0</td>\n",
       "      <td>0</td>\n",
       "      <td>0</td>\n",
       "      <td>0</td>\n",
       "      <td>0</td>\n",
       "      <td>1</td>\n",
       "      <td>0</td>\n",
       "      <td>...</td>\n",
       "      <td>0</td>\n",
       "      <td>1</td>\n",
       "      <td>1</td>\n",
       "      <td>0</td>\n",
       "      <td>0</td>\n",
       "      <td>1</td>\n",
       "      <td>1</td>\n",
       "      <td>0</td>\n",
       "      <td>1666</td>\n",
       "      <td>5</td>\n",
       "    </tr>\n",
       "    <tr>\n",
       "      <th>5</th>\n",
       "      <td>0</td>\n",
       "      <td>0</td>\n",
       "      <td>0</td>\n",
       "      <td>0</td>\n",
       "      <td>0</td>\n",
       "      <td>0</td>\n",
       "      <td>0</td>\n",
       "      <td>0</td>\n",
       "      <td>1</td>\n",
       "      <td>0</td>\n",
       "      <td>...</td>\n",
       "      <td>0</td>\n",
       "      <td>1</td>\n",
       "      <td>1</td>\n",
       "      <td>0</td>\n",
       "      <td>0</td>\n",
       "      <td>0</td>\n",
       "      <td>1</td>\n",
       "      <td>0</td>\n",
       "      <td>968</td>\n",
       "      <td>4</td>\n",
       "    </tr>\n",
       "    <tr>\n",
       "      <th>6</th>\n",
       "      <td>0</td>\n",
       "      <td>0</td>\n",
       "      <td>0</td>\n",
       "      <td>0</td>\n",
       "      <td>0</td>\n",
       "      <td>0</td>\n",
       "      <td>0</td>\n",
       "      <td>0</td>\n",
       "      <td>0</td>\n",
       "      <td>0</td>\n",
       "      <td>...</td>\n",
       "      <td>0</td>\n",
       "      <td>1</td>\n",
       "      <td>0</td>\n",
       "      <td>1</td>\n",
       "      <td>0</td>\n",
       "      <td>0</td>\n",
       "      <td>1</td>\n",
       "      <td>0</td>\n",
       "      <td>957</td>\n",
       "      <td>3</td>\n",
       "    </tr>\n",
       "    <tr>\n",
       "      <th>7</th>\n",
       "      <td>0</td>\n",
       "      <td>0</td>\n",
       "      <td>0</td>\n",
       "      <td>0</td>\n",
       "      <td>0</td>\n",
       "      <td>0</td>\n",
       "      <td>0</td>\n",
       "      <td>0</td>\n",
       "      <td>0</td>\n",
       "      <td>0</td>\n",
       "      <td>...</td>\n",
       "      <td>0</td>\n",
       "      <td>1</td>\n",
       "      <td>0</td>\n",
       "      <td>1</td>\n",
       "      <td>0</td>\n",
       "      <td>1</td>\n",
       "      <td>1</td>\n",
       "      <td>0</td>\n",
       "      <td>929</td>\n",
       "      <td>4</td>\n",
       "    </tr>\n",
       "    <tr>\n",
       "      <th>8</th>\n",
       "      <td>1</td>\n",
       "      <td>1</td>\n",
       "      <td>1</td>\n",
       "      <td>0</td>\n",
       "      <td>0</td>\n",
       "      <td>0</td>\n",
       "      <td>0</td>\n",
       "      <td>0</td>\n",
       "      <td>1</td>\n",
       "      <td>0</td>\n",
       "      <td>...</td>\n",
       "      <td>0</td>\n",
       "      <td>1</td>\n",
       "      <td>1</td>\n",
       "      <td>0</td>\n",
       "      <td>0</td>\n",
       "      <td>1</td>\n",
       "      <td>1</td>\n",
       "      <td>1</td>\n",
       "      <td>631</td>\n",
       "      <td>12</td>\n",
       "    </tr>\n",
       "    <tr>\n",
       "      <th>9</th>\n",
       "      <td>0</td>\n",
       "      <td>0</td>\n",
       "      <td>0</td>\n",
       "      <td>0</td>\n",
       "      <td>0</td>\n",
       "      <td>0</td>\n",
       "      <td>0</td>\n",
       "      <td>0</td>\n",
       "      <td>0</td>\n",
       "      <td>0</td>\n",
       "      <td>...</td>\n",
       "      <td>0</td>\n",
       "      <td>1</td>\n",
       "      <td>0</td>\n",
       "      <td>0</td>\n",
       "      <td>1</td>\n",
       "      <td>0</td>\n",
       "      <td>1</td>\n",
       "      <td>0</td>\n",
       "      <td>571</td>\n",
       "      <td>3</td>\n",
       "    </tr>\n",
       "  </tbody>\n",
       "</table>\n",
       "<p>10 rows × 26 columns</p>\n",
       "</div>"
      ],
      "text/plain": [
       "   basket_icon_click  basket_add_list  basket_add_detail  sort_by  \\\n",
       "0                  0                0                  0        0   \n",
       "1                  0                0                  0        0   \n",
       "2                  0                0                  0        0   \n",
       "3                  0                0                  0        0   \n",
       "4                  0                0                  0        0   \n",
       "5                  0                0                  0        0   \n",
       "6                  0                0                  0        0   \n",
       "7                  0                0                  0        0   \n",
       "8                  1                1                  1        0   \n",
       "9                  0                0                  0        0   \n",
       "\n",
       "   image_picker  account_page_click  promo_banner_click  detail_wishlist_add  \\\n",
       "0             0                   0                   0                    0   \n",
       "1             0                   0                   0                    0   \n",
       "2             0                   0                   0                    0   \n",
       "3             0                   0                   0                    0   \n",
       "4             0                   0                   0                    0   \n",
       "5             0                   0                   0                    0   \n",
       "6             0                   0                   0                    0   \n",
       "7             0                   0                   0                    0   \n",
       "8             0                   0                   0                    0   \n",
       "9             0                   0                   0                    0   \n",
       "\n",
       "   list_size_dropdown  closed_minibasket_click  ...  saw_account_upgrade  \\\n",
       "0                   0                        0  ...                    0   \n",
       "1                   0                        0  ...                    0   \n",
       "2                   1                        0  ...                    0   \n",
       "3                   1                        0  ...                    0   \n",
       "4                   1                        0  ...                    0   \n",
       "5                   1                        0  ...                    0   \n",
       "6                   0                        0  ...                    0   \n",
       "7                   0                        0  ...                    0   \n",
       "8                   1                        0  ...                    0   \n",
       "9                   0                        0  ...                    0   \n",
       "\n",
       "   saw_homepage  device_mobile  device_computer  device_tablet  \\\n",
       "0             1              1                0              0   \n",
       "1             1              1                0              0   \n",
       "2             0              1                0              0   \n",
       "3             0              1                0              0   \n",
       "4             1              1                0              0   \n",
       "5             1              1                0              0   \n",
       "6             1              0                1              0   \n",
       "7             1              0                1              0   \n",
       "8             1              1                0              0   \n",
       "9             1              0                0              1   \n",
       "\n",
       "   returning_user  loc_uk  ordered  count  no_actions  \n",
       "0               1       1        0   3785           4  \n",
       "1               0       1        0   3369           3  \n",
       "2               1       1        0   2479           4  \n",
       "3               0       1        0   1845           3  \n",
       "4               1       1        0   1666           5  \n",
       "5               0       1        0    968           4  \n",
       "6               0       1        0    957           3  \n",
       "7               1       1        0    929           4  \n",
       "8               1       1        1    631          12  \n",
       "9               0       1        0    571           3  \n",
       "\n",
       "[10 rows x 26 columns]"
      ]
     },
     "execution_count": 109,
     "metadata": {},
     "output_type": "execute_result"
    }
   ],
   "source": [
    "# Liczba działań wykonanych podczas jednej akcji\n",
    "df_num_actions= df_actions.copy()\n",
    "df_num_actions['no_actions'] = df_actions.iloc[:,:-1].sum(axis=1)\n",
    "df_num_actions.head(10)"
   ]
  },
  {
   "cell_type": "code",
   "execution_count": 110,
   "metadata": {
    "ExecuteTime": {
     "end_time": "2024-06-15T15:55:39.402142Z",
     "start_time": "2024-06-15T15:55:39.398714Z"
    }
   },
   "outputs": [
    {
     "data": {
      "text/plain": [
       "0.31333685533674605"
      ]
     },
     "execution_count": 110,
     "metadata": {},
     "output_type": "execute_result"
    }
   ],
   "source": [
    "df_num_actions.head(10)['count'].sum()/len(df)"
   ]
  },
  {
   "cell_type": "code",
   "execution_count": 111,
   "metadata": {
    "ExecuteTime": {
     "end_time": "2024-06-15T15:57:54.559032Z",
     "start_time": "2024-06-15T15:57:54.550310Z"
    }
   },
   "outputs": [
    {
     "data": {
      "text/html": [
       "<div>\n",
       "<style scoped>\n",
       "    .dataframe tbody tr th:only-of-type {\n",
       "        vertical-align: middle;\n",
       "    }\n",
       "\n",
       "    .dataframe tbody tr th {\n",
       "        vertical-align: top;\n",
       "    }\n",
       "\n",
       "    .dataframe thead th {\n",
       "        text-align: right;\n",
       "    }\n",
       "</style>\n",
       "<table border=\"1\" class=\"dataframe\">\n",
       "  <thead>\n",
       "    <tr style=\"text-align: right;\">\n",
       "      <th></th>\n",
       "      <th>basket_icon_click</th>\n",
       "      <th>basket_add_list</th>\n",
       "      <th>basket_add_detail</th>\n",
       "      <th>sort_by</th>\n",
       "      <th>image_picker</th>\n",
       "      <th>account_page_click</th>\n",
       "      <th>promo_banner_click</th>\n",
       "      <th>detail_wishlist_add</th>\n",
       "      <th>list_size_dropdown</th>\n",
       "      <th>closed_minibasket_click</th>\n",
       "      <th>...</th>\n",
       "      <th>saw_account_upgrade</th>\n",
       "      <th>saw_homepage</th>\n",
       "      <th>device_mobile</th>\n",
       "      <th>device_computer</th>\n",
       "      <th>device_tablet</th>\n",
       "      <th>returning_user</th>\n",
       "      <th>loc_uk</th>\n",
       "      <th>ordered</th>\n",
       "      <th>count</th>\n",
       "      <th>no_actions</th>\n",
       "    </tr>\n",
       "  </thead>\n",
       "  <tbody>\n",
       "    <tr>\n",
       "      <th>8</th>\n",
       "      <td>1</td>\n",
       "      <td>1</td>\n",
       "      <td>1</td>\n",
       "      <td>0</td>\n",
       "      <td>0</td>\n",
       "      <td>0</td>\n",
       "      <td>0</td>\n",
       "      <td>0</td>\n",
       "      <td>1</td>\n",
       "      <td>0</td>\n",
       "      <td>...</td>\n",
       "      <td>0</td>\n",
       "      <td>1</td>\n",
       "      <td>1</td>\n",
       "      <td>0</td>\n",
       "      <td>0</td>\n",
       "      <td>1</td>\n",
       "      <td>1</td>\n",
       "      <td>1</td>\n",
       "      <td>631</td>\n",
       "      <td>12</td>\n",
       "    </tr>\n",
       "    <tr>\n",
       "      <th>11</th>\n",
       "      <td>1</td>\n",
       "      <td>0</td>\n",
       "      <td>1</td>\n",
       "      <td>0</td>\n",
       "      <td>0</td>\n",
       "      <td>0</td>\n",
       "      <td>0</td>\n",
       "      <td>0</td>\n",
       "      <td>0</td>\n",
       "      <td>0</td>\n",
       "      <td>...</td>\n",
       "      <td>0</td>\n",
       "      <td>1</td>\n",
       "      <td>1</td>\n",
       "      <td>0</td>\n",
       "      <td>0</td>\n",
       "      <td>1</td>\n",
       "      <td>1</td>\n",
       "      <td>1</td>\n",
       "      <td>497</td>\n",
       "      <td>10</td>\n",
       "    </tr>\n",
       "    <tr>\n",
       "      <th>14</th>\n",
       "      <td>1</td>\n",
       "      <td>0</td>\n",
       "      <td>1</td>\n",
       "      <td>0</td>\n",
       "      <td>0</td>\n",
       "      <td>0</td>\n",
       "      <td>0</td>\n",
       "      <td>0</td>\n",
       "      <td>0</td>\n",
       "      <td>0</td>\n",
       "      <td>...</td>\n",
       "      <td>0</td>\n",
       "      <td>0</td>\n",
       "      <td>1</td>\n",
       "      <td>0</td>\n",
       "      <td>0</td>\n",
       "      <td>1</td>\n",
       "      <td>1</td>\n",
       "      <td>1</td>\n",
       "      <td>361</td>\n",
       "      <td>9</td>\n",
       "    </tr>\n",
       "    <tr>\n",
       "      <th>16</th>\n",
       "      <td>1</td>\n",
       "      <td>1</td>\n",
       "      <td>0</td>\n",
       "      <td>0</td>\n",
       "      <td>0</td>\n",
       "      <td>0</td>\n",
       "      <td>0</td>\n",
       "      <td>0</td>\n",
       "      <td>1</td>\n",
       "      <td>0</td>\n",
       "      <td>...</td>\n",
       "      <td>0</td>\n",
       "      <td>1</td>\n",
       "      <td>1</td>\n",
       "      <td>0</td>\n",
       "      <td>0</td>\n",
       "      <td>1</td>\n",
       "      <td>1</td>\n",
       "      <td>1</td>\n",
       "      <td>340</td>\n",
       "      <td>11</td>\n",
       "    </tr>\n",
       "    <tr>\n",
       "      <th>20</th>\n",
       "      <td>1</td>\n",
       "      <td>0</td>\n",
       "      <td>1</td>\n",
       "      <td>0</td>\n",
       "      <td>0</td>\n",
       "      <td>0</td>\n",
       "      <td>0</td>\n",
       "      <td>0</td>\n",
       "      <td>1</td>\n",
       "      <td>0</td>\n",
       "      <td>...</td>\n",
       "      <td>0</td>\n",
       "      <td>1</td>\n",
       "      <td>1</td>\n",
       "      <td>0</td>\n",
       "      <td>0</td>\n",
       "      <td>1</td>\n",
       "      <td>1</td>\n",
       "      <td>1</td>\n",
       "      <td>316</td>\n",
       "      <td>11</td>\n",
       "    </tr>\n",
       "    <tr>\n",
       "      <th>22</th>\n",
       "      <td>0</td>\n",
       "      <td>0</td>\n",
       "      <td>1</td>\n",
       "      <td>0</td>\n",
       "      <td>0</td>\n",
       "      <td>0</td>\n",
       "      <td>0</td>\n",
       "      <td>0</td>\n",
       "      <td>0</td>\n",
       "      <td>0</td>\n",
       "      <td>...</td>\n",
       "      <td>0</td>\n",
       "      <td>0</td>\n",
       "      <td>1</td>\n",
       "      <td>0</td>\n",
       "      <td>0</td>\n",
       "      <td>1</td>\n",
       "      <td>1</td>\n",
       "      <td>1</td>\n",
       "      <td>308</td>\n",
       "      <td>8</td>\n",
       "    </tr>\n",
       "    <tr>\n",
       "      <th>28</th>\n",
       "      <td>1</td>\n",
       "      <td>0</td>\n",
       "      <td>0</td>\n",
       "      <td>0</td>\n",
       "      <td>0</td>\n",
       "      <td>0</td>\n",
       "      <td>0</td>\n",
       "      <td>0</td>\n",
       "      <td>0</td>\n",
       "      <td>0</td>\n",
       "      <td>...</td>\n",
       "      <td>0</td>\n",
       "      <td>1</td>\n",
       "      <td>1</td>\n",
       "      <td>0</td>\n",
       "      <td>0</td>\n",
       "      <td>1</td>\n",
       "      <td>1</td>\n",
       "      <td>1</td>\n",
       "      <td>266</td>\n",
       "      <td>9</td>\n",
       "    </tr>\n",
       "    <tr>\n",
       "      <th>29</th>\n",
       "      <td>1</td>\n",
       "      <td>1</td>\n",
       "      <td>1</td>\n",
       "      <td>0</td>\n",
       "      <td>0</td>\n",
       "      <td>0</td>\n",
       "      <td>0</td>\n",
       "      <td>0</td>\n",
       "      <td>1</td>\n",
       "      <td>0</td>\n",
       "      <td>...</td>\n",
       "      <td>0</td>\n",
       "      <td>0</td>\n",
       "      <td>1</td>\n",
       "      <td>0</td>\n",
       "      <td>0</td>\n",
       "      <td>1</td>\n",
       "      <td>1</td>\n",
       "      <td>1</td>\n",
       "      <td>262</td>\n",
       "      <td>11</td>\n",
       "    </tr>\n",
       "    <tr>\n",
       "      <th>30</th>\n",
       "      <td>0</td>\n",
       "      <td>0</td>\n",
       "      <td>1</td>\n",
       "      <td>0</td>\n",
       "      <td>0</td>\n",
       "      <td>0</td>\n",
       "      <td>0</td>\n",
       "      <td>0</td>\n",
       "      <td>0</td>\n",
       "      <td>0</td>\n",
       "      <td>...</td>\n",
       "      <td>0</td>\n",
       "      <td>1</td>\n",
       "      <td>1</td>\n",
       "      <td>0</td>\n",
       "      <td>0</td>\n",
       "      <td>1</td>\n",
       "      <td>1</td>\n",
       "      <td>1</td>\n",
       "      <td>257</td>\n",
       "      <td>9</td>\n",
       "    </tr>\n",
       "    <tr>\n",
       "      <th>33</th>\n",
       "      <td>0</td>\n",
       "      <td>0</td>\n",
       "      <td>1</td>\n",
       "      <td>0</td>\n",
       "      <td>0</td>\n",
       "      <td>0</td>\n",
       "      <td>0</td>\n",
       "      <td>0</td>\n",
       "      <td>0</td>\n",
       "      <td>0</td>\n",
       "      <td>...</td>\n",
       "      <td>0</td>\n",
       "      <td>0</td>\n",
       "      <td>1</td>\n",
       "      <td>0</td>\n",
       "      <td>0</td>\n",
       "      <td>0</td>\n",
       "      <td>1</td>\n",
       "      <td>1</td>\n",
       "      <td>251</td>\n",
       "      <td>7</td>\n",
       "    </tr>\n",
       "  </tbody>\n",
       "</table>\n",
       "<p>10 rows × 26 columns</p>\n",
       "</div>"
      ],
      "text/plain": [
       "    basket_icon_click  basket_add_list  basket_add_detail  sort_by  \\\n",
       "8                   1                1                  1        0   \n",
       "11                  1                0                  1        0   \n",
       "14                  1                0                  1        0   \n",
       "16                  1                1                  0        0   \n",
       "20                  1                0                  1        0   \n",
       "22                  0                0                  1        0   \n",
       "28                  1                0                  0        0   \n",
       "29                  1                1                  1        0   \n",
       "30                  0                0                  1        0   \n",
       "33                  0                0                  1        0   \n",
       "\n",
       "    image_picker  account_page_click  promo_banner_click  detail_wishlist_add  \\\n",
       "8              0                   0                   0                    0   \n",
       "11             0                   0                   0                    0   \n",
       "14             0                   0                   0                    0   \n",
       "16             0                   0                   0                    0   \n",
       "20             0                   0                   0                    0   \n",
       "22             0                   0                   0                    0   \n",
       "28             0                   0                   0                    0   \n",
       "29             0                   0                   0                    0   \n",
       "30             0                   0                   0                    0   \n",
       "33             0                   0                   0                    0   \n",
       "\n",
       "    list_size_dropdown  closed_minibasket_click  ...  saw_account_upgrade  \\\n",
       "8                    1                        0  ...                    0   \n",
       "11                   0                        0  ...                    0   \n",
       "14                   0                        0  ...                    0   \n",
       "16                   1                        0  ...                    0   \n",
       "20                   1                        0  ...                    0   \n",
       "22                   0                        0  ...                    0   \n",
       "28                   0                        0  ...                    0   \n",
       "29                   1                        0  ...                    0   \n",
       "30                   0                        0  ...                    0   \n",
       "33                   0                        0  ...                    0   \n",
       "\n",
       "    saw_homepage  device_mobile  device_computer  device_tablet  \\\n",
       "8              1              1                0              0   \n",
       "11             1              1                0              0   \n",
       "14             0              1                0              0   \n",
       "16             1              1                0              0   \n",
       "20             1              1                0              0   \n",
       "22             0              1                0              0   \n",
       "28             1              1                0              0   \n",
       "29             0              1                0              0   \n",
       "30             1              1                0              0   \n",
       "33             0              1                0              0   \n",
       "\n",
       "    returning_user  loc_uk  ordered  count  no_actions  \n",
       "8                1       1        1    631          12  \n",
       "11               1       1        1    497          10  \n",
       "14               1       1        1    361           9  \n",
       "16               1       1        1    340          11  \n",
       "20               1       1        1    316          11  \n",
       "22               1       1        1    308           8  \n",
       "28               1       1        1    266           9  \n",
       "29               1       1        1    262          11  \n",
       "30               1       1        1    257           9  \n",
       "33               0       1        1    251           7  \n",
       "\n",
       "[10 rows x 26 columns]"
      ]
     },
     "execution_count": 111,
     "metadata": {},
     "output_type": "execute_result"
    }
   ],
   "source": [
    "df_num_actions['no_actions'] = df_actions.iloc[:,:-1].sum(axis=1)\n",
    "df_num_actions[df_num_actions['ordered'] ==1 ].head(10)"
   ]
  },
  {
   "cell_type": "code",
   "execution_count": 112,
   "metadata": {
    "ExecuteTime": {
     "end_time": "2024-06-15T15:59:25.691595Z",
     "start_time": "2024-06-15T15:59:25.687218Z"
    }
   },
   "outputs": [
    {
     "data": {
      "text/plain": [
       "0.06356001675987831"
      ]
     },
     "execution_count": 112,
     "metadata": {},
     "output_type": "execute_result"
    }
   ],
   "source": [
    "df_num_actions[df_num_actions['ordered'] ==1 ].head(10)['count'].sum()/len(df)"
   ]
  },
  {
   "cell_type": "code",
   "execution_count": 113,
   "metadata": {
    "ExecuteTime": {
     "end_time": "2024-06-15T16:01:47.474934Z",
     "start_time": "2024-06-15T16:01:47.470553Z"
    }
   },
   "outputs": [
    {
     "name": "stdout",
     "output_type": "stream",
     "text": [
      "count                      3489\n",
      "no_actions                   97\n",
      "checked_delivery_detail      10\n",
      "ordered                      10\n",
      "loc_uk                       10\n",
      "device_mobile                10\n",
      "sign_in                      10\n",
      "saw_checkout                 10\n",
      "returning_user                9\n",
      "basket_add_detail             8\n",
      "basket_icon_click             7\n",
      "saw_homepage                  6\n",
      "list_size_dropdown            4\n",
      "basket_add_list               3\n",
      "promo_banner_click            0\n",
      "saw_sizecharts                0\n",
      "saw_delivery                  0\n",
      "saw_account_upgrade           0\n",
      "closed_minibasket_click       0\n",
      "account_page_click            0\n",
      "device_computer               0\n",
      "device_tablet                 0\n",
      "checked_returns_detail        0\n",
      "image_picker                  0\n",
      "sort_by                       0\n",
      "detail_wishlist_add           0\n",
      "dtype: int64\n"
     ]
    }
   ],
   "source": [
    "print(df_num_actions[df_num_actions['ordered'] ==1 ].head(10).sum().sort_values(ascending=False).T)"
   ]
  },
  {
   "cell_type": "code",
   "execution_count": 114,
   "metadata": {
    "ExecuteTime": {
     "end_time": "2024-06-15T15:31:43.347038Z",
     "start_time": "2024-06-15T15:31:43.275827Z"
    }
   },
   "outputs": [
    {
     "data": {
      "text/plain": [
       "<Axes: xlabel='no_actions', ylabel='Percent'>"
      ]
     },
     "execution_count": 114,
     "metadata": {},
     "output_type": "execute_result"
    },
    {
     "data": {
      "image/png": "[encoded data removed]",
      "text/plain": [
       "<Figure size 640x480 with 1 Axes>"
      ]
     },
     "metadata": {},
     "output_type": "display_data"
    }
   ],
   "source": [
    "# Tworzenie histogramu\n",
    "sns.histplot(df_num_actions, x='no_actions', bins=16, color=['lightsteelblue','red'], hue='ordered', element = 'step', stat='percent')"
   ]
  },
  {
   "cell_type": "code",
   "execution_count": 115,
   "metadata": {
    "ExecuteTime": {
     "end_time": "2024-06-15T15:36:51.048409Z",
     "start_time": "2024-06-15T15:36:51.044103Z"
    }
   },
   "outputs": [
    {
     "data": {
      "text/plain": [
       "(0, 26)"
      ]
     },
     "execution_count": 115,
     "metadata": {},
     "output_type": "execute_result"
    }
   ],
   "source": [
    "df_num_actions[df_num_actions['no_actions'] == 1].shape"
   ]
  },
  {
   "cell_type": "code",
   "execution_count": 116,
   "metadata": {},
   "outputs": [
    {
     "data": {
      "text/plain": [
       "basket_icon_click          1399\n",
       "basket_add_list             989\n",
       "basket_add_detail          1527\n",
       "sort_by                     634\n",
       "image_picker                623\n",
       "account_page_click          153\n",
       "promo_banner_click          507\n",
       "detail_wishlist_add         238\n",
       "list_size_dropdown         1412\n",
       "closed_minibasket_click     510\n",
       "checked_delivery_detail    1344\n",
       "checked_returns_detail      443\n",
       "sign_in                    1692\n",
       "saw_checkout               1466\n",
       "saw_sizecharts               29\n",
       "saw_delivery                345\n",
       "saw_account_upgrade         115\n",
       "saw_homepage               1490\n",
       "device_mobile               794\n",
       "device_computer            1097\n",
       "device_tablet               676\n",
       "returning_user             1450\n",
       "loc_uk                     2032\n",
       "ordered                     900\n",
       "count                      2567\n",
       "dtype: int64"
      ]
     },
     "execution_count": 116,
     "metadata": {},
     "output_type": "execute_result"
    }
   ],
   "source": [
    "df_actions[df_actions['count'] == 1].sum()"
   ]
  },
  {
   "cell_type": "code",
   "execution_count": 117,
   "metadata": {},
   "outputs": [
    {
     "data": {
      "text/plain": [
       "(644, 25)"
      ]
     },
     "execution_count": 117,
     "metadata": {},
     "output_type": "execute_result"
    }
   ],
   "source": [
    "df_actions[df_actions['count'] == 2].shape"
   ]
  },
  {
   "cell_type": "code",
   "execution_count": 118,
   "metadata": {
    "ExecuteTime": {
     "end_time": "2024-06-15T14:48:14.555828Z",
     "start_time": "2024-06-15T14:48:14.529878Z"
    }
   },
   "outputs": [
    {
     "data": {
      "text/plain": [
       "basket_icon_click           333\n",
       "basket_add_list             244\n",
       "basket_add_detail           371\n",
       "sort_by                     146\n",
       "image_picker                145\n",
       "account_page_click           20\n",
       "promo_banner_click          110\n",
       "detail_wishlist_add          28\n",
       "list_size_dropdown          351\n",
       "closed_minibasket_click      97\n",
       "checked_delivery_detail     326\n",
       "checked_returns_detail       87\n",
       "sign_in                     396\n",
       "saw_checkout                368\n",
       "saw_sizecharts                3\n",
       "saw_delivery                 50\n",
       "saw_account_upgrade           6\n",
       "saw_homepage                363\n",
       "device_mobile               225\n",
       "device_computer             260\n",
       "device_tablet               159\n",
       "returning_user              400\n",
       "loc_uk                      530\n",
       "ordered                     244\n",
       "count                      1288\n",
       "dtype: int64"
      ]
     },
     "execution_count": 118,
     "metadata": {},
     "output_type": "execute_result"
    }
   ],
   "source": [
    "df_actions[df_actions['count'] == 2].sum()"
   ]
  },
  {
   "cell_type": "code",
   "execution_count": 119,
   "metadata": {
    "ExecuteTime": {
     "end_time": "2024-06-15T14:53:28.595619Z",
     "start_time": "2024-06-15T14:53:28.588474Z"
    }
   },
   "outputs": [
    {
     "data": {
      "text/plain": [
       "0       3785\n",
       "1       3369\n",
       "2       2479\n",
       "3       1845\n",
       "4       1666\n",
       "        ... \n",
       "4677       1\n",
       "4678       1\n",
       "4679       1\n",
       "4680       1\n",
       "4681       1\n",
       "Name: count, Length: 4682, dtype: int64"
      ]
     },
     "execution_count": 119,
     "metadata": {},
     "output_type": "execute_result"
    }
   ],
   "source": [
    "df_actions['count']"
   ]
  },
  {
   "cell_type": "markdown",
   "metadata": {},
   "source": [
    "**No Orders**"
   ]
  },
  {
   "cell_type": "code",
   "execution_count": 120,
   "metadata": {
    "ExecuteTime": {
     "end_time": "2024-06-15T16:21:34.161506Z",
     "start_time": "2024-06-15T16:21:34.149514Z"
    }
   },
   "outputs": [
    {
     "data": {
      "text/html": [
       "<div>\n",
       "<style scoped>\n",
       "    .dataframe tbody tr th:only-of-type {\n",
       "        vertical-align: middle;\n",
       "    }\n",
       "\n",
       "    .dataframe tbody tr th {\n",
       "        vertical-align: top;\n",
       "    }\n",
       "\n",
       "    .dataframe thead th {\n",
       "        text-align: right;\n",
       "    }\n",
       "</style>\n",
       "<table border=\"1\" class=\"dataframe\">\n",
       "  <thead>\n",
       "    <tr style=\"text-align: right;\">\n",
       "      <th></th>\n",
       "      <th>basket_icon_click</th>\n",
       "      <th>basket_add_list</th>\n",
       "      <th>basket_add_detail</th>\n",
       "      <th>sort_by</th>\n",
       "      <th>image_picker</th>\n",
       "      <th>account_page_click</th>\n",
       "      <th>promo_banner_click</th>\n",
       "      <th>detail_wishlist_add</th>\n",
       "      <th>list_size_dropdown</th>\n",
       "      <th>closed_minibasket_click</th>\n",
       "      <th>...</th>\n",
       "      <th>saw_delivery</th>\n",
       "      <th>saw_account_upgrade</th>\n",
       "      <th>saw_homepage</th>\n",
       "      <th>device_mobile</th>\n",
       "      <th>device_computer</th>\n",
       "      <th>device_tablet</th>\n",
       "      <th>returning_user</th>\n",
       "      <th>loc_uk</th>\n",
       "      <th>ordered</th>\n",
       "      <th>count</th>\n",
       "    </tr>\n",
       "  </thead>\n",
       "  <tbody>\n",
       "    <tr>\n",
       "      <th>0</th>\n",
       "      <td>0</td>\n",
       "      <td>0</td>\n",
       "      <td>0</td>\n",
       "      <td>0</td>\n",
       "      <td>0</td>\n",
       "      <td>0</td>\n",
       "      <td>0</td>\n",
       "      <td>0</td>\n",
       "      <td>0</td>\n",
       "      <td>0</td>\n",
       "      <td>...</td>\n",
       "      <td>0</td>\n",
       "      <td>0</td>\n",
       "      <td>1</td>\n",
       "      <td>1</td>\n",
       "      <td>0</td>\n",
       "      <td>0</td>\n",
       "      <td>1</td>\n",
       "      <td>1</td>\n",
       "      <td>0</td>\n",
       "      <td>3785</td>\n",
       "    </tr>\n",
       "    <tr>\n",
       "      <th>1</th>\n",
       "      <td>0</td>\n",
       "      <td>0</td>\n",
       "      <td>0</td>\n",
       "      <td>0</td>\n",
       "      <td>0</td>\n",
       "      <td>0</td>\n",
       "      <td>0</td>\n",
       "      <td>0</td>\n",
       "      <td>0</td>\n",
       "      <td>0</td>\n",
       "      <td>...</td>\n",
       "      <td>0</td>\n",
       "      <td>0</td>\n",
       "      <td>1</td>\n",
       "      <td>1</td>\n",
       "      <td>0</td>\n",
       "      <td>0</td>\n",
       "      <td>0</td>\n",
       "      <td>1</td>\n",
       "      <td>0</td>\n",
       "      <td>3369</td>\n",
       "    </tr>\n",
       "    <tr>\n",
       "      <th>2</th>\n",
       "      <td>0</td>\n",
       "      <td>0</td>\n",
       "      <td>0</td>\n",
       "      <td>0</td>\n",
       "      <td>0</td>\n",
       "      <td>0</td>\n",
       "      <td>0</td>\n",
       "      <td>0</td>\n",
       "      <td>1</td>\n",
       "      <td>0</td>\n",
       "      <td>...</td>\n",
       "      <td>0</td>\n",
       "      <td>0</td>\n",
       "      <td>0</td>\n",
       "      <td>1</td>\n",
       "      <td>0</td>\n",
       "      <td>0</td>\n",
       "      <td>1</td>\n",
       "      <td>1</td>\n",
       "      <td>0</td>\n",
       "      <td>2479</td>\n",
       "    </tr>\n",
       "    <tr>\n",
       "      <th>3</th>\n",
       "      <td>0</td>\n",
       "      <td>0</td>\n",
       "      <td>0</td>\n",
       "      <td>0</td>\n",
       "      <td>0</td>\n",
       "      <td>0</td>\n",
       "      <td>0</td>\n",
       "      <td>0</td>\n",
       "      <td>1</td>\n",
       "      <td>0</td>\n",
       "      <td>...</td>\n",
       "      <td>0</td>\n",
       "      <td>0</td>\n",
       "      <td>0</td>\n",
       "      <td>1</td>\n",
       "      <td>0</td>\n",
       "      <td>0</td>\n",
       "      <td>0</td>\n",
       "      <td>1</td>\n",
       "      <td>0</td>\n",
       "      <td>1845</td>\n",
       "    </tr>\n",
       "    <tr>\n",
       "      <th>4</th>\n",
       "      <td>0</td>\n",
       "      <td>0</td>\n",
       "      <td>0</td>\n",
       "      <td>0</td>\n",
       "      <td>0</td>\n",
       "      <td>0</td>\n",
       "      <td>0</td>\n",
       "      <td>0</td>\n",
       "      <td>1</td>\n",
       "      <td>0</td>\n",
       "      <td>...</td>\n",
       "      <td>0</td>\n",
       "      <td>0</td>\n",
       "      <td>1</td>\n",
       "      <td>1</td>\n",
       "      <td>0</td>\n",
       "      <td>0</td>\n",
       "      <td>1</td>\n",
       "      <td>1</td>\n",
       "      <td>0</td>\n",
       "      <td>1666</td>\n",
       "    </tr>\n",
       "    <tr>\n",
       "      <th>5</th>\n",
       "      <td>0</td>\n",
       "      <td>0</td>\n",
       "      <td>0</td>\n",
       "      <td>0</td>\n",
       "      <td>0</td>\n",
       "      <td>0</td>\n",
       "      <td>0</td>\n",
       "      <td>0</td>\n",
       "      <td>1</td>\n",
       "      <td>0</td>\n",
       "      <td>...</td>\n",
       "      <td>0</td>\n",
       "      <td>0</td>\n",
       "      <td>1</td>\n",
       "      <td>1</td>\n",
       "      <td>0</td>\n",
       "      <td>0</td>\n",
       "      <td>0</td>\n",
       "      <td>1</td>\n",
       "      <td>0</td>\n",
       "      <td>968</td>\n",
       "    </tr>\n",
       "    <tr>\n",
       "      <th>6</th>\n",
       "      <td>0</td>\n",
       "      <td>0</td>\n",
       "      <td>0</td>\n",
       "      <td>0</td>\n",
       "      <td>0</td>\n",
       "      <td>0</td>\n",
       "      <td>0</td>\n",
       "      <td>0</td>\n",
       "      <td>0</td>\n",
       "      <td>0</td>\n",
       "      <td>...</td>\n",
       "      <td>0</td>\n",
       "      <td>0</td>\n",
       "      <td>1</td>\n",
       "      <td>0</td>\n",
       "      <td>1</td>\n",
       "      <td>0</td>\n",
       "      <td>0</td>\n",
       "      <td>1</td>\n",
       "      <td>0</td>\n",
       "      <td>957</td>\n",
       "    </tr>\n",
       "    <tr>\n",
       "      <th>7</th>\n",
       "      <td>0</td>\n",
       "      <td>0</td>\n",
       "      <td>0</td>\n",
       "      <td>0</td>\n",
       "      <td>0</td>\n",
       "      <td>0</td>\n",
       "      <td>0</td>\n",
       "      <td>0</td>\n",
       "      <td>0</td>\n",
       "      <td>0</td>\n",
       "      <td>...</td>\n",
       "      <td>0</td>\n",
       "      <td>0</td>\n",
       "      <td>1</td>\n",
       "      <td>0</td>\n",
       "      <td>1</td>\n",
       "      <td>0</td>\n",
       "      <td>1</td>\n",
       "      <td>1</td>\n",
       "      <td>0</td>\n",
       "      <td>929</td>\n",
       "    </tr>\n",
       "    <tr>\n",
       "      <th>9</th>\n",
       "      <td>0</td>\n",
       "      <td>0</td>\n",
       "      <td>0</td>\n",
       "      <td>0</td>\n",
       "      <td>0</td>\n",
       "      <td>0</td>\n",
       "      <td>0</td>\n",
       "      <td>0</td>\n",
       "      <td>0</td>\n",
       "      <td>0</td>\n",
       "      <td>...</td>\n",
       "      <td>0</td>\n",
       "      <td>0</td>\n",
       "      <td>1</td>\n",
       "      <td>0</td>\n",
       "      <td>0</td>\n",
       "      <td>1</td>\n",
       "      <td>0</td>\n",
       "      <td>1</td>\n",
       "      <td>0</td>\n",
       "      <td>571</td>\n",
       "    </tr>\n",
       "    <tr>\n",
       "      <th>10</th>\n",
       "      <td>0</td>\n",
       "      <td>0</td>\n",
       "      <td>0</td>\n",
       "      <td>0</td>\n",
       "      <td>0</td>\n",
       "      <td>0</td>\n",
       "      <td>0</td>\n",
       "      <td>0</td>\n",
       "      <td>0</td>\n",
       "      <td>0</td>\n",
       "      <td>...</td>\n",
       "      <td>0</td>\n",
       "      <td>0</td>\n",
       "      <td>1</td>\n",
       "      <td>0</td>\n",
       "      <td>0</td>\n",
       "      <td>1</td>\n",
       "      <td>1</td>\n",
       "      <td>1</td>\n",
       "      <td>0</td>\n",
       "      <td>561</td>\n",
       "    </tr>\n",
       "  </tbody>\n",
       "</table>\n",
       "<p>10 rows × 25 columns</p>\n",
       "</div>"
      ],
      "text/plain": [
       "    basket_icon_click  basket_add_list  basket_add_detail  sort_by  \\\n",
       "0                   0                0                  0        0   \n",
       "1                   0                0                  0        0   \n",
       "2                   0                0                  0        0   \n",
       "3                   0                0                  0        0   \n",
       "4                   0                0                  0        0   \n",
       "5                   0                0                  0        0   \n",
       "6                   0                0                  0        0   \n",
       "7                   0                0                  0        0   \n",
       "9                   0                0                  0        0   \n",
       "10                  0                0                  0        0   \n",
       "\n",
       "    image_picker  account_page_click  promo_banner_click  detail_wishlist_add  \\\n",
       "0              0                   0                   0                    0   \n",
       "1              0                   0                   0                    0   \n",
       "2              0                   0                   0                    0   \n",
       "3              0                   0                   0                    0   \n",
       "4              0                   0                   0                    0   \n",
       "5              0                   0                   0                    0   \n",
       "6              0                   0                   0                    0   \n",
       "7              0                   0                   0                    0   \n",
       "9              0                   0                   0                    0   \n",
       "10             0                   0                   0                    0   \n",
       "\n",
       "    list_size_dropdown  closed_minibasket_click  ...  saw_delivery  \\\n",
       "0                    0                        0  ...             0   \n",
       "1                    0                        0  ...             0   \n",
       "2                    1                        0  ...             0   \n",
       "3                    1                        0  ...             0   \n",
       "4                    1                        0  ...             0   \n",
       "5                    1                        0  ...             0   \n",
       "6                    0                        0  ...             0   \n",
       "7                    0                        0  ...             0   \n",
       "9                    0                        0  ...             0   \n",
       "10                   0                        0  ...             0   \n",
       "\n",
       "    saw_account_upgrade  saw_homepage  device_mobile  device_computer  \\\n",
       "0                     0             1              1                0   \n",
       "1                     0             1              1                0   \n",
       "2                     0             0              1                0   \n",
       "3                     0             0              1                0   \n",
       "4                     0             1              1                0   \n",
       "5                     0             1              1                0   \n",
       "6                     0             1              0                1   \n",
       "7                     0             1              0                1   \n",
       "9                     0             1              0                0   \n",
       "10                    0             1              0                0   \n",
       "\n",
       "    device_tablet  returning_user  loc_uk  ordered  count  \n",
       "0               0               1       1        0   3785  \n",
       "1               0               0       1        0   3369  \n",
       "2               0               1       1        0   2479  \n",
       "3               0               0       1        0   1845  \n",
       "4               0               1       1        0   1666  \n",
       "5               0               0       1        0    968  \n",
       "6               0               0       1        0    957  \n",
       "7               0               1       1        0    929  \n",
       "9               1               0       1        0    571  \n",
       "10              1               1       1        0    561  \n",
       "\n",
       "[10 rows x 25 columns]"
      ]
     },
     "execution_count": 120,
     "metadata": {},
     "output_type": "execute_result"
    }
   ],
   "source": [
    "top_10_actions_no_order = df_actions[df_actions.iloc[:,-2] == 0].sort_values(by='count', ascending=False)[:10]\n",
    "top_10_actions_no_order"
   ]
  },
  {
   "cell_type": "code",
   "execution_count": 121,
   "metadata": {
    "ExecuteTime": {
     "end_time": "2024-06-15T16:21:34.759408Z",
     "start_time": "2024-06-15T16:21:34.752934Z"
    }
   },
   "outputs": [
    {
     "data": {
      "text/plain": [
       "[1, 1, 1, 1, 1, 1, 1, 1, 2, 1, 1, 1, 1, 1, 1, 1, 1, 2, 2, 2, 2, 2, 1, 1, 10]"
      ]
     },
     "execution_count": 121,
     "metadata": {},
     "output_type": "execute_result"
    }
   ],
   "source": [
    "top_10_actions_no_order.nunique().tolist()"
   ]
  },
  {
   "cell_type": "code",
   "execution_count": 122,
   "metadata": {
    "ExecuteTime": {
     "end_time": "2024-06-15T16:21:34.933336Z",
     "start_time": "2024-06-15T16:21:34.928294Z"
    }
   },
   "outputs": [
    {
     "name": "stdout",
     "output_type": "stream",
     "text": [
      "Index(['basket_icon_click', 'basket_add_list', 'basket_add_detail', 'sort_by',\n",
      "       'image_picker', 'account_page_click', 'promo_banner_click',\n",
      "       'detail_wishlist_add', 'list_size_dropdown', 'closed_minibasket_click',\n",
      "       'checked_delivery_detail', 'checked_returns_detail', 'sign_in',\n",
      "       'saw_checkout', 'saw_sizecharts', 'saw_delivery', 'saw_account_upgrade',\n",
      "       'saw_homepage', 'device_mobile', 'device_computer', 'device_tablet',\n",
      "       'returning_user', 'loc_uk', 'ordered', 'count'],\n",
      "      dtype='object')\n"
     ]
    }
   ],
   "source": [
    "# Sprawdź kolumny w DataFrame, aby upewnić się, że są odpowiednio nazwane\n",
    "print(top_10_actions_no_order.columns)\n",
    "\n",
    "def backward_one_hot_encoding(columns, row):\n",
    "    for col in columns:\n",
    "        if row[col] == 1:\n",
    "            return col\n",
    "    return None\n",
    "\n",
    "columns_to_encode = ['device_mobile', 'device_computer', 'device_tablet']\n",
    "\n",
    "# Tworzenie nowej kolumny z wynikiem\n",
    "top_10_actions_no_order['device'] = top_10_actions_no_order.apply(lambda row: backward_one_hot_encoding(columns_to_encode, row), axis=1)\n"
   ]
  },
  {
   "cell_type": "code",
   "execution_count": 123,
   "metadata": {
    "ExecuteTime": {
     "end_time": "2024-06-15T16:21:35.119430Z",
     "start_time": "2024-06-15T16:21:35.116173Z"
    }
   },
   "outputs": [],
   "source": [
    "import pandas as pd\n",
    "\n",
    "def remove_single_value_columns(df, ignore=None, ignore_if_value=None):\n",
    "    \"\"\"\n",
    "    This function identifies columns in a DataFrame that have only one unique value\n",
    "    and returns a new DataFrame without those columns.\n",
    "\n",
    "    Parameters:\n",
    "    df (pandas.DataFrame): The input DataFrame.\n",
    "    ignore (list or None): List of columns to ignore.\n",
    "    ignore_if_value (Any or None): Specific value if found in the column should prevent the column from being removed.\n",
    "\n",
    "    Returns:\n",
    "    pandas.DataFrame: DataFrame without the columns that have only one unique value.\n",
    "    \"\"\"\n",
    "    if ignore is None:\n",
    "        ignore = []\n",
    "    if ignore_if_value is None:\n",
    "        ignore_if_value = []\n",
    "\n",
    "    # Identify columns with a single unique value\n",
    "    single_value_columns = [col for col in df.columns if df[col].nunique() == 1]\n",
    "\n",
    "    # Process the columns to be ignored\n",
    "    single_value_columns = [col for col in single_value_columns if col not in ignore and df[col].unique()[0] not in ignore_if_value]\n",
    "\n",
    "    # Drop these columns\n",
    "    df_cleaned = df.drop(columns=single_value_columns)\n",
    "\n",
    "    return df_cleaned\n"
   ]
  },
  {
   "cell_type": "code",
   "execution_count": 124,
   "metadata": {
    "ExecuteTime": {
     "end_time": "2024-06-15T16:21:35.376151Z",
     "start_time": "2024-06-15T16:21:35.350970Z"
    }
   },
   "outputs": [
    {
     "data": {
      "text/plain": [
       "Index(['saw_homepage', 'list_size_dropdown', 'returning_user', 'device',\n",
       "       'count'],\n",
       "      dtype='object')"
      ]
     },
     "execution_count": 124,
     "metadata": {},
     "output_type": "execute_result"
    }
   ],
   "source": [
    "top_10_actions_no_order_sankey.columns"
   ]
  },
  {
   "cell_type": "code",
   "execution_count": 125,
   "metadata": {
    "ExecuteTime": {
     "end_time": "2024-06-15T16:21:35.547730Z",
     "start_time": "2024-06-15T16:21:35.538499Z"
    }
   },
   "outputs": [
    {
     "data": {
      "text/html": [
       "<div>\n",
       "<style scoped>\n",
       "    .dataframe tbody tr th:only-of-type {\n",
       "        vertical-align: middle;\n",
       "    }\n",
       "\n",
       "    .dataframe tbody tr th {\n",
       "        vertical-align: top;\n",
       "    }\n",
       "\n",
       "    .dataframe thead th {\n",
       "        text-align: right;\n",
       "    }\n",
       "</style>\n",
       "<table border=\"1\" class=\"dataframe\">\n",
       "  <thead>\n",
       "    <tr style=\"text-align: right;\">\n",
       "      <th></th>\n",
       "      <th>saw_homepage</th>\n",
       "      <th>list_size_dropdown</th>\n",
       "      <th>returning_user</th>\n",
       "      <th>device</th>\n",
       "      <th>count</th>\n",
       "    </tr>\n",
       "  </thead>\n",
       "  <tbody>\n",
       "    <tr>\n",
       "      <th>0</th>\n",
       "      <td>1</td>\n",
       "      <td>0</td>\n",
       "      <td>1</td>\n",
       "      <td>device_mobile</td>\n",
       "      <td>3785</td>\n",
       "    </tr>\n",
       "    <tr>\n",
       "      <th>1</th>\n",
       "      <td>1</td>\n",
       "      <td>0</td>\n",
       "      <td>0</td>\n",
       "      <td>device_mobile</td>\n",
       "      <td>3369</td>\n",
       "    </tr>\n",
       "    <tr>\n",
       "      <th>2</th>\n",
       "      <td>0</td>\n",
       "      <td>1</td>\n",
       "      <td>1</td>\n",
       "      <td>device_mobile</td>\n",
       "      <td>2479</td>\n",
       "    </tr>\n",
       "    <tr>\n",
       "      <th>3</th>\n",
       "      <td>0</td>\n",
       "      <td>1</td>\n",
       "      <td>0</td>\n",
       "      <td>device_mobile</td>\n",
       "      <td>1845</td>\n",
       "    </tr>\n",
       "    <tr>\n",
       "      <th>4</th>\n",
       "      <td>1</td>\n",
       "      <td>1</td>\n",
       "      <td>1</td>\n",
       "      <td>device_mobile</td>\n",
       "      <td>1666</td>\n",
       "    </tr>\n",
       "    <tr>\n",
       "      <th>5</th>\n",
       "      <td>1</td>\n",
       "      <td>1</td>\n",
       "      <td>0</td>\n",
       "      <td>device_mobile</td>\n",
       "      <td>968</td>\n",
       "    </tr>\n",
       "    <tr>\n",
       "      <th>6</th>\n",
       "      <td>1</td>\n",
       "      <td>0</td>\n",
       "      <td>0</td>\n",
       "      <td>device_computer</td>\n",
       "      <td>957</td>\n",
       "    </tr>\n",
       "    <tr>\n",
       "      <th>7</th>\n",
       "      <td>1</td>\n",
       "      <td>0</td>\n",
       "      <td>1</td>\n",
       "      <td>device_computer</td>\n",
       "      <td>929</td>\n",
       "    </tr>\n",
       "    <tr>\n",
       "      <th>9</th>\n",
       "      <td>1</td>\n",
       "      <td>0</td>\n",
       "      <td>0</td>\n",
       "      <td>device_tablet</td>\n",
       "      <td>571</td>\n",
       "    </tr>\n",
       "    <tr>\n",
       "      <th>10</th>\n",
       "      <td>1</td>\n",
       "      <td>0</td>\n",
       "      <td>1</td>\n",
       "      <td>device_tablet</td>\n",
       "      <td>561</td>\n",
       "    </tr>\n",
       "  </tbody>\n",
       "</table>\n",
       "</div>"
      ],
      "text/plain": [
       "    saw_homepage  list_size_dropdown  returning_user           device  count\n",
       "0              1                   0               1    device_mobile   3785\n",
       "1              1                   0               0    device_mobile   3369\n",
       "2              0                   1               1    device_mobile   2479\n",
       "3              0                   1               0    device_mobile   1845\n",
       "4              1                   1               1    device_mobile   1666\n",
       "5              1                   1               0    device_mobile    968\n",
       "6              1                   0               0  device_computer    957\n",
       "7              1                   0               1  device_computer    929\n",
       "9              1                   0               0    device_tablet    571\n",
       "10             1                   0               1    device_tablet    561"
      ]
     },
     "execution_count": 125,
     "metadata": {},
     "output_type": "execute_result"
    }
   ],
   "source": [
    "top_10_actions_no_order_sankey = remove_single_value_columns(top_10_actions_no_order)\n",
    "columns_of_interest=[\n",
    "                        'saw_homepage',\n",
    "                        'list_size_dropdown',\n",
    "                        'returning_user',\n",
    "                        'device',\n",
    "                        'count',\n",
    "\n",
    "                    ]\n",
    "top_10_actions_no_order_sankey = top_10_actions_no_order_sankey[columns_of_interest]\n",
    "top_10_actions_no_order_sankey"
   ]
  },
  {
   "cell_type": "code",
   "execution_count": 126,
   "metadata": {
    "ExecuteTime": {
     "end_time": "2024-06-15T16:21:36.137864Z",
     "start_time": "2024-06-15T16:21:35.719516Z"
    }
   },
   "outputs": [
    {
     "data": {
      "application/vnd.plotly.v1+json": {
       "config": {
        "plotlyServerURL": "https://plot.ly"
       },
       "data": [
        {
         "link": {
          "color": [
           "rgba(143,41,91,0.7)",
           "rgba(62,148,129,0.7)",
           "rgba(47,24,50,0.7)",
           "rgba(120,142,126,0.7)",
           "rgba(125,88,67,0.7)",
           "rgba(24,124,85,0.7)",
           "rgba(29,71,26,0.7)",
           "rgba(14,174,118,0.7)",
           "rgba(19,120,59,0.7)",
           "rgba(93,49,13,0.7)",
           "rgba(88,102,72,0.7)",
           "rgba(51,156,18,0.7)",
           "rgba(46,209,77,0.7)",
           "rgba(7,143,90,0.7)",
           "rgba(56,194,133,0.7)",
           "rgba(64,84,90,0.7)",
           "rgba(64,115,80,0.7)",
           "rgba(124,146,99,0.7)",
           "rgba(16,115,168,0.7)",
           "rgba(161,34,48,0.7)",
           "rgba(132,41,131,0.7)",
           "rgba(128,218,111,0.7)",
           "rgba(45,198,141,0.7)"
          ],
          "source": [
           0,
           1,
           0,
           2,
           2,
           3,
           3,
           4,
           5,
           5,
           4,
           5,
           4,
           6,
           6,
           6,
           6,
           6,
           6,
           7,
           7,
           8,
           8
          ],
          "target": [
           2,
           3,
           3,
           4,
           5,
           4,
           5,
           6,
           6,
           7,
           7,
           8,
           8,
           9,
           10,
           11,
           12,
           13,
           14,
           15,
           16,
           17,
           18
          ],
          "value": [
           6,
           2,
           2,
           3,
           3,
           2,
           2,
           3,
           3,
           1,
           1,
           1,
           1,
           1,
           1,
           1,
           1,
           1,
           1,
           1,
           1,
           1,
           1
          ]
         },
         "node": {
          "color": [
           "rgba(67,0,55,0.7)",
           "rgba(96,248,213,0.7)",
           "rgba(220,83,127,0.7)",
           "rgba(28,48,45,0.7)",
           "rgba(20,201,125,0.7)",
           "rgba(31,94,7,0.7)",
           "rgba(8,147,112,0.7)",
           "rgba(156,4,20,0.7)",
           "rgba(72,218,29,0.7)",
           "rgba(7,139,69,0.7)",
           "rgba(105,242,154,0.7)",
           "rgba(121,21,69,0.7)",
           "rgba(121,84,49,0.7)",
           "rgba(240,146,86,0.7)",
           "rgba(24,84,225,0.7)",
           "rgba(167,64,76,0.7)",
           "rgba(108,79,243,0.7)",
           "rgba(184,219,193,0.7)",
           "rgba(18,179,254,0.7)"
          ],
          "label": [
           "saw_homepage:1",
           "saw_homepage:0",
           "list_size_dropdown:0",
           "list_size_dropdown:1",
           "returning_user:1",
           "returning_user:0",
           "device:device_mobile",
           "device:device_computer",
           "device:device_tablet",
           "count:3785",
           "count:3369",
           "count:2479",
           "count:1845",
           "count:1666",
           "count:968",
           "count:957",
           "count:929",
           "count:571",
           "count:561"
          ],
          "line": {
           "color": "black",
           "width": 0.5
          },
          "pad": 15,
          "thickness": 20
         },
         "type": "sankey"
        }
       ],
       "layout": {
        "height": 800,
        "template": {
         "data": {
          "bar": [
           {
            "error_x": {
             "color": "#2a3f5f"
            },
            "error_y": {
             "color": "#2a3f5f"
            },
            "marker": {
             "line": {
              "color": "#E5ECF6",
              "width": 0.5
             },
             "pattern": {
              "fillmode": "overlay",
              "size": 10,
              "solidity": 0.2
             }
            },
            "type": "bar"
           }
          ],
          "barpolar": [
           {
            "marker": {
             "line": {
              "color": "#E5ECF6",
              "width": 0.5
             },
             "pattern": {
              "fillmode": "overlay",
              "size": 10,
              "solidity": 0.2
             }
            },
            "type": "barpolar"
           }
          ],
          "carpet": [
           {
            "aaxis": {
             "endlinecolor": "#2a3f5f",
             "gridcolor": "white",
             "linecolor": "white",
             "minorgridcolor": "white",
             "startlinecolor": "#2a3f5f"
            },
            "baxis": {
             "endlinecolor": "#2a3f5f",
             "gridcolor": "white",
             "linecolor": "white",
             "minorgridcolor": "white",
             "startlinecolor": "#2a3f5f"
            },
            "type": "carpet"
           }
          ],
          "choropleth": [
           {
            "colorbar": {
             "outlinewidth": 0,
             "ticks": ""
            },
            "type": "choropleth"
           }
          ],
          "contour": [
           {
            "colorbar": {
             "outlinewidth": 0,
             "ticks": ""
            },
            "colorscale": [
             [
              0,
              "#0d0887"
             ],
             [
              0.1111111111111111,
              "#46039f"
             ],
             [
              0.2222222222222222,
              "#7201a8"
             ],
             [
              0.3333333333333333,
              "#9c179e"
             ],
             [
              0.4444444444444444,
              "#bd3786"
             ],
             [
              0.5555555555555556,
              "#d8576b"
             ],
             [
              0.6666666666666666,
              "#ed7953"
             ],
             [
              0.7777777777777778,
              "#fb9f3a"
             ],
             [
              0.8888888888888888,
              "#fdca26"
             ],
             [
              1,
              "#f0f921"
             ]
            ],
            "type": "contour"
           }
          ],
          "contourcarpet": [
           {
            "colorbar": {
             "outlinewidth": 0,
             "ticks": ""
            },
            "type": "contourcarpet"
           }
          ],
          "heatmap": [
           {
            "colorbar": {
             "outlinewidth": 0,
             "ticks": ""
            },
            "colorscale": [
             [
              0,
              "#0d0887"
             ],
             [
              0.1111111111111111,
              "#46039f"
             ],
             [
              0.2222222222222222,
              "#7201a8"
             ],
             [
              0.3333333333333333,
              "#9c179e"
             ],
             [
              0.4444444444444444,
              "#bd3786"
             ],
             [
              0.5555555555555556,
              "#d8576b"
             ],
             [
              0.6666666666666666,
              "#ed7953"
             ],
             [
              0.7777777777777778,
              "#fb9f3a"
             ],
             [
              0.8888888888888888,
              "#fdca26"
             ],
             [
              1,
              "#f0f921"
             ]
            ],
            "type": "heatmap"
           }
          ],
          "heatmapgl": [
           {
            "colorbar": {
             "outlinewidth": 0,
             "ticks": ""
            },
            "colorscale": [
             [
              0,
              "#0d0887"
             ],
             [
              0.1111111111111111,
              "#46039f"
             ],
             [
              0.2222222222222222,
              "#7201a8"
             ],
             [
              0.3333333333333333,
              "#9c179e"
             ],
             [
              0.4444444444444444,
              "#bd3786"
             ],
             [
              0.5555555555555556,
              "#d8576b"
             ],
             [
              0.6666666666666666,
              "#ed7953"
             ],
             [
              0.7777777777777778,
              "#fb9f3a"
             ],
             [
              0.8888888888888888,
              "#fdca26"
             ],
             [
              1,
              "#f0f921"
             ]
            ],
            "type": "heatmapgl"
           }
          ],
          "histogram": [
           {
            "marker": {
             "pattern": {
              "fillmode": "overlay",
              "size": 10,
              "solidity": 0.2
             }
            },
            "type": "histogram"
           }
          ],
          "histogram2d": [
           {
            "colorbar": {
             "outlinewidth": 0,
             "ticks": ""
            },
            "colorscale": [
             [
              0,
              "#0d0887"
             ],
             [
              0.1111111111111111,
              "#46039f"
             ],
             [
              0.2222222222222222,
              "#7201a8"
             ],
             [
              0.3333333333333333,
              "#9c179e"
             ],
             [
              0.4444444444444444,
              "#bd3786"
             ],
             [
              0.5555555555555556,
              "#d8576b"
             ],
             [
              0.6666666666666666,
              "#ed7953"
             ],
             [
              0.7777777777777778,
              "#fb9f3a"
             ],
             [
              0.8888888888888888,
              "#fdca26"
             ],
             [
              1,
              "#f0f921"
             ]
            ],
            "type": "histogram2d"
           }
          ],
          "histogram2dcontour": [
           {
            "colorbar": {
             "outlinewidth": 0,
             "ticks": ""
            },
            "colorscale": [
             [
              0,
              "#0d0887"
             ],
             [
              0.1111111111111111,
              "#46039f"
             ],
             [
              0.2222222222222222,
              "#7201a8"
             ],
             [
              0.3333333333333333,
              "#9c179e"
             ],
             [
              0.4444444444444444,
              "#bd3786"
             ],
             [
              0.5555555555555556,
              "#d8576b"
             ],
             [
              0.6666666666666666,
              "#ed7953"
             ],
             [
              0.7777777777777778,
              "#fb9f3a"
             ],
             [
              0.8888888888888888,
              "#fdca26"
             ],
             [
              1,
              "#f0f921"
             ]
            ],
            "type": "histogram2dcontour"
           }
          ],
          "mesh3d": [
           {
            "colorbar": {
             "outlinewidth": 0,
             "ticks": ""
            },
            "type": "mesh3d"
           }
          ],
          "parcoords": [
           {
            "line": {
             "colorbar": {
              "outlinewidth": 0,
              "ticks": ""
             }
            },
            "type": "parcoords"
           }
          ],
          "pie": [
           {
            "automargin": true,
            "type": "pie"
           }
          ],
          "scatter": [
           {
            "fillpattern": {
             "fillmode": "overlay",
             "size": 10,
             "solidity": 0.2
            },
            "type": "scatter"
           }
          ],
          "scatter3d": [
           {
            "line": {
             "colorbar": {
              "outlinewidth": 0,
              "ticks": ""
             }
            },
            "marker": {
             "colorbar": {
              "outlinewidth": 0,
              "ticks": ""
             }
            },
            "type": "scatter3d"
           }
          ],
          "scattercarpet": [
           {
            "marker": {
             "colorbar": {
              "outlinewidth": 0,
              "ticks": ""
             }
            },
            "type": "scattercarpet"
           }
          ],
          "scattergeo": [
           {
            "marker": {
             "colorbar": {
              "outlinewidth": 0,
              "ticks": ""
             }
            },
            "type": "scattergeo"
           }
          ],
          "scattergl": [
           {
            "marker": {
             "colorbar": {
              "outlinewidth": 0,
              "ticks": ""
             }
            },
            "type": "scattergl"
           }
          ],
          "scattermapbox": [
           {
            "marker": {
             "colorbar": {
              "outlinewidth": 0,
              "ticks": ""
             }
            },
            "type": "scattermapbox"
           }
          ],
          "scatterpolar": [
           {
            "marker": {
             "colorbar": {
              "outlinewidth": 0,
              "ticks": ""
             }
            },
            "type": "scatterpolar"
           }
          ],
          "scatterpolargl": [
           {
            "marker": {
             "colorbar": {
              "outlinewidth": 0,
              "ticks": ""
             }
            },
            "type": "scatterpolargl"
           }
          ],
          "scatterternary": [
           {
            "marker": {
             "colorbar": {
              "outlinewidth": 0,
              "ticks": ""
             }
            },
            "type": "scatterternary"
           }
          ],
          "surface": [
           {
            "colorbar": {
             "outlinewidth": 0,
             "ticks": ""
            },
            "colorscale": [
             [
              0,
              "#0d0887"
             ],
             [
              0.1111111111111111,
              "#46039f"
             ],
             [
              0.2222222222222222,
              "#7201a8"
             ],
             [
              0.3333333333333333,
              "#9c179e"
             ],
             [
              0.4444444444444444,
              "#bd3786"
             ],
             [
              0.5555555555555556,
              "#d8576b"
             ],
             [
              0.6666666666666666,
              "#ed7953"
             ],
             [
              0.7777777777777778,
              "#fb9f3a"
             ],
             [
              0.8888888888888888,
              "#fdca26"
             ],
             [
              1,
              "#f0f921"
             ]
            ],
            "type": "surface"
           }
          ],
          "table": [
           {
            "cells": {
             "fill": {
              "color": "#EBF0F8"
             },
             "line": {
              "color": "white"
             }
            },
            "header": {
             "fill": {
              "color": "#C8D4E3"
             },
             "line": {
              "color": "white"
             }
            },
            "type": "table"
           }
          ]
         },
         "layout": {
          "annotationdefaults": {
           "arrowcolor": "#2a3f5f",
           "arrowhead": 0,
           "arrowwidth": 1
          },
          "autotypenumbers": "strict",
          "coloraxis": {
           "colorbar": {
            "outlinewidth": 0,
            "ticks": ""
           }
          },
          "colorscale": {
           "diverging": [
            [
             0,
             "#8e0152"
            ],
            [
             0.1,
             "#c51b7d"
            ],
            [
             0.2,
             "#de77ae"
            ],
            [
             0.3,
             "#f1b6da"
            ],
            [
             0.4,
             "#fde0ef"
            ],
            [
             0.5,
             "#f7f7f7"
            ],
            [
             0.6,
             "#e6f5d0"
            ],
            [
             0.7,
             "#b8e186"
            ],
            [
             0.8,
             "#7fbc41"
            ],
            [
             0.9,
             "#4d9221"
            ],
            [
             1,
             "#276419"
            ]
           ],
           "sequential": [
            [
             0,
             "#0d0887"
            ],
            [
             0.1111111111111111,
             "#46039f"
            ],
            [
             0.2222222222222222,
             "#7201a8"
            ],
            [
             0.3333333333333333,
             "#9c179e"
            ],
            [
             0.4444444444444444,
             "#bd3786"
            ],
            [
             0.5555555555555556,
             "#d8576b"
            ],
            [
             0.6666666666666666,
             "#ed7953"
            ],
            [
             0.7777777777777778,
             "#fb9f3a"
            ],
            [
             0.8888888888888888,
             "#fdca26"
            ],
            [
             1,
             "#f0f921"
            ]
           ],
           "sequentialminus": [
            [
             0,
             "#0d0887"
            ],
            [
             0.1111111111111111,
             "#46039f"
            ],
            [
             0.2222222222222222,
             "#7201a8"
            ],
            [
             0.3333333333333333,
             "#9c179e"
            ],
            [
             0.4444444444444444,
             "#bd3786"
            ],
            [
             0.5555555555555556,
             "#d8576b"
            ],
            [
             0.6666666666666666,
             "#ed7953"
            ],
            [
             0.7777777777777778,
             "#fb9f3a"
            ],
            [
             0.8888888888888888,
             "#fdca26"
            ],
            [
             1,
             "#f0f921"
            ]
           ]
          },
          "colorway": [
           "#636efa",
           "#EF553B",
           "#00cc96",
           "#ab63fa",
           "#FFA15A",
           "#19d3f3",
           "#FF6692",
           "#B6E880",
           "#FF97FF",
           "#FECB52"
          ],
          "font": {
           "color": "#2a3f5f"
          },
          "geo": {
           "bgcolor": "white",
           "lakecolor": "white",
           "landcolor": "#E5ECF6",
           "showlakes": true,
           "showland": true,
           "subunitcolor": "white"
          },
          "hoverlabel": {
           "align": "left"
          },
          "hovermode": "closest",
          "mapbox": {
           "style": "light"
          },
          "paper_bgcolor": "white",
          "plot_bgcolor": "#E5ECF6",
          "polar": {
           "angularaxis": {
            "gridcolor": "white",
            "linecolor": "white",
            "ticks": ""
           },
           "bgcolor": "#E5ECF6",
           "radialaxis": {
            "gridcolor": "white",
            "linecolor": "white",
            "ticks": ""
           }
          },
          "scene": {
           "xaxis": {
            "backgroundcolor": "#E5ECF6",
            "gridcolor": "white",
            "gridwidth": 2,
            "linecolor": "white",
            "showbackground": true,
            "ticks": "",
            "zerolinecolor": "white"
           },
           "yaxis": {
            "backgroundcolor": "#E5ECF6",
            "gridcolor": "white",
            "gridwidth": 2,
            "linecolor": "white",
            "showbackground": true,
            "ticks": "",
            "zerolinecolor": "white"
           },
           "zaxis": {
            "backgroundcolor": "#E5ECF6",
            "gridcolor": "white",
            "gridwidth": 2,
            "linecolor": "white",
            "showbackground": true,
            "ticks": "",
            "zerolinecolor": "white"
           }
          },
          "shapedefaults": {
           "line": {
            "color": "#2a3f5f"
           }
          },
          "ternary": {
           "aaxis": {
            "gridcolor": "white",
            "linecolor": "white",
            "ticks": ""
           },
           "baxis": {
            "gridcolor": "white",
            "linecolor": "white",
            "ticks": ""
           },
           "bgcolor": "#E5ECF6",
           "caxis": {
            "gridcolor": "white",
            "linecolor": "white",
            "ticks": ""
           }
          },
          "title": {
           "x": 0.05
          },
          "xaxis": {
           "automargin": true,
           "gridcolor": "white",
           "linecolor": "white",
           "ticks": "",
           "title": {
            "standoff": 15
           },
           "zerolinecolor": "white",
           "zerolinewidth": 2
          },
          "yaxis": {
           "automargin": true,
           "gridcolor": "white",
           "linecolor": "white",
           "ticks": "",
           "title": {
            "standoff": 15
           },
           "zerolinecolor": "white",
           "zerolinewidth": 2
          }
         }
        },
        "width": 1500
       }
      }
     },
     "metadata": {},
     "output_type": "display_data"
    }
   ],
   "source": [
    "plot = ParcatsSankeyPlot(top_10_actions_no_order_sankey, top_10_actions_no_order_sankey.columns.tolist(), chart='Sankey', w=1500)\n",
    "fig = plot.create_plot()\n",
    "fig.show()"
   ]
  },
  {
   "cell_type": "code",
   "execution_count": 127,
   "metadata": {},
   "outputs": [
    {
     "data": {
      "text/html": [
       "<div>\n",
       "<style scoped>\n",
       "    .dataframe tbody tr th:only-of-type {\n",
       "        vertical-align: middle;\n",
       "    }\n",
       "\n",
       "    .dataframe tbody tr th {\n",
       "        vertical-align: top;\n",
       "    }\n",
       "\n",
       "    .dataframe thead th {\n",
       "        text-align: right;\n",
       "    }\n",
       "</style>\n",
       "<table border=\"1\" class=\"dataframe\">\n",
       "  <thead>\n",
       "    <tr style=\"text-align: right;\">\n",
       "      <th></th>\n",
       "      <th>basket_icon_click</th>\n",
       "      <th>basket_add_list</th>\n",
       "      <th>basket_add_detail</th>\n",
       "      <th>sort_by</th>\n",
       "      <th>image_picker</th>\n",
       "      <th>account_page_click</th>\n",
       "      <th>promo_banner_click</th>\n",
       "      <th>detail_wishlist_add</th>\n",
       "      <th>list_size_dropdown</th>\n",
       "      <th>closed_minibasket_click</th>\n",
       "      <th>...</th>\n",
       "      <th>saw_sizecharts</th>\n",
       "      <th>saw_delivery</th>\n",
       "      <th>saw_account_upgrade</th>\n",
       "      <th>saw_homepage</th>\n",
       "      <th>device_mobile</th>\n",
       "      <th>device_computer</th>\n",
       "      <th>device_tablet</th>\n",
       "      <th>returning_user</th>\n",
       "      <th>loc_uk</th>\n",
       "      <th>ordered</th>\n",
       "    </tr>\n",
       "  </thead>\n",
       "  <tbody>\n",
       "    <tr>\n",
       "      <th>3819</th>\n",
       "      <td>1</td>\n",
       "      <td>1</td>\n",
       "      <td>0</td>\n",
       "      <td>0</td>\n",
       "      <td>0</td>\n",
       "      <td>0</td>\n",
       "      <td>0</td>\n",
       "      <td>0</td>\n",
       "      <td>1</td>\n",
       "      <td>0</td>\n",
       "      <td>...</td>\n",
       "      <td>0</td>\n",
       "      <td>0</td>\n",
       "      <td>0</td>\n",
       "      <td>1</td>\n",
       "      <td>0</td>\n",
       "      <td>1</td>\n",
       "      <td>0</td>\n",
       "      <td>1</td>\n",
       "      <td>1</td>\n",
       "      <td>1</td>\n",
       "    </tr>\n",
       "    <tr>\n",
       "      <th>3820</th>\n",
       "      <td>1</td>\n",
       "      <td>0</td>\n",
       "      <td>1</td>\n",
       "      <td>0</td>\n",
       "      <td>0</td>\n",
       "      <td>0</td>\n",
       "      <td>1</td>\n",
       "      <td>0</td>\n",
       "      <td>1</td>\n",
       "      <td>0</td>\n",
       "      <td>...</td>\n",
       "      <td>0</td>\n",
       "      <td>0</td>\n",
       "      <td>0</td>\n",
       "      <td>1</td>\n",
       "      <td>1</td>\n",
       "      <td>0</td>\n",
       "      <td>0</td>\n",
       "      <td>0</td>\n",
       "      <td>0</td>\n",
       "      <td>1</td>\n",
       "    </tr>\n",
       "    <tr>\n",
       "      <th>3821</th>\n",
       "      <td>1</td>\n",
       "      <td>1</td>\n",
       "      <td>1</td>\n",
       "      <td>1</td>\n",
       "      <td>0</td>\n",
       "      <td>0</td>\n",
       "      <td>0</td>\n",
       "      <td>0</td>\n",
       "      <td>0</td>\n",
       "      <td>0</td>\n",
       "      <td>...</td>\n",
       "      <td>0</td>\n",
       "      <td>0</td>\n",
       "      <td>0</td>\n",
       "      <td>1</td>\n",
       "      <td>0</td>\n",
       "      <td>1</td>\n",
       "      <td>0</td>\n",
       "      <td>1</td>\n",
       "      <td>1</td>\n",
       "      <td>1</td>\n",
       "    </tr>\n",
       "    <tr>\n",
       "      <th>3822</th>\n",
       "      <td>1</td>\n",
       "      <td>0</td>\n",
       "      <td>0</td>\n",
       "      <td>0</td>\n",
       "      <td>0</td>\n",
       "      <td>1</td>\n",
       "      <td>0</td>\n",
       "      <td>0</td>\n",
       "      <td>0</td>\n",
       "      <td>0</td>\n",
       "      <td>...</td>\n",
       "      <td>0</td>\n",
       "      <td>0</td>\n",
       "      <td>0</td>\n",
       "      <td>1</td>\n",
       "      <td>1</td>\n",
       "      <td>0</td>\n",
       "      <td>0</td>\n",
       "      <td>1</td>\n",
       "      <td>1</td>\n",
       "      <td>1</td>\n",
       "    </tr>\n",
       "    <tr>\n",
       "      <th>3823</th>\n",
       "      <td>1</td>\n",
       "      <td>0</td>\n",
       "      <td>1</td>\n",
       "      <td>0</td>\n",
       "      <td>0</td>\n",
       "      <td>0</td>\n",
       "      <td>0</td>\n",
       "      <td>0</td>\n",
       "      <td>1</td>\n",
       "      <td>0</td>\n",
       "      <td>...</td>\n",
       "      <td>0</td>\n",
       "      <td>0</td>\n",
       "      <td>0</td>\n",
       "      <td>1</td>\n",
       "      <td>1</td>\n",
       "      <td>0</td>\n",
       "      <td>0</td>\n",
       "      <td>1</td>\n",
       "      <td>1</td>\n",
       "      <td>1</td>\n",
       "    </tr>\n",
       "  </tbody>\n",
       "</table>\n",
       "<p>5 rows × 24 columns</p>\n",
       "</div>"
      ],
      "text/plain": [
       "      basket_icon_click  basket_add_list  basket_add_detail  sort_by  \\\n",
       "3819                  1                1                  0        0   \n",
       "3820                  1                0                  1        0   \n",
       "3821                  1                1                  1        1   \n",
       "3822                  1                0                  0        0   \n",
       "3823                  1                0                  1        0   \n",
       "\n",
       "      image_picker  account_page_click  promo_banner_click  \\\n",
       "3819             0                   0                   0   \n",
       "3820             0                   0                   1   \n",
       "3821             0                   0                   0   \n",
       "3822             0                   1                   0   \n",
       "3823             0                   0                   0   \n",
       "\n",
       "      detail_wishlist_add  list_size_dropdown  closed_minibasket_click  ...  \\\n",
       "3819                    0                   1                        0  ...   \n",
       "3820                    0                   1                        0  ...   \n",
       "3821                    0                   0                        0  ...   \n",
       "3822                    0                   0                        0  ...   \n",
       "3823                    0                   1                        0  ...   \n",
       "\n",
       "      saw_sizecharts  saw_delivery  saw_account_upgrade  saw_homepage  \\\n",
       "3819               0             0                    0             1   \n",
       "3820               0             0                    0             1   \n",
       "3821               0             0                    0             1   \n",
       "3822               0             0                    0             1   \n",
       "3823               0             0                    0             1   \n",
       "\n",
       "      device_mobile  device_computer  device_tablet  returning_user  loc_uk  \\\n",
       "3819              0                1              0               1       1   \n",
       "3820              1                0              0               0       0   \n",
       "3821              0                1              0               1       1   \n",
       "3822              1                0              0               1       1   \n",
       "3823              1                0              0               1       1   \n",
       "\n",
       "      ordered  \n",
       "3819        1  \n",
       "3820        1  \n",
       "3821        1  \n",
       "3822        1  \n",
       "3823        1  \n",
       "\n",
       "[5 rows x 24 columns]"
      ]
     },
     "execution_count": 127,
     "metadata": {},
     "output_type": "execute_result"
    }
   ],
   "source": [
    "df.head(5)"
   ]
  },
  {
   "cell_type": "code",
   "execution_count": 97,
   "metadata": {},
   "outputs": [],
   "source": []
  },
  {
   "cell_type": "markdown",
   "metadata": {},
   "source": [
    "**Ordered**"
   ]
  },
  {
   "cell_type": "code",
   "execution_count": 128,
   "metadata": {
    "ExecuteTime": {
     "end_time": "2024-06-15T16:21:36.327938Z",
     "start_time": "2024-06-15T16:21:36.316015Z"
    }
   },
   "outputs": [
    {
     "data": {
      "text/html": [
       "<div>\n",
       "<style scoped>\n",
       "    .dataframe tbody tr th:only-of-type {\n",
       "        vertical-align: middle;\n",
       "    }\n",
       "\n",
       "    .dataframe tbody tr th {\n",
       "        vertical-align: top;\n",
       "    }\n",
       "\n",
       "    .dataframe thead th {\n",
       "        text-align: right;\n",
       "    }\n",
       "</style>\n",
       "<table border=\"1\" class=\"dataframe\">\n",
       "  <thead>\n",
       "    <tr style=\"text-align: right;\">\n",
       "      <th></th>\n",
       "      <th>basket_icon_click</th>\n",
       "      <th>basket_add_list</th>\n",
       "      <th>basket_add_detail</th>\n",
       "      <th>sort_by</th>\n",
       "      <th>image_picker</th>\n",
       "      <th>account_page_click</th>\n",
       "      <th>promo_banner_click</th>\n",
       "      <th>detail_wishlist_add</th>\n",
       "      <th>list_size_dropdown</th>\n",
       "      <th>closed_minibasket_click</th>\n",
       "      <th>...</th>\n",
       "      <th>saw_delivery</th>\n",
       "      <th>saw_account_upgrade</th>\n",
       "      <th>saw_homepage</th>\n",
       "      <th>device_mobile</th>\n",
       "      <th>device_computer</th>\n",
       "      <th>device_tablet</th>\n",
       "      <th>returning_user</th>\n",
       "      <th>loc_uk</th>\n",
       "      <th>ordered</th>\n",
       "      <th>count</th>\n",
       "    </tr>\n",
       "  </thead>\n",
       "  <tbody>\n",
       "    <tr>\n",
       "      <th>8</th>\n",
       "      <td>1</td>\n",
       "      <td>1</td>\n",
       "      <td>1</td>\n",
       "      <td>0</td>\n",
       "      <td>0</td>\n",
       "      <td>0</td>\n",
       "      <td>0</td>\n",
       "      <td>0</td>\n",
       "      <td>1</td>\n",
       "      <td>0</td>\n",
       "      <td>...</td>\n",
       "      <td>0</td>\n",
       "      <td>0</td>\n",
       "      <td>1</td>\n",
       "      <td>1</td>\n",
       "      <td>0</td>\n",
       "      <td>0</td>\n",
       "      <td>1</td>\n",
       "      <td>1</td>\n",
       "      <td>1</td>\n",
       "      <td>631</td>\n",
       "    </tr>\n",
       "    <tr>\n",
       "      <th>11</th>\n",
       "      <td>1</td>\n",
       "      <td>0</td>\n",
       "      <td>1</td>\n",
       "      <td>0</td>\n",
       "      <td>0</td>\n",
       "      <td>0</td>\n",
       "      <td>0</td>\n",
       "      <td>0</td>\n",
       "      <td>0</td>\n",
       "      <td>0</td>\n",
       "      <td>...</td>\n",
       "      <td>0</td>\n",
       "      <td>0</td>\n",
       "      <td>1</td>\n",
       "      <td>1</td>\n",
       "      <td>0</td>\n",
       "      <td>0</td>\n",
       "      <td>1</td>\n",
       "      <td>1</td>\n",
       "      <td>1</td>\n",
       "      <td>497</td>\n",
       "    </tr>\n",
       "    <tr>\n",
       "      <th>14</th>\n",
       "      <td>1</td>\n",
       "      <td>0</td>\n",
       "      <td>1</td>\n",
       "      <td>0</td>\n",
       "      <td>0</td>\n",
       "      <td>0</td>\n",
       "      <td>0</td>\n",
       "      <td>0</td>\n",
       "      <td>0</td>\n",
       "      <td>0</td>\n",
       "      <td>...</td>\n",
       "      <td>0</td>\n",
       "      <td>0</td>\n",
       "      <td>0</td>\n",
       "      <td>1</td>\n",
       "      <td>0</td>\n",
       "      <td>0</td>\n",
       "      <td>1</td>\n",
       "      <td>1</td>\n",
       "      <td>1</td>\n",
       "      <td>361</td>\n",
       "    </tr>\n",
       "    <tr>\n",
       "      <th>16</th>\n",
       "      <td>1</td>\n",
       "      <td>1</td>\n",
       "      <td>0</td>\n",
       "      <td>0</td>\n",
       "      <td>0</td>\n",
       "      <td>0</td>\n",
       "      <td>0</td>\n",
       "      <td>0</td>\n",
       "      <td>1</td>\n",
       "      <td>0</td>\n",
       "      <td>...</td>\n",
       "      <td>0</td>\n",
       "      <td>0</td>\n",
       "      <td>1</td>\n",
       "      <td>1</td>\n",
       "      <td>0</td>\n",
       "      <td>0</td>\n",
       "      <td>1</td>\n",
       "      <td>1</td>\n",
       "      <td>1</td>\n",
       "      <td>340</td>\n",
       "    </tr>\n",
       "    <tr>\n",
       "      <th>20</th>\n",
       "      <td>1</td>\n",
       "      <td>0</td>\n",
       "      <td>1</td>\n",
       "      <td>0</td>\n",
       "      <td>0</td>\n",
       "      <td>0</td>\n",
       "      <td>0</td>\n",
       "      <td>0</td>\n",
       "      <td>1</td>\n",
       "      <td>0</td>\n",
       "      <td>...</td>\n",
       "      <td>0</td>\n",
       "      <td>0</td>\n",
       "      <td>1</td>\n",
       "      <td>1</td>\n",
       "      <td>0</td>\n",
       "      <td>0</td>\n",
       "      <td>1</td>\n",
       "      <td>1</td>\n",
       "      <td>1</td>\n",
       "      <td>316</td>\n",
       "    </tr>\n",
       "    <tr>\n",
       "      <th>22</th>\n",
       "      <td>0</td>\n",
       "      <td>0</td>\n",
       "      <td>1</td>\n",
       "      <td>0</td>\n",
       "      <td>0</td>\n",
       "      <td>0</td>\n",
       "      <td>0</td>\n",
       "      <td>0</td>\n",
       "      <td>0</td>\n",
       "      <td>0</td>\n",
       "      <td>...</td>\n",
       "      <td>0</td>\n",
       "      <td>0</td>\n",
       "      <td>0</td>\n",
       "      <td>1</td>\n",
       "      <td>0</td>\n",
       "      <td>0</td>\n",
       "      <td>1</td>\n",
       "      <td>1</td>\n",
       "      <td>1</td>\n",
       "      <td>308</td>\n",
       "    </tr>\n",
       "    <tr>\n",
       "      <th>28</th>\n",
       "      <td>1</td>\n",
       "      <td>0</td>\n",
       "      <td>0</td>\n",
       "      <td>0</td>\n",
       "      <td>0</td>\n",
       "      <td>0</td>\n",
       "      <td>0</td>\n",
       "      <td>0</td>\n",
       "      <td>0</td>\n",
       "      <td>0</td>\n",
       "      <td>...</td>\n",
       "      <td>0</td>\n",
       "      <td>0</td>\n",
       "      <td>1</td>\n",
       "      <td>1</td>\n",
       "      <td>0</td>\n",
       "      <td>0</td>\n",
       "      <td>1</td>\n",
       "      <td>1</td>\n",
       "      <td>1</td>\n",
       "      <td>266</td>\n",
       "    </tr>\n",
       "    <tr>\n",
       "      <th>29</th>\n",
       "      <td>1</td>\n",
       "      <td>1</td>\n",
       "      <td>1</td>\n",
       "      <td>0</td>\n",
       "      <td>0</td>\n",
       "      <td>0</td>\n",
       "      <td>0</td>\n",
       "      <td>0</td>\n",
       "      <td>1</td>\n",
       "      <td>0</td>\n",
       "      <td>...</td>\n",
       "      <td>0</td>\n",
       "      <td>0</td>\n",
       "      <td>0</td>\n",
       "      <td>1</td>\n",
       "      <td>0</td>\n",
       "      <td>0</td>\n",
       "      <td>1</td>\n",
       "      <td>1</td>\n",
       "      <td>1</td>\n",
       "      <td>262</td>\n",
       "    </tr>\n",
       "    <tr>\n",
       "      <th>30</th>\n",
       "      <td>0</td>\n",
       "      <td>0</td>\n",
       "      <td>1</td>\n",
       "      <td>0</td>\n",
       "      <td>0</td>\n",
       "      <td>0</td>\n",
       "      <td>0</td>\n",
       "      <td>0</td>\n",
       "      <td>0</td>\n",
       "      <td>0</td>\n",
       "      <td>...</td>\n",
       "      <td>0</td>\n",
       "      <td>0</td>\n",
       "      <td>1</td>\n",
       "      <td>1</td>\n",
       "      <td>0</td>\n",
       "      <td>0</td>\n",
       "      <td>1</td>\n",
       "      <td>1</td>\n",
       "      <td>1</td>\n",
       "      <td>257</td>\n",
       "    </tr>\n",
       "    <tr>\n",
       "      <th>33</th>\n",
       "      <td>0</td>\n",
       "      <td>0</td>\n",
       "      <td>1</td>\n",
       "      <td>0</td>\n",
       "      <td>0</td>\n",
       "      <td>0</td>\n",
       "      <td>0</td>\n",
       "      <td>0</td>\n",
       "      <td>0</td>\n",
       "      <td>0</td>\n",
       "      <td>...</td>\n",
       "      <td>0</td>\n",
       "      <td>0</td>\n",
       "      <td>0</td>\n",
       "      <td>1</td>\n",
       "      <td>0</td>\n",
       "      <td>0</td>\n",
       "      <td>0</td>\n",
       "      <td>1</td>\n",
       "      <td>1</td>\n",
       "      <td>251</td>\n",
       "    </tr>\n",
       "  </tbody>\n",
       "</table>\n",
       "<p>10 rows × 25 columns</p>\n",
       "</div>"
      ],
      "text/plain": [
       "    basket_icon_click  basket_add_list  basket_add_detail  sort_by  \\\n",
       "8                   1                1                  1        0   \n",
       "11                  1                0                  1        0   \n",
       "14                  1                0                  1        0   \n",
       "16                  1                1                  0        0   \n",
       "20                  1                0                  1        0   \n",
       "22                  0                0                  1        0   \n",
       "28                  1                0                  0        0   \n",
       "29                  1                1                  1        0   \n",
       "30                  0                0                  1        0   \n",
       "33                  0                0                  1        0   \n",
       "\n",
       "    image_picker  account_page_click  promo_banner_click  detail_wishlist_add  \\\n",
       "8              0                   0                   0                    0   \n",
       "11             0                   0                   0                    0   \n",
       "14             0                   0                   0                    0   \n",
       "16             0                   0                   0                    0   \n",
       "20             0                   0                   0                    0   \n",
       "22             0                   0                   0                    0   \n",
       "28             0                   0                   0                    0   \n",
       "29             0                   0                   0                    0   \n",
       "30             0                   0                   0                    0   \n",
       "33             0                   0                   0                    0   \n",
       "\n",
       "    list_size_dropdown  closed_minibasket_click  ...  saw_delivery  \\\n",
       "8                    1                        0  ...             0   \n",
       "11                   0                        0  ...             0   \n",
       "14                   0                        0  ...             0   \n",
       "16                   1                        0  ...             0   \n",
       "20                   1                        0  ...             0   \n",
       "22                   0                        0  ...             0   \n",
       "28                   0                        0  ...             0   \n",
       "29                   1                        0  ...             0   \n",
       "30                   0                        0  ...             0   \n",
       "33                   0                        0  ...             0   \n",
       "\n",
       "    saw_account_upgrade  saw_homepage  device_mobile  device_computer  \\\n",
       "8                     0             1              1                0   \n",
       "11                    0             1              1                0   \n",
       "14                    0             0              1                0   \n",
       "16                    0             1              1                0   \n",
       "20                    0             1              1                0   \n",
       "22                    0             0              1                0   \n",
       "28                    0             1              1                0   \n",
       "29                    0             0              1                0   \n",
       "30                    0             1              1                0   \n",
       "33                    0             0              1                0   \n",
       "\n",
       "    device_tablet  returning_user  loc_uk  ordered  count  \n",
       "8               0               1       1        1    631  \n",
       "11              0               1       1        1    497  \n",
       "14              0               1       1        1    361  \n",
       "16              0               1       1        1    340  \n",
       "20              0               1       1        1    316  \n",
       "22              0               1       1        1    308  \n",
       "28              0               1       1        1    266  \n",
       "29              0               1       1        1    262  \n",
       "30              0               1       1        1    257  \n",
       "33              0               0       1        1    251  \n",
       "\n",
       "[10 rows x 25 columns]"
      ]
     },
     "execution_count": 128,
     "metadata": {},
     "output_type": "execute_result"
    }
   ],
   "source": [
    "top_10_actions_order = df_actions[df_actions.iloc[:,-2] == 1].sort_values(by='count', ascending=False)[:10]\n",
    "top_10_actions_order"
   ]
  },
  {
   "cell_type": "code",
   "execution_count": 129,
   "metadata": {
    "ExecuteTime": {
     "end_time": "2024-06-15T16:21:36.848136Z",
     "start_time": "2024-06-15T16:21:36.843988Z"
    }
   },
   "outputs": [
    {
     "name": "stdout",
     "output_type": "stream",
     "text": [
      "Index(['basket_icon_click', 'basket_add_list', 'basket_add_detail', 'sort_by',\n",
      "       'image_picker', 'account_page_click', 'promo_banner_click',\n",
      "       'detail_wishlist_add', 'list_size_dropdown', 'closed_minibasket_click',\n",
      "       'checked_delivery_detail', 'checked_returns_detail', 'sign_in',\n",
      "       'saw_checkout', 'saw_sizecharts', 'saw_delivery', 'saw_account_upgrade',\n",
      "       'saw_homepage', 'device_mobile', 'device_computer', 'device_tablet',\n",
      "       'returning_user', 'loc_uk', 'ordered', 'count'],\n",
      "      dtype='object')\n"
     ]
    }
   ],
   "source": [
    "print(top_10_actions_order.columns)\n",
    "columns_to_encode = ['device_mobile', 'device_computer', 'device_tablet']\n",
    "top_10_actions_order['device'] = top_10_actions_order.apply(lambda row: backward_one_hot_encoding(columns_to_encode, row), axis=1)"
   ]
  },
  {
   "cell_type": "code",
   "execution_count": 130,
   "metadata": {
    "ExecuteTime": {
     "end_time": "2024-06-15T16:21:37.877703Z",
     "start_time": "2024-06-15T16:21:37.228376Z"
    }
   },
   "outputs": [
    {
     "data": {
      "text/html": [
       "<div>\n",
       "<style scoped>\n",
       "    .dataframe tbody tr th:only-of-type {\n",
       "        vertical-align: middle;\n",
       "    }\n",
       "\n",
       "    .dataframe tbody tr th {\n",
       "        vertical-align: top;\n",
       "    }\n",
       "\n",
       "    .dataframe thead th {\n",
       "        text-align: right;\n",
       "    }\n",
       "</style>\n",
       "<table border=\"1\" class=\"dataframe\">\n",
       "  <thead>\n",
       "    <tr style=\"text-align: right;\">\n",
       "      <th></th>\n",
       "      <th>basket_icon_click</th>\n",
       "      <th>basket_add_list</th>\n",
       "      <th>basket_add_detail</th>\n",
       "      <th>list_size_dropdown</th>\n",
       "      <th>saw_homepage</th>\n",
       "      <th>returning_user</th>\n",
       "      <th>count</th>\n",
       "      <th>device</th>\n",
       "    </tr>\n",
       "  </thead>\n",
       "  <tbody>\n",
       "    <tr>\n",
       "      <th>8</th>\n",
       "      <td>1</td>\n",
       "      <td>1</td>\n",
       "      <td>1</td>\n",
       "      <td>1</td>\n",
       "      <td>1</td>\n",
       "      <td>1</td>\n",
       "      <td>631</td>\n",
       "      <td>device_mobile</td>\n",
       "    </tr>\n",
       "    <tr>\n",
       "      <th>11</th>\n",
       "      <td>1</td>\n",
       "      <td>0</td>\n",
       "      <td>1</td>\n",
       "      <td>0</td>\n",
       "      <td>1</td>\n",
       "      <td>1</td>\n",
       "      <td>497</td>\n",
       "      <td>device_mobile</td>\n",
       "    </tr>\n",
       "    <tr>\n",
       "      <th>14</th>\n",
       "      <td>1</td>\n",
       "      <td>0</td>\n",
       "      <td>1</td>\n",
       "      <td>0</td>\n",
       "      <td>0</td>\n",
       "      <td>1</td>\n",
       "      <td>361</td>\n",
       "      <td>device_mobile</td>\n",
       "    </tr>\n",
       "    <tr>\n",
       "      <th>16</th>\n",
       "      <td>1</td>\n",
       "      <td>1</td>\n",
       "      <td>0</td>\n",
       "      <td>1</td>\n",
       "      <td>1</td>\n",
       "      <td>1</td>\n",
       "      <td>340</td>\n",
       "      <td>device_mobile</td>\n",
       "    </tr>\n",
       "    <tr>\n",
       "      <th>20</th>\n",
       "      <td>1</td>\n",
       "      <td>0</td>\n",
       "      <td>1</td>\n",
       "      <td>1</td>\n",
       "      <td>1</td>\n",
       "      <td>1</td>\n",
       "      <td>316</td>\n",
       "      <td>device_mobile</td>\n",
       "    </tr>\n",
       "  </tbody>\n",
       "</table>\n",
       "</div>"
      ],
      "text/plain": [
       "    basket_icon_click  basket_add_list  basket_add_detail  list_size_dropdown  \\\n",
       "8                   1                1                  1                   1   \n",
       "11                  1                0                  1                   0   \n",
       "14                  1                0                  1                   0   \n",
       "16                  1                1                  0                   1   \n",
       "20                  1                0                  1                   1   \n",
       "\n",
       "    saw_homepage  returning_user  count         device  \n",
       "8              1               1    631  device_mobile  \n",
       "11             1               1    497  device_mobile  \n",
       "14             0               1    361  device_mobile  \n",
       "16             1               1    340  device_mobile  \n",
       "20             1               1    316  device_mobile  "
      ]
     },
     "execution_count": 130,
     "metadata": {},
     "output_type": "execute_result"
    }
   ],
   "source": [
    "top_10_actions_order_sankey = remove_single_value_columns(top_10_actions_order)\n",
    "top_10_actions_order_sankey = pd.concat([top_10_actions_order_sankey, top_10_actions_order['device']], axis=1)\n",
    "top_10_actions_order_sankey.head()\n"
   ]
  },
  {
   "cell_type": "code",
   "execution_count": 131,
   "metadata": {
    "ExecuteTime": {
     "end_time": "2024-06-15T16:21:37.887607Z",
     "start_time": "2024-06-15T16:21:37.878719Z"
    }
   },
   "outputs": [
    {
     "data": {
      "text/html": [
       "<div>\n",
       "<style scoped>\n",
       "    .dataframe tbody tr th:only-of-type {\n",
       "        vertical-align: middle;\n",
       "    }\n",
       "\n",
       "    .dataframe tbody tr th {\n",
       "        vertical-align: top;\n",
       "    }\n",
       "\n",
       "    .dataframe thead th {\n",
       "        text-align: right;\n",
       "    }\n",
       "</style>\n",
       "<table border=\"1\" class=\"dataframe\">\n",
       "  <thead>\n",
       "    <tr style=\"text-align: right;\">\n",
       "      <th></th>\n",
       "      <th>saw_homepage</th>\n",
       "      <th>list_size_dropdown</th>\n",
       "      <th>basket_icon_click</th>\n",
       "      <th>basket_add_list</th>\n",
       "      <th>basket_add_detail</th>\n",
       "      <th>device</th>\n",
       "      <th>count</th>\n",
       "    </tr>\n",
       "  </thead>\n",
       "  <tbody>\n",
       "    <tr>\n",
       "      <th>8</th>\n",
       "      <td>1</td>\n",
       "      <td>1</td>\n",
       "      <td>1</td>\n",
       "      <td>1</td>\n",
       "      <td>1</td>\n",
       "      <td>device_mobile</td>\n",
       "      <td>631</td>\n",
       "    </tr>\n",
       "    <tr>\n",
       "      <th>11</th>\n",
       "      <td>1</td>\n",
       "      <td>0</td>\n",
       "      <td>1</td>\n",
       "      <td>0</td>\n",
       "      <td>1</td>\n",
       "      <td>device_mobile</td>\n",
       "      <td>497</td>\n",
       "    </tr>\n",
       "    <tr>\n",
       "      <th>14</th>\n",
       "      <td>0</td>\n",
       "      <td>0</td>\n",
       "      <td>1</td>\n",
       "      <td>0</td>\n",
       "      <td>1</td>\n",
       "      <td>device_mobile</td>\n",
       "      <td>361</td>\n",
       "    </tr>\n",
       "    <tr>\n",
       "      <th>16</th>\n",
       "      <td>1</td>\n",
       "      <td>1</td>\n",
       "      <td>1</td>\n",
       "      <td>1</td>\n",
       "      <td>0</td>\n",
       "      <td>device_mobile</td>\n",
       "      <td>340</td>\n",
       "    </tr>\n",
       "    <tr>\n",
       "      <th>20</th>\n",
       "      <td>1</td>\n",
       "      <td>1</td>\n",
       "      <td>1</td>\n",
       "      <td>0</td>\n",
       "      <td>1</td>\n",
       "      <td>device_mobile</td>\n",
       "      <td>316</td>\n",
       "    </tr>\n",
       "    <tr>\n",
       "      <th>22</th>\n",
       "      <td>0</td>\n",
       "      <td>0</td>\n",
       "      <td>0</td>\n",
       "      <td>0</td>\n",
       "      <td>1</td>\n",
       "      <td>device_mobile</td>\n",
       "      <td>308</td>\n",
       "    </tr>\n",
       "    <tr>\n",
       "      <th>28</th>\n",
       "      <td>1</td>\n",
       "      <td>0</td>\n",
       "      <td>1</td>\n",
       "      <td>0</td>\n",
       "      <td>0</td>\n",
       "      <td>device_mobile</td>\n",
       "      <td>266</td>\n",
       "    </tr>\n",
       "    <tr>\n",
       "      <th>29</th>\n",
       "      <td>0</td>\n",
       "      <td>1</td>\n",
       "      <td>1</td>\n",
       "      <td>1</td>\n",
       "      <td>1</td>\n",
       "      <td>device_mobile</td>\n",
       "      <td>262</td>\n",
       "    </tr>\n",
       "    <tr>\n",
       "      <th>30</th>\n",
       "      <td>1</td>\n",
       "      <td>0</td>\n",
       "      <td>0</td>\n",
       "      <td>0</td>\n",
       "      <td>1</td>\n",
       "      <td>device_mobile</td>\n",
       "      <td>257</td>\n",
       "    </tr>\n",
       "    <tr>\n",
       "      <th>33</th>\n",
       "      <td>0</td>\n",
       "      <td>0</td>\n",
       "      <td>0</td>\n",
       "      <td>0</td>\n",
       "      <td>1</td>\n",
       "      <td>device_mobile</td>\n",
       "      <td>251</td>\n",
       "    </tr>\n",
       "  </tbody>\n",
       "</table>\n",
       "</div>"
      ],
      "text/plain": [
       "    saw_homepage  list_size_dropdown  basket_icon_click  basket_add_list  \\\n",
       "8              1                   1                  1                1   \n",
       "11             1                   0                  1                0   \n",
       "14             0                   0                  1                0   \n",
       "16             1                   1                  1                1   \n",
       "20             1                   1                  1                0   \n",
       "22             0                   0                  0                0   \n",
       "28             1                   0                  1                0   \n",
       "29             0                   1                  1                1   \n",
       "30             1                   0                  0                0   \n",
       "33             0                   0                  0                0   \n",
       "\n",
       "    basket_add_detail         device  count  \n",
       "8                   1  device_mobile    631  \n",
       "11                  1  device_mobile    497  \n",
       "14                  1  device_mobile    361  \n",
       "16                  0  device_mobile    340  \n",
       "20                  1  device_mobile    316  \n",
       "22                  1  device_mobile    308  \n",
       "28                  0  device_mobile    266  \n",
       "29                  1  device_mobile    262  \n",
       "30                  1  device_mobile    257  \n",
       "33                  1  device_mobile    251  "
      ]
     },
     "execution_count": 131,
     "metadata": {},
     "output_type": "execute_result"
    }
   ],
   "source": [
    "columns_of_interest=[\n",
    "                    'saw_homepage',\n",
    "                    'list_size_dropdown',\n",
    "                    'basket_icon_click',\n",
    "                    'basket_add_list',\n",
    "                    'basket_add_detail',\n",
    "                    'device',\n",
    "                    'count'\n",
    "                    ]\n",
    "\n",
    "\n",
    "top_10_actions_order_sankey = top_10_actions_order_sankey[columns_of_interest]\n",
    "top_10_actions_order_sankey"
   ]
  },
  {
   "cell_type": "code",
   "execution_count": 132,
   "metadata": {
    "ExecuteTime": {
     "end_time": "2024-06-15T16:21:38.018402Z",
     "start_time": "2024-06-15T16:21:37.888426Z"
    }
   },
   "outputs": [
    {
     "data": {
      "application/vnd.plotly.v1+json": {
       "config": {
        "plotlyServerURL": "https://plot.ly"
       },
       "data": [
        {
         "link": {
          "color": [
           "rgba(125,53,163,0.7)",
           "rgba(77,59,191,0.7)",
           "rgba(113,37,228,0.7)",
           "rgba(161,31,200,0.7)",
           "rgba(142,63,204,0.7)",
           "rgba(94,69,232,0.7)",
           "rgba(117,37,172,0.7)",
           "rgba(39,138,190,0.7)",
           "rgba(56,152,201,0.7)",
           "rgba(78,119,142,0.7)",
           "rgba(69,102,193,0.7)",
           "rgba(86,116,205,0.7)",
           "rgba(110,169,102,0.7)",
           "rgba(127,183,114,0.7)",
           "rgba(142,20,248,0.7)",
           "rgba(184,87,157,0.7)",
           "rgba(141,28,237,0.7)",
           "rgba(110,18,166,0.7)",
           "rgba(102,100,137,0.7)",
           "rgba(136,87,168,0.7)",
           "rgba(153,18,137,0.7)",
           "rgba(159,68,220,0.7)",
           "rgba(121,141,239,0.7)",
           "rgba(148,91,192,0.7)",
           "rgba(158,48,125,0.7)",
           "rgba(189,71,203,0.7)"
          ],
          "source": [
           0,
           0,
           1,
           1,
           2,
           3,
           3,
           4,
           4,
           5,
           6,
           7,
           6,
           7,
           8,
           9,
           10,
           10,
           10,
           10,
           10,
           10,
           10,
           10,
           10,
           10
          ],
          "target": [
           2,
           3,
           3,
           2,
           4,
           4,
           5,
           6,
           7,
           7,
           8,
           8,
           9,
           9,
           10,
           10,
           11,
           12,
           13,
           14,
           15,
           16,
           17,
           18,
           19,
           20
          ],
          "value": [
           3,
           3,
           3,
           1,
           4,
           3,
           3,
           3,
           4,
           3,
           2,
           6,
           1,
           1,
           8,
           2,
           1,
           1,
           1,
           1,
           1,
           1,
           1,
           1,
           1,
           1
          ]
         },
         "node": {
          "color": [
           "rgba(17,65,163,0.7)",
           "rgba(89,20,237,0.7)",
           "rgba(234,42,163,0.7)",
           "rgba(138,54,219,0.7)",
           "rgba(51,85,245,0.7)",
           "rgba(96,20,126,0.7)",
           "rgba(27,191,135,0.7)",
           "rgba(61,219,158,0.7)",
           "rgba(111,13,252,0.7)",
           "rgba(194,147,70,0.7)",
           "rgba(174,27,245,0.7)",
           "rgba(109,29,229,0.7)",
           "rgba(47,10,87,0.7)",
           "rgba(31,173,29,0.7)",
           "rgba(99,148,92,0.7)",
           "rgba(132,10,29,0.7)",
           "rgba(145,110,196,0.7)",
           "rgba(68,255,233,0.7)",
           "rgba(123,156,139,0.7)",
           "rgba(143,69,5,0.7)",
           "rgba(205,115,162,0.7)"
          ],
          "label": [
           "saw_homepage:1",
           "saw_homepage:0",
           "list_size_dropdown:1",
           "list_size_dropdown:0",
           "basket_icon_click:1",
           "basket_icon_click:0",
           "basket_add_list:1",
           "basket_add_list:0",
           "basket_add_detail:1",
           "basket_add_detail:0",
           "device:device_mobile",
           "count:631",
           "count:497",
           "count:361",
           "count:340",
           "count:316",
           "count:308",
           "count:266",
           "count:262",
           "count:257",
           "count:251"
          ],
          "line": {
           "color": "black",
           "width": 0.5
          },
          "pad": 15,
          "thickness": 20
         },
         "type": "sankey"
        }
       ],
       "layout": {
        "height": 800,
        "template": {
         "data": {
          "bar": [
           {
            "error_x": {
             "color": "#2a3f5f"
            },
            "error_y": {
             "color": "#2a3f5f"
            },
            "marker": {
             "line": {
              "color": "#E5ECF6",
              "width": 0.5
             },
             "pattern": {
              "fillmode": "overlay",
              "size": 10,
              "solidity": 0.2
             }
            },
            "type": "bar"
           }
          ],
          "barpolar": [
           {
            "marker": {
             "line": {
              "color": "#E5ECF6",
              "width": 0.5
             },
             "pattern": {
              "fillmode": "overlay",
              "size": 10,
              "solidity": 0.2
             }
            },
            "type": "barpolar"
           }
          ],
          "carpet": [
           {
            "aaxis": {
             "endlinecolor": "#2a3f5f",
             "gridcolor": "white",
             "linecolor": "white",
             "minorgridcolor": "white",
             "startlinecolor": "#2a3f5f"
            },
            "baxis": {
             "endlinecolor": "#2a3f5f",
             "gridcolor": "white",
             "linecolor": "white",
             "minorgridcolor": "white",
             "startlinecolor": "#2a3f5f"
            },
            "type": "carpet"
           }
          ],
          "choropleth": [
           {
            "colorbar": {
             "outlinewidth": 0,
             "ticks": ""
            },
            "type": "choropleth"
           }
          ],
          "contour": [
           {
            "colorbar": {
             "outlinewidth": 0,
             "ticks": ""
            },
            "colorscale": [
             [
              0,
              "#0d0887"
             ],
             [
              0.1111111111111111,
              "#46039f"
             ],
             [
              0.2222222222222222,
              "#7201a8"
             ],
             [
              0.3333333333333333,
              "#9c179e"
             ],
             [
              0.4444444444444444,
              "#bd3786"
             ],
             [
              0.5555555555555556,
              "#d8576b"
             ],
             [
              0.6666666666666666,
              "#ed7953"
             ],
             [
              0.7777777777777778,
              "#fb9f3a"
             ],
             [
              0.8888888888888888,
              "#fdca26"
             ],
             [
              1,
              "#f0f921"
             ]
            ],
            "type": "contour"
           }
          ],
          "contourcarpet": [
           {
            "colorbar": {
             "outlinewidth": 0,
             "ticks": ""
            },
            "type": "contourcarpet"
           }
          ],
          "heatmap": [
           {
            "colorbar": {
             "outlinewidth": 0,
             "ticks": ""
            },
            "colorscale": [
             [
              0,
              "#0d0887"
             ],
             [
              0.1111111111111111,
              "#46039f"
             ],
             [
              0.2222222222222222,
              "#7201a8"
             ],
             [
              0.3333333333333333,
              "#9c179e"
             ],
             [
              0.4444444444444444,
              "#bd3786"
             ],
             [
              0.5555555555555556,
              "#d8576b"
             ],
             [
              0.6666666666666666,
              "#ed7953"
             ],
             [
              0.7777777777777778,
              "#fb9f3a"
             ],
             [
              0.8888888888888888,
              "#fdca26"
             ],
             [
              1,
              "#f0f921"
             ]
            ],
            "type": "heatmap"
           }
          ],
          "heatmapgl": [
           {
            "colorbar": {
             "outlinewidth": 0,
             "ticks": ""
            },
            "colorscale": [
             [
              0,
              "#0d0887"
             ],
             [
              0.1111111111111111,
              "#46039f"
             ],
             [
              0.2222222222222222,
              "#7201a8"
             ],
             [
              0.3333333333333333,
              "#9c179e"
             ],
             [
              0.4444444444444444,
              "#bd3786"
             ],
             [
              0.5555555555555556,
              "#d8576b"
             ],
             [
              0.6666666666666666,
              "#ed7953"
             ],
             [
              0.7777777777777778,
              "#fb9f3a"
             ],
             [
              0.8888888888888888,
              "#fdca26"
             ],
             [
              1,
              "#f0f921"
             ]
            ],
            "type": "heatmapgl"
           }
          ],
          "histogram": [
           {
            "marker": {
             "pattern": {
              "fillmode": "overlay",
              "size": 10,
              "solidity": 0.2
             }
            },
            "type": "histogram"
           }
          ],
          "histogram2d": [
           {
            "colorbar": {
             "outlinewidth": 0,
             "ticks": ""
            },
            "colorscale": [
             [
              0,
              "#0d0887"
             ],
             [
              0.1111111111111111,
              "#46039f"
             ],
             [
              0.2222222222222222,
              "#7201a8"
             ],
             [
              0.3333333333333333,
              "#9c179e"
             ],
             [
              0.4444444444444444,
              "#bd3786"
             ],
             [
              0.5555555555555556,
              "#d8576b"
             ],
             [
              0.6666666666666666,
              "#ed7953"
             ],
             [
              0.7777777777777778,
              "#fb9f3a"
             ],
             [
              0.8888888888888888,
              "#fdca26"
             ],
             [
              1,
              "#f0f921"
             ]
            ],
            "type": "histogram2d"
           }
          ],
          "histogram2dcontour": [
           {
            "colorbar": {
             "outlinewidth": 0,
             "ticks": ""
            },
            "colorscale": [
             [
              0,
              "#0d0887"
             ],
             [
              0.1111111111111111,
              "#46039f"
             ],
             [
              0.2222222222222222,
              "#7201a8"
             ],
             [
              0.3333333333333333,
              "#9c179e"
             ],
             [
              0.4444444444444444,
              "#bd3786"
             ],
             [
              0.5555555555555556,
              "#d8576b"
             ],
             [
              0.6666666666666666,
              "#ed7953"
             ],
             [
              0.7777777777777778,
              "#fb9f3a"
             ],
             [
              0.8888888888888888,
              "#fdca26"
             ],
             [
              1,
              "#f0f921"
             ]
            ],
            "type": "histogram2dcontour"
           }
          ],
          "mesh3d": [
           {
            "colorbar": {
             "outlinewidth": 0,
             "ticks": ""
            },
            "type": "mesh3d"
           }
          ],
          "parcoords": [
           {
            "line": {
             "colorbar": {
              "outlinewidth": 0,
              "ticks": ""
             }
            },
            "type": "parcoords"
           }
          ],
          "pie": [
           {
            "automargin": true,
            "type": "pie"
           }
          ],
          "scatter": [
           {
            "fillpattern": {
             "fillmode": "overlay",
             "size": 10,
             "solidity": 0.2
            },
            "type": "scatter"
           }
          ],
          "scatter3d": [
           {
            "line": {
             "colorbar": {
              "outlinewidth": 0,
              "ticks": ""
             }
            },
            "marker": {
             "colorbar": {
              "outlinewidth": 0,
              "ticks": ""
             }
            },
            "type": "scatter3d"
           }
          ],
          "scattercarpet": [
           {
            "marker": {
             "colorbar": {
              "outlinewidth": 0,
              "ticks": ""
             }
            },
            "type": "scattercarpet"
           }
          ],
          "scattergeo": [
           {
            "marker": {
             "colorbar": {
              "outlinewidth": 0,
              "ticks": ""
             }
            },
            "type": "scattergeo"
           }
          ],
          "scattergl": [
           {
            "marker": {
             "colorbar": {
              "outlinewidth": 0,
              "ticks": ""
             }
            },
            "type": "scattergl"
           }
          ],
          "scattermapbox": [
           {
            "marker": {
             "colorbar": {
              "outlinewidth": 0,
              "ticks": ""
             }
            },
            "type": "scattermapbox"
           }
          ],
          "scatterpolar": [
           {
            "marker": {
             "colorbar": {
              "outlinewidth": 0,
              "ticks": ""
             }
            },
            "type": "scatterpolar"
           }
          ],
          "scatterpolargl": [
           {
            "marker": {
             "colorbar": {
              "outlinewidth": 0,
              "ticks": ""
             }
            },
            "type": "scatterpolargl"
           }
          ],
          "scatterternary": [
           {
            "marker": {
             "colorbar": {
              "outlinewidth": 0,
              "ticks": ""
             }
            },
            "type": "scatterternary"
           }
          ],
          "surface": [
           {
            "colorbar": {
             "outlinewidth": 0,
             "ticks": ""
            },
            "colorscale": [
             [
              0,
              "#0d0887"
             ],
             [
              0.1111111111111111,
              "#46039f"
             ],
             [
              0.2222222222222222,
              "#7201a8"
             ],
             [
              0.3333333333333333,
              "#9c179e"
             ],
             [
              0.4444444444444444,
              "#bd3786"
             ],
             [
              0.5555555555555556,
              "#d8576b"
             ],
             [
              0.6666666666666666,
              "#ed7953"
             ],
             [
              0.7777777777777778,
              "#fb9f3a"
             ],
             [
              0.8888888888888888,
              "#fdca26"
             ],
             [
              1,
              "#f0f921"
             ]
            ],
            "type": "surface"
           }
          ],
          "table": [
           {
            "cells": {
             "fill": {
              "color": "#EBF0F8"
             },
             "line": {
              "color": "white"
             }
            },
            "header": {
             "fill": {
              "color": "#C8D4E3"
             },
             "line": {
              "color": "white"
             }
            },
            "type": "table"
           }
          ]
         },
         "layout": {
          "annotationdefaults": {
           "arrowcolor": "#2a3f5f",
           "arrowhead": 0,
           "arrowwidth": 1
          },
          "autotypenumbers": "strict",
          "coloraxis": {
           "colorbar": {
            "outlinewidth": 0,
            "ticks": ""
           }
          },
          "colorscale": {
           "diverging": [
            [
             0,
             "#8e0152"
            ],
            [
             0.1,
             "#c51b7d"
            ],
            [
             0.2,
             "#de77ae"
            ],
            [
             0.3,
             "#f1b6da"
            ],
            [
             0.4,
             "#fde0ef"
            ],
            [
             0.5,
             "#f7f7f7"
            ],
            [
             0.6,
             "#e6f5d0"
            ],
            [
             0.7,
             "#b8e186"
            ],
            [
             0.8,
             "#7fbc41"
            ],
            [
             0.9,
             "#4d9221"
            ],
            [
             1,
             "#276419"
            ]
           ],
           "sequential": [
            [
             0,
             "#0d0887"
            ],
            [
             0.1111111111111111,
             "#46039f"
            ],
            [
             0.2222222222222222,
             "#7201a8"
            ],
            [
             0.3333333333333333,
             "#9c179e"
            ],
            [
             0.4444444444444444,
             "#bd3786"
            ],
            [
             0.5555555555555556,
             "#d8576b"
            ],
            [
             0.6666666666666666,
             "#ed7953"
            ],
            [
             0.7777777777777778,
             "#fb9f3a"
            ],
            [
             0.8888888888888888,
             "#fdca26"
            ],
            [
             1,
             "#f0f921"
            ]
           ],
           "sequentialminus": [
            [
             0,
             "#0d0887"
            ],
            [
             0.1111111111111111,
             "#46039f"
            ],
            [
             0.2222222222222222,
             "#7201a8"
            ],
            [
             0.3333333333333333,
             "#9c179e"
            ],
            [
             0.4444444444444444,
             "#bd3786"
            ],
            [
             0.5555555555555556,
             "#d8576b"
            ],
            [
             0.6666666666666666,
             "#ed7953"
            ],
            [
             0.7777777777777778,
             "#fb9f3a"
            ],
            [
             0.8888888888888888,
             "#fdca26"
            ],
            [
             1,
             "#f0f921"
            ]
           ]
          },
          "colorway": [
           "#636efa",
           "#EF553B",
           "#00cc96",
           "#ab63fa",
           "#FFA15A",
           "#19d3f3",
           "#FF6692",
           "#B6E880",
           "#FF97FF",
           "#FECB52"
          ],
          "font": {
           "color": "#2a3f5f"
          },
          "geo": {
           "bgcolor": "white",
           "lakecolor": "white",
           "landcolor": "#E5ECF6",
           "showlakes": true,
           "showland": true,
           "subunitcolor": "white"
          },
          "hoverlabel": {
           "align": "left"
          },
          "hovermode": "closest",
          "mapbox": {
           "style": "light"
          },
          "paper_bgcolor": "white",
          "plot_bgcolor": "#E5ECF6",
          "polar": {
           "angularaxis": {
            "gridcolor": "white",
            "linecolor": "white",
            "ticks": ""
           },
           "bgcolor": "#E5ECF6",
           "radialaxis": {
            "gridcolor": "white",
            "linecolor": "white",
            "ticks": ""
           }
          },
          "scene": {
           "xaxis": {
            "backgroundcolor": "#E5ECF6",
            "gridcolor": "white",
            "gridwidth": 2,
            "linecolor": "white",
            "showbackground": true,
            "ticks": "",
            "zerolinecolor": "white"
           },
           "yaxis": {
            "backgroundcolor": "#E5ECF6",
            "gridcolor": "white",
            "gridwidth": 2,
            "linecolor": "white",
            "showbackground": true,
            "ticks": "",
            "zerolinecolor": "white"
           },
           "zaxis": {
            "backgroundcolor": "#E5ECF6",
            "gridcolor": "white",
            "gridwidth": 2,
            "linecolor": "white",
            "showbackground": true,
            "ticks": "",
            "zerolinecolor": "white"
           }
          },
          "shapedefaults": {
           "line": {
            "color": "#2a3f5f"
           }
          },
          "ternary": {
           "aaxis": {
            "gridcolor": "white",
            "linecolor": "white",
            "ticks": ""
           },
           "baxis": {
            "gridcolor": "white",
            "linecolor": "white",
            "ticks": ""
           },
           "bgcolor": "#E5ECF6",
           "caxis": {
            "gridcolor": "white",
            "linecolor": "white",
            "ticks": ""
           }
          },
          "title": {
           "x": 0.05
          },
          "xaxis": {
           "automargin": true,
           "gridcolor": "white",
           "linecolor": "white",
           "ticks": "",
           "title": {
            "standoff": 15
           },
           "zerolinecolor": "white",
           "zerolinewidth": 2
          },
          "yaxis": {
           "automargin": true,
           "gridcolor": "white",
           "linecolor": "white",
           "ticks": "",
           "title": {
            "standoff": 15
           },
           "zerolinecolor": "white",
           "zerolinewidth": 2
          }
         }
        },
        "width": 1500
       }
      }
     },
     "metadata": {},
     "output_type": "display_data"
    }
   ],
   "source": [
    "plot = ParcatsSankeyPlot(top_10_actions_order_sankey, top_10_actions_order_sankey.columns.tolist(), chart='Sankey', w=1500)\n",
    "fig = plot.create_plot()\n",
    "fig.show()"
   ]
  },
  {
   "cell_type": "code",
   "execution_count": 133,
   "metadata": {
    "ExecuteTime": {
     "end_time": "2024-06-15T16:21:38.022373Z",
     "start_time": "2024-06-15T16:21:38.019493Z"
    }
   },
   "outputs": [
    {
     "data": {
      "text/plain": [
       "3489"
      ]
     },
     "execution_count": 133,
     "metadata": {},
     "output_type": "execute_result"
    }
   ],
   "source": [
    "top_10_actions_order['count'].sum()"
   ]
  },
  {
   "cell_type": "markdown",
   "metadata": {},
   "source": [
    "**Ordered but on \"whole\" dataset**"
   ]
  },
  {
   "cell_type": "code",
   "execution_count": 134,
   "metadata": {
    "ExecuteTime": {
     "end_time": "2024-06-15T16:21:38.322396Z",
     "start_time": "2024-06-15T16:21:38.023135Z"
    }
   },
   "outputs": [
    {
     "data": {
      "text/html": [
       "<div>\n",
       "<style scoped>\n",
       "    .dataframe tbody tr th:only-of-type {\n",
       "        vertical-align: middle;\n",
       "    }\n",
       "\n",
       "    .dataframe tbody tr th {\n",
       "        vertical-align: top;\n",
       "    }\n",
       "\n",
       "    .dataframe thead th {\n",
       "        text-align: right;\n",
       "    }\n",
       "</style>\n",
       "<table border=\"1\" class=\"dataframe\">\n",
       "  <thead>\n",
       "    <tr style=\"text-align: right;\">\n",
       "      <th></th>\n",
       "      <th>basket_icon_click</th>\n",
       "      <th>basket_add_list</th>\n",
       "      <th>basket_add_detail</th>\n",
       "      <th>sort_by</th>\n",
       "      <th>image_picker</th>\n",
       "      <th>account_page_click</th>\n",
       "      <th>promo_banner_click</th>\n",
       "      <th>detail_wishlist_add</th>\n",
       "      <th>list_size_dropdown</th>\n",
       "      <th>closed_minibasket_click</th>\n",
       "      <th>...</th>\n",
       "      <th>saw_account_upgrade</th>\n",
       "      <th>saw_homepage</th>\n",
       "      <th>device_mobile</th>\n",
       "      <th>device_computer</th>\n",
       "      <th>device_tablet</th>\n",
       "      <th>returning_user</th>\n",
       "      <th>loc_uk</th>\n",
       "      <th>ordered</th>\n",
       "      <th>count</th>\n",
       "      <th>device</th>\n",
       "    </tr>\n",
       "  </thead>\n",
       "  <tbody>\n",
       "    <tr>\n",
       "      <th>0</th>\n",
       "      <td>1</td>\n",
       "      <td>0</td>\n",
       "      <td>1</td>\n",
       "      <td>0</td>\n",
       "      <td>0</td>\n",
       "      <td>0</td>\n",
       "      <td>0</td>\n",
       "      <td>0</td>\n",
       "      <td>1</td>\n",
       "      <td>0</td>\n",
       "      <td>...</td>\n",
       "      <td>0</td>\n",
       "      <td>1</td>\n",
       "      <td>1</td>\n",
       "      <td>0</td>\n",
       "      <td>0</td>\n",
       "      <td>1</td>\n",
       "      <td>1</td>\n",
       "      <td>1</td>\n",
       "      <td>316</td>\n",
       "      <td>device_mobile</td>\n",
       "    </tr>\n",
       "    <tr>\n",
       "      <th>1</th>\n",
       "      <td>1</td>\n",
       "      <td>0</td>\n",
       "      <td>0</td>\n",
       "      <td>0</td>\n",
       "      <td>0</td>\n",
       "      <td>0</td>\n",
       "      <td>0</td>\n",
       "      <td>0</td>\n",
       "      <td>0</td>\n",
       "      <td>0</td>\n",
       "      <td>...</td>\n",
       "      <td>0</td>\n",
       "      <td>1</td>\n",
       "      <td>1</td>\n",
       "      <td>0</td>\n",
       "      <td>0</td>\n",
       "      <td>1</td>\n",
       "      <td>1</td>\n",
       "      <td>1</td>\n",
       "      <td>266</td>\n",
       "      <td>device_mobile</td>\n",
       "    </tr>\n",
       "    <tr>\n",
       "      <th>2</th>\n",
       "      <td>1</td>\n",
       "      <td>1</td>\n",
       "      <td>0</td>\n",
       "      <td>0</td>\n",
       "      <td>0</td>\n",
       "      <td>0</td>\n",
       "      <td>0</td>\n",
       "      <td>0</td>\n",
       "      <td>1</td>\n",
       "      <td>0</td>\n",
       "      <td>...</td>\n",
       "      <td>0</td>\n",
       "      <td>1</td>\n",
       "      <td>1</td>\n",
       "      <td>0</td>\n",
       "      <td>0</td>\n",
       "      <td>1</td>\n",
       "      <td>1</td>\n",
       "      <td>1</td>\n",
       "      <td>340</td>\n",
       "      <td>device_mobile</td>\n",
       "    </tr>\n",
       "    <tr>\n",
       "      <th>3</th>\n",
       "      <td>1</td>\n",
       "      <td>1</td>\n",
       "      <td>1</td>\n",
       "      <td>0</td>\n",
       "      <td>0</td>\n",
       "      <td>0</td>\n",
       "      <td>0</td>\n",
       "      <td>0</td>\n",
       "      <td>1</td>\n",
       "      <td>0</td>\n",
       "      <td>...</td>\n",
       "      <td>0</td>\n",
       "      <td>0</td>\n",
       "      <td>1</td>\n",
       "      <td>0</td>\n",
       "      <td>0</td>\n",
       "      <td>1</td>\n",
       "      <td>1</td>\n",
       "      <td>1</td>\n",
       "      <td>262</td>\n",
       "      <td>device_mobile</td>\n",
       "    </tr>\n",
       "    <tr>\n",
       "      <th>4</th>\n",
       "      <td>1</td>\n",
       "      <td>0</td>\n",
       "      <td>1</td>\n",
       "      <td>0</td>\n",
       "      <td>0</td>\n",
       "      <td>0</td>\n",
       "      <td>0</td>\n",
       "      <td>0</td>\n",
       "      <td>1</td>\n",
       "      <td>0</td>\n",
       "      <td>...</td>\n",
       "      <td>0</td>\n",
       "      <td>1</td>\n",
       "      <td>1</td>\n",
       "      <td>0</td>\n",
       "      <td>0</td>\n",
       "      <td>1</td>\n",
       "      <td>1</td>\n",
       "      <td>1</td>\n",
       "      <td>316</td>\n",
       "      <td>device_mobile</td>\n",
       "    </tr>\n",
       "  </tbody>\n",
       "</table>\n",
       "<p>5 rows × 26 columns</p>\n",
       "</div>"
      ],
      "text/plain": [
       "   basket_icon_click  basket_add_list  basket_add_detail  sort_by  \\\n",
       "0                  1                0                  1        0   \n",
       "1                  1                0                  0        0   \n",
       "2                  1                1                  0        0   \n",
       "3                  1                1                  1        0   \n",
       "4                  1                0                  1        0   \n",
       "\n",
       "   image_picker  account_page_click  promo_banner_click  detail_wishlist_add  \\\n",
       "0             0                   0                   0                    0   \n",
       "1             0                   0                   0                    0   \n",
       "2             0                   0                   0                    0   \n",
       "3             0                   0                   0                    0   \n",
       "4             0                   0                   0                    0   \n",
       "\n",
       "   list_size_dropdown  closed_minibasket_click  ...  saw_account_upgrade  \\\n",
       "0                   1                        0  ...                    0   \n",
       "1                   0                        0  ...                    0   \n",
       "2                   1                        0  ...                    0   \n",
       "3                   1                        0  ...                    0   \n",
       "4                   1                        0  ...                    0   \n",
       "\n",
       "   saw_homepage  device_mobile  device_computer  device_tablet  \\\n",
       "0             1              1                0              0   \n",
       "1             1              1                0              0   \n",
       "2             1              1                0              0   \n",
       "3             0              1                0              0   \n",
       "4             1              1                0              0   \n",
       "\n",
       "   returning_user  loc_uk  ordered  count         device  \n",
       "0               1       1        1    316  device_mobile  \n",
       "1               1       1        1    266  device_mobile  \n",
       "2               1       1        1    340  device_mobile  \n",
       "3               1       1        1    262  device_mobile  \n",
       "4               1       1        1    316  device_mobile  \n",
       "\n",
       "[5 rows x 26 columns]"
      ]
     },
     "execution_count": 134,
     "metadata": {},
     "output_type": "execute_result"
    }
   ],
   "source": [
    "top_10_actions_order_merged = df.merge(top_10_actions_order,left_on=df.columns.tolist(), right_on=df.columns.tolist(), how='inner')\n",
    "top_10_actions_order_merged.head()"
   ]
  },
  {
   "cell_type": "code",
   "execution_count": 135,
   "metadata": {
    "ExecuteTime": {
     "end_time": "2024-06-15T16:21:38.326398Z",
     "start_time": "2024-06-15T16:21:38.323550Z"
    }
   },
   "outputs": [
    {
     "data": {
      "text/plain": [
       "(3489, 26)"
      ]
     },
     "execution_count": 135,
     "metadata": {},
     "output_type": "execute_result"
    }
   ],
   "source": [
    "top_10_actions_order_merged.shape"
   ]
  },
  {
   "cell_type": "code",
   "execution_count": 136,
   "metadata": {
    "ExecuteTime": {
     "end_time": "2024-06-15T16:21:38.335932Z",
     "start_time": "2024-06-15T16:21:38.327450Z"
    }
   },
   "outputs": [
    {
     "data": {
      "text/html": [
       "<div>\n",
       "<style scoped>\n",
       "    .dataframe tbody tr th:only-of-type {\n",
       "        vertical-align: middle;\n",
       "    }\n",
       "\n",
       "    .dataframe tbody tr th {\n",
       "        vertical-align: top;\n",
       "    }\n",
       "\n",
       "    .dataframe thead th {\n",
       "        text-align: right;\n",
       "    }\n",
       "</style>\n",
       "<table border=\"1\" class=\"dataframe\">\n",
       "  <thead>\n",
       "    <tr style=\"text-align: right;\">\n",
       "      <th></th>\n",
       "      <th>basket_icon_click</th>\n",
       "      <th>basket_add_list</th>\n",
       "      <th>basket_add_detail</th>\n",
       "      <th>list_size_dropdown</th>\n",
       "      <th>checked_delivery_detail</th>\n",
       "      <th>sign_in</th>\n",
       "      <th>saw_checkout</th>\n",
       "      <th>saw_homepage</th>\n",
       "      <th>device_mobile</th>\n",
       "      <th>returning_user</th>\n",
       "      <th>loc_uk</th>\n",
       "      <th>ordered</th>\n",
       "      <th>count</th>\n",
       "    </tr>\n",
       "  </thead>\n",
       "  <tbody>\n",
       "    <tr>\n",
       "      <th>0</th>\n",
       "      <td>1</td>\n",
       "      <td>0</td>\n",
       "      <td>1</td>\n",
       "      <td>1</td>\n",
       "      <td>1</td>\n",
       "      <td>1</td>\n",
       "      <td>1</td>\n",
       "      <td>1</td>\n",
       "      <td>1</td>\n",
       "      <td>1</td>\n",
       "      <td>1</td>\n",
       "      <td>1</td>\n",
       "      <td>316</td>\n",
       "    </tr>\n",
       "    <tr>\n",
       "      <th>1</th>\n",
       "      <td>1</td>\n",
       "      <td>0</td>\n",
       "      <td>0</td>\n",
       "      <td>0</td>\n",
       "      <td>1</td>\n",
       "      <td>1</td>\n",
       "      <td>1</td>\n",
       "      <td>1</td>\n",
       "      <td>1</td>\n",
       "      <td>1</td>\n",
       "      <td>1</td>\n",
       "      <td>1</td>\n",
       "      <td>266</td>\n",
       "    </tr>\n",
       "    <tr>\n",
       "      <th>2</th>\n",
       "      <td>1</td>\n",
       "      <td>1</td>\n",
       "      <td>0</td>\n",
       "      <td>1</td>\n",
       "      <td>1</td>\n",
       "      <td>1</td>\n",
       "      <td>1</td>\n",
       "      <td>1</td>\n",
       "      <td>1</td>\n",
       "      <td>1</td>\n",
       "      <td>1</td>\n",
       "      <td>1</td>\n",
       "      <td>340</td>\n",
       "    </tr>\n",
       "    <tr>\n",
       "      <th>3</th>\n",
       "      <td>1</td>\n",
       "      <td>1</td>\n",
       "      <td>1</td>\n",
       "      <td>1</td>\n",
       "      <td>1</td>\n",
       "      <td>1</td>\n",
       "      <td>1</td>\n",
       "      <td>0</td>\n",
       "      <td>1</td>\n",
       "      <td>1</td>\n",
       "      <td>1</td>\n",
       "      <td>1</td>\n",
       "      <td>262</td>\n",
       "    </tr>\n",
       "    <tr>\n",
       "      <th>4</th>\n",
       "      <td>1</td>\n",
       "      <td>0</td>\n",
       "      <td>1</td>\n",
       "      <td>1</td>\n",
       "      <td>1</td>\n",
       "      <td>1</td>\n",
       "      <td>1</td>\n",
       "      <td>1</td>\n",
       "      <td>1</td>\n",
       "      <td>1</td>\n",
       "      <td>1</td>\n",
       "      <td>1</td>\n",
       "      <td>316</td>\n",
       "    </tr>\n",
       "  </tbody>\n",
       "</table>\n",
       "</div>"
      ],
      "text/plain": [
       "   basket_icon_click  basket_add_list  basket_add_detail  list_size_dropdown  \\\n",
       "0                  1                0                  1                   1   \n",
       "1                  1                0                  0                   0   \n",
       "2                  1                1                  0                   1   \n",
       "3                  1                1                  1                   1   \n",
       "4                  1                0                  1                   1   \n",
       "\n",
       "   checked_delivery_detail  sign_in  saw_checkout  saw_homepage  \\\n",
       "0                        1        1             1             1   \n",
       "1                        1        1             1             1   \n",
       "2                        1        1             1             1   \n",
       "3                        1        1             1             0   \n",
       "4                        1        1             1             1   \n",
       "\n",
       "   device_mobile  returning_user  loc_uk  ordered  count  \n",
       "0              1               1       1        1    316  \n",
       "1              1               1       1        1    266  \n",
       "2              1               1       1        1    340  \n",
       "3              1               1       1        1    262  \n",
       "4              1               1       1        1    316  "
      ]
     },
     "execution_count": 136,
     "metadata": {},
     "output_type": "execute_result"
    }
   ],
   "source": [
    "top_10_actions_order_merged = remove_single_value_columns(top_10_actions_order_merged, ignore_if_value=[1])\n",
    "top_10_actions_order_merged.head()\n"
   ]
  },
  {
   "cell_type": "code",
   "execution_count": 137,
   "metadata": {
    "ExecuteTime": {
     "end_time": "2024-06-15T16:21:38.340270Z",
     "start_time": "2024-06-15T16:21:38.337097Z"
    }
   },
   "outputs": [
    {
     "data": {
      "text/plain": [
       "Index(['basket_icon_click', 'basket_add_list', 'basket_add_detail',\n",
       "       'list_size_dropdown', 'checked_delivery_detail', 'sign_in',\n",
       "       'saw_checkout', 'saw_homepage', 'device_mobile', 'returning_user',\n",
       "       'loc_uk', 'ordered', 'count'],\n",
       "      dtype='object')"
      ]
     },
     "execution_count": 137,
     "metadata": {},
     "output_type": "execute_result"
    }
   ],
   "source": [
    "top_10_actions_order_merged.columns"
   ]
  },
  {
   "cell_type": "code",
   "execution_count": 138,
   "metadata": {
    "ExecuteTime": {
     "end_time": "2024-06-15T16:21:39.462486Z",
     "start_time": "2024-06-15T16:21:39.448665Z"
    }
   },
   "outputs": [],
   "source": [
    "# Tworzenie nowej kolumny z wynikiem\n",
    "top_10_actions_order_merged['device'] = top_10_actions_order_merged.apply(lambda row: backward_one_hot_encoding(columns_to_encode, row), axis=1)"
   ]
  },
  {
   "cell_type": "code",
   "execution_count": 139,
   "metadata": {
    "ExecuteTime": {
     "end_time": "2024-06-15T16:21:39.681886Z",
     "start_time": "2024-06-15T16:21:39.679361Z"
    }
   },
   "outputs": [],
   "source": [
    "columns_of_interest=[\n",
    "                    'saw_homepage',\n",
    "                    'list_size_dropdown',\n",
    "                    'basket_icon_click',\n",
    "                    'basket_add_list',\n",
    "                    'basket_add_detail ',\n",
    "                    'checked_delivery_detail',\n",
    "                    'device',\n",
    "                    'returning_user',\n",
    "                    'loc_uk',\n",
    "                    'saw_checkout'\n",
    "                    ]\n"
   ]
  },
  {
   "cell_type": "code",
   "execution_count": 140,
   "metadata": {
    "ExecuteTime": {
     "end_time": "2024-06-15T16:21:39.847584Z",
     "start_time": "2024-06-15T16:21:39.843305Z"
    }
   },
   "outputs": [],
   "source": [
    "def add_added_to_cart_column(df):\n",
    "    df['ordered'] = 0\n",
    "    df.loc[(df['basket_icon_click'] == 1) | \n",
    "           (df['basket_add_list'] == 1) |\n",
    "           (df['basket_add_detail'] == 1), 'added_to_cart'] = 1\n",
    "    return df\n",
    "\n",
    "top_10_actions_order_merged = add_added_to_cart_column(top_10_actions_order_merged)\n"
   ]
  },
  {
   "cell_type": "code",
   "execution_count": 148,
   "metadata": {
    "ExecuteTime": {
     "end_time": "2024-06-15T16:21:40.313335Z",
     "start_time": "2024-06-15T16:21:40.311006Z"
    }
   },
   "outputs": [],
   "source": [
    "columns_of_interest = [\n",
    "    'saw_homepage',\n",
    "    'list_size_dropdown',\n",
    "    'basket_icon_click',\n",
    "    'checked_delivery_detail',\n",
    "    'device',\n",
    "    'returning_user',\n",
    "    'loc_uk',\n",
    "    'saw_checkout'\n",
    "]\n"
   ]
  },
  {
   "cell_type": "code",
   "execution_count": 149,
   "metadata": {
    "ExecuteTime": {
     "end_time": "2024-06-15T16:21:40.517979Z",
     "start_time": "2024-06-15T16:21:40.492686Z"
    }
   },
   "outputs": [
    {
     "data": {
      "application/vnd.plotly.v1+json": {
       "config": {
        "plotlyServerURL": "https://plot.ly"
       },
       "data": [
        {
         "link": {
          "color": [
           "rgba(168,122,144,0.7)",
           "rgba(241,53,138,0.7)",
           "rgba(127,132,92,0.7)",
           "rgba(201,63,86,0.7)",
           "rgba(54,139,139,0.7)",
           "rgba(128,70,133,0.7)",
           "rgba(120,64,134,0.7)",
           "rgba(90,124,210,0.7)",
           "rgba(82,118,211,0.7)",
           "rgba(183,140,153,0.7)",
           "rgba(127,97,117,0.7)",
           "rgba(120,61,141,0.7)",
           "rgba(30,148,169,0.7)",
           "rgba(23,112,193,0.7)",
           "rgba(37,99,109,0.7)"
          ],
          "source": [
           0,
           0,
           1,
           1,
           2,
           3,
           3,
           4,
           5,
           6,
           7,
           7,
           8,
           9,
           10
          ],
          "target": [
           2,
           3,
           2,
           3,
           4,
           4,
           5,
           6,
           6,
           7,
           8,
           9,
           10,
           10,
           11
          ],
          "value": [
           1287,
           1020,
           262,
           920,
           1549,
           1124,
           816,
           2673,
           816,
           3489,
           3238,
           251,
           3238,
           251,
           3489
          ]
         },
         "node": {
          "color": [
           "rgba(243,16,220,0.7)",
           "rgba(162,36,117,0.7)",
           "rgba(93,228,68,0.7)",
           "rgba(240,91,56,0.7)",
           "rgba(16,50,210,0.7)",
           "rgba(1,38,212,0.7)",
           "rgba(164,199,210,0.7)",
           "rgba(202,81,96,0.7)",
           "rgba(53,113,139,0.7)",
           "rgba(39,41,187,0.7)",
           "rgba(8,184,199,0.7)",
           "rgba(66,15,20,0.7)"
          ],
          "label": [
           "saw_homepage:1",
           "saw_homepage:0",
           "list_size_dropdown:1",
           "list_size_dropdown:0",
           "basket_icon_click:1",
           "basket_icon_click:0",
           "checked_delivery_detail:1",
           "device:device_mobile",
           "returning_user:1",
           "returning_user:0",
           "loc_uk:1",
           "saw_checkout:1"
          ],
          "line": {
           "color": "black",
           "width": 0.5
          },
          "pad": 15,
          "thickness": 20
         },
         "type": "sankey"
        }
       ],
       "layout": {
        "height": 800,
        "template": {
         "data": {
          "bar": [
           {
            "error_x": {
             "color": "#2a3f5f"
            },
            "error_y": {
             "color": "#2a3f5f"
            },
            "marker": {
             "line": {
              "color": "#E5ECF6",
              "width": 0.5
             },
             "pattern": {
              "fillmode": "overlay",
              "size": 10,
              "solidity": 0.2
             }
            },
            "type": "bar"
           }
          ],
          "barpolar": [
           {
            "marker": {
             "line": {
              "color": "#E5ECF6",
              "width": 0.5
             },
             "pattern": {
              "fillmode": "overlay",
              "size": 10,
              "solidity": 0.2
             }
            },
            "type": "barpolar"
           }
          ],
          "carpet": [
           {
            "aaxis": {
             "endlinecolor": "#2a3f5f",
             "gridcolor": "white",
             "linecolor": "white",
             "minorgridcolor": "white",
             "startlinecolor": "#2a3f5f"
            },
            "baxis": {
             "endlinecolor": "#2a3f5f",
             "gridcolor": "white",
             "linecolor": "white",
             "minorgridcolor": "white",
             "startlinecolor": "#2a3f5f"
            },
            "type": "carpet"
           }
          ],
          "choropleth": [
           {
            "colorbar": {
             "outlinewidth": 0,
             "ticks": ""
            },
            "type": "choropleth"
           }
          ],
          "contour": [
           {
            "colorbar": {
             "outlinewidth": 0,
             "ticks": ""
            },
            "colorscale": [
             [
              0,
              "#0d0887"
             ],
             [
              0.1111111111111111,
              "#46039f"
             ],
             [
              0.2222222222222222,
              "#7201a8"
             ],
             [
              0.3333333333333333,
              "#9c179e"
             ],
             [
              0.4444444444444444,
              "#bd3786"
             ],
             [
              0.5555555555555556,
              "#d8576b"
             ],
             [
              0.6666666666666666,
              "#ed7953"
             ],
             [
              0.7777777777777778,
              "#fb9f3a"
             ],
             [
              0.8888888888888888,
              "#fdca26"
             ],
             [
              1,
              "#f0f921"
             ]
            ],
            "type": "contour"
           }
          ],
          "contourcarpet": [
           {
            "colorbar": {
             "outlinewidth": 0,
             "ticks": ""
            },
            "type": "contourcarpet"
           }
          ],
          "heatmap": [
           {
            "colorbar": {
             "outlinewidth": 0,
             "ticks": ""
            },
            "colorscale": [
             [
              0,
              "#0d0887"
             ],
             [
              0.1111111111111111,
              "#46039f"
             ],
             [
              0.2222222222222222,
              "#7201a8"
             ],
             [
              0.3333333333333333,
              "#9c179e"
             ],
             [
              0.4444444444444444,
              "#bd3786"
             ],
             [
              0.5555555555555556,
              "#d8576b"
             ],
             [
              0.6666666666666666,
              "#ed7953"
             ],
             [
              0.7777777777777778,
              "#fb9f3a"
             ],
             [
              0.8888888888888888,
              "#fdca26"
             ],
             [
              1,
              "#f0f921"
             ]
            ],
            "type": "heatmap"
           }
          ],
          "heatmapgl": [
           {
            "colorbar": {
             "outlinewidth": 0,
             "ticks": ""
            },
            "colorscale": [
             [
              0,
              "#0d0887"
             ],
             [
              0.1111111111111111,
              "#46039f"
             ],
             [
              0.2222222222222222,
              "#7201a8"
             ],
             [
              0.3333333333333333,
              "#9c179e"
             ],
             [
              0.4444444444444444,
              "#bd3786"
             ],
             [
              0.5555555555555556,
              "#d8576b"
             ],
             [
              0.6666666666666666,
              "#ed7953"
             ],
             [
              0.7777777777777778,
              "#fb9f3a"
             ],
             [
              0.8888888888888888,
              "#fdca26"
             ],
             [
              1,
              "#f0f921"
             ]
            ],
            "type": "heatmapgl"
           }
          ],
          "histogram": [
           {
            "marker": {
             "pattern": {
              "fillmode": "overlay",
              "size": 10,
              "solidity": 0.2
             }
            },
            "type": "histogram"
           }
          ],
          "histogram2d": [
           {
            "colorbar": {
             "outlinewidth": 0,
             "ticks": ""
            },
            "colorscale": [
             [
              0,
              "#0d0887"
             ],
             [
              0.1111111111111111,
              "#46039f"
             ],
             [
              0.2222222222222222,
              "#7201a8"
             ],
             [
              0.3333333333333333,
              "#9c179e"
             ],
             [
              0.4444444444444444,
              "#bd3786"
             ],
             [
              0.5555555555555556,
              "#d8576b"
             ],
             [
              0.6666666666666666,
              "#ed7953"
             ],
             [
              0.7777777777777778,
              "#fb9f3a"
             ],
             [
              0.8888888888888888,
              "#fdca26"
             ],
             [
              1,
              "#f0f921"
             ]
            ],
            "type": "histogram2d"
           }
          ],
          "histogram2dcontour": [
           {
            "colorbar": {
             "outlinewidth": 0,
             "ticks": ""
            },
            "colorscale": [
             [
              0,
              "#0d0887"
             ],
             [
              0.1111111111111111,
              "#46039f"
             ],
             [
              0.2222222222222222,
              "#7201a8"
             ],
             [
              0.3333333333333333,
              "#9c179e"
             ],
             [
              0.4444444444444444,
              "#bd3786"
             ],
             [
              0.5555555555555556,
              "#d8576b"
             ],
             [
              0.6666666666666666,
              "#ed7953"
             ],
             [
              0.7777777777777778,
              "#fb9f3a"
             ],
             [
              0.8888888888888888,
              "#fdca26"
             ],
             [
              1,
              "#f0f921"
             ]
            ],
            "type": "histogram2dcontour"
           }
          ],
          "mesh3d": [
           {
            "colorbar": {
             "outlinewidth": 0,
             "ticks": ""
            },
            "type": "mesh3d"
           }
          ],
          "parcoords": [
           {
            "line": {
             "colorbar": {
              "outlinewidth": 0,
              "ticks": ""
             }
            },
            "type": "parcoords"
           }
          ],
          "pie": [
           {
            "automargin": true,
            "type": "pie"
           }
          ],
          "scatter": [
           {
            "fillpattern": {
             "fillmode": "overlay",
             "size": 10,
             "solidity": 0.2
            },
            "type": "scatter"
           }
          ],
          "scatter3d": [
           {
            "line": {
             "colorbar": {
              "outlinewidth": 0,
              "ticks": ""
             }
            },
            "marker": {
             "colorbar": {
              "outlinewidth": 0,
              "ticks": ""
             }
            },
            "type": "scatter3d"
           }
          ],
          "scattercarpet": [
           {
            "marker": {
             "colorbar": {
              "outlinewidth": 0,
              "ticks": ""
             }
            },
            "type": "scattercarpet"
           }
          ],
          "scattergeo": [
           {
            "marker": {
             "colorbar": {
              "outlinewidth": 0,
              "ticks": ""
             }
            },
            "type": "scattergeo"
           }
          ],
          "scattergl": [
           {
            "marker": {
             "colorbar": {
              "outlinewidth": 0,
              "ticks": ""
             }
            },
            "type": "scattergl"
           }
          ],
          "scattermapbox": [
           {
            "marker": {
             "colorbar": {
              "outlinewidth": 0,
              "ticks": ""
             }
            },
            "type": "scattermapbox"
           }
          ],
          "scatterpolar": [
           {
            "marker": {
             "colorbar": {
              "outlinewidth": 0,
              "ticks": ""
             }
            },
            "type": "scatterpolar"
           }
          ],
          "scatterpolargl": [
           {
            "marker": {
             "colorbar": {
              "outlinewidth": 0,
              "ticks": ""
             }
            },
            "type": "scatterpolargl"
           }
          ],
          "scatterternary": [
           {
            "marker": {
             "colorbar": {
              "outlinewidth": 0,
              "ticks": ""
             }
            },
            "type": "scatterternary"
           }
          ],
          "surface": [
           {
            "colorbar": {
             "outlinewidth": 0,
             "ticks": ""
            },
            "colorscale": [
             [
              0,
              "#0d0887"
             ],
             [
              0.1111111111111111,
              "#46039f"
             ],
             [
              0.2222222222222222,
              "#7201a8"
             ],
             [
              0.3333333333333333,
              "#9c179e"
             ],
             [
              0.4444444444444444,
              "#bd3786"
             ],
             [
              0.5555555555555556,
              "#d8576b"
             ],
             [
              0.6666666666666666,
              "#ed7953"
             ],
             [
              0.7777777777777778,
              "#fb9f3a"
             ],
             [
              0.8888888888888888,
              "#fdca26"
             ],
             [
              1,
              "#f0f921"
             ]
            ],
            "type": "surface"
           }
          ],
          "table": [
           {
            "cells": {
             "fill": {
              "color": "#EBF0F8"
             },
             "line": {
              "color": "white"
             }
            },
            "header": {
             "fill": {
              "color": "#C8D4E3"
             },
             "line": {
              "color": "white"
             }
            },
            "type": "table"
           }
          ]
         },
         "layout": {
          "annotationdefaults": {
           "arrowcolor": "#2a3f5f",
           "arrowhead": 0,
           "arrowwidth": 1
          },
          "autotypenumbers": "strict",
          "coloraxis": {
           "colorbar": {
            "outlinewidth": 0,
            "ticks": ""
           }
          },
          "colorscale": {
           "diverging": [
            [
             0,
             "#8e0152"
            ],
            [
             0.1,
             "#c51b7d"
            ],
            [
             0.2,
             "#de77ae"
            ],
            [
             0.3,
             "#f1b6da"
            ],
            [
             0.4,
             "#fde0ef"
            ],
            [
             0.5,
             "#f7f7f7"
            ],
            [
             0.6,
             "#e6f5d0"
            ],
            [
             0.7,
             "#b8e186"
            ],
            [
             0.8,
             "#7fbc41"
            ],
            [
             0.9,
             "#4d9221"
            ],
            [
             1,
             "#276419"
            ]
           ],
           "sequential": [
            [
             0,
             "#0d0887"
            ],
            [
             0.1111111111111111,
             "#46039f"
            ],
            [
             0.2222222222222222,
             "#7201a8"
            ],
            [
             0.3333333333333333,
             "#9c179e"
            ],
            [
             0.4444444444444444,
             "#bd3786"
            ],
            [
             0.5555555555555556,
             "#d8576b"
            ],
            [
             0.6666666666666666,
             "#ed7953"
            ],
            [
             0.7777777777777778,
             "#fb9f3a"
            ],
            [
             0.8888888888888888,
             "#fdca26"
            ],
            [
             1,
             "#f0f921"
            ]
           ],
           "sequentialminus": [
            [
             0,
             "#0d0887"
            ],
            [
             0.1111111111111111,
             "#46039f"
            ],
            [
             0.2222222222222222,
             "#7201a8"
            ],
            [
             0.3333333333333333,
             "#9c179e"
            ],
            [
             0.4444444444444444,
             "#bd3786"
            ],
            [
             0.5555555555555556,
             "#d8576b"
            ],
            [
             0.6666666666666666,
             "#ed7953"
            ],
            [
             0.7777777777777778,
             "#fb9f3a"
            ],
            [
             0.8888888888888888,
             "#fdca26"
            ],
            [
             1,
             "#f0f921"
            ]
           ]
          },
          "colorway": [
           "#636efa",
           "#EF553B",
           "#00cc96",
           "#ab63fa",
           "#FFA15A",
           "#19d3f3",
           "#FF6692",
           "#B6E880",
           "#FF97FF",
           "#FECB52"
          ],
          "font": {
           "color": "#2a3f5f"
          },
          "geo": {
           "bgcolor": "white",
           "lakecolor": "white",
           "landcolor": "#E5ECF6",
           "showlakes": true,
           "showland": true,
           "subunitcolor": "white"
          },
          "hoverlabel": {
           "align": "left"
          },
          "hovermode": "closest",
          "mapbox": {
           "style": "light"
          },
          "paper_bgcolor": "white",
          "plot_bgcolor": "#E5ECF6",
          "polar": {
           "angularaxis": {
            "gridcolor": "white",
            "linecolor": "white",
            "ticks": ""
           },
           "bgcolor": "#E5ECF6",
           "radialaxis": {
            "gridcolor": "white",
            "linecolor": "white",
            "ticks": ""
           }
          },
          "scene": {
           "xaxis": {
            "backgroundcolor": "#E5ECF6",
            "gridcolor": "white",
            "gridwidth": 2,
            "linecolor": "white",
            "showbackground": true,
            "ticks": "",
            "zerolinecolor": "white"
           },
           "yaxis": {
            "backgroundcolor": "#E5ECF6",
            "gridcolor": "white",
            "gridwidth": 2,
            "linecolor": "white",
            "showbackground": true,
            "ticks": "",
            "zerolinecolor": "white"
           },
           "zaxis": {
            "backgroundcolor": "#E5ECF6",
            "gridcolor": "white",
            "gridwidth": 2,
            "linecolor": "white",
            "showbackground": true,
            "ticks": "",
            "zerolinecolor": "white"
           }
          },
          "shapedefaults": {
           "line": {
            "color": "#2a3f5f"
           }
          },
          "ternary": {
           "aaxis": {
            "gridcolor": "white",
            "linecolor": "white",
            "ticks": ""
           },
           "baxis": {
            "gridcolor": "white",
            "linecolor": "white",
            "ticks": ""
           },
           "bgcolor": "#E5ECF6",
           "caxis": {
            "gridcolor": "white",
            "linecolor": "white",
            "ticks": ""
           }
          },
          "title": {
           "x": 0.05
          },
          "xaxis": {
           "automargin": true,
           "gridcolor": "white",
           "linecolor": "white",
           "ticks": "",
           "title": {
            "standoff": 15
           },
           "zerolinecolor": "white",
           "zerolinewidth": 2
          },
          "yaxis": {
           "automargin": true,
           "gridcolor": "white",
           "linecolor": "white",
           "ticks": "",
           "title": {
            "standoff": 15
           },
           "zerolinecolor": "white",
           "zerolinewidth": 2
          }
         }
        },
        "width": 1500
       }
      }
     },
     "metadata": {},
     "output_type": "display_data"
    }
   ],
   "source": [
    "plot = ParcatsSankeyPlot(top_10_actions_order_merged[columns_of_interest], columns_of_interest, chart='Sankey', w=1500)\n",
    "fig = plot.create_plot()\n",
    "fig.show()"
   ]
  },
  {
   "cell_type": "markdown",
   "metadata": {},
   "source": [
    "**NO Ordered but on \"whole\" dataset**"
   ]
  },
  {
   "cell_type": "code",
   "execution_count": 150,
   "metadata": {
    "ExecuteTime": {
     "end_time": "2024-06-15T16:21:40.619347Z",
     "start_time": "2024-06-15T16:21:40.536651Z"
    }
   },
   "outputs": [
    {
     "data": {
      "text/html": [
       "<div>\n",
       "<style scoped>\n",
       "    .dataframe tbody tr th:only-of-type {\n",
       "        vertical-align: middle;\n",
       "    }\n",
       "\n",
       "    .dataframe tbody tr th {\n",
       "        vertical-align: top;\n",
       "    }\n",
       "\n",
       "    .dataframe thead th {\n",
       "        text-align: right;\n",
       "    }\n",
       "</style>\n",
       "<table border=\"1\" class=\"dataframe\">\n",
       "  <thead>\n",
       "    <tr style=\"text-align: right;\">\n",
       "      <th></th>\n",
       "      <th>basket_icon_click</th>\n",
       "      <th>basket_add_list</th>\n",
       "      <th>basket_add_detail</th>\n",
       "      <th>sort_by</th>\n",
       "      <th>image_picker</th>\n",
       "      <th>account_page_click</th>\n",
       "      <th>promo_banner_click</th>\n",
       "      <th>detail_wishlist_add</th>\n",
       "      <th>list_size_dropdown</th>\n",
       "      <th>closed_minibasket_click</th>\n",
       "      <th>...</th>\n",
       "      <th>saw_account_upgrade</th>\n",
       "      <th>saw_homepage</th>\n",
       "      <th>device_mobile</th>\n",
       "      <th>device_computer</th>\n",
       "      <th>device_tablet</th>\n",
       "      <th>returning_user</th>\n",
       "      <th>loc_uk</th>\n",
       "      <th>ordered</th>\n",
       "      <th>count</th>\n",
       "      <th>device</th>\n",
       "    </tr>\n",
       "  </thead>\n",
       "  <tbody>\n",
       "    <tr>\n",
       "      <th>0</th>\n",
       "      <td>0</td>\n",
       "      <td>0</td>\n",
       "      <td>0</td>\n",
       "      <td>0</td>\n",
       "      <td>0</td>\n",
       "      <td>0</td>\n",
       "      <td>0</td>\n",
       "      <td>0</td>\n",
       "      <td>1</td>\n",
       "      <td>0</td>\n",
       "      <td>...</td>\n",
       "      <td>0</td>\n",
       "      <td>0</td>\n",
       "      <td>1</td>\n",
       "      <td>0</td>\n",
       "      <td>0</td>\n",
       "      <td>0</td>\n",
       "      <td>1</td>\n",
       "      <td>0</td>\n",
       "      <td>1845</td>\n",
       "      <td>device_mobile</td>\n",
       "    </tr>\n",
       "    <tr>\n",
       "      <th>1</th>\n",
       "      <td>0</td>\n",
       "      <td>0</td>\n",
       "      <td>0</td>\n",
       "      <td>0</td>\n",
       "      <td>0</td>\n",
       "      <td>0</td>\n",
       "      <td>0</td>\n",
       "      <td>0</td>\n",
       "      <td>0</td>\n",
       "      <td>0</td>\n",
       "      <td>...</td>\n",
       "      <td>0</td>\n",
       "      <td>1</td>\n",
       "      <td>1</td>\n",
       "      <td>0</td>\n",
       "      <td>0</td>\n",
       "      <td>0</td>\n",
       "      <td>1</td>\n",
       "      <td>0</td>\n",
       "      <td>3369</td>\n",
       "      <td>device_mobile</td>\n",
       "    </tr>\n",
       "    <tr>\n",
       "      <th>2</th>\n",
       "      <td>0</td>\n",
       "      <td>0</td>\n",
       "      <td>0</td>\n",
       "      <td>0</td>\n",
       "      <td>0</td>\n",
       "      <td>0</td>\n",
       "      <td>0</td>\n",
       "      <td>0</td>\n",
       "      <td>1</td>\n",
       "      <td>0</td>\n",
       "      <td>...</td>\n",
       "      <td>0</td>\n",
       "      <td>0</td>\n",
       "      <td>1</td>\n",
       "      <td>0</td>\n",
       "      <td>0</td>\n",
       "      <td>1</td>\n",
       "      <td>1</td>\n",
       "      <td>0</td>\n",
       "      <td>2479</td>\n",
       "      <td>device_mobile</td>\n",
       "    </tr>\n",
       "    <tr>\n",
       "      <th>3</th>\n",
       "      <td>0</td>\n",
       "      <td>0</td>\n",
       "      <td>0</td>\n",
       "      <td>0</td>\n",
       "      <td>0</td>\n",
       "      <td>0</td>\n",
       "      <td>0</td>\n",
       "      <td>0</td>\n",
       "      <td>0</td>\n",
       "      <td>0</td>\n",
       "      <td>...</td>\n",
       "      <td>0</td>\n",
       "      <td>1</td>\n",
       "      <td>1</td>\n",
       "      <td>0</td>\n",
       "      <td>0</td>\n",
       "      <td>0</td>\n",
       "      <td>1</td>\n",
       "      <td>0</td>\n",
       "      <td>3369</td>\n",
       "      <td>device_mobile</td>\n",
       "    </tr>\n",
       "    <tr>\n",
       "      <th>4</th>\n",
       "      <td>0</td>\n",
       "      <td>0</td>\n",
       "      <td>0</td>\n",
       "      <td>0</td>\n",
       "      <td>0</td>\n",
       "      <td>0</td>\n",
       "      <td>0</td>\n",
       "      <td>0</td>\n",
       "      <td>0</td>\n",
       "      <td>0</td>\n",
       "      <td>...</td>\n",
       "      <td>0</td>\n",
       "      <td>1</td>\n",
       "      <td>1</td>\n",
       "      <td>0</td>\n",
       "      <td>0</td>\n",
       "      <td>1</td>\n",
       "      <td>1</td>\n",
       "      <td>0</td>\n",
       "      <td>3785</td>\n",
       "      <td>device_mobile</td>\n",
       "    </tr>\n",
       "  </tbody>\n",
       "</table>\n",
       "<p>5 rows × 26 columns</p>\n",
       "</div>"
      ],
      "text/plain": [
       "   basket_icon_click  basket_add_list  basket_add_detail  sort_by  \\\n",
       "0                  0                0                  0        0   \n",
       "1                  0                0                  0        0   \n",
       "2                  0                0                  0        0   \n",
       "3                  0                0                  0        0   \n",
       "4                  0                0                  0        0   \n",
       "\n",
       "   image_picker  account_page_click  promo_banner_click  detail_wishlist_add  \\\n",
       "0             0                   0                   0                    0   \n",
       "1             0                   0                   0                    0   \n",
       "2             0                   0                   0                    0   \n",
       "3             0                   0                   0                    0   \n",
       "4             0                   0                   0                    0   \n",
       "\n",
       "   list_size_dropdown  closed_minibasket_click  ...  saw_account_upgrade  \\\n",
       "0                   1                        0  ...                    0   \n",
       "1                   0                        0  ...                    0   \n",
       "2                   1                        0  ...                    0   \n",
       "3                   0                        0  ...                    0   \n",
       "4                   0                        0  ...                    0   \n",
       "\n",
       "   saw_homepage  device_mobile  device_computer  device_tablet  \\\n",
       "0             0              1                0              0   \n",
       "1             1              1                0              0   \n",
       "2             0              1                0              0   \n",
       "3             1              1                0              0   \n",
       "4             1              1                0              0   \n",
       "\n",
       "   returning_user  loc_uk  ordered  count         device  \n",
       "0               0       1        0   1845  device_mobile  \n",
       "1               0       1        0   3369  device_mobile  \n",
       "2               1       1        0   2479  device_mobile  \n",
       "3               0       1        0   3369  device_mobile  \n",
       "4               1       1        0   3785  device_mobile  \n",
       "\n",
       "[5 rows x 26 columns]"
      ]
     },
     "execution_count": 150,
     "metadata": {},
     "output_type": "execute_result"
    }
   ],
   "source": [
    "top_10_actions_no_order_merged = df.merge(top_10_actions_no_order,left_on=df.columns.tolist(), right_on=df.columns.tolist(), how='inner')\n",
    "top_10_actions_no_order_merged.head()"
   ]
  },
  {
   "cell_type": "code",
   "execution_count": 151,
   "metadata": {
    "ExecuteTime": {
     "end_time": "2024-06-15T16:21:41.766911Z",
     "start_time": "2024-06-15T16:21:41.750771Z"
    }
   },
   "outputs": [],
   "source": [
    "top_10_actions_no_order_merged = remove_single_value_columns(top_10_actions_no_order_merged, ignore_if_value=[1])\n",
    "top_10_actions_no_order_merged.sort_values(by=['count'], ascending=False, inplace=True)\n"
   ]
  },
  {
   "cell_type": "code",
   "execution_count": 152,
   "metadata": {
    "ExecuteTime": {
     "end_time": "2024-06-15T16:21:42.032564Z",
     "start_time": "2024-06-15T16:21:42.026310Z"
    }
   },
   "outputs": [
    {
     "data": {
      "text/html": [
       "<div>\n",
       "<style scoped>\n",
       "    .dataframe tbody tr th:only-of-type {\n",
       "        vertical-align: middle;\n",
       "    }\n",
       "\n",
       "    .dataframe tbody tr th {\n",
       "        vertical-align: top;\n",
       "    }\n",
       "\n",
       "    .dataframe thead th {\n",
       "        text-align: right;\n",
       "    }\n",
       "</style>\n",
       "<table border=\"1\" class=\"dataframe\">\n",
       "  <thead>\n",
       "    <tr style=\"text-align: right;\">\n",
       "      <th></th>\n",
       "      <th>list_size_dropdown</th>\n",
       "      <th>saw_homepage</th>\n",
       "      <th>device_mobile</th>\n",
       "      <th>device_computer</th>\n",
       "      <th>device_tablet</th>\n",
       "      <th>returning_user</th>\n",
       "      <th>loc_uk</th>\n",
       "      <th>count</th>\n",
       "      <th>device</th>\n",
       "    </tr>\n",
       "  </thead>\n",
       "  <tbody>\n",
       "    <tr>\n",
       "      <th>11463</th>\n",
       "      <td>0</td>\n",
       "      <td>1</td>\n",
       "      <td>1</td>\n",
       "      <td>0</td>\n",
       "      <td>0</td>\n",
       "      <td>1</td>\n",
       "      <td>1</td>\n",
       "      <td>3785</td>\n",
       "      <td>device_mobile</td>\n",
       "    </tr>\n",
       "    <tr>\n",
       "      <th>2807</th>\n",
       "      <td>0</td>\n",
       "      <td>1</td>\n",
       "      <td>1</td>\n",
       "      <td>0</td>\n",
       "      <td>0</td>\n",
       "      <td>1</td>\n",
       "      <td>1</td>\n",
       "      <td>3785</td>\n",
       "      <td>device_mobile</td>\n",
       "    </tr>\n",
       "    <tr>\n",
       "      <th>7848</th>\n",
       "      <td>0</td>\n",
       "      <td>1</td>\n",
       "      <td>1</td>\n",
       "      <td>0</td>\n",
       "      <td>0</td>\n",
       "      <td>1</td>\n",
       "      <td>1</td>\n",
       "      <td>3785</td>\n",
       "      <td>device_mobile</td>\n",
       "    </tr>\n",
       "    <tr>\n",
       "      <th>4948</th>\n",
       "      <td>0</td>\n",
       "      <td>1</td>\n",
       "      <td>1</td>\n",
       "      <td>0</td>\n",
       "      <td>0</td>\n",
       "      <td>1</td>\n",
       "      <td>1</td>\n",
       "      <td>3785</td>\n",
       "      <td>device_mobile</td>\n",
       "    </tr>\n",
       "    <tr>\n",
       "      <th>2794</th>\n",
       "      <td>0</td>\n",
       "      <td>1</td>\n",
       "      <td>1</td>\n",
       "      <td>0</td>\n",
       "      <td>0</td>\n",
       "      <td>1</td>\n",
       "      <td>1</td>\n",
       "      <td>3785</td>\n",
       "      <td>device_mobile</td>\n",
       "    </tr>\n",
       "    <tr>\n",
       "      <th>...</th>\n",
       "      <td>...</td>\n",
       "      <td>...</td>\n",
       "      <td>...</td>\n",
       "      <td>...</td>\n",
       "      <td>...</td>\n",
       "      <td>...</td>\n",
       "      <td>...</td>\n",
       "      <td>...</td>\n",
       "      <td>...</td>\n",
       "    </tr>\n",
       "    <tr>\n",
       "      <th>6581</th>\n",
       "      <td>0</td>\n",
       "      <td>1</td>\n",
       "      <td>0</td>\n",
       "      <td>0</td>\n",
       "      <td>1</td>\n",
       "      <td>1</td>\n",
       "      <td>1</td>\n",
       "      <td>561</td>\n",
       "      <td>device_tablet</td>\n",
       "    </tr>\n",
       "    <tr>\n",
       "      <th>11295</th>\n",
       "      <td>0</td>\n",
       "      <td>1</td>\n",
       "      <td>0</td>\n",
       "      <td>0</td>\n",
       "      <td>1</td>\n",
       "      <td>1</td>\n",
       "      <td>1</td>\n",
       "      <td>561</td>\n",
       "      <td>device_tablet</td>\n",
       "    </tr>\n",
       "    <tr>\n",
       "      <th>7725</th>\n",
       "      <td>0</td>\n",
       "      <td>1</td>\n",
       "      <td>0</td>\n",
       "      <td>0</td>\n",
       "      <td>1</td>\n",
       "      <td>1</td>\n",
       "      <td>1</td>\n",
       "      <td>561</td>\n",
       "      <td>device_tablet</td>\n",
       "    </tr>\n",
       "    <tr>\n",
       "      <th>214</th>\n",
       "      <td>0</td>\n",
       "      <td>1</td>\n",
       "      <td>0</td>\n",
       "      <td>0</td>\n",
       "      <td>1</td>\n",
       "      <td>1</td>\n",
       "      <td>1</td>\n",
       "      <td>561</td>\n",
       "      <td>device_tablet</td>\n",
       "    </tr>\n",
       "    <tr>\n",
       "      <th>1820</th>\n",
       "      <td>0</td>\n",
       "      <td>1</td>\n",
       "      <td>0</td>\n",
       "      <td>0</td>\n",
       "      <td>1</td>\n",
       "      <td>1</td>\n",
       "      <td>1</td>\n",
       "      <td>561</td>\n",
       "      <td>device_tablet</td>\n",
       "    </tr>\n",
       "  </tbody>\n",
       "</table>\n",
       "<p>17130 rows × 9 columns</p>\n",
       "</div>"
      ],
      "text/plain": [
       "       list_size_dropdown  saw_homepage  device_mobile  device_computer  \\\n",
       "11463                   0             1              1                0   \n",
       "2807                    0             1              1                0   \n",
       "7848                    0             1              1                0   \n",
       "4948                    0             1              1                0   \n",
       "2794                    0             1              1                0   \n",
       "...                   ...           ...            ...              ...   \n",
       "6581                    0             1              0                0   \n",
       "11295                   0             1              0                0   \n",
       "7725                    0             1              0                0   \n",
       "214                     0             1              0                0   \n",
       "1820                    0             1              0                0   \n",
       "\n",
       "       device_tablet  returning_user  loc_uk  count         device  \n",
       "11463              0               1       1   3785  device_mobile  \n",
       "2807               0               1       1   3785  device_mobile  \n",
       "7848               0               1       1   3785  device_mobile  \n",
       "4948               0               1       1   3785  device_mobile  \n",
       "2794               0               1       1   3785  device_mobile  \n",
       "...              ...             ...     ...    ...            ...  \n",
       "6581               1               1       1    561  device_tablet  \n",
       "11295              1               1       1    561  device_tablet  \n",
       "7725               1               1       1    561  device_tablet  \n",
       "214                1               1       1    561  device_tablet  \n",
       "1820               1               1       1    561  device_tablet  \n",
       "\n",
       "[17130 rows x 9 columns]"
      ]
     },
     "execution_count": 152,
     "metadata": {},
     "output_type": "execute_result"
    }
   ],
   "source": [
    "top_10_actions_no_order_merged"
   ]
  },
  {
   "cell_type": "code",
   "execution_count": 153,
   "metadata": {
    "ExecuteTime": {
     "end_time": "2024-06-15T16:21:42.417657Z",
     "start_time": "2024-06-15T16:21:42.230780Z"
    }
   },
   "outputs": [],
   "source": [
    "top_10_actions_no_order_merged['device'] = top_10_actions_no_order_merged.apply(lambda row: backward_one_hot_encoding(columns_to_encode, row), axis=1)"
   ]
  },
  {
   "cell_type": "code",
   "execution_count": 156,
   "metadata": {
    "ExecuteTime": {
     "end_time": "2024-06-15T16:21:42.502006Z",
     "start_time": "2024-06-15T16:21:42.499612Z"
    }
   },
   "outputs": [],
   "source": [
    "columns_of_interest=[\n",
    "                        'saw_homepage',\n",
    "                        'list_size_dropdown',\n",
    "                        'returning_user',\n",
    "                        'device',\n",
    "                    ]\n"
   ]
  },
  {
   "cell_type": "code",
   "execution_count": 157,
   "metadata": {
    "ExecuteTime": {
     "end_time": "2024-06-15T16:21:42.785732Z",
     "start_time": "2024-06-15T16:21:42.675741Z"
    }
   },
   "outputs": [
    {
     "data": {
      "application/vnd.plotly.v1+json": {
       "config": {
        "plotlyServerURL": "https://plot.ly"
       },
       "data": [
        {
         "link": {
          "color": [
           "rgba(190,119,88,0.7)",
           "rgba(65,102,204,0.7)",
           "rgba(150,63,135,0.7)",
           "rgba(188,75,119,0.7)",
           "rgba(193,184,172,0.7)",
           "rgba(148,18,166,0.7)",
           "rgba(152,128,218,0.7)",
           "rgba(194,122,159,0.7)",
           "rgba(199,232,212,0.7)",
           "rgba(174,163,246,0.7)",
           "rgba(169,54,193,0.7)",
           "rgba(114,233,180,0.7)",
           "rgba(109,124,128,0.7)"
          ],
          "source": [
           0,
           1,
           0,
           2,
           2,
           3,
           3,
           4,
           5,
           5,
           4,
           5,
           4
          ],
          "target": [
           2,
           3,
           3,
           4,
           5,
           4,
           5,
           6,
           6,
           7,
           7,
           8,
           8
          ],
          "value": [
           10172,
           4324,
           2634,
           5275,
           4897,
           4145,
           2813,
           7930,
           6182,
           957,
           929,
           571,
           561
          ]
         },
         "node": {
          "color": [
           "rgba(173,93,84,0.7)",
           "rgba(3,172,223,0.7)",
           "rgba(208,146,93,0.7)",
           "rgba(127,33,186,0.7)",
           "rgba(169,4,146,0.7)",
           "rgba(178,223,251,0.7)",
           "rgba(220,241,173,0.7)",
           "rgba(170,104,241,0.7)",
           "rgba(50,244,110,0.7)"
          ],
          "label": [
           "saw_homepage:1",
           "saw_homepage:0",
           "list_size_dropdown:0",
           "list_size_dropdown:1",
           "returning_user:1",
           "returning_user:0",
           "device:device_mobile",
           "device:device_computer",
           "device:device_tablet"
          ],
          "line": {
           "color": "black",
           "width": 0.5
          },
          "pad": 15,
          "thickness": 20
         },
         "type": "sankey"
        }
       ],
       "layout": {
        "height": 800,
        "template": {
         "data": {
          "bar": [
           {
            "error_x": {
             "color": "#2a3f5f"
            },
            "error_y": {
             "color": "#2a3f5f"
            },
            "marker": {
             "line": {
              "color": "#E5ECF6",
              "width": 0.5
             },
             "pattern": {
              "fillmode": "overlay",
              "size": 10,
              "solidity": 0.2
             }
            },
            "type": "bar"
           }
          ],
          "barpolar": [
           {
            "marker": {
             "line": {
              "color": "#E5ECF6",
              "width": 0.5
             },
             "pattern": {
              "fillmode": "overlay",
              "size": 10,
              "solidity": 0.2
             }
            },
            "type": "barpolar"
           }
          ],
          "carpet": [
           {
            "aaxis": {
             "endlinecolor": "#2a3f5f",
             "gridcolor": "white",
             "linecolor": "white",
             "minorgridcolor": "white",
             "startlinecolor": "#2a3f5f"
            },
            "baxis": {
             "endlinecolor": "#2a3f5f",
             "gridcolor": "white",
             "linecolor": "white",
             "minorgridcolor": "white",
             "startlinecolor": "#2a3f5f"
            },
            "type": "carpet"
           }
          ],
          "choropleth": [
           {
            "colorbar": {
             "outlinewidth": 0,
             "ticks": ""
            },
            "type": "choropleth"
           }
          ],
          "contour": [
           {
            "colorbar": {
             "outlinewidth": 0,
             "ticks": ""
            },
            "colorscale": [
             [
              0,
              "#0d0887"
             ],
             [
              0.1111111111111111,
              "#46039f"
             ],
             [
              0.2222222222222222,
              "#7201a8"
             ],
             [
              0.3333333333333333,
              "#9c179e"
             ],
             [
              0.4444444444444444,
              "#bd3786"
             ],
             [
              0.5555555555555556,
              "#d8576b"
             ],
             [
              0.6666666666666666,
              "#ed7953"
             ],
             [
              0.7777777777777778,
              "#fb9f3a"
             ],
             [
              0.8888888888888888,
              "#fdca26"
             ],
             [
              1,
              "#f0f921"
             ]
            ],
            "type": "contour"
           }
          ],
          "contourcarpet": [
           {
            "colorbar": {
             "outlinewidth": 0,
             "ticks": ""
            },
            "type": "contourcarpet"
           }
          ],
          "heatmap": [
           {
            "colorbar": {
             "outlinewidth": 0,
             "ticks": ""
            },
            "colorscale": [
             [
              0,
              "#0d0887"
             ],
             [
              0.1111111111111111,
              "#46039f"
             ],
             [
              0.2222222222222222,
              "#7201a8"
             ],
             [
              0.3333333333333333,
              "#9c179e"
             ],
             [
              0.4444444444444444,
              "#bd3786"
             ],
             [
              0.5555555555555556,
              "#d8576b"
             ],
             [
              0.6666666666666666,
              "#ed7953"
             ],
             [
              0.7777777777777778,
              "#fb9f3a"
             ],
             [
              0.8888888888888888,
              "#fdca26"
             ],
             [
              1,
              "#f0f921"
             ]
            ],
            "type": "heatmap"
           }
          ],
          "heatmapgl": [
           {
            "colorbar": {
             "outlinewidth": 0,
             "ticks": ""
            },
            "colorscale": [
             [
              0,
              "#0d0887"
             ],
             [
              0.1111111111111111,
              "#46039f"
             ],
             [
              0.2222222222222222,
              "#7201a8"
             ],
             [
              0.3333333333333333,
              "#9c179e"
             ],
             [
              0.4444444444444444,
              "#bd3786"
             ],
             [
              0.5555555555555556,
              "#d8576b"
             ],
             [
              0.6666666666666666,
              "#ed7953"
             ],
             [
              0.7777777777777778,
              "#fb9f3a"
             ],
             [
              0.8888888888888888,
              "#fdca26"
             ],
             [
              1,
              "#f0f921"
             ]
            ],
            "type": "heatmapgl"
           }
          ],
          "histogram": [
           {
            "marker": {
             "pattern": {
              "fillmode": "overlay",
              "size": 10,
              "solidity": 0.2
             }
            },
            "type": "histogram"
           }
          ],
          "histogram2d": [
           {
            "colorbar": {
             "outlinewidth": 0,
             "ticks": ""
            },
            "colorscale": [
             [
              0,
              "#0d0887"
             ],
             [
              0.1111111111111111,
              "#46039f"
             ],
             [
              0.2222222222222222,
              "#7201a8"
             ],
             [
              0.3333333333333333,
              "#9c179e"
             ],
             [
              0.4444444444444444,
              "#bd3786"
             ],
             [
              0.5555555555555556,
              "#d8576b"
             ],
             [
              0.6666666666666666,
              "#ed7953"
             ],
             [
              0.7777777777777778,
              "#fb9f3a"
             ],
             [
              0.8888888888888888,
              "#fdca26"
             ],
             [
              1,
              "#f0f921"
             ]
            ],
            "type": "histogram2d"
           }
          ],
          "histogram2dcontour": [
           {
            "colorbar": {
             "outlinewidth": 0,
             "ticks": ""
            },
            "colorscale": [
             [
              0,
              "#0d0887"
             ],
             [
              0.1111111111111111,
              "#46039f"
             ],
             [
              0.2222222222222222,
              "#7201a8"
             ],
             [
              0.3333333333333333,
              "#9c179e"
             ],
             [
              0.4444444444444444,
              "#bd3786"
             ],
             [
              0.5555555555555556,
              "#d8576b"
             ],
             [
              0.6666666666666666,
              "#ed7953"
             ],
             [
              0.7777777777777778,
              "#fb9f3a"
             ],
             [
              0.8888888888888888,
              "#fdca26"
             ],
             [
              1,
              "#f0f921"
             ]
            ],
            "type": "histogram2dcontour"
           }
          ],
          "mesh3d": [
           {
            "colorbar": {
             "outlinewidth": 0,
             "ticks": ""
            },
            "type": "mesh3d"
           }
          ],
          "parcoords": [
           {
            "line": {
             "colorbar": {
              "outlinewidth": 0,
              "ticks": ""
             }
            },
            "type": "parcoords"
           }
          ],
          "pie": [
           {
            "automargin": true,
            "type": "pie"
           }
          ],
          "scatter": [
           {
            "fillpattern": {
             "fillmode": "overlay",
             "size": 10,
             "solidity": 0.2
            },
            "type": "scatter"
           }
          ],
          "scatter3d": [
           {
            "line": {
             "colorbar": {
              "outlinewidth": 0,
              "ticks": ""
             }
            },
            "marker": {
             "colorbar": {
              "outlinewidth": 0,
              "ticks": ""
             }
            },
            "type": "scatter3d"
           }
          ],
          "scattercarpet": [
           {
            "marker": {
             "colorbar": {
              "outlinewidth": 0,
              "ticks": ""
             }
            },
            "type": "scattercarpet"
           }
          ],
          "scattergeo": [
           {
            "marker": {
             "colorbar": {
              "outlinewidth": 0,
              "ticks": ""
             }
            },
            "type": "scattergeo"
           }
          ],
          "scattergl": [
           {
            "marker": {
             "colorbar": {
              "outlinewidth": 0,
              "ticks": ""
             }
            },
            "type": "scattergl"
           }
          ],
          "scattermapbox": [
           {
            "marker": {
             "colorbar": {
              "outlinewidth": 0,
              "ticks": ""
             }
            },
            "type": "scattermapbox"
           }
          ],
          "scatterpolar": [
           {
            "marker": {
             "colorbar": {
              "outlinewidth": 0,
              "ticks": ""
             }
            },
            "type": "scatterpolar"
           }
          ],
          "scatterpolargl": [
           {
            "marker": {
             "colorbar": {
              "outlinewidth": 0,
              "ticks": ""
             }
            },
            "type": "scatterpolargl"
           }
          ],
          "scatterternary": [
           {
            "marker": {
             "colorbar": {
              "outlinewidth": 0,
              "ticks": ""
             }
            },
            "type": "scatterternary"
           }
          ],
          "surface": [
           {
            "colorbar": {
             "outlinewidth": 0,
             "ticks": ""
            },
            "colorscale": [
             [
              0,
              "#0d0887"
             ],
             [
              0.1111111111111111,
              "#46039f"
             ],
             [
              0.2222222222222222,
              "#7201a8"
             ],
             [
              0.3333333333333333,
              "#9c179e"
             ],
             [
              0.4444444444444444,
              "#bd3786"
             ],
             [
              0.5555555555555556,
              "#d8576b"
             ],
             [
              0.6666666666666666,
              "#ed7953"
             ],
             [
              0.7777777777777778,
              "#fb9f3a"
             ],
             [
              0.8888888888888888,
              "#fdca26"
             ],
             [
              1,
              "#f0f921"
             ]
            ],
            "type": "surface"
           }
          ],
          "table": [
           {
            "cells": {
             "fill": {
              "color": "#EBF0F8"
             },
             "line": {
              "color": "white"
             }
            },
            "header": {
             "fill": {
              "color": "#C8D4E3"
             },
             "line": {
              "color": "white"
             }
            },
            "type": "table"
           }
          ]
         },
         "layout": {
          "annotationdefaults": {
           "arrowcolor": "#2a3f5f",
           "arrowhead": 0,
           "arrowwidth": 1
          },
          "autotypenumbers": "strict",
          "coloraxis": {
           "colorbar": {
            "outlinewidth": 0,
            "ticks": ""
           }
          },
          "colorscale": {
           "diverging": [
            [
             0,
             "#8e0152"
            ],
            [
             0.1,
             "#c51b7d"
            ],
            [
             0.2,
             "#de77ae"
            ],
            [
             0.3,
             "#f1b6da"
            ],
            [
             0.4,
             "#fde0ef"
            ],
            [
             0.5,
             "#f7f7f7"
            ],
            [
             0.6,
             "#e6f5d0"
            ],
            [
             0.7,
             "#b8e186"
            ],
            [
             0.8,
             "#7fbc41"
            ],
            [
             0.9,
             "#4d9221"
            ],
            [
             1,
             "#276419"
            ]
           ],
           "sequential": [
            [
             0,
             "#0d0887"
            ],
            [
             0.1111111111111111,
             "#46039f"
            ],
            [
             0.2222222222222222,
             "#7201a8"
            ],
            [
             0.3333333333333333,
             "#9c179e"
            ],
            [
             0.4444444444444444,
             "#bd3786"
            ],
            [
             0.5555555555555556,
             "#d8576b"
            ],
            [
             0.6666666666666666,
             "#ed7953"
            ],
            [
             0.7777777777777778,
             "#fb9f3a"
            ],
            [
             0.8888888888888888,
             "#fdca26"
            ],
            [
             1,
             "#f0f921"
            ]
           ],
           "sequentialminus": [
            [
             0,
             "#0d0887"
            ],
            [
             0.1111111111111111,
             "#46039f"
            ],
            [
             0.2222222222222222,
             "#7201a8"
            ],
            [
             0.3333333333333333,
             "#9c179e"
            ],
            [
             0.4444444444444444,
             "#bd3786"
            ],
            [
             0.5555555555555556,
             "#d8576b"
            ],
            [
             0.6666666666666666,
             "#ed7953"
            ],
            [
             0.7777777777777778,
             "#fb9f3a"
            ],
            [
             0.8888888888888888,
             "#fdca26"
            ],
            [
             1,
             "#f0f921"
            ]
           ]
          },
          "colorway": [
           "#636efa",
           "#EF553B",
           "#00cc96",
           "#ab63fa",
           "#FFA15A",
           "#19d3f3",
           "#FF6692",
           "#B6E880",
           "#FF97FF",
           "#FECB52"
          ],
          "font": {
           "color": "#2a3f5f"
          },
          "geo": {
           "bgcolor": "white",
           "lakecolor": "white",
           "landcolor": "#E5ECF6",
           "showlakes": true,
           "showland": true,
           "subunitcolor": "white"
          },
          "hoverlabel": {
           "align": "left"
          },
          "hovermode": "closest",
          "mapbox": {
           "style": "light"
          },
          "paper_bgcolor": "white",
          "plot_bgcolor": "#E5ECF6",
          "polar": {
           "angularaxis": {
            "gridcolor": "white",
            "linecolor": "white",
            "ticks": ""
           },
           "bgcolor": "#E5ECF6",
           "radialaxis": {
            "gridcolor": "white",
            "linecolor": "white",
            "ticks": ""
           }
          },
          "scene": {
           "xaxis": {
            "backgroundcolor": "#E5ECF6",
            "gridcolor": "white",
            "gridwidth": 2,
            "linecolor": "white",
            "showbackground": true,
            "ticks": "",
            "zerolinecolor": "white"
           },
           "yaxis": {
            "backgroundcolor": "#E5ECF6",
            "gridcolor": "white",
            "gridwidth": 2,
            "linecolor": "white",
            "showbackground": true,
            "ticks": "",
            "zerolinecolor": "white"
           },
           "zaxis": {
            "backgroundcolor": "#E5ECF6",
            "gridcolor": "white",
            "gridwidth": 2,
            "linecolor": "white",
            "showbackground": true,
            "ticks": "",
            "zerolinecolor": "white"
           }
          },
          "shapedefaults": {
           "line": {
            "color": "#2a3f5f"
           }
          },
          "ternary": {
           "aaxis": {
            "gridcolor": "white",
            "linecolor": "white",
            "ticks": ""
           },
           "baxis": {
            "gridcolor": "white",
            "linecolor": "white",
            "ticks": ""
           },
           "bgcolor": "#E5ECF6",
           "caxis": {
            "gridcolor": "white",
            "linecolor": "white",
            "ticks": ""
           }
          },
          "title": {
           "x": 0.05
          },
          "xaxis": {
           "automargin": true,
           "gridcolor": "white",
           "linecolor": "white",
           "ticks": "",
           "title": {
            "standoff": 15
           },
           "zerolinecolor": "white",
           "zerolinewidth": 2
          },
          "yaxis": {
           "automargin": true,
           "gridcolor": "white",
           "linecolor": "white",
           "ticks": "",
           "title": {
            "standoff": 15
           },
           "zerolinecolor": "white",
           "zerolinewidth": 2
          }
         }
        },
        "width": 1500
       }
      }
     },
     "metadata": {},
     "output_type": "display_data"
    }
   ],
   "source": [
    "plot = ParcatsSankeyPlot(top_10_actions_no_order_merged[columns_of_interest], columns_of_interest, chart='Sankey', w=1500)\n",
    "fig = plot.create_plot()\n",
    "fig.show()"
   ]
  }
 ],
 "metadata": {
  "accelerator": "GPU",
  "colab": {
   "authorship_tag": "ABX9TyOWlmYK9s7CTlvJi5rX+qfl",
   "collapsed_sections": [
    "nw4HFAXu5R3E"
   ],
   "gpuType": "V100",
   "provenance": []
  },
  "kernelspec": {
   "display_name": "std_env",
   "language": "python",
   "name": "python3"
  },
  "language_info": {
   "codemirror_mode": {
    "name": "ipython",
    "version": 3
   },
   "file_extension": ".py",
   "mimetype": "text/x-python",
   "name": "python",
   "nbconvert_exporter": "python",
   "pygments_lexer": "ipython3",
   "version": "3.12.1"
  }
 },
 "nbformat": 4,
 "nbformat_minor": 4
}
