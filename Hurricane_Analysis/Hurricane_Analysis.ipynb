{
  "cells": [
    {
      "cell_type": "markdown",
      "id": "58875e7a",
      "metadata": {
        "id": "58875e7a"
      },
      "source": [
        "# Hurricane Analysis"
      ]
    },
    {
      "cell_type": "markdown",
      "id": "9a2d9627",
      "metadata": {
        "id": "9a2d9627"
      },
      "source": [
        "#### Overview"
      ]
    },
    {
      "cell_type": "markdown",
      "id": "633e5dde",
      "metadata": {
        "id": "633e5dde"
      },
      "source": [
        "This project is slightly different than others you have encountered thus far. Instead of a step-by-step tutorial, this project contains a series of open-ended requirements which describe the project you'll be building. There are many possible ways to correctly fulfill all of these requirements, and you should expect to use the internet, Codecademy, and other resources when you encounter a problem that you cannot easily solve."
      ]
    },
    {
      "cell_type": "markdown",
      "id": "52f01f07",
      "metadata": {
        "id": "52f01f07"
      },
      "source": [
        "#### Project Goals"
      ]
    },
    {
      "cell_type": "markdown",
      "id": "d9d06c43",
      "metadata": {
        "id": "d9d06c43"
      },
      "source": [
        "You will work to write several functions that organize and manipulate data about Category 5 Hurricanes, the strongest hurricanes as rated by their wind speed. Each one of these functions will use a number of parameters, conditionals, lists, dictionaries, string manipulation, and return statements."
      ]
    },
    {
      "cell_type": "markdown",
      "id": "7fbb9fb5",
      "metadata": {
        "id": "7fbb9fb5"
      },
      "source": [
        "#### Prerequisites"
      ]
    },
    {
      "cell_type": "markdown",
      "id": "4732a1e8",
      "metadata": {
        "id": "4732a1e8"
      },
      "source": [
        "In order to complete this project, you should have completed the Loops and Dictionaries sections of the [Learn Python 3 Course](https://www.codecademy.com/learn/learn-python-3). This content is also covered in the [Data Scientist Career Path](https://www.codecademy.com/learn/paths/data-science/)."
      ]
    },
    {
      "cell_type": "markdown",
      "id": "f8fbe58c",
      "metadata": {},
      "source": [
        "### Context of the task"
      ]
    },
    {
      "cell_type": "markdown",
      "id": "53a4d09d",
      "metadata": {},
      "source": [
        "gogr: This code is for training purposes for the implementation of the course. For this reason, some of the methods or functions used here have their equivalents in more advanced methods or libraries. The author of the course and this notebook wanted the methods used in this notebook to be confined to the basic scope of the python language and not to go beyond the typical petholes, lists and dictionaries. "
      ]
    },
    {
      "cell_type": "markdown",
      "id": "1e924903",
      "metadata": {
        "id": "1e924903"
      },
      "source": [
        "## Definition of Functions used in code and import of libraries"
      ]
    },
    {
      "cell_type": "markdown",
      "id": "ed04ca24",
      "metadata": {},
      "source": [
        "##### cost_change - This function calculates the updated costs based on a conversion rate.\n",
        "\n",
        "Parameters:\n",
        "conversion (dict): A dictionary where keys are units and values are conversion rates.\n",
        "lists (list): A list of strings where each string is a cost with its unit.\n",
        "\n",
        "The function iterates over the 'lists' parameter. If the unit of a cost is in the 'conversion' dictionary,\n",
        "it replaces the unit in the cost with an empty string, converts the cost to a float, and multiplies it by the conversion rate.\n",
        "The updated cost is then appended to the 'updated_list'.\n",
        "If the unit of a cost is not in the 'conversion' dictionary, the string \"Damages not recorded\" is appended to the 'updated_list'.\n",
        "\n",
        "Returns:\n",
        "updated_list (list): A list of updated costs or a string indicating that the cost was not recorded."
      ]
    },
    {
      "cell_type": "code",
      "execution_count": 76,
      "id": "16751dbf",
      "metadata": {},
      "outputs": [],
      "source": [
        "def cost_change(conversion,lists):\n",
        "\n",
        "  keys = list(conversion.keys())\n",
        "  updated_list = []\n",
        "  for i in lists:\n",
        "    if i[-1] in conversion:\n",
        "      if i[-1] == keys[0]:\n",
        "        i = i.replace(keys[0],'')\n",
        "        new_costs = float(i) * conversion[keys[0]]\n",
        "        updated_list.append(new_costs)\n",
        "      elif i[-1] == keys[1]:\n",
        "        i = i.replace(keys[1],'')\n",
        "        new_costs = float(i) * conversion[keys[1]]\n",
        "        updated_list.append(new_costs)\n",
        "    else:\n",
        "         updated_list.append(\"Damages not recorded\")\n",
        "  return updated_list"
      ]
    },
    {
      "cell_type": "markdown",
      "id": "75ef633c",
      "metadata": {},
      "source": [
        "##### printTable - Prints a table from a list of dictionaries with separating lines\n",
        "\n",
        "Args:\n",
        "    myDict (list): A list of dictionaries representing the table data.\n",
        "    colList (list, optional): A list of column names to include in the table. If not provided, all keys from the first dictionary in myDict will be used as column names.\n",
        "\n",
        "Returns:\n",
        "    None\n",
        "\n",
        "Example:\n",
        "    >>> myDict = [{'Name': 'John', 'Age': 25, 'City': 'New York'},\n",
        "                  {'Name': 'Jane', 'Age': 30, 'City': 'Los Angeles'},\n",
        "                  {'Name': 'Mike', 'Age': 35, 'City': 'Chicago'}]\n",
        "    >>> printTable(myDict)\n",
        "    Name | Age | City\n",
        "    ----------------\n",
        "    John | 25  | New York\n",
        "    Jane | 30  | Los Angeles\n",
        "    Mike | 35  | Chicago\n",
        "\n",
        "Note:\n",
        "    - If a value in a dictionary is None, it will be displayed as an empty string in the table.\n",
        "    - The table will be formatted to align the columns based on the maximum length of the values in each column."
      ]
    },
    {
      "cell_type": "code",
      "execution_count": 77,
      "id": "1e4927d0",
      "metadata": {},
      "outputs": [],
      "source": [
        "def printTable(myDict, colList=None):\n",
        "\n",
        "   if not colList: colList = list(myDict[0].keys() if myDict else [])\n",
        "   myList = [colList] # 1st row = header\n",
        "   for item in myDict: myList.append([str(item[col] if item[col] is not None else '') for col in colList])\n",
        "   colSize = [max(map(len, map(str, col))) for col in zip(*myList)] #colSize = [max(map(len,col)) for col in zip(*myList)]\n",
        "   formatStr = ' | '.join([\"{{:<{}}}\".format(i) for i in colSize])\n",
        "   myList.insert(1, ['-' * i for i in colSize]) # Seperating line\n",
        "   for item in myList: print(formatStr.format(*item))"
      ]
    },
    {
      "cell_type": "markdown",
      "id": "82116ac5",
      "metadata": {},
      "source": [
        "##### reorganize_dict_universal - Reorganizes a dictionary based on a specified new order and optional grouping.\n",
        "\n",
        "Parameters:\n",
        "- dictionary (dict): The dictionary to be reorganized.\n",
        "- new_order (str or int): The key or index of the value in the dictionary to be used for reordering.\n",
        "- groupby (str, optional): The key in the dictionary to be used for grouping. Defaults to an empty string.\n",
        "\n",
        "Returns:\n",
        "- reorganized_dict (dict): The reorganized dictionary.\n",
        "\n",
        "The function reorganizes the given dictionary by iterating over its items. If the value at the specified new_order is a list, each element in the list is used as a new key in the reorganized dictionary. If the element is not already a key in the reorganized dictionary, a new key-value pair is created. If the groupby parameter is provided, the corresponding value from the original dictionary is appended to the list of values for the new key. If the value at the specified new_order is not a list, it is used as a new key in the reorganized dictionary. If the key is not already a key in the reorganized dictionary, a new key-value pair is created. If the groupby parameter is provided, the corresponding value from the original dictionary is appended to the list of values for the new key.\n",
        "\n",
        "\n",
        "Note:\n",
        "- The new_order parameter can be a string representing a key in the dictionary or an integer representing an index of the value in the dictionary.\n",
        "- The groupby parameter is optional. If not provided, the reorganized dictionary will contain the entire original dictionary as values.\n",
        "- If the value at the specified new_order is not found in the original dictionary, it will not be included in the reorganized dictionary.\n",
        "- If the groupby parameter is provided, the corresponding value from the original dictionary will be appended to the list of values for the new key.\n"
      ]
    },
    {
      "cell_type": "code",
      "execution_count": 78,
      "id": "b955eac9",
      "metadata": {},
      "outputs": [],
      "source": [
        "def reorganize_dict_universal(dictionary: dict, new_order: str, groupby: str = '') -> dict:\n",
        "\n",
        "    reorganized_dict = {}\n",
        "\n",
        "    for key, value in dictionary.items():\n",
        "        new_key = value[new_order]\n",
        "\n",
        "        if isinstance(new_key, list):\n",
        "            for list_element in new_key:\n",
        "                if list_element not in reorganized_dict:\n",
        "                    reorganized_dict[list_element] = [value[groupby]] if groupby else [value]\n",
        "                else:\n",
        "                    reorganized_dict[list_element].append(value[groupby]) if groupby else reorganized_dict[list_element].append(value)\n",
        "        else:\n",
        "            if new_key not in reorganized_dict:\n",
        "                reorganized_dict[new_key] = value[groupby] if groupby else [value]\n",
        "            else:\n",
        "                reorganized_dict[new_key].append(value[groupby]) if groupby else reorganized_dict[new_key].append(value)\n",
        "\n",
        "    return reorganized_dict\n"
      ]
    },
    {
      "cell_type": "markdown",
      "id": "430ce986",
      "metadata": {},
      "source": [
        "##### PrintDict - This function takes a dictionary as an input and prints out each key-value pair in the dictionary.\n",
        "\n",
        "Parameters:\n",
        "    dictionary (dict): The dictionary to be printed.\n",
        "\n",
        "Returns:\n",
        "    None\n"
      ]
    },
    {
      "cell_type": "code",
      "execution_count": 79,
      "id": "0ec4de20",
      "metadata": {},
      "outputs": [],
      "source": [
        "def PrintDict(dictionary):\n",
        "\n",
        "  for key,value in dictionary.items():\n",
        "    print(key,' : ',value)\n"
      ]
    },
    {
      "cell_type": "markdown",
      "id": "ad62ea26",
      "metadata": {},
      "source": [
        "##### LeftMerge - Merge two dictionaries using a left merge approach.\n",
        "\n",
        "Parameters:\n",
        "- dict1 (dict): The first dictionary to be merged.\n",
        "- dict2 (dict): The second dictionary to be merged.\n",
        "\n",
        "Returns:\n",
        "- dict: A new dictionary containing the merged values from dict1 and dict2. The keys from dict1 are preserved, and the values from dict2 are appended to the corresponding keys in dict1.\n",
        "\n",
        "Note:\n",
        "- If a key in dict1 does not exist in dict2, the value from dict1 is preserved as a list.\n",
        "- If a key exists in both dict1 and dict2, the value from dict2 is appended to the list of values for that key in dict1."
      ]
    },
    {
      "cell_type": "code",
      "execution_count": 80,
      "id": "b677356f",
      "metadata": {},
      "outputs": [],
      "source": [
        "def LeftMerge(dict1, dict2):\n",
        "\n",
        "  dict_merged = {}\n",
        "  for key1, value1 in dict1.items():\n",
        "    dict_merged[key1] = [value1]\n",
        "    for key2, value2 in dict2.items():\n",
        "      if key1 == key2:\n",
        "        dict_merged[key1].append(value2)\n",
        "  return dict_merged\n"
      ]
    },
    {
      "cell_type": "markdown",
      "id": "17f27de9",
      "metadata": {},
      "source": [
        "##### MergeDicts - Merge multiple dictionaries into a single dictionary.\n",
        "\n",
        "This function takes in multiple dictionaries as arguments and merges them into a single dictionary. The keys from all dictionaries are combined into the merged dictionary, and the values associated with each key are stored as a list in the merged dictionary.\n",
        "\n",
        "Parameters:\n",
        "    *dicts: Variable number of dictionaries to be merged.\n",
        "\n",
        "Returns:\n",
        "    dict: A dictionary containing the merged key-value pairs from all input dictionaries.\n",
        "\n",
        "Note:\n",
        "    - If a key is present in multiple dictionaries, the corresponding values are appended to the list in the merged dictionary.\n",
        "    - If a key is not present in a dictionary, it is added to the merged dictionary with an empty list as the value."
      ]
    },
    {
      "cell_type": "code",
      "execution_count": 81,
      "id": "69abe585",
      "metadata": {},
      "outputs": [],
      "source": [
        "\n",
        "def MergeDicts(*dicts):\n",
        "  dict_merged = {}\n",
        "  for dictionary in dicts:\n",
        "    for key, value in dictionary.items():\n",
        "      if key not in dict_merged:\n",
        "        dict_merged[key] = [value]  # Make value a list\n",
        "      else:\n",
        "        dict_merged[key].append(value)  # Append value to the list\n",
        "  return dict_merged\n"
      ]
    },
    {
      "cell_type": "markdown",
      "id": "8ea37967",
      "metadata": {},
      "source": [
        "##### categorize_dict(input_dict, scale_dict)\n",
        "Categorizes a dictionary based on a given scale dictionary.\n",
        "\n",
        "Parameters:\n",
        "- input_dict (dict): The input dictionary to be categorized.\n",
        "- scale_dict (dict): A dictionary defining the scale for categorization. The keys represent the categories, and the values represent the upper bounds for each category.\n",
        "\n",
        "Returns:\n",
        "- categorized_dict (dict): A dictionary where the keys are the categories from the scale_dict, and the values are lists of dictionaries containing the items from the input_dict that fall into each category.\n",
        "\n"
      ]
    },
    {
      "cell_type": "code",
      "execution_count": 82,
      "id": "1fcf128c",
      "metadata": {},
      "outputs": [],
      "source": [
        "def categorize_dict(input_dict, scale_dict):\n",
        "  categorized_dict = {key: [] for key in scale_dict.keys()}\n",
        "  for key, value in input_dict.items():\n",
        "      for scale in sorted(scale_dict.keys(), reverse=True):\n",
        "          if value > scale_dict[scale]:\n",
        "              categorized_dict[scale].append({key: value})\n",
        "              break\n",
        "  return categorized_dict"
      ]
    },
    {
      "cell_type": "code",
      "execution_count": 83,
      "id": "ac2958fd",
      "metadata": {},
      "outputs": [],
      "source": [
        "def DictSplit(dictionary: dict, type=str):\n",
        "    dict = dictionary.copy()\n",
        "    dict_remain = {}\n",
        "    dict_pop = {}\n",
        "    for key,value in dict.items():\n",
        "        if isinstance(value, type):\n",
        "            dict_pop[key] = dictionary.pop(key)\n",
        "        else:\n",
        "            dict_remain[key] = value\n",
        "    return dict_remain, dict_pop\n",
        "  "
      ]
    },
    {
      "cell_type": "code",
      "execution_count": 84,
      "id": "089722d4",
      "metadata": {},
      "outputs": [],
      "source": [
        "def DictSort(dictionary: dict,clean=True, SortBy='Key', Order='ASC'):\n",
        "    if SortBy == 'Key':\n",
        "        i = 0\n",
        "    else: \n",
        "        i = 1\n",
        "    if Order =='ASC':\n",
        "        reverse = False\n",
        "    else:\n",
        "        reverse = True\n",
        "    if clean == True:\n",
        "        dict_sorted = dict(sorted(dictionary.items(), key=lambda x:x[i] , reverse=reverse))\n",
        "    else:\n",
        "        dict_remain, dict_pop = DictSplit(dictionary)\n",
        "        dict_remain_sorted = dict(sorted(dict_remain.items(), key=lambda x:x[i], reverse=reverse))\n",
        "        dict_sorted = {dict_remain_sorted, dict_pop}\n",
        "    return dict_sorted"
      ]
    },
    {
      "cell_type": "markdown",
      "id": "65e83e85",
      "metadata": {},
      "source": [
        "## Project Requirements"
      ]
    },
    {
      "cell_type": "markdown",
      "id": "35d6f74d",
      "metadata": {
        "id": "35d6f74d"
      },
      "source": [
        "1. Hurricanes, also known as cyclones or typhoons, are one of the most powerful forces of nature on Earth. Due to climate change caused by human activity, the number and intensity of hurricanes has risen, calling for better preparation by the many communities that are devastated by them. As a concerned environmentalist, you want to look at data about the most powerful hurricanes that have occured.\n",
        "\n",
        "   Begin by looking at the `damages` list. The list contains strings representing the total cost in USD(`$`) caused by `34` category 5 hurricanes (wind speeds $\\ge$ 157 mph (252 km/h)) in the Atlantic region. For some of the hurricanes, damage data was not recorded (`\"Damages not recorded\"`), while the rest are written in the format `\"Prefix-B/M\"`, where `B` stands for billions (`1000000000`) and `M` stands for millions (`1000000`).\n",
        "   \n",
        "   Write a function that returns a new list of updated damages where the recorded data is converted to float values and the missing data is retained as `\"Damages not recorded\"`.\n",
        "   \n",
        "   Test your function with the data stored in `damages`."
      ]
    },
    {
      "cell_type": "code",
      "execution_count": 85,
      "id": "d8d3c50b",
      "metadata": {
        "colab": {
          "base_uri": "https://localhost:8080/"
        },
        "id": "d8d3c50b",
        "outputId": "29a41532-c52a-4a7b-9c52-94751a7cfd99"
      },
      "outputs": [],
      "source": [
        "# damages (USD($)) of hurricanes\n",
        "damages = ['Damages not recorded', '100M', 'Damages not recorded', '40M',\n",
        "          '27.9M', '5M', 'Damages not recorded', '306M', '2M', '65.8M',\n",
        "          '326M', '60.3M', '208M', '1.42B', '25.4M', 'Damages not recorded',\n",
        "          '1.54B', '1.24B', '7.1B', '10B', '26.5B', '6.2B', '5.37B', '23.3B',\n",
        "          '1.01B', '125B', '12B', '29.4B', '1.76B', '720M', '15.1B', '64.8B',\n",
        "          '91.6B', '25.1B']\n",
        "\n",
        "# 1\n",
        "# Update Recorded Damages\n",
        "conversion = {\"M\": 1000000,\n",
        "              \"B\": 1000000000}\n",
        "\n",
        "damages = cost_change(conversion,damages)"
      ]
    },
    {
      "cell_type": "markdown",
      "id": "36ac47b6",
      "metadata": {
        "id": "36ac47b6"
      },
      "source": [
        "2. Additional data collected on the `34` strongest Atlantic hurricanes are provided in a series of lists. The data includes:\n",
        "   - `names`: names of the hurricanes\n",
        "   - `months`: months in which the hurricanes occurred\n",
        "   - `years`: years in which the hurricanes occurred\n",
        "   - `max_sustained_winds`: maximum sustained winds (miles per hour) of the hurricanes\n",
        "   - `areas_affected`: list of different areas affected by each of the hurricanes\n",
        "   - `deaths`: total number of deaths caused by each of the hurricanes\n",
        "   \n",
        "   The data is organized such that the data at each index, from `0` to `33`, corresponds to the same hurricane.\n",
        "   \n",
        "   For example, `names[0]` yields the \"Cuba I\" hurricane, which occurred in `months[0]` (October) `years[0]` (1924).\n",
        "   \n",
        "   Write a function that constructs a dictionary made out of the lists, where the keys of the dictionary are the names of the hurricanes, and the values are dictionaries themselves containing a key for each piece of data (`Name`, `Month`, `Year`, `Max Sustained Wind`, `Areas Affected`, `Damage`, `Death`) about the hurricane.\n",
        "   \n",
        "   Thus the key `\"Cuba I\"` would have the value: `{'Name': 'Cuba I', 'Month': 'October', 'Year': 1924, 'Max Sustained Wind': 165, 'Areas Affected': ['Central America', 'Mexico', 'Cuba', 'Florida', 'The Bahamas'], 'Damage': 'Damages not recorded', 'Deaths': 90}`.\n",
        "   \n",
        "   Test your function on the lists of data provided."
      ]
    },
    {
      "cell_type": "code",
      "execution_count": 86,
      "id": "641aa113",
      "metadata": {
        "colab": {
          "base_uri": "https://localhost:8080/"
        },
        "id": "641aa113",
        "outputId": "573af75b-c758-4a8e-b0c4-c9a28199cadd",
        "slideshow": {
          "slide_type": "notes"
        }
      },
      "outputs": [
        {
          "name": "stdout",
          "output_type": "stream",
          "text": [
            "Cuba I  :  {'Name': 'Cuba I', 'Month': 'October', 'Year': 1924, 'Max Sustained Wind': 165, 'Area Affected': ['Central America', 'Mexico', 'Cuba', 'Florida', 'The Bahamas'], 'Damage': 'Damages not recorded', 'Deaths': 90}\n",
            "San Felipe II Okeechobee  :  {'Name': 'San Felipe II Okeechobee', 'Month': 'September', 'Year': 1928, 'Max Sustained Wind': 160, 'Area Affected': ['Lesser Antilles', 'The Bahamas', 'United States East Coast', 'Atlantic Canada'], 'Damage': '100M', 'Deaths': 4000}\n",
            "Bahamas  :  {'Name': 'Bahamas', 'Month': 'September', 'Year': 1932, 'Max Sustained Wind': 160, 'Area Affected': ['The Bahamas', 'Northeastern United States'], 'Damage': 'Damages not recorded', 'Deaths': 16}\n",
            "Cuba II  :  {'Name': 'Cuba II', 'Month': 'November', 'Year': 1932, 'Max Sustained Wind': 175, 'Area Affected': ['Lesser Antilles', 'Jamaica', 'Cayman Islands', 'Cuba', 'The Bahamas', 'Bermuda'], 'Damage': '40M', 'Deaths': 3103}\n",
            "CubaBrownsville  :  {'Name': 'CubaBrownsville', 'Month': 'August', 'Year': 1933, 'Max Sustained Wind': 160, 'Area Affected': ['The Bahamas', 'Cuba', 'Florida', 'Texas', 'Tamaulipas'], 'Damage': '27.9M', 'Deaths': 179}\n",
            "Tampico  :  {'Name': 'Tampico', 'Month': 'September', 'Year': 1933, 'Max Sustained Wind': 160, 'Area Affected': ['Jamaica', 'Yucatn Peninsula'], 'Damage': '5M', 'Deaths': 184}\n",
            "Labor Day  :  {'Name': 'Labor Day', 'Month': 'September', 'Year': 1935, 'Max Sustained Wind': 185, 'Area Affected': ['The Bahamas', 'Florida', 'Georgia', 'The Carolinas', 'Virginia'], 'Damage': 'Damages not recorded', 'Deaths': 408}\n",
            "New England  :  {'Name': 'New England', 'Month': 'September', 'Year': 1938, 'Max Sustained Wind': 160, 'Area Affected': ['Southeastern United States', 'Northeastern United States', 'Southwestern Quebec'], 'Damage': '306M', 'Deaths': 682}\n",
            "Carol  :  {'Name': 'Carol', 'Month': 'September', 'Year': 1953, 'Max Sustained Wind': 160, 'Area Affected': ['Bermuda', 'New England', 'Atlantic Canada'], 'Damage': '2M', 'Deaths': 5}\n",
            "Janet  :  {'Name': 'Janet', 'Month': 'September', 'Year': 1955, 'Max Sustained Wind': 175, 'Area Affected': ['Lesser Antilles', 'Central America'], 'Damage': '65.8M', 'Deaths': 1023}\n",
            "Carla  :  {'Name': 'Carla', 'Month': 'September', 'Year': 1961, 'Max Sustained Wind': 175, 'Area Affected': ['Texas', 'Louisiana', 'Midwestern United States'], 'Damage': '326M', 'Deaths': 43}\n",
            "Hattie  :  {'Name': 'Hattie', 'Month': 'October', 'Year': 1961, 'Max Sustained Wind': 160, 'Area Affected': ['Central America'], 'Damage': '60.3M', 'Deaths': 319}\n",
            "Beulah  :  {'Name': 'Beulah', 'Month': 'September', 'Year': 1967, 'Max Sustained Wind': 160, 'Area Affected': ['The Caribbean', 'Mexico', 'Texas'], 'Damage': '208M', 'Deaths': 688}\n",
            "Camille  :  {'Name': 'Camille', 'Month': 'August', 'Year': 1969, 'Max Sustained Wind': 175, 'Area Affected': ['Cuba', 'United States Gulf Coast'], 'Damage': '1.42B', 'Deaths': 259}\n",
            "Edith  :  {'Name': 'Edith', 'Month': 'September', 'Year': 1971, 'Max Sustained Wind': 160, 'Area Affected': ['The Caribbean', 'Central America', 'Mexico', 'United States Gulf Coast'], 'Damage': '25.4M', 'Deaths': 37}\n",
            "Anita  :  {'Name': 'Anita', 'Month': 'September', 'Year': 1977, 'Max Sustained Wind': 175, 'Area Affected': ['Mexico'], 'Damage': 'Damages not recorded', 'Deaths': 11}\n",
            "David  :  {'Name': 'David', 'Month': 'August', 'Year': 1979, 'Max Sustained Wind': 175, 'Area Affected': ['The Caribbean', 'United States East coast'], 'Damage': '1.54B', 'Deaths': 2068}\n",
            "Allen  :  {'Name': 'Allen', 'Month': 'August', 'Year': 1980, 'Max Sustained Wind': 190, 'Area Affected': ['The Caribbean', 'Yucatn Peninsula', 'Mexico', 'South Texas'], 'Damage': '1.24B', 'Deaths': 269}\n",
            "Gilbert  :  {'Name': 'Gilbert', 'Month': 'September', 'Year': 1988, 'Max Sustained Wind': 185, 'Area Affected': ['Jamaica', 'Venezuela', 'Central America', 'Hispaniola', 'Mexico'], 'Damage': '7.1B', 'Deaths': 318}\n",
            "Hugo  :  {'Name': 'Hugo', 'Month': 'September', 'Year': 1989, 'Max Sustained Wind': 160, 'Area Affected': ['The Caribbean', 'United States East Coast'], 'Damage': '10B', 'Deaths': 107}\n",
            "Andrew  :  {'Name': 'Andrew', 'Month': 'August', 'Year': 1992, 'Max Sustained Wind': 175, 'Area Affected': ['The Bahamas', 'Florida', 'United States Gulf Coast'], 'Damage': '26.5B', 'Deaths': 65}\n",
            "Mitch  :  {'Name': 'Mitch', 'Month': 'October', 'Year': 1998, 'Max Sustained Wind': 180, 'Area Affected': ['Central America', 'Yucatn Peninsula', 'South Florida'], 'Damage': '6.2B', 'Deaths': 19325}\n",
            "Isabel  :  {'Name': 'Isabel', 'Month': 'September', 'Year': 2003, 'Max Sustained Wind': 165, 'Area Affected': ['Greater Antilles', 'Bahamas', 'Eastern United States', 'Ontario'], 'Damage': '5.37B', 'Deaths': 51}\n",
            "Ivan  :  {'Name': 'Ivan', 'Month': 'September', 'Year': 2004, 'Max Sustained Wind': 165, 'Area Affected': ['The Caribbean', 'Venezuela', 'United States Gulf Coast'], 'Damage': '23.3B', 'Deaths': 124}\n",
            "Emily  :  {'Name': 'Emily', 'Month': 'July', 'Year': 2005, 'Max Sustained Wind': 160, 'Area Affected': ['Windward Islands', 'Jamaica', 'Mexico', 'Texas'], 'Damage': '1.01B', 'Deaths': 17}\n",
            "Katrina  :  {'Name': 'Katrina', 'Month': 'August', 'Year': 2005, 'Max Sustained Wind': 175, 'Area Affected': ['Bahamas', 'United States Gulf Coast'], 'Damage': '125B', 'Deaths': 1836}\n",
            "Rita  :  {'Name': 'Rita', 'Month': 'September', 'Year': 2005, 'Max Sustained Wind': 180, 'Area Affected': ['Cuba', 'United States Gulf Coast'], 'Damage': '12B', 'Deaths': 125}\n",
            "Wilma  :  {'Name': 'Wilma', 'Month': 'October', 'Year': 2005, 'Max Sustained Wind': 185, 'Area Affected': ['Greater Antilles', 'Central America', 'Florida'], 'Damage': '29.4B', 'Deaths': 87}\n",
            "Dean  :  {'Name': 'Dean', 'Month': 'August', 'Year': 2007, 'Max Sustained Wind': 175, 'Area Affected': ['The Caribbean', 'Central America'], 'Damage': '1.76B', 'Deaths': 45}\n",
            "Felix  :  {'Name': 'Felix', 'Month': 'September', 'Year': 2007, 'Max Sustained Wind': 175, 'Area Affected': ['Nicaragua', 'Honduras'], 'Damage': '720M', 'Deaths': 133}\n",
            "Matthew  :  {'Name': 'Matthew', 'Month': 'October', 'Year': 2016, 'Max Sustained Wind': 165, 'Area Affected': ['Antilles', 'Venezuela', 'Colombia', 'United States East Coast', 'Atlantic Canada'], 'Damage': '15.1B', 'Deaths': 603}\n",
            "Irma  :  {'Name': 'Irma', 'Month': 'September', 'Year': 2017, 'Max Sustained Wind': 180, 'Area Affected': ['Cape Verde', 'The Caribbean', 'British Virgin Islands', 'U.S. Virgin Islands', 'Cuba', 'Florida'], 'Damage': '64.8B', 'Deaths': 138}\n",
            "Maria  :  {'Name': 'Maria', 'Month': 'September', 'Year': 2017, 'Max Sustained Wind': 175, 'Area Affected': ['Lesser Antilles', 'Virgin Islands', 'Puerto Rico', 'Dominican Republic', 'Turks and Caicos Islands'], 'Damage': '91.6B', 'Deaths': 3057}\n",
            "Michael  :  {'Name': 'Michael', 'Month': 'October', 'Year': 2018, 'Max Sustained Wind': 160, 'Area Affected': ['Central America', 'United States Gulf Coast (especially Florida Panhandle)'], 'Damage': '25.1B', 'Deaths': 74}\n"
          ]
        }
      ],
      "source": [
        "# names of hurricanes\n",
        "names = ['Cuba I', 'San Felipe II Okeechobee', 'Bahamas', 'Cuba II', 'CubaBrownsville', 'Tampico', 'Labor Day', 'New England', 'Carol', 'Janet', 'Carla', 'Hattie', 'Beulah', 'Camille', 'Edith', 'Anita', 'David', 'Allen', 'Gilbert', 'Hugo', 'Andrew', 'Mitch', 'Isabel', 'Ivan', 'Emily', 'Katrina', 'Rita', 'Wilma', 'Dean', 'Felix', 'Matthew', 'Irma', 'Maria', 'Michael']\n",
        "\n",
        "# months of hurricanes\n",
        "months = ['October', 'September', 'September', 'November', 'August', 'September', 'September', 'September', 'September', 'September', 'September', 'October', 'September', 'August', 'September', 'September', 'August', 'August', 'September', 'September', 'August', 'October', 'September', 'September', 'July', 'August', 'September', 'October', 'August', 'September', 'October', 'September', 'September', 'October']\n",
        "\n",
        "# years of hurricanes\n",
        "years = [1924, 1928, 1932, 1932, 1933, 1933, 1935, 1938, 1953, 1955, 1961, 1961, 1967, 1969, 1971, 1977, 1979, 1980, 1988, 1989, 1992, 1998, 2003, 2004, 2005, 2005, 2005, 2005, 2007, 2007, 2016, 2017, 2017, 2018]\n",
        "\n",
        "# maximum sustained winds (mph) of hurricanes\n",
        "max_sustained_winds = [165, 160, 160, 175, 160, 160, 185, 160, 160, 175, 175, 160, 160, 175, 160, 175, 175, 190, 185, 160, 175, 180, 165, 165, 160, 175, 180, 185, 175, 175, 165, 180, 175, 160]\n",
        "\n",
        "# areas affected by each hurricane\n",
        "areas_affected = [['Central America', 'Mexico', 'Cuba', 'Florida', 'The Bahamas'], ['Lesser Antilles', 'The Bahamas', 'United States East Coast', 'Atlantic Canada'], ['The Bahamas', 'Northeastern United States'], ['Lesser Antilles', 'Jamaica', 'Cayman Islands', 'Cuba', 'The Bahamas', 'Bermuda'], ['The Bahamas', 'Cuba', 'Florida', 'Texas', 'Tamaulipas'], ['Jamaica', 'Yucatn Peninsula'], ['The Bahamas', 'Florida', 'Georgia', 'The Carolinas', 'Virginia'], ['Southeastern United States', 'Northeastern United States', 'Southwestern Quebec'], ['Bermuda', 'New England', 'Atlantic Canada'], ['Lesser Antilles', 'Central America'], ['Texas', 'Louisiana', 'Midwestern United States'], ['Central America'], ['The Caribbean', 'Mexico', 'Texas'], ['Cuba', 'United States Gulf Coast'], ['The Caribbean', 'Central America', 'Mexico', 'United States Gulf Coast'], ['Mexico'], ['The Caribbean', 'United States East coast'], ['The Caribbean', 'Yucatn Peninsula', 'Mexico', 'South Texas'], ['Jamaica', 'Venezuela', 'Central America', 'Hispaniola', 'Mexico'], ['The Caribbean', 'United States East Coast'], ['The Bahamas', 'Florida', 'United States Gulf Coast'], ['Central America', 'Yucatn Peninsula', 'South Florida'], ['Greater Antilles', 'Bahamas', 'Eastern United States', 'Ontario'], ['The Caribbean', 'Venezuela', 'United States Gulf Coast'], ['Windward Islands', 'Jamaica', 'Mexico', 'Texas'], ['Bahamas', 'United States Gulf Coast'], ['Cuba', 'United States Gulf Coast'], ['Greater Antilles', 'Central America', 'Florida'], ['The Caribbean', 'Central America'], ['Nicaragua', 'Honduras'], ['Antilles', 'Venezuela', 'Colombia', 'United States East Coast', 'Atlantic Canada'], ['Cape Verde', 'The Caribbean', 'British Virgin Islands', 'U.S. Virgin Islands', 'Cuba', 'Florida'], ['Lesser Antilles', 'Virgin Islands', 'Puerto Rico', 'Dominican Republic', 'Turks and Caicos Islands'], ['Central America', 'United States Gulf Coast (especially Florida Panhandle)']]\n",
        "\n",
        "# damages (USD($)) of hurricanes\n",
        "damages = ['Damages not recorded', '100M', 'Damages not recorded', '40M', '27.9M', '5M', 'Damages not recorded', '306M', '2M', '65.8M', '326M', '60.3M', '208M', '1.42B', '25.4M', 'Damages not recorded', '1.54B', '1.24B', '7.1B', '10B', '26.5B', '6.2B', '5.37B', '23.3B', '1.01B', '125B', '12B', '29.4B', '1.76B', '720M', '15.1B', '64.8B', '91.6B', '25.1B']\n",
        "\n",
        "# deaths for each hurricane\n",
        "deaths = [90,4000,16,3103,179,184,408,682,5,1023,43,319,688,259,37,11,2068,269,318,107,65,19325,51,124,17,1836,125,87,45,133,603,138,3057,74]\n",
        "\n",
        "# 2\n",
        "# Create a Table\n",
        "\n",
        "\n",
        "\n",
        "Hurricanes = {}\n",
        "for i in range(len(names)):\n",
        "  Hurricanes[names[i]] = {\n",
        "  'Name'                : names [i],\n",
        "  'Month'               : months[i],\n",
        "  'Year'                : years[i],\n",
        "  'Max Sustained Wind'  : max_sustained_winds[i],\n",
        "  'Area Affected'       : areas_affected[i],\n",
        "  'Damage'              : damages[i],\n",
        "  'Deaths'              : deaths[i]\n",
        "  }\n",
        "\n",
        "\n",
        "# Create and view the hurricanes dictionary\n",
        "PrintDict(Hurricanes)\n"
      ]
    },
    {
      "cell_type": "code",
      "execution_count": null,
      "id": "d4aa9306",
      "metadata": {},
      "outputs": [],
      "source": []
    },
    {
      "cell_type": "code",
      "execution_count": 87,
      "id": "95b36b12",
      "metadata": {},
      "outputs": [
        {
          "name": "stdout",
          "output_type": "stream",
          "text": [
            "Cuba I  :  {'Name': 'Cuba I', 'Month': 'October', 'Year': 1924, 'Max Sustained Wind': 165, 'Area Affected': ['Central America', 'Mexico', 'Cuba', 'Florida', 'The Bahamas'], 'Damage': 'Damages not recorded', 'Deaths': 90}\n",
            "San Felipe II Okeechobee  :  {'Name': 'San Felipe II Okeechobee', 'Month': 'September', 'Year': 1928, 'Max Sustained Wind': 160, 'Area Affected': ['Lesser Antilles', 'The Bahamas', 'United States East Coast', 'Atlantic Canada'], 'Damage': 100000000.0, 'Deaths': 4000}\n",
            "Bahamas  :  {'Name': 'Bahamas', 'Month': 'September', 'Year': 1932, 'Max Sustained Wind': 160, 'Area Affected': ['The Bahamas', 'Northeastern United States'], 'Damage': 'Damages not recorded', 'Deaths': 16}\n",
            "Cuba II  :  {'Name': 'Cuba II', 'Month': 'November', 'Year': 1932, 'Max Sustained Wind': 175, 'Area Affected': ['Lesser Antilles', 'Jamaica', 'Cayman Islands', 'Cuba', 'The Bahamas', 'Bermuda'], 'Damage': 40000000.0, 'Deaths': 3103}\n",
            "CubaBrownsville  :  {'Name': 'CubaBrownsville', 'Month': 'August', 'Year': 1933, 'Max Sustained Wind': 160, 'Area Affected': ['The Bahamas', 'Cuba', 'Florida', 'Texas', 'Tamaulipas'], 'Damage': 27900000.0, 'Deaths': 179}\n",
            "Tampico  :  {'Name': 'Tampico', 'Month': 'September', 'Year': 1933, 'Max Sustained Wind': 160, 'Area Affected': ['Jamaica', 'Yucatn Peninsula'], 'Damage': 5000000.0, 'Deaths': 184}\n",
            "Labor Day  :  {'Name': 'Labor Day', 'Month': 'September', 'Year': 1935, 'Max Sustained Wind': 185, 'Area Affected': ['The Bahamas', 'Florida', 'Georgia', 'The Carolinas', 'Virginia'], 'Damage': 'Damages not recorded', 'Deaths': 408}\n",
            "New England  :  {'Name': 'New England', 'Month': 'September', 'Year': 1938, 'Max Sustained Wind': 160, 'Area Affected': ['Southeastern United States', 'Northeastern United States', 'Southwestern Quebec'], 'Damage': 306000000.0, 'Deaths': 682}\n",
            "Carol  :  {'Name': 'Carol', 'Month': 'September', 'Year': 1953, 'Max Sustained Wind': 160, 'Area Affected': ['Bermuda', 'New England', 'Atlantic Canada'], 'Damage': 2000000.0, 'Deaths': 5}\n",
            "Janet  :  {'Name': 'Janet', 'Month': 'September', 'Year': 1955, 'Max Sustained Wind': 175, 'Area Affected': ['Lesser Antilles', 'Central America'], 'Damage': 65800000.0, 'Deaths': 1023}\n",
            "Carla  :  {'Name': 'Carla', 'Month': 'September', 'Year': 1961, 'Max Sustained Wind': 175, 'Area Affected': ['Texas', 'Louisiana', 'Midwestern United States'], 'Damage': 326000000.0, 'Deaths': 43}\n",
            "Hattie  :  {'Name': 'Hattie', 'Month': 'October', 'Year': 1961, 'Max Sustained Wind': 160, 'Area Affected': ['Central America'], 'Damage': 60300000.0, 'Deaths': 319}\n",
            "Beulah  :  {'Name': 'Beulah', 'Month': 'September', 'Year': 1967, 'Max Sustained Wind': 160, 'Area Affected': ['The Caribbean', 'Mexico', 'Texas'], 'Damage': 208000000.0, 'Deaths': 688}\n",
            "Camille  :  {'Name': 'Camille', 'Month': 'August', 'Year': 1969, 'Max Sustained Wind': 175, 'Area Affected': ['Cuba', 'United States Gulf Coast'], 'Damage': 1420000000.0, 'Deaths': 259}\n",
            "Edith  :  {'Name': 'Edith', 'Month': 'September', 'Year': 1971, 'Max Sustained Wind': 160, 'Area Affected': ['The Caribbean', 'Central America', 'Mexico', 'United States Gulf Coast'], 'Damage': 25400000.0, 'Deaths': 37}\n",
            "Anita  :  {'Name': 'Anita', 'Month': 'September', 'Year': 1977, 'Max Sustained Wind': 175, 'Area Affected': ['Mexico'], 'Damage': 'Damages not recorded', 'Deaths': 11}\n",
            "David  :  {'Name': 'David', 'Month': 'August', 'Year': 1979, 'Max Sustained Wind': 175, 'Area Affected': ['The Caribbean', 'United States East coast'], 'Damage': 1540000000.0, 'Deaths': 2068}\n",
            "Allen  :  {'Name': 'Allen', 'Month': 'August', 'Year': 1980, 'Max Sustained Wind': 190, 'Area Affected': ['The Caribbean', 'Yucatn Peninsula', 'Mexico', 'South Texas'], 'Damage': 1240000000.0, 'Deaths': 269}\n",
            "Gilbert  :  {'Name': 'Gilbert', 'Month': 'September', 'Year': 1988, 'Max Sustained Wind': 185, 'Area Affected': ['Jamaica', 'Venezuela', 'Central America', 'Hispaniola', 'Mexico'], 'Damage': 7100000000.0, 'Deaths': 318}\n",
            "Hugo  :  {'Name': 'Hugo', 'Month': 'September', 'Year': 1989, 'Max Sustained Wind': 160, 'Area Affected': ['The Caribbean', 'United States East Coast'], 'Damage': 10000000000.0, 'Deaths': 107}\n",
            "Andrew  :  {'Name': 'Andrew', 'Month': 'August', 'Year': 1992, 'Max Sustained Wind': 175, 'Area Affected': ['The Bahamas', 'Florida', 'United States Gulf Coast'], 'Damage': 26500000000.0, 'Deaths': 65}\n",
            "Mitch  :  {'Name': 'Mitch', 'Month': 'October', 'Year': 1998, 'Max Sustained Wind': 180, 'Area Affected': ['Central America', 'Yucatn Peninsula', 'South Florida'], 'Damage': 6200000000.0, 'Deaths': 19325}\n",
            "Isabel  :  {'Name': 'Isabel', 'Month': 'September', 'Year': 2003, 'Max Sustained Wind': 165, 'Area Affected': ['Greater Antilles', 'Bahamas', 'Eastern United States', 'Ontario'], 'Damage': 5370000000.0, 'Deaths': 51}\n",
            "Ivan  :  {'Name': 'Ivan', 'Month': 'September', 'Year': 2004, 'Max Sustained Wind': 165, 'Area Affected': ['The Caribbean', 'Venezuela', 'United States Gulf Coast'], 'Damage': 23300000000.0, 'Deaths': 124}\n",
            "Emily  :  {'Name': 'Emily', 'Month': 'July', 'Year': 2005, 'Max Sustained Wind': 160, 'Area Affected': ['Windward Islands', 'Jamaica', 'Mexico', 'Texas'], 'Damage': 1010000000.0, 'Deaths': 17}\n",
            "Katrina  :  {'Name': 'Katrina', 'Month': 'August', 'Year': 2005, 'Max Sustained Wind': 175, 'Area Affected': ['Bahamas', 'United States Gulf Coast'], 'Damage': 125000000000.0, 'Deaths': 1836}\n",
            "Rita  :  {'Name': 'Rita', 'Month': 'September', 'Year': 2005, 'Max Sustained Wind': 180, 'Area Affected': ['Cuba', 'United States Gulf Coast'], 'Damage': 12000000000.0, 'Deaths': 125}\n",
            "Wilma  :  {'Name': 'Wilma', 'Month': 'October', 'Year': 2005, 'Max Sustained Wind': 185, 'Area Affected': ['Greater Antilles', 'Central America', 'Florida'], 'Damage': 29400000000.0, 'Deaths': 87}\n",
            "Dean  :  {'Name': 'Dean', 'Month': 'August', 'Year': 2007, 'Max Sustained Wind': 175, 'Area Affected': ['The Caribbean', 'Central America'], 'Damage': 1760000000.0, 'Deaths': 45}\n",
            "Felix  :  {'Name': 'Felix', 'Month': 'September', 'Year': 2007, 'Max Sustained Wind': 175, 'Area Affected': ['Nicaragua', 'Honduras'], 'Damage': 720000000.0, 'Deaths': 133}\n",
            "Matthew  :  {'Name': 'Matthew', 'Month': 'October', 'Year': 2016, 'Max Sustained Wind': 165, 'Area Affected': ['Antilles', 'Venezuela', 'Colombia', 'United States East Coast', 'Atlantic Canada'], 'Damage': 15100000000.0, 'Deaths': 603}\n",
            "Irma  :  {'Name': 'Irma', 'Month': 'September', 'Year': 2017, 'Max Sustained Wind': 180, 'Area Affected': ['Cape Verde', 'The Caribbean', 'British Virgin Islands', 'U.S. Virgin Islands', 'Cuba', 'Florida'], 'Damage': 64800000000.0, 'Deaths': 138}\n",
            "Maria  :  {'Name': 'Maria', 'Month': 'September', 'Year': 2017, 'Max Sustained Wind': 175, 'Area Affected': ['Lesser Antilles', 'Virgin Islands', 'Puerto Rico', 'Dominican Republic', 'Turks and Caicos Islands'], 'Damage': 91600000000.0, 'Deaths': 3057}\n",
            "Michael  :  {'Name': 'Michael', 'Month': 'October', 'Year': 2018, 'Max Sustained Wind': 160, 'Area Affected': ['Central America', 'United States Gulf Coast (especially Florida Panhandle)'], 'Damage': 25100000000.0, 'Deaths': 74}\n"
          ]
        }
      ],
      "source": [
        "# names of hurricanes\n",
        "names = ['Cuba I', 'San Felipe II Okeechobee', 'Bahamas', 'Cuba II', 'CubaBrownsville', 'Tampico', 'Labor Day', 'New England', 'Carol', 'Janet', 'Carla', 'Hattie', 'Beulah', 'Camille', 'Edith', 'Anita', 'David', 'Allen', 'Gilbert', 'Hugo', 'Andrew', 'Mitch', 'Isabel', 'Ivan', 'Emily', 'Katrina', 'Rita', 'Wilma', 'Dean', 'Felix', 'Matthew', 'Irma', 'Maria', 'Michael']\n",
        "\n",
        "# months of hurricanes\n",
        "months = ['October', 'September', 'September', 'November', 'August', 'September', 'September', 'September', 'September', 'September', 'September', 'October', 'September', 'August', 'September', 'September', 'August', 'August', 'September', 'September', 'August', 'October', 'September', 'September', 'July', 'August', 'September', 'October', 'August', 'September', 'October', 'September', 'September', 'October']\n",
        "\n",
        "# years of hurricanes\n",
        "years = [1924, 1928, 1932, 1932, 1933, 1933, 1935, 1938, 1953, 1955, 1961, 1961, 1967, 1969, 1971, 1977, 1979, 1980, 1988, 1989, 1992, 1998, 2003, 2004, 2005, 2005, 2005, 2005, 2007, 2007, 2016, 2017, 2017, 2018]\n",
        "\n",
        "# maximum sustained winds (mph) of hurricanes\n",
        "max_sustained_winds = [165, 160, 160, 175, 160, 160, 185, 160, 160, 175, 175, 160, 160, 175, 160, 175, 175, 190, 185, 160, 175, 180, 165, 165, 160, 175, 180, 185, 175, 175, 165, 180, 175, 160]\n",
        "\n",
        "# areas affected by each hurricane\n",
        "areas_affected = [['Central America', 'Mexico', 'Cuba', 'Florida', 'The Bahamas'], ['Lesser Antilles', 'The Bahamas', 'United States East Coast', 'Atlantic Canada'], ['The Bahamas', 'Northeastern United States'], ['Lesser Antilles', 'Jamaica', 'Cayman Islands', 'Cuba', 'The Bahamas', 'Bermuda'], ['The Bahamas', 'Cuba', 'Florida', 'Texas', 'Tamaulipas'], ['Jamaica', 'Yucatn Peninsula'], ['The Bahamas', 'Florida', 'Georgia', 'The Carolinas', 'Virginia'], ['Southeastern United States', 'Northeastern United States', 'Southwestern Quebec'], ['Bermuda', 'New England', 'Atlantic Canada'], ['Lesser Antilles', 'Central America'], ['Texas', 'Louisiana', 'Midwestern United States'], ['Central America'], ['The Caribbean', 'Mexico', 'Texas'], ['Cuba', 'United States Gulf Coast'], ['The Caribbean', 'Central America', 'Mexico', 'United States Gulf Coast'], ['Mexico'], ['The Caribbean', 'United States East coast'], ['The Caribbean', 'Yucatn Peninsula', 'Mexico', 'South Texas'], ['Jamaica', 'Venezuela', 'Central America', 'Hispaniola', 'Mexico'], ['The Caribbean', 'United States East Coast'], ['The Bahamas', 'Florida', 'United States Gulf Coast'], ['Central America', 'Yucatn Peninsula', 'South Florida'], ['Greater Antilles', 'Bahamas', 'Eastern United States', 'Ontario'], ['The Caribbean', 'Venezuela', 'United States Gulf Coast'], ['Windward Islands', 'Jamaica', 'Mexico', 'Texas'], ['Bahamas', 'United States Gulf Coast'], ['Cuba', 'United States Gulf Coast'], ['Greater Antilles', 'Central America', 'Florida'], ['The Caribbean', 'Central America'], ['Nicaragua', 'Honduras'], ['Antilles', 'Venezuela', 'Colombia', 'United States East Coast', 'Atlantic Canada'], ['Cape Verde', 'The Caribbean', 'British Virgin Islands', 'U.S. Virgin Islands', 'Cuba', 'Florida'], ['Lesser Antilles', 'Virgin Islands', 'Puerto Rico', 'Dominican Republic', 'Turks and Caicos Islands'], ['Central America', 'United States Gulf Coast (especially Florida Panhandle)']]\n",
        "\n",
        "# damages (USD($)) of hurricanes\n",
        "damages = ['Damages not recorded', '100M', 'Damages not recorded', '40M', '27.9M', '5M', 'Damages not recorded', '306M', '2M', '65.8M', '326M', '60.3M', '208M', '1.42B', '25.4M', 'Damages not recorded', '1.54B', '1.24B', '7.1B', '10B', '26.5B', '6.2B', '5.37B', '23.3B', '1.01B', '125B', '12B', '29.4B', '1.76B', '720M', '15.1B', '64.8B', '91.6B', '25.1B']\n",
        "\n",
        "# deaths for each hurricane\n",
        "deaths = [90,4000,16,3103,179,184,408,682,5,1023,43,319,688,259,37,11,2068,269,318,107,65,19325,51,124,17,1836,125,87,45,133,603,138,3057,74]\n",
        "\n",
        "# 2\n",
        "# Create a Table\n",
        "\n",
        "damages = cost_change(conversion,damages)\n",
        "\n",
        "Hurricanes = {}\n",
        "for i in range(len(names)):\n",
        "  Hurricanes[names[i]] = {\n",
        "  'Name'                : names [i],\n",
        "  'Month'               : months[i],\n",
        "  'Year'                : years[i],\n",
        "  'Max Sustained Wind'  : max_sustained_winds[i],\n",
        "  'Area Affected'       : areas_affected[i],\n",
        "  'Damage'              : damages[i],\n",
        "  'Deaths'              : deaths[i]\n",
        "  }\n",
        "\n",
        "\n",
        "# Create and view the hurricanes dictionary\n",
        "PrintDict(Hurricanes)\n"
      ]
    },
    {
      "cell_type": "markdown",
      "id": "6d0a1933",
      "metadata": {
        "id": "6d0a1933"
      },
      "source": [
        "3. In addition to organizing the hurricanes in a dictionary with names as the key, you want to be able to organize the hurricanes by year.\n",
        "\n",
        "   Write a function that converts the current dictionary of hurricanes to a new dictionary, where the keys are years and the values are lists containing a dictionary for each hurricane that occurred in that year.\n",
        "   \n",
        "   For example, the key `1932` would yield the value: `[{'Name': 'Bahamas', 'Month': 'September', 'Year': 1932, 'Max Sustained Wind': 160, 'Areas Affected': ['The Bahamas', 'Northeastern United States'], 'Damage': 'Damage not recorded', 'Deaths': 16}, {'Name': 'Cuba II', 'Month': 'November', 'Year': 1932, 'Max Sustained Wind': 175, 'Areas Affected': ['Lesser Antilles', 'Jamaica', 'Cayman Islands', 'Cuba', 'The Bahamas', 'Bermuda'], 'Damage': 40000000.0, 'Deaths': 3103}]`.\n",
        "   \n",
        "   Test your function on your hurricane dictionary."
      ]
    },
    {
      "cell_type": "code",
      "execution_count": 88,
      "id": "bfGpYZHRCi0e",
      "metadata": {
        "colab": {
          "base_uri": "https://localhost:8080/"
        },
        "id": "bfGpYZHRCi0e",
        "outputId": "4fd14d5a-7f96-467b-8842-1d050c8a9cd6"
      },
      "outputs": [
        {
          "name": "stdout",
          "output_type": "stream",
          "text": [
            "1924  :  [{'Name': 'Cuba I', 'Month': 'October', 'Year': 1924, 'Max Sustained Wind': 165, 'Area Affected': ['Central America', 'Mexico', 'Cuba', 'Florida', 'The Bahamas'], 'Damage': 'Damages not recorded', 'Deaths': 90}]\n",
            "1928  :  [{'Name': 'San Felipe II Okeechobee', 'Month': 'September', 'Year': 1928, 'Max Sustained Wind': 160, 'Area Affected': ['Lesser Antilles', 'The Bahamas', 'United States East Coast', 'Atlantic Canada'], 'Damage': 100000000.0, 'Deaths': 4000}]\n",
            "1932  :  [{'Name': 'Bahamas', 'Month': 'September', 'Year': 1932, 'Max Sustained Wind': 160, 'Area Affected': ['The Bahamas', 'Northeastern United States'], 'Damage': 'Damages not recorded', 'Deaths': 16}, {'Name': 'Cuba II', 'Month': 'November', 'Year': 1932, 'Max Sustained Wind': 175, 'Area Affected': ['Lesser Antilles', 'Jamaica', 'Cayman Islands', 'Cuba', 'The Bahamas', 'Bermuda'], 'Damage': 40000000.0, 'Deaths': 3103}]\n",
            "1933  :  [{'Name': 'CubaBrownsville', 'Month': 'August', 'Year': 1933, 'Max Sustained Wind': 160, 'Area Affected': ['The Bahamas', 'Cuba', 'Florida', 'Texas', 'Tamaulipas'], 'Damage': 27900000.0, 'Deaths': 179}, {'Name': 'Tampico', 'Month': 'September', 'Year': 1933, 'Max Sustained Wind': 160, 'Area Affected': ['Jamaica', 'Yucatn Peninsula'], 'Damage': 5000000.0, 'Deaths': 184}]\n",
            "1935  :  [{'Name': 'Labor Day', 'Month': 'September', 'Year': 1935, 'Max Sustained Wind': 185, 'Area Affected': ['The Bahamas', 'Florida', 'Georgia', 'The Carolinas', 'Virginia'], 'Damage': 'Damages not recorded', 'Deaths': 408}]\n",
            "1938  :  [{'Name': 'New England', 'Month': 'September', 'Year': 1938, 'Max Sustained Wind': 160, 'Area Affected': ['Southeastern United States', 'Northeastern United States', 'Southwestern Quebec'], 'Damage': 306000000.0, 'Deaths': 682}]\n",
            "1953  :  [{'Name': 'Carol', 'Month': 'September', 'Year': 1953, 'Max Sustained Wind': 160, 'Area Affected': ['Bermuda', 'New England', 'Atlantic Canada'], 'Damage': 2000000.0, 'Deaths': 5}]\n",
            "1955  :  [{'Name': 'Janet', 'Month': 'September', 'Year': 1955, 'Max Sustained Wind': 175, 'Area Affected': ['Lesser Antilles', 'Central America'], 'Damage': 65800000.0, 'Deaths': 1023}]\n",
            "1961  :  [{'Name': 'Carla', 'Month': 'September', 'Year': 1961, 'Max Sustained Wind': 175, 'Area Affected': ['Texas', 'Louisiana', 'Midwestern United States'], 'Damage': 326000000.0, 'Deaths': 43}, {'Name': 'Hattie', 'Month': 'October', 'Year': 1961, 'Max Sustained Wind': 160, 'Area Affected': ['Central America'], 'Damage': 60300000.0, 'Deaths': 319}]\n",
            "1967  :  [{'Name': 'Beulah', 'Month': 'September', 'Year': 1967, 'Max Sustained Wind': 160, 'Area Affected': ['The Caribbean', 'Mexico', 'Texas'], 'Damage': 208000000.0, 'Deaths': 688}]\n",
            "1969  :  [{'Name': 'Camille', 'Month': 'August', 'Year': 1969, 'Max Sustained Wind': 175, 'Area Affected': ['Cuba', 'United States Gulf Coast'], 'Damage': 1420000000.0, 'Deaths': 259}]\n",
            "1971  :  [{'Name': 'Edith', 'Month': 'September', 'Year': 1971, 'Max Sustained Wind': 160, 'Area Affected': ['The Caribbean', 'Central America', 'Mexico', 'United States Gulf Coast'], 'Damage': 25400000.0, 'Deaths': 37}]\n",
            "1977  :  [{'Name': 'Anita', 'Month': 'September', 'Year': 1977, 'Max Sustained Wind': 175, 'Area Affected': ['Mexico'], 'Damage': 'Damages not recorded', 'Deaths': 11}]\n",
            "1979  :  [{'Name': 'David', 'Month': 'August', 'Year': 1979, 'Max Sustained Wind': 175, 'Area Affected': ['The Caribbean', 'United States East coast'], 'Damage': 1540000000.0, 'Deaths': 2068}]\n",
            "1980  :  [{'Name': 'Allen', 'Month': 'August', 'Year': 1980, 'Max Sustained Wind': 190, 'Area Affected': ['The Caribbean', 'Yucatn Peninsula', 'Mexico', 'South Texas'], 'Damage': 1240000000.0, 'Deaths': 269}]\n",
            "1988  :  [{'Name': 'Gilbert', 'Month': 'September', 'Year': 1988, 'Max Sustained Wind': 185, 'Area Affected': ['Jamaica', 'Venezuela', 'Central America', 'Hispaniola', 'Mexico'], 'Damage': 7100000000.0, 'Deaths': 318}]\n",
            "1989  :  [{'Name': 'Hugo', 'Month': 'September', 'Year': 1989, 'Max Sustained Wind': 160, 'Area Affected': ['The Caribbean', 'United States East Coast'], 'Damage': 10000000000.0, 'Deaths': 107}]\n",
            "1992  :  [{'Name': 'Andrew', 'Month': 'August', 'Year': 1992, 'Max Sustained Wind': 175, 'Area Affected': ['The Bahamas', 'Florida', 'United States Gulf Coast'], 'Damage': 26500000000.0, 'Deaths': 65}]\n",
            "1998  :  [{'Name': 'Mitch', 'Month': 'October', 'Year': 1998, 'Max Sustained Wind': 180, 'Area Affected': ['Central America', 'Yucatn Peninsula', 'South Florida'], 'Damage': 6200000000.0, 'Deaths': 19325}]\n",
            "2003  :  [{'Name': 'Isabel', 'Month': 'September', 'Year': 2003, 'Max Sustained Wind': 165, 'Area Affected': ['Greater Antilles', 'Bahamas', 'Eastern United States', 'Ontario'], 'Damage': 5370000000.0, 'Deaths': 51}]\n",
            "2004  :  [{'Name': 'Ivan', 'Month': 'September', 'Year': 2004, 'Max Sustained Wind': 165, 'Area Affected': ['The Caribbean', 'Venezuela', 'United States Gulf Coast'], 'Damage': 23300000000.0, 'Deaths': 124}]\n",
            "2005  :  [{'Name': 'Emily', 'Month': 'July', 'Year': 2005, 'Max Sustained Wind': 160, 'Area Affected': ['Windward Islands', 'Jamaica', 'Mexico', 'Texas'], 'Damage': 1010000000.0, 'Deaths': 17}, {'Name': 'Katrina', 'Month': 'August', 'Year': 2005, 'Max Sustained Wind': 175, 'Area Affected': ['Bahamas', 'United States Gulf Coast'], 'Damage': 125000000000.0, 'Deaths': 1836}, {'Name': 'Rita', 'Month': 'September', 'Year': 2005, 'Max Sustained Wind': 180, 'Area Affected': ['Cuba', 'United States Gulf Coast'], 'Damage': 12000000000.0, 'Deaths': 125}, {'Name': 'Wilma', 'Month': 'October', 'Year': 2005, 'Max Sustained Wind': 185, 'Area Affected': ['Greater Antilles', 'Central America', 'Florida'], 'Damage': 29400000000.0, 'Deaths': 87}]\n",
            "2007  :  [{'Name': 'Dean', 'Month': 'August', 'Year': 2007, 'Max Sustained Wind': 175, 'Area Affected': ['The Caribbean', 'Central America'], 'Damage': 1760000000.0, 'Deaths': 45}, {'Name': 'Felix', 'Month': 'September', 'Year': 2007, 'Max Sustained Wind': 175, 'Area Affected': ['Nicaragua', 'Honduras'], 'Damage': 720000000.0, 'Deaths': 133}]\n",
            "2016  :  [{'Name': 'Matthew', 'Month': 'October', 'Year': 2016, 'Max Sustained Wind': 165, 'Area Affected': ['Antilles', 'Venezuela', 'Colombia', 'United States East Coast', 'Atlantic Canada'], 'Damage': 15100000000.0, 'Deaths': 603}]\n",
            "2017  :  [{'Name': 'Irma', 'Month': 'September', 'Year': 2017, 'Max Sustained Wind': 180, 'Area Affected': ['Cape Verde', 'The Caribbean', 'British Virgin Islands', 'U.S. Virgin Islands', 'Cuba', 'Florida'], 'Damage': 64800000000.0, 'Deaths': 138}, {'Name': 'Maria', 'Month': 'September', 'Year': 2017, 'Max Sustained Wind': 175, 'Area Affected': ['Lesser Antilles', 'Virgin Islands', 'Puerto Rico', 'Dominican Republic', 'Turks and Caicos Islands'], 'Damage': 91600000000.0, 'Deaths': 3057}]\n",
            "2018  :  [{'Name': 'Michael', 'Month': 'October', 'Year': 2018, 'Max Sustained Wind': 160, 'Area Affected': ['Central America', 'United States Gulf Coast (especially Florida Panhandle)'], 'Damage': 25100000000.0, 'Deaths': 74}]\n"
          ]
        }
      ],
      "source": [
        "# 3 Organizing by Year\n",
        "# create a new dictionary of hurricanes with year and key\n",
        "\n",
        "Hurricanes_by_year = reorganize_dict_universal(Hurricanes,'Year')\n",
        "PrintDict(Hurricanes_by_year)\n"
      ]
    },
    {
      "cell_type": "markdown",
      "id": "66973f77",
      "metadata": {
        "id": "66973f77"
      },
      "source": [
        "4. You believe that knowing how often each of the areas of the Atlantic are affected by these strong hurricanes is important for making preparations for future hurricanes.\n",
        "\n",
        "   Write a function that counts how often each area is listed as an affected area of a hurricane. Store and return the results in a dictionary where the keys are the affected areas and the values are counts of how many times the areas were affected.\n",
        "   \n",
        "   Test your function on your hurricane dictionary."
      ]
    },
    {
      "cell_type": "code",
      "execution_count": 89,
      "id": "bff86f77",
      "metadata": {
        "colab": {
          "base_uri": "https://localhost:8080/"
        },
        "id": "bff86f77",
        "outputId": "940cadef-6721-49d7-bc17-051e900c6b81"
      },
      "outputs": [
        {
          "name": "stdout",
          "output_type": "stream",
          "text": [
            "Number of damaged areas in US between 1924 and 2018 and is 47\n"
          ]
        }
      ],
      "source": [
        "# 4 Counting Damaged Areas\n",
        "# create dictionary of areas to store the number of hurricanes involved in\n",
        "\n",
        "# Version 1 - because an universal funtion was made\n",
        "Hurricanes_by_area_year = reorganize_dict_universal(Hurricanes,'Area Affected','Year')\n",
        "\n",
        "# Version 2 - on basis from Hurricanes Table\n",
        "list_of_aff_areas = []\n",
        "for key, value in Hurricanes.items():\n",
        "    for value2 in value.values():\n",
        "        if isinstance(value2, list):\n",
        "            for area in value2:\n",
        "                list_of_aff_areas.append(area)\n",
        "    else: continue\n",
        "\n",
        "list_of_aff_areas = list(set(list_of_aff_areas))\n",
        "\n",
        "# Counting the damaged areas\n",
        "no_dmg_areas = len(list_of_aff_areas)\n",
        "\n",
        "Hurricanes_by_area_year = dict(sorted(Hurricanes_by_area_year.items(), key=lambda item: item[0]))\n",
        "\n",
        "# PrintDict(Hurricanes_by_area_year)\n",
        "\n",
        "no_dmg_areas = len(Hurricanes_by_area_year)\n",
        "\n",
        "print(f'Number of damaged areas in US between {list(Hurricanes_by_year.keys())[0]} and {list(Hurricanes_by_year.keys())[-1]} and is {no_dmg_areas}')\n"
      ]
    },
    {
      "cell_type": "markdown",
      "id": "e015eeb3",
      "metadata": {
        "id": "e015eeb3"
      },
      "source": [
        "5. Write a function that finds the area affected by the most hurricanes, and how often it was hit.\n",
        "\n",
        "   Test your function on your affected area dictionary."
      ]
    },
    {
      "cell_type": "code",
      "execution_count": 90,
      "id": "643c73f9",
      "metadata": {
        "colab": {
          "base_uri": "https://localhost:8080/"
        },
        "id": "643c73f9",
        "outputId": "f822280b-4056-4ea4-c990-d23239523f23"
      },
      "outputs": [
        {
          "name": "stdout",
          "output_type": "stream",
          "text": [
            "The most affected area is Central America with 9 hurricanes\n"
          ]
        }
      ],
      "source": [
        "# 5 Calculating Maximum Hurricane Count\n",
        "# find most frequently affected area and the number of hurricanes involved in\n",
        "\n",
        "Hurricanes_count_by_arrea = {}\n",
        "for key,value in Hurricanes_by_area_year.items():\n",
        "    Hurricanes_count_by_arrea[key] = len(value)\n",
        "\n",
        "Hurricanes_count_by_arrea = dict(sorted(Hurricanes_count_by_arrea.items(), key=lambda item: item[1],reverse=True))\n",
        "\n",
        "#for key,value in Hurricanes_count_by_arrea.items():\n",
        "#    print(key,' : ',value)\n",
        "\n",
        "print(f'The most affected area is {list(Hurricanes_count_by_arrea.keys())[0]} with {list(Hurricanes_count_by_arrea.values())[0]} hurricanes')"
      ]
    },
    {
      "cell_type": "markdown",
      "id": "4c120f59",
      "metadata": {
        "id": "4c120f59"
      },
      "source": [
        "6. Write a function that finds the hurricane that caused the greatest number of deaths, and how many deaths it caused.\n",
        "\n",
        "   Test your function on your hurricane dictionary."
      ]
    },
    {
      "cell_type": "code",
      "execution_count": 91,
      "id": "ced02448",
      "metadata": {
        "colab": {
          "base_uri": "https://localhost:8080/"
        },
        "id": "ced02448",
        "outputId": "d82ba4b2-77ca-4a82-f5f4-6e2ed216c56b"
      },
      "outputs": [
        {
          "name": "stdout",
          "output_type": "stream",
          "text": [
            "dict_items([('Cuba I', 90), ('San Felipe II Okeechobee', 4000), ('Bahamas', 16), ('Cuba II', 3103), ('CubaBrownsville', 179), ('Tampico', 184), ('Labor Day', 408), ('New England', 682), ('Carol', 5), ('Janet', 1023), ('Carla', 43), ('Hattie', 319), ('Beulah', 688), ('Camille', 259), ('Edith', 37), ('Anita', 11), ('David', 2068), ('Allen', 269), ('Gilbert', 318), ('Hugo', 107), ('Andrew', 65), ('Mitch', 19325), ('Isabel', 51), ('Ivan', 124), ('Emily', 17), ('Katrina', 1836), ('Rita', 125), ('Wilma', 87), ('Dean', 45), ('Felix', 133), ('Matthew', 603), ('Irma', 138), ('Maria', 3057), ('Michael', 74)])\n",
            "The most deadly Hurricane is Allen with 269 deaths\n"
          ]
        }
      ],
      "source": [
        "# 6 Calculating the Deadliest Hurricane\n",
        "# find highest mortality hurricane and the number of deaths\n",
        "\n",
        "Hurricane_most_deadly = reorganize_dict_universal(Hurricanes,'Name','Deaths')\n",
        "print(Hurricane_most_deadly.items())\n",
        "Hurricane_most_deadly_sorted = dict(sorted(Hurricane_most_deadly.items()))\n",
        "#PrintDict(Hurricane_most_deadly_sorted)\n",
        "\n",
        "print(f'The most deadly Hurricane is {list(Hurricane_most_deadly_sorted.keys())[0]} with {list(Hurricane_most_deadly_sorted.values())[0]} deaths')"
      ]
    },
    {
      "cell_type": "markdown",
      "id": "9ddd39b0",
      "metadata": {
        "id": "9ddd39b0"
      },
      "source": [
        "7. Just as hurricanes are rated by their windspeed, you want to try rating hurricanes based on other metrics.\n",
        "\n",
        "   Write a function that rates hurricanes on a mortality scale according to the following ratings, where the key is the rating and the value is the upper bound of deaths for that rating.\n",
        "   \n",
        "   ```py\n",
        "   mortality_scale = {0: 0,\n",
        "   1: 100,\n",
        "   2: 500,\n",
        "   3: 1000,\n",
        "   4: 10000}\n",
        "   ```\n",
        "   \n",
        "   For example, a hurricane with a `1` mortality rating would have resulted in greater than `0` but less than or equal to `100` deaths. A hurricane with a `5` mortality would have resulted in greater than `10000` deaths.\n",
        "   \n",
        "   Store the hurricanes in a new dictionary where the keys are the mortaility ratings and the values are lists containing a dictionary for each hurricane that falls into that mortality rating.\n",
        "   \n",
        "   Test your function on your hurricane dictionary."
      ]
    },
    {
      "cell_type": "code",
      "execution_count": 92,
      "id": "9eea4dc7",
      "metadata": {
        "colab": {
          "base_uri": "https://localhost:8080/"
        },
        "id": "9eea4dc7",
        "outputId": "586ce667-d5b9-4938-eec7-696b4a2d0def"
      },
      "outputs": [
        {
          "name": "stdout",
          "output_type": "stream",
          "text": [
            "0  :  [{'Andrew': 65}, {'Anita': 11}, {'Bahamas': 16}, {'Carla': 43}, {'Carol': 5}, {'Cuba I': 90}, {'Dean': 45}, {'Edith': 37}, {'Emily': 17}, {'Isabel': 51}, {'Michael': 74}, {'Wilma': 87}]\n",
            "1  :  [{'Allen': 269}, {'Camille': 259}, {'CubaBrownsville': 179}, {'Felix': 133}, {'Gilbert': 318}, {'Hattie': 319}, {'Hugo': 107}, {'Irma': 138}, {'Ivan': 124}, {'Labor Day': 408}, {'Rita': 125}, {'Tampico': 184}]\n",
            "2  :  [{'Beulah': 688}, {'Matthew': 603}, {'New England': 682}]\n",
            "3  :  [{'Cuba II': 3103}, {'David': 2068}, {'Janet': 1023}, {'Katrina': 1836}, {'Maria': 3057}, {'San Felipe II Okeechobee': 4000}]\n",
            "4  :  [{'Mitch': 19325}]\n"
          ]
        }
      ],
      "source": [
        "# 7 Rating Hurricanes by Mortality\n",
        "# categorize hurricanes in new dictionary with mortality severity as key\n",
        "\n",
        "mortality_scale =   {0: 0,\n",
        "                    1: 100,\n",
        "                    2: 500,\n",
        "                    3: 1000,\n",
        "                    4: 10000}\n",
        "\n",
        "\n",
        "\n",
        "PrintDict(categorize_dict(Hurricane_most_deadly_sorted, mortality_scale))\n"
      ]
    },
    {
      "cell_type": "markdown",
      "id": "199b0e1c",
      "metadata": {
        "id": "199b0e1c"
      },
      "source": [
        "8. Write a function that finds the hurricane that caused the greatest damage, and how costly it was.\n",
        "\n",
        "   Test your function on your hurricane dictionary."
      ]
    },
    {
      "cell_type": "code",
      "execution_count": 93,
      "id": "b3dc79b4",
      "metadata": {
        "id": "b3dc79b4"
      },
      "outputs": [
        {
          "name": "stdout",
          "output_type": "stream",
          "text": [
            "The Hurricane Allen caused the highest cost of 1240000000 $\n"
          ]
        }
      ],
      "source": [
        "# 8 # Calculating Hurricane Maximum Damage\n",
        "# find highest damage inducing hurricane and its total cost\n",
        "\n",
        "Hurricanes_max_dmg = reorganize_dict_universal(Hurricanes,'Name','Damage')\n",
        "Hurricanes_max_dmg_sorted= DictSort(Hurricanes_max_dmg)\n",
        "\n",
        "#PrintDict(Hurricanes_max_dmg_sorted)\n",
        "\n",
        "print(f'The Hurricane {list(Hurricanes_max_dmg_sorted.keys())[0]} caused the highest cost of {int(list(Hurricanes_max_dmg_sorted.values())[0])} $')"
      ]
    },
    {
      "cell_type": "markdown",
      "id": "58d22ddc",
      "metadata": {
        "id": "58d22ddc"
      },
      "source": [
        "9. Lastly, you want to rate hurricanes according to how much damage they cause.\n",
        "\n",
        "   Write a function that rates hurricanes on a damage scale according to the following ratings, where the key is the rating and the value is the upper bound of damage for that rating.\n",
        "   ```py\n",
        "   damage_scale = {0: 0,\n",
        "   1: 100000000,\n",
        "   2: 1000000000,\n",
        "   3: 10000000000,\n",
        "   4: 50000000000}\n",
        "   ```\n",
        "   \n",
        "   For example, a hurricane with a `1` damage rating would have resulted in damages greater than `0` USD but less than or equal to `100000000` USD. A hurricane with a `5` damage rating would have resulted in damages greater than `50000000000` USD (talk about a lot of money).\n",
        "   \n",
        "   Store the hurricanes in a new dictionary where the keys are damage ratings and the values are lists containing a dictionary for each hurricane that falls into that damage rating.\n",
        "   \n",
        "   Test your function on your hurricane dictionary."
      ]
    },
    {
      "cell_type": "code",
      "execution_count": 94,
      "id": "e543f487",
      "metadata": {
        "id": "e543f487"
      },
      "outputs": [
        {
          "name": "stdout",
          "output_type": "stream",
          "text": [
            "0  :  [{'San Felipe II Okeechobee': 100000000.0}, {'Cuba II': 40000000.0}, {'CubaBrownsville': 27900000.0}, {'Tampico': 5000000.0}, {'Carol': 2000000.0}, {'Janet': 65800000.0}, {'Hattie': 60300000.0}, {'Edith': 25400000.0}]\n",
            "1  :  [{'New England': 306000000.0}, {'Carla': 326000000.0}, {'Beulah': 208000000.0}, {'Felix': 720000000.0}]\n",
            "2  :  [{'Camille': 1420000000.0}, {'David': 1540000000.0}, {'Allen': 1240000000.0}, {'Gilbert': 7100000000.0}, {'Hugo': 10000000000.0}, {'Mitch': 6200000000.0}, {'Isabel': 5370000000.0}, {'Emily': 1010000000.0}, {'Dean': 1760000000.0}]\n",
            "3  :  [{'Andrew': 26500000000.0}, {'Ivan': 23300000000.0}, {'Rita': 12000000000.0}, {'Wilma': 29400000000.0}, {'Matthew': 15100000000.0}, {'Michael': 25100000000.0}]\n",
            "4  :  [{'Katrina': 125000000000.0}, {'Irma': 64800000000.0}, {'Maria': 91600000000.0}]\n"
          ]
        }
      ],
      "source": [
        "# 9 Rating Hurricanes by Damage\n",
        "damage_scale = {0: 0,\n",
        "                1: 100000000,\n",
        "                2: 1000000000,\n",
        "                3: 10000000000,\n",
        "                4: 50000000000}\n",
        "\n",
        "# categorize hurricanes in new dictionary with damage severity as key\n",
        "\n",
        "Hurricanes_max_dmg_known, Pop = DictSplit(Hurricanes_max_dmg)\n",
        "\n",
        "Hurricanes_rating_dmg = categorize_dict(Hurricanes_max_dmg_known,damage_scale)\n",
        "PrintDict(Hurricanes_rating_dmg)"
      ]
    },
    {
      "cell_type": "markdown",
      "id": "928c5fd2",
      "metadata": {
        "id": "928c5fd2"
      },
      "source": [
        "## Solution"
      ]
    },
    {
      "cell_type": "markdown",
      "id": "252616a3",
      "metadata": {
        "id": "252616a3"
      },
      "source": [
        "Great work! View the **Hurricane Analysis_Solution.ipynb** file or visit [our forums](https://discuss.codecademy.com/t/hurricane-analysis-challenge-project-python/462363) to compare your project to our sample solution code. You can also learn how to host your own solution on GitHub so you can share it with other learners! Your solution might look different than ours, and that's okay! There are multiple ways to solve these projects, and you'll learn more by seeing others' code."
      ]
    },
    {
      "cell_type": "code",
      "execution_count": null,
      "id": "da8f7141",
      "metadata": {
        "id": "da8f7141"
      },
      "outputs": [],
      "source": []
    }
  ],
  "metadata": {
    "colab": {
      "provenance": []
    },
    "kernelspec": {
      "display_name": "Python 3.10.8 64-bit (microsoft store)",
      "language": "python",
      "name": "python3"
    },
    "language_info": {
      "codemirror_mode": {
        "name": "ipython",
        "version": 3
      },
      "file_extension": ".py",
      "mimetype": "text/x-python",
      "name": "python",
      "nbconvert_exporter": "python",
      "pygments_lexer": "ipython3",
      "version": "3.12.1"
    },
    "vscode": {
      "interpreter": {
        "hash": "b784193cf0f9970b27f3c12f21dbff8ed97e3cf923dc23fe210654173bc3fdd0"
      }
    }
  },
  "nbformat": 4,
  "nbformat_minor": 5
}
